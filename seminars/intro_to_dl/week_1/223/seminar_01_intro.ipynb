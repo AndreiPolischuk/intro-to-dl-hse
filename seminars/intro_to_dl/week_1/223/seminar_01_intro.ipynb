{
  "cells": [
    {
      "cell_type": "markdown",
      "metadata": {
        "id": "Gp4C09Xoohww",
        "pycharm": {
          "name": "#%% md\n"
        }
      },
      "source": [
        "# Введение. Полносвязные слои. Функции активации (ноутбук)\n",
        "\n",
        "> Начнем осваивать библиотеку `PyTorch`. Познакомимся с нейронными сетями."
      ]
    },
    {
      "cell_type": "markdown",
      "metadata": {
        "id": "xcSFkfemohwx",
        "pycharm": {
          "name": "#%% md\n"
        }
      },
      "source": [
        "## План ноутбука\n",
        "\n",
        "1. Установка `PyTorch`\n",
        "1. Введение в `PyTorch`\n",
        "1. Полносвязные слои и функции активации в `PyTorch`\n",
        "1. Градиентный спуск своими руками"
      ]
    },
    {
      "cell_type": "markdown",
      "metadata": {
        "id": "xqnu9fo-ohwy",
        "pycharm": {
          "name": "#%% md\n"
        }
      },
      "source": [
        "## Установка `PyTorch`"
      ]
    },
    {
      "cell_type": "markdown",
      "metadata": {
        "id": "RFhPyKA_ohwy",
        "pycharm": {
          "name": "#%% md\n"
        }
      },
      "source": [
        "Мы будем использовать библиотеку для глубинного обучения `PyTorch`, ее можно не устанавливать, будем пользоваться сайтом [kaggle.com](kaggle.com) для обучения в облаке (или с учителем?).\n",
        "\n",
        "Чтобы установить `PyTorch` локально себе на компьютер нужно ответить на два вопроса - какая у вас операционная система и есть ли у вас дискретная видеокарта (GPU) и если есть, то какого производителя. В зависимости от ваших ответов мы получаем три варианта по операционной системе - Linux, Mac и Windows; три варианта по дискретной видеокарте - нет видеокарты (доступен только центральный процессор CPU), есть видеокарта от Nvidia или есть видеокарта от AMD (это производитель именно чипа, конечный вендор может быть другой, например, ASUS, MSI, Palit). Работа с PyTorch с видеокартой от AMD это экзотика, которая выходит за рамки нашего курса, поэтому рассмотрим только варианты *нет видеокарты*/*есть видеокарта от Nvidia*.\n",
        "\n",
        "\n",
        "Выберите на [сайте](https://pytorch.org/get-started/locally/) подходящие вам варианты операционной системы/видеокарты и скопируйте команду для установки. Разберем подробно самые популярные варианты установки:"
      ]
    },
    {
      "cell_type": "markdown",
      "metadata": {
        "id": "MAvM4k_pohwz",
        "pycharm": {
          "name": "#%% md\n"
        }
      },
      "source": [
        "### Установка в Linux ([поддерживаемые дистрибутивы](https://pytorch.org/get-started/locally/#supported-linux-distributions))\n",
        "\n",
        "На линуксе будет работать поддержка `PyTorch` в любой конфигурации, что у вас нет видеокарты, что есть от Nvidia, что от AMD.\n",
        "\n",
        "Пререквизит для работы с видеокартой от Nvidia - нужно поставить CUDA, это инструмент от компании Nvidia, который позволяет ускорять вычисления на их же ГПУ. Чтобы поставить себе на машину все правильно воспользуйтесь этим [гайдом](https://docs.nvidia.com/cuda/cuda-installation-guide-linux/index.html) от Nvidia.\n",
        "\n",
        " - **pip**\n",
        "\n",
        "`pip3 install torch torchvision torchaudio --extra-index-url https://download.pytorch.org/whl/cpu` для тех, у кого нет видеокарты.\n",
        "\n",
        "`pip3 install torch torchvision torchaudio --extra-index-url https://download.pytorch.org/whl/cu116` для тех, у кого есть видеокарта (либо другой `--extra-index-url`, смотрите на сайте PyTorch, в зависимости от версии CUDA).\n",
        "\n",
        " - **conda**\n",
        "\n",
        "`conda install pytorch torchvision torchaudio cpuonly -c pytorch` для тех, у кого нет видеокарты.\n",
        "\n",
        "`conda install pytorch torchvision torchaudio cudatoolkit=11.6 -c pytorch -c conda-forge` для тех, у кого есть видеокарта (либо немного другая команда, в зависимости от версии CUDA)."
      ]
    },
    {
      "cell_type": "markdown",
      "metadata": {
        "id": "AKCFyZEAohw0",
        "pycharm": {
          "name": "#%% md\n"
        }
      },
      "source": [
        "### Установка в Windows\n",
        "\n",
        "На винде будет работать поддержка `PyTorch` только для видеокарт от Nvidia и без видеокарт вообще.\n",
        "\n",
        "Пререквизит для работы с видеокартой от Nvidia - нужно поставить CUDA, это инструмент от компании Nvidia, который позволяет ускорять вычисления на их же ГПУ. Чтобы поставить себе на машину все правильно воспользуйтесь этим [гайдом](https://docs.nvidia.com/cuda/cuda-installation-guide-microsoft-windows/index.html) от Nvidia.\n",
        "\n",
        " - **pip**\n",
        "\n",
        "`pip3 install torch torchvision torchaudio --extra-index-url https://download.pytorch.org/whl/cpu` для тех, у кого нет видеокарты.\n",
        "\n",
        "`pip3 install torch torchvision torchaudio --extra-index-url https://download.pytorch.org/whl/cu116` для тех, у кого есть видеокарта (либо другой `--extra-index-url`, смотрите на сайте PyTorch, в зависимости от версии CUDA).\n",
        "\n",
        " - **conda**\n",
        "\n",
        "`conda install pytorch torchvision torchaudio cpuonly -c pytorch` для тех, у кого нет видеокарты.\n",
        "\n",
        "`conda install pytorch torchvision torchaudio cudatoolkit=11.6 -c pytorch -c conda-forge` для тех, у кого есть видеокарта (либо немного другая команда, в зависимости от версии CUDA).\n",
        "\n"
      ]
    },
    {
      "cell_type": "markdown",
      "metadata": {
        "id": "XcCkXHmdohw1",
        "pycharm": {
          "name": "#%% md\n"
        }
      },
      "source": [
        "### Установка на Mac\n",
        "\n",
        "На маках есть пока что поддержка `PyTorch` только центрального процессора, чуть позже появится поддержка ускорения на чипах M1, M2, M1 Pro и так далее.\n",
        "\n",
        " - **pip**\n",
        "\n",
        "`pip3 install torch torchvision torchaudio --extra-index-url https://download.pytorch.org/whl/cpu`\n",
        "\n",
        " - **conda**\n",
        "\n",
        "`conda install pytorch torchvision torchaudio cpuonly -c pytorch`"
      ]
    },
    {
      "cell_type": "markdown",
      "metadata": {
        "id": "gzYuadM1ohw1",
        "pycharm": {
          "name": "#%% md\n"
        }
      },
      "source": [
        "## Введение в `PyTorch`"
      ]
    },
    {
      "cell_type": "markdown",
      "metadata": {
        "id": "7ttmU5drohw1",
        "pycharm": {
          "name": "#%% md\n"
        }
      },
      "source": [
        "### Тензоры\n",
        "\n",
        "Тензоры — это специализированная структура данных, по сути это массивы и матрицы. Тензоры очень похожи на массивы в numpy, так что, если у вас хорошо с numpy, то разобраться в PyTorch тензорах будет очень просто. В PyTorch мы используем тензоры для кодирования входных и выходных данных модели, а также параметров модели."
      ]
    },
    {
      "cell_type": "code",
      "execution_count": null,
      "metadata": {
        "id": "_8pkMvRkohw2",
        "pycharm": {
          "name": "#%%\n"
        }
      },
      "outputs": [],
      "source": [
        "import torch\n",
        "import numpy as np"
      ]
    },
    {
      "cell_type": "code",
      "execution_count": null,
      "metadata": {
        "colab": {
          "base_uri": "https://localhost:8080/"
        },
        "id": "drCy6daT8Z70",
        "outputId": "68e53f47-aa75-4ff1-b746-03823259c414"
      },
      "outputs": [
        {
          "output_type": "execute_result",
          "data": {
            "text/plain": [
              "array([1, 2, 3])"
            ]
          },
          "metadata": {},
          "execution_count": 2
        }
      ],
      "source": [
        "np.array([1, 2, 3])"
      ]
    },
    {
      "cell_type": "markdown",
      "metadata": {
        "id": "vc3BXij7ohw3"
      },
      "source": [
        "### Создание тензоров\n",
        "\n",
        "Тензор можно создать напрямую из каких-то данных - нам подходят все списки с числами:"
      ]
    },
    {
      "cell_type": "code",
      "execution_count": null,
      "metadata": {
        "colab": {
          "base_uri": "https://localhost:8080/"
        },
        "id": "CSeNoOtoohw3",
        "outputId": "9e5e5be1-5e00-41f5-fcb7-42fbbc7d7285"
      },
      "outputs": [
        {
          "output_type": "execute_result",
          "data": {
            "text/plain": [
              "tensor([1, 2, 3, 4])"
            ]
          },
          "metadata": {},
          "execution_count": 3
        }
      ],
      "source": [
        "some_data = [1, 2, 3, 4]\n",
        "some_tensor = torch.tensor(some_data)\n",
        "\n",
        "some_tensor"
      ]
    },
    {
      "cell_type": "code",
      "execution_count": null,
      "metadata": {
        "colab": {
          "base_uri": "https://localhost:8080/"
        },
        "id": "TskN8kt7ohw4",
        "outputId": "aa3fa607-400b-42b5-a293-83ade2999db7",
        "pycharm": {
          "name": "#%%\n"
        }
      },
      "outputs": [
        {
          "output_type": "execute_result",
          "data": {
            "text/plain": [
              "tensor([[1, 2],\n",
              "        [3, 4],\n",
              "        [5, 6]])"
            ]
          },
          "metadata": {},
          "execution_count": 4
        }
      ],
      "source": [
        "some_data = [[1, 2], [3, 4], [5, 6]]\n",
        "some_tensor = torch.tensor(some_data)\n",
        "\n",
        "some_tensor"
      ]
    },
    {
      "cell_type": "code",
      "execution_count": null,
      "metadata": {
        "colab": {
          "base_uri": "https://localhost:8080/"
        },
        "id": "wlSK4r9Hohw4",
        "outputId": "364c404c-23aa-4535-8556-9cc8f0c8ff15"
      },
      "outputs": [
        {
          "output_type": "execute_result",
          "data": {
            "text/plain": [
              "tensor([[[1],\n",
              "         [2]],\n",
              "\n",
              "        [[3],\n",
              "         [4]],\n",
              "\n",
              "        [[5],\n",
              "         [6]]])"
            ]
          },
          "metadata": {},
          "execution_count": 5
        }
      ],
      "source": [
        "some_data = [[[1], [2]], [[3], [4]], [[5], [6]]]\n",
        "some_tensor = torch.tensor(some_data)\n",
        "\n",
        "some_tensor"
      ]
    },
    {
      "cell_type": "code",
      "execution_count": null,
      "metadata": {
        "id": "D1DLdVHZ8Z71"
      },
      "outputs": [],
      "source": [
        "a = np.array([1, 2, 3])\n",
        "b = torch.tensor(a)"
      ]
    },
    {
      "cell_type": "code",
      "source": [
        "a[1]"
      ],
      "metadata": {
        "id": "wMyPmbpx9odo",
        "colab": {
          "base_uri": "https://localhost:8080/"
        },
        "outputId": "53ad1154-3b3a-4bf1-8387-e178e118a71f"
      },
      "execution_count": null,
      "outputs": [
        {
          "output_type": "execute_result",
          "data": {
            "text/plain": [
              "2"
            ]
          },
          "metadata": {},
          "execution_count": 7
        }
      ]
    },
    {
      "cell_type": "code",
      "execution_count": null,
      "metadata": {
        "colab": {
          "base_uri": "https://localhost:8080/"
        },
        "id": "kAVNfCa68Z71",
        "outputId": "e6db2d30-8efd-425a-ad35-9d2adf71567f"
      },
      "outputs": [
        {
          "output_type": "execute_result",
          "data": {
            "text/plain": [
              "array([1, 2, 3])"
            ]
          },
          "metadata": {},
          "execution_count": 8
        }
      ],
      "source": [
        "b[0] = -1\n",
        "a"
      ]
    },
    {
      "cell_type": "code",
      "execution_count": null,
      "metadata": {
        "id": "Wgupktgs8Z71",
        "outputId": "01b81557-18cb-4fc0-faca-14e878348544",
        "colab": {
          "base_uri": "https://localhost:8080/"
        }
      },
      "outputs": [
        {
          "output_type": "execute_result",
          "data": {
            "text/plain": [
              "array([-1,  2,  3])"
            ]
          },
          "metadata": {},
          "execution_count": 9
        }
      ],
      "source": [
        "b = torch.from_numpy(a)\n",
        "b[0] = -1\n",
        "a"
      ]
    },
    {
      "cell_type": "code",
      "execution_count": null,
      "metadata": {
        "colab": {
          "base_uri": "https://localhost:8080/"
        },
        "id": "l-mRVW4i8Z71",
        "outputId": "bb95ea45-3781-46cf-e3dc-2222c7a4e679"
      },
      "outputs": [
        {
          "output_type": "execute_result",
          "data": {
            "text/plain": [
              "tensor([-1,  2,  3], device='cuda:0')"
            ]
          },
          "metadata": {},
          "execution_count": 10
        }
      ],
      "source": [
        "c = b.to(\"cuda:0\")\n",
        "c"
      ]
    },
    {
      "cell_type": "code",
      "execution_count": null,
      "metadata": {
        "colab": {
          "base_uri": "https://localhost:8080/"
        },
        "id": "BcB_OItc8Z71",
        "outputId": "656d1d37-5ccd-4426-cb4a-3363695d8f1b"
      },
      "outputs": [
        {
          "output_type": "execute_result",
          "data": {
            "text/plain": [
              "array([-1,  2,  3])"
            ]
          },
          "metadata": {},
          "execution_count": 11
        }
      ],
      "source": [
        "c[0] = 1\n",
        "a"
      ]
    },
    {
      "cell_type": "markdown",
      "metadata": {
        "id": "eEAqloTPohw5"
      },
      "source": [
        "На самом деле про \"все\" списки с числами - обман. Если у вашего списка есть какой-то уровень вложенности, то должны совпадать размерности у всех вложенных списков (подробнее про размерности поговорим позже):"
      ]
    },
    {
      "cell_type": "code",
      "execution_count": null,
      "metadata": {
        "colab": {
          "base_uri": "https://localhost:8080/",
          "height": 198
        },
        "id": "coztW4NKohw5",
        "outputId": "76555a89-2a2f-4348-af2d-9966fb705a6b"
      },
      "outputs": [
        {
          "output_type": "error",
          "ename": "ValueError",
          "evalue": "expected sequence of length 2 at dim 1 (got 3)",
          "traceback": [
            "\u001b[0;31m---------------------------------------------------------------------------\u001b[0m",
            "\u001b[0;31mValueError\u001b[0m                                Traceback (most recent call last)",
            "\u001b[0;32m<ipython-input-12-8ca732eef2dc>\u001b[0m in \u001b[0;36m<cell line: 2>\u001b[0;34m()\u001b[0m\n\u001b[1;32m      1\u001b[0m \u001b[0msome_other_data\u001b[0m \u001b[0;34m=\u001b[0m \u001b[0;34m[\u001b[0m\u001b[0;34m[\u001b[0m\u001b[0;36m1\u001b[0m\u001b[0;34m,\u001b[0m \u001b[0;36m2\u001b[0m\u001b[0;34m]\u001b[0m\u001b[0;34m,\u001b[0m \u001b[0;34m[\u001b[0m\u001b[0;36m3\u001b[0m\u001b[0;34m,\u001b[0m \u001b[0;36m4\u001b[0m\u001b[0;34m]\u001b[0m\u001b[0;34m,\u001b[0m \u001b[0;34m[\u001b[0m\u001b[0;36m5\u001b[0m\u001b[0;34m,\u001b[0m \u001b[0;36m6\u001b[0m\u001b[0;34m,\u001b[0m \u001b[0;36m7\u001b[0m\u001b[0;34m]\u001b[0m\u001b[0;34m]\u001b[0m\u001b[0;34m\u001b[0m\u001b[0;34m\u001b[0m\u001b[0m\n\u001b[0;32m----> 2\u001b[0;31m \u001b[0msome_other_tensor\u001b[0m \u001b[0;34m=\u001b[0m \u001b[0mtorch\u001b[0m\u001b[0;34m.\u001b[0m\u001b[0mtensor\u001b[0m\u001b[0;34m(\u001b[0m\u001b[0msome_other_data\u001b[0m\u001b[0;34m)\u001b[0m\u001b[0;34m\u001b[0m\u001b[0;34m\u001b[0m\u001b[0m\n\u001b[0m\u001b[1;32m      3\u001b[0m \u001b[0;34m\u001b[0m\u001b[0m\n\u001b[1;32m      4\u001b[0m \u001b[0msome_other_tensor\u001b[0m\u001b[0;34m\u001b[0m\u001b[0;34m\u001b[0m\u001b[0m\n",
            "\u001b[0;31mValueError\u001b[0m: expected sequence of length 2 at dim 1 (got 3)"
          ]
        }
      ],
      "source": [
        "some_other_data = [[1, 2], [3, 4], [5, 6, 7]]\n",
        "some_other_tensor = torch.tensor(some_other_data)\n",
        "\n",
        "some_other_tensor"
      ]
    },
    {
      "cell_type": "markdown",
      "metadata": {
        "id": "ges6f6W2ohw6"
      },
      "source": [
        "Также тензоры можно создавать из numpy массивов и наоборот:"
      ]
    },
    {
      "cell_type": "code",
      "execution_count": null,
      "metadata": {
        "colab": {
          "base_uri": "https://localhost:8080/"
        },
        "id": "FAKzvFyFohw7",
        "outputId": "cbc3a685-b74f-4c45-b362-85271066f9d6",
        "pycharm": {
          "name": "#%%\n"
        }
      },
      "outputs": [
        {
          "output_type": "execute_result",
          "data": {
            "text/plain": [
              "array([[[1],\n",
              "        [2]],\n",
              "\n",
              "       [[3],\n",
              "        [4]],\n",
              "\n",
              "       [[5],\n",
              "        [6]]])"
            ]
          },
          "metadata": {},
          "execution_count": 13
        }
      ],
      "source": [
        "some_numpy_array = np.array(some_data)\n",
        "\n",
        "some_numpy_array"
      ]
    },
    {
      "cell_type": "code",
      "execution_count": null,
      "metadata": {
        "colab": {
          "base_uri": "https://localhost:8080/"
        },
        "id": "kFz27sXkohw7",
        "outputId": "75713bbf-72bb-4c95-fb59-35208583b56d"
      },
      "outputs": [
        {
          "output_type": "execute_result",
          "data": {
            "text/plain": [
              "tensor([[[1],\n",
              "         [2]],\n",
              "\n",
              "        [[3],\n",
              "         [4]],\n",
              "\n",
              "        [[5],\n",
              "         [6]]])"
            ]
          },
          "metadata": {},
          "execution_count": 14
        }
      ],
      "source": [
        "some_tensor_from_numpy = torch.from_numpy(some_numpy_array)\n",
        "\n",
        "some_tensor_from_numpy"
      ]
    },
    {
      "cell_type": "markdown",
      "metadata": {
        "id": "PNxcksCtohw8"
      },
      "source": [
        "При этом если мы создаем тензор из numpy массива с помощью `torch.from_numpy`, то они делят между собой память, где лежат их данные и, соответственно, при изменении тензора меняется numpy массив и наоборот:"
      ]
    },
    {
      "cell_type": "code",
      "execution_count": null,
      "metadata": {
        "colab": {
          "base_uri": "https://localhost:8080/"
        },
        "id": "PUOQy9OPohw8",
        "outputId": "57614acb-5ccb-43a0-80ae-f6587c55f06b"
      },
      "outputs": [
        {
          "output_type": "execute_result",
          "data": {
            "text/plain": [
              "(array([1., 1., 1., 1., 1., 1., 1., 1., 1., 1.]),\n",
              " tensor([1., 1., 1., 1., 1., 1., 1., 1., 1., 1.], dtype=torch.float64))"
            ]
          },
          "metadata": {},
          "execution_count": 15
        }
      ],
      "source": [
        "x = np.ones(10)\n",
        "y = torch.from_numpy(x)\n",
        "\n",
        "x, y"
      ]
    },
    {
      "cell_type": "code",
      "execution_count": null,
      "metadata": {
        "colab": {
          "base_uri": "https://localhost:8080/"
        },
        "id": "FSge8rdOohw9",
        "outputId": "158d9437-311a-42dd-ce0b-97d68ff8b672"
      },
      "outputs": [
        {
          "output_type": "execute_result",
          "data": {
            "text/plain": [
              "(array([2., 2., 2., 2., 2., 2., 2., 2., 2., 2.]),\n",
              " tensor([2., 2., 2., 2., 2., 2., 2., 2., 2., 2.], dtype=torch.float64))"
            ]
          },
          "metadata": {},
          "execution_count": 16
        }
      ],
      "source": [
        "x += 1\n",
        "\n",
        "x, y"
      ]
    },
    {
      "cell_type": "code",
      "execution_count": null,
      "metadata": {
        "colab": {
          "base_uri": "https://localhost:8080/"
        },
        "id": "IbXkXEXFohw-",
        "outputId": "645577ee-7445-421d-b59b-bc151d05d046"
      },
      "outputs": [
        {
          "output_type": "execute_result",
          "data": {
            "text/plain": [
              "(tensor([1., 1., 1., 1., 1., 1., 1., 1., 1., 1.]),\n",
              " array([1., 1., 1., 1., 1., 1., 1., 1., 1., 1.], dtype=float32))"
            ]
          },
          "metadata": {},
          "execution_count": 18
        }
      ],
      "source": [
        "x = torch.ones(10)\n",
        "y = x.numpy()\n",
        "\n",
        "x, y"
      ]
    },
    {
      "cell_type": "code",
      "execution_count": null,
      "metadata": {
        "colab": {
          "base_uri": "https://localhost:8080/"
        },
        "id": "HqMLzE0Wohw-",
        "outputId": "bf7f07f8-83b0-48fa-c7e9-1d46d291872b"
      },
      "outputs": [
        {
          "output_type": "execute_result",
          "data": {
            "text/plain": [
              "(tensor([2., 2., 2., 2., 2., 2., 2., 2., 2., 2.]),\n",
              " array([2., 2., 2., 2., 2., 2., 2., 2., 2., 2.], dtype=float32))"
            ]
          },
          "metadata": {},
          "execution_count": 19
        }
      ],
      "source": [
        "x += 1\n",
        "\n",
        "x, y"
      ]
    },
    {
      "cell_type": "markdown",
      "metadata": {
        "id": "pIIthqR_ohw_"
      },
      "source": [
        "Можем создать тензор со случайными или константными значениями:"
      ]
    },
    {
      "cell_type": "code",
      "execution_count": null,
      "metadata": {
        "colab": {
          "base_uri": "https://localhost:8080/"
        },
        "id": "o6OgDQsoohxA",
        "outputId": "ee591d57-4597-48dc-a3a1-ed98134f9c90"
      },
      "outputs": [
        {
          "output_type": "stream",
          "name": "stdout",
          "text": [
            "tensor([[-0.0951, -0.2390, -0.8133],\n",
            "        [ 1.3322,  2.2960, -0.7344]])\n",
            "tensor([[1., 1., 1.],\n",
            "        [1., 1., 1.]])\n",
            "tensor([[0., 0., 0.],\n",
            "        [0., 0., 0.]])\n",
            "tensor([[ 8.1306e+19,  4.4938e-41, -9.8392e-18],\n",
            "        [ 4.4938e-41, -1.0354e-17,  4.4938e-41]])\n"
          ]
        }
      ],
      "source": [
        "shape = (2, 3)\n",
        "\n",
        "random_tensor = torch.randn(shape)\n",
        "ones_tensor = torch.ones(shape)\n",
        "zeros_tensor = torch.zeros(shape)\n",
        "empty_tensor = torch.empty(shape)\n",
        "\n",
        "print(random_tensor)\n",
        "print(ones_tensor)\n",
        "print(zeros_tensor)\n",
        "print(empty_tensor)"
      ]
    },
    {
      "cell_type": "markdown",
      "metadata": {
        "id": "QO3cS_EBohxA"
      },
      "source": [
        "Теперь поговорим про размерности подробнее.\n",
        "\n",
        "У тензора есть какой-то размер, какая форма. Первое с чем нужно определиться, какой **размерности** тензор - количество осей у него."
      ]
    },
    {
      "cell_type": "code",
      "execution_count": null,
      "metadata": {
        "id": "VBrUSrEz8Z74",
        "outputId": "40a9ef08-d9c0-40f3-f64a-fc8b93e13a73",
        "colab": {
          "base_uri": "https://localhost:8080/"
        }
      },
      "outputs": [
        {
          "output_type": "execute_result",
          "data": {
            "text/plain": [
              "torch.Size([3])"
            ]
          },
          "metadata": {},
          "execution_count": 21
        }
      ],
      "source": [
        "c.shape"
      ]
    },
    {
      "cell_type": "code",
      "execution_count": null,
      "metadata": {
        "id": "D4WRy-Fn8Z74",
        "outputId": "fd6ac4cc-6c32-4c8e-80d5-773bde1f476c",
        "colab": {
          "base_uri": "https://localhost:8080/"
        }
      },
      "outputs": [
        {
          "output_type": "execute_result",
          "data": {
            "text/plain": [
              "tensor([1, 2, 3], device='cuda:0')"
            ]
          },
          "metadata": {},
          "execution_count": 22
        }
      ],
      "source": [
        "c"
      ]
    },
    {
      "cell_type": "code",
      "execution_count": null,
      "metadata": {
        "id": "gFgSYakf8Z74",
        "outputId": "62989e7a-b17a-426c-cf24-2ae8fe2f5fef",
        "colab": {
          "base_uri": "https://localhost:8080/"
        }
      },
      "outputs": [
        {
          "output_type": "execute_result",
          "data": {
            "text/plain": [
              "tensor([[1, 2],\n",
              "        [1, 2]])"
            ]
          },
          "metadata": {},
          "execution_count": 23
        }
      ],
      "source": [
        "d = torch.tensor([[1, 2], [1, 2]])\n",
        "d"
      ]
    },
    {
      "cell_type": "code",
      "execution_count": null,
      "metadata": {
        "id": "aRT19FS18Z74",
        "outputId": "741846bf-a128-44c2-94fb-7ced60a1f534",
        "colab": {
          "base_uri": "https://localhost:8080/"
        }
      },
      "outputs": [
        {
          "output_type": "execute_result",
          "data": {
            "text/plain": [
              "torch.Size([2, 2])"
            ]
          },
          "metadata": {},
          "execution_count": 24
        }
      ],
      "source": [
        "d.shape"
      ]
    },
    {
      "cell_type": "code",
      "execution_count": null,
      "metadata": {
        "id": "8jnzvGSjohxB",
        "outputId": "cdf48923-27aa-4423-d3b9-67bfcc5cda8f",
        "colab": {
          "base_uri": "https://localhost:8080/"
        }
      },
      "outputs": [
        {
          "output_type": "execute_result",
          "data": {
            "text/plain": [
              "tensor([0.7583, 0.4095, 0.3407, 0.3132, 0.8300, 0.5134, 0.1231, 0.0806, 0.5202,\n",
              "        0.9957])"
            ]
          },
          "metadata": {},
          "execution_count": 25
        }
      ],
      "source": [
        "shape = (10)  # одна ось (вектор)\n",
        "\n",
        "tensor = torch.rand(shape)\n",
        "\n",
        "tensor"
      ]
    },
    {
      "cell_type": "code",
      "execution_count": null,
      "metadata": {
        "id": "PiSZMW6PohxC",
        "outputId": "8e3d89c7-0306-482c-c3a5-a5f97e254503",
        "colab": {
          "base_uri": "https://localhost:8080/"
        }
      },
      "outputs": [
        {
          "output_type": "execute_result",
          "data": {
            "text/plain": [
              "tensor([[0.6950, 0.1199, 0.2187],\n",
              "        [0.7374, 0.7000, 0.0806]])"
            ]
          },
          "metadata": {},
          "execution_count": 26
        }
      ],
      "source": [
        "shape = (2, 3)  # две оси (матрица)\n",
        "\n",
        "tensor = torch.rand(shape)\n",
        "\n",
        "tensor"
      ]
    },
    {
      "cell_type": "code",
      "execution_count": null,
      "metadata": {
        "id": "RqCkPEPUohxC",
        "outputId": "70bbca00-5cf4-4e77-a69a-b7cadf3498fc",
        "colab": {
          "base_uri": "https://localhost:8080/"
        }
      },
      "outputs": [
        {
          "output_type": "execute_result",
          "data": {
            "text/plain": [
              "tensor([[[0.9936, 0.0607, 0.9508],\n",
              "         [0.1374, 0.1410, 0.2594]],\n",
              "\n",
              "        [[0.4774, 0.0882, 0.1803],\n",
              "         [0.9458, 0.3707, 0.2210]],\n",
              "\n",
              "        [[0.7131, 0.6848, 0.0293],\n",
              "         [0.9608, 0.6544, 0.8924]]])"
            ]
          },
          "metadata": {},
          "execution_count": 27
        }
      ],
      "source": [
        "shape = (3, 2, 3)  # три оси (и больше - тензор)\n",
        "\n",
        "tensor = torch.rand(shape)\n",
        "\n",
        "tensor"
      ]
    },
    {
      "cell_type": "markdown",
      "metadata": {
        "id": "uDX1jJsWohxD"
      },
      "source": [
        "Тензор с размерностью 1 - это просто вектор, список чисел.\n",
        "\n",
        "Тензор с размерностью 2 - это просто матрица, то есть список списков чисел.\n",
        "\n",
        "Тензор с размерностью 3 и больше - это тензор, то есть список списков списков ... чисел."
      ]
    },
    {
      "cell_type": "markdown",
      "metadata": {
        "id": "vOPzB_ozohxD"
      },
      "source": [
        "Получить доступ к размеру уже созданного тензора - метод `.shape`:"
      ]
    },
    {
      "cell_type": "code",
      "execution_count": null,
      "metadata": {
        "colab": {
          "base_uri": "https://localhost:8080/"
        },
        "id": "17lpXMrQohxE",
        "outputId": "6d50b6b5-e050-4b07-fe8c-a6f5f063c66e"
      },
      "outputs": [
        {
          "output_type": "stream",
          "name": "stdout",
          "text": [
            "tensor([[[1],\n",
            "         [2]],\n",
            "\n",
            "        [[3],\n",
            "         [4]],\n",
            "\n",
            "        [[5],\n",
            "         [6]]])\n",
            "torch.Size([3, 2, 1])\n"
          ]
        }
      ],
      "source": [
        "some_data = [[[1], [2]], [[3], [4]], [[5], [6]]]\n",
        "some_tensor = torch.tensor(some_data)\n",
        "\n",
        "print(some_tensor)\n",
        "print(some_tensor.shape)"
      ]
    },
    {
      "cell_type": "markdown",
      "metadata": {
        "id": "PaBvVnJdohxG"
      },
      "source": [
        "В лекции мы говорили про изображения, давайте сделаем тензор, который будет нам имитировать изображение - сделаем его размер `(c, h, w)`, где `h` и `w` это его высота и ширина, а `c` - число каналов в цветовом пространстве (в черно-белом 1, в RGB 3):"
      ]
    },
    {
      "cell_type": "code",
      "execution_count": null,
      "metadata": {
        "id": "ZvwfwX978Z76",
        "colab": {
          "base_uri": "https://localhost:8080/",
          "height": 144
        },
        "outputId": "eec481ab-4fa7-492d-f558-e3eba1d0a46c"
      },
      "outputs": [
        {
          "output_type": "error",
          "ename": "NameError",
          "evalue": "name 'h' is not defined",
          "traceback": [
            "\u001b[0;31m---------------------------------------------------------------------------\u001b[0m",
            "\u001b[0;31mNameError\u001b[0m                                 Traceback (most recent call last)",
            "\u001b[0;32m<ipython-input-29-d9d592514fa1>\u001b[0m in \u001b[0;36m<cell line: 1>\u001b[0;34m()\u001b[0m\n\u001b[0;32m----> 1\u001b[0;31m \u001b[0mshape\u001b[0m \u001b[0;34m=\u001b[0m \u001b[0;34m(\u001b[0m\u001b[0mh\u001b[0m\u001b[0;34m,\u001b[0m \u001b[0mw\u001b[0m\u001b[0;34m,\u001b[0m \u001b[0mc\u001b[0m\u001b[0;34m)\u001b[0m  \u001b[0;31m# numpy\u001b[0m\u001b[0;34m\u001b[0m\u001b[0;34m\u001b[0m\u001b[0m\n\u001b[0m",
            "\u001b[0;31mNameError\u001b[0m: name 'h' is not defined"
          ]
        }
      ],
      "source": [
        "shape = (h, w, c)  # numpy"
      ]
    },
    {
      "cell_type": "code",
      "execution_count": null,
      "metadata": {
        "id": "Dn1rJuOd8Z76",
        "colab": {
          "base_uri": "https://localhost:8080/",
          "height": 144
        },
        "outputId": "d057410c-19c5-40d7-9765-2ee703d92c34"
      },
      "outputs": [
        {
          "output_type": "error",
          "ename": "NameError",
          "evalue": "name 'h' is not defined",
          "traceback": [
            "\u001b[0;31m---------------------------------------------------------------------------\u001b[0m",
            "\u001b[0;31mNameError\u001b[0m                                 Traceback (most recent call last)",
            "\u001b[0;32m<ipython-input-30-1f553a76ecb4>\u001b[0m in \u001b[0;36m<cell line: 1>\u001b[0;34m()\u001b[0m\n\u001b[0;32m----> 1\u001b[0;31m \u001b[0mshape\u001b[0m \u001b[0;34m=\u001b[0m \u001b[0;34m(\u001b[0m\u001b[0mc\u001b[0m\u001b[0;34m,\u001b[0m \u001b[0mh\u001b[0m\u001b[0;34m,\u001b[0m \u001b[0mw\u001b[0m\u001b[0;34m)\u001b[0m  \u001b[0;31m# torch\u001b[0m\u001b[0;34m\u001b[0m\u001b[0;34m\u001b[0m\u001b[0m\n\u001b[0m",
            "\u001b[0;31mNameError\u001b[0m: name 'h' is not defined"
          ]
        }
      ],
      "source": [
        "shape = (c, h, w)  # torch"
      ]
    },
    {
      "cell_type": "code",
      "execution_count": null,
      "metadata": {
        "colab": {
          "base_uri": "https://localhost:8080/"
        },
        "id": "pN46r45UohxI",
        "outputId": "8291ddd9-481f-445e-8524-f46139b3e8ea",
        "scrolled": false
      },
      "outputs": [
        {
          "output_type": "execute_result",
          "data": {
            "text/plain": [
              "tensor([[[0.7899, 0.5314, 0.3023, 0.6681, 0.0272, 0.8676, 0.3552, 0.0803,\n",
              "          0.3273, 0.0658, 0.3668, 0.4097, 0.4839, 0.1240, 0.5992, 0.7948],\n",
              "         [0.3591, 0.1485, 0.3494, 0.6820, 0.6593, 0.0508, 0.0103, 0.5325,\n",
              "          0.4949, 0.0341, 0.2333, 0.0313, 0.6392, 0.1771, 0.3008, 0.6533],\n",
              "         [0.2919, 0.3757, 0.5985, 0.0877, 0.8165, 0.1666, 0.0858, 0.3807,\n",
              "          0.4330, 0.5912, 0.8826, 0.6047, 0.9812, 0.2703, 0.8134, 0.5910],\n",
              "         [0.7183, 0.4687, 0.2140, 0.9522, 0.4501, 0.7114, 0.7381, 0.3096,\n",
              "          0.1800, 0.2725, 0.5607, 0.7852, 0.3804, 0.0129, 0.5193, 0.7663],\n",
              "         [0.1643, 0.7098, 0.0872, 0.7968, 0.2421, 0.5503, 0.0314, 0.7930,\n",
              "          0.2277, 0.7858, 0.5646, 0.6456, 0.4731, 0.8333, 0.9062, 0.9016],\n",
              "         [0.1142, 0.7873, 0.2807, 0.9796, 0.2290, 0.1128, 0.7577, 0.0666,\n",
              "          0.8334, 0.9906, 0.7265, 0.6393, 0.0505, 0.7638, 0.7073, 0.6187],\n",
              "         [0.3734, 0.9659, 0.8124, 0.0083, 0.9249, 0.1895, 0.5664, 0.8199,\n",
              "          0.2563, 0.2258, 0.5579, 0.5008, 0.1128, 0.0595, 0.1848, 0.6868],\n",
              "         [0.5776, 0.0828, 0.9716, 0.8032, 0.9120, 0.0216, 0.4582, 0.6400,\n",
              "          0.2104, 0.5751, 0.2641, 0.3302, 0.9064, 0.6642, 0.3350, 0.6065],\n",
              "         [0.8654, 0.5848, 0.5795, 0.1604, 0.1643, 0.6906, 0.2567, 0.9598,\n",
              "          0.8737, 0.8847, 0.8275, 0.7540, 0.7722, 0.5999, 0.0884, 0.7823]],\n",
              "\n",
              "        [[0.2857, 0.3300, 0.6762, 0.6499, 0.8666, 0.3932, 0.5334, 0.3555,\n",
              "          0.7561, 0.9821, 0.1586, 0.6556, 0.9445, 0.4509, 0.0291, 0.9345],\n",
              "         [0.8377, 0.6252, 0.3971, 0.9191, 0.2041, 0.6966, 0.4770, 0.8111,\n",
              "          0.6255, 0.9446, 0.4395, 0.8582, 0.8302, 0.1122, 0.0202, 0.6777],\n",
              "         [0.2861, 0.6401, 0.9327, 0.3116, 0.0789, 0.8032, 0.2985, 0.3765,\n",
              "          0.0285, 0.7829, 0.5255, 0.5208, 0.2640, 0.5979, 0.3966, 0.4143],\n",
              "         [0.9793, 0.4319, 0.5837, 0.7767, 0.9425, 0.7082, 0.2349, 0.0279,\n",
              "          0.3710, 0.0097, 0.5456, 0.4120, 0.5023, 0.9209, 0.7970, 0.6629],\n",
              "         [0.1890, 0.2638, 0.3585, 0.0476, 0.8267, 0.5053, 0.0508, 0.5042,\n",
              "          0.4995, 0.7522, 0.5752, 0.9345, 0.4848, 0.6868, 0.6445, 0.0848],\n",
              "         [0.1250, 0.4394, 0.1655, 0.8798, 0.9464, 0.3854, 0.9267, 0.2588,\n",
              "          0.9438, 0.0328, 0.4648, 0.2488, 0.4949, 0.2198, 0.6519, 0.5750],\n",
              "         [0.3380, 0.4028, 0.0676, 0.0646, 0.2077, 0.1473, 0.1422, 0.0613,\n",
              "          0.3195, 0.8822, 0.1940, 0.9799, 0.6591, 0.7240, 0.8208, 0.9590],\n",
              "         [0.3423, 0.2285, 0.5814, 0.6387, 0.2349, 0.9686, 0.4820, 0.9743,\n",
              "          0.0646, 0.9111, 0.4608, 0.8503, 0.6861, 0.5949, 0.3688, 0.6972],\n",
              "         [0.4711, 0.5318, 0.4211, 0.2211, 0.7006, 0.8080, 0.8007, 0.0074,\n",
              "          0.6894, 0.6614, 0.5782, 0.1143, 0.4425, 0.1971, 0.1803, 0.7601]],\n",
              "\n",
              "        [[0.0709, 0.6107, 0.6346, 0.2588, 0.8169, 0.5670, 0.6966, 0.5688,\n",
              "          0.6003, 0.5814, 0.5547, 0.8534, 0.1011, 0.6749, 0.4530, 0.5595],\n",
              "         [0.0239, 0.1612, 0.1365, 0.7575, 0.4428, 0.1398, 0.3302, 0.4142,\n",
              "          0.4891, 0.0661, 0.3301, 0.3030, 0.1883, 0.1202, 0.4953, 0.8078],\n",
              "         [0.6947, 0.0556, 0.2390, 0.1415, 0.3191, 0.8813, 0.2499, 0.0132,\n",
              "          0.3758, 0.6946, 0.5837, 0.8161, 0.7127, 0.7552, 0.4458, 0.0516],\n",
              "         [0.3067, 0.7861, 0.1643, 0.6786, 0.1615, 0.5965, 0.4013, 0.5066,\n",
              "          0.7242, 0.4911, 0.6263, 0.5214, 0.8545, 0.1639, 0.7061, 0.3716],\n",
              "         [0.9279, 0.5746, 0.2145, 0.4467, 0.4810, 0.9821, 0.6098, 0.7083,\n",
              "          0.5525, 0.4178, 0.1000, 0.7161, 0.4735, 0.1234, 0.6651, 0.1442],\n",
              "         [0.9912, 0.7685, 0.1936, 0.7876, 0.0433, 0.3419, 0.8855, 0.4672,\n",
              "          0.4157, 0.7356, 0.9028, 0.9220, 0.9753, 0.5137, 0.0527, 0.0466],\n",
              "         [0.4398, 0.0374, 0.0296, 0.3657, 0.8564, 0.0358, 0.3797, 0.2386,\n",
              "          0.1117, 0.7208, 0.7636, 0.3701, 0.7577, 0.2297, 0.7941, 0.8611],\n",
              "         [0.0992, 0.2424, 0.4796, 0.4668, 0.2515, 0.9902, 0.1510, 0.9205,\n",
              "          0.9211, 0.1435, 0.1506, 0.7416, 0.4964, 0.9041, 0.7311, 0.9354],\n",
              "         [0.5371, 0.9702, 0.3577, 0.4251, 0.1573, 0.1906, 0.8970, 0.7894,\n",
              "          0.7857, 0.2129, 0.7781, 0.3265, 0.2118, 0.2096, 0.1495, 0.4132]]])"
            ]
          },
          "metadata": {},
          "execution_count": 31
        }
      ],
      "source": [
        "h = 9\n",
        "w = 16\n",
        "c = 3\n",
        "\n",
        "shape = (c, h, w)\n",
        "\n",
        "image_tensor = torch.rand(shape)\n",
        "\n",
        "image_tensor"
      ]
    },
    {
      "cell_type": "code",
      "execution_count": null,
      "metadata": {
        "colab": {
          "base_uri": "https://localhost:8080/"
        },
        "id": "2_6FqvIHohxK",
        "outputId": "8672cec8-eb64-4694-a83d-5fef8b08b447"
      },
      "outputs": [
        {
          "output_type": "execute_result",
          "data": {
            "text/plain": [
              "torch.Size([3, 9, 16])"
            ]
          },
          "metadata": {},
          "execution_count": 32
        }
      ],
      "source": [
        "image_tensor.shape"
      ]
    },
    {
      "cell_type": "markdown",
      "metadata": {
        "id": "F0xPUF6yohxL"
      },
      "source": [
        "Можем попробовать поменять размер тензора, например, [вытянуть его в вектор](https://pytorch.org/docs/stable/generated/torch.ravel.html):"
      ]
    },
    {
      "cell_type": "code",
      "execution_count": null,
      "metadata": {
        "colab": {
          "base_uri": "https://localhost:8080/"
        },
        "id": "h1Q6MBcHohxM",
        "outputId": "c86e8512-57c0-42d8-a0d1-168410f7689b"
      },
      "outputs": [
        {
          "output_type": "execute_result",
          "data": {
            "text/plain": [
              "tensor([0.7899, 0.5314, 0.3023, 0.6681, 0.0272, 0.8676, 0.3552, 0.0803, 0.3273,\n",
              "        0.0658, 0.3668, 0.4097, 0.4839, 0.1240, 0.5992, 0.7948, 0.3591, 0.1485,\n",
              "        0.3494, 0.6820, 0.6593, 0.0508, 0.0103, 0.5325, 0.4949, 0.0341, 0.2333,\n",
              "        0.0313, 0.6392, 0.1771, 0.3008, 0.6533, 0.2919, 0.3757, 0.5985, 0.0877,\n",
              "        0.8165, 0.1666, 0.0858, 0.3807, 0.4330, 0.5912, 0.8826, 0.6047, 0.9812,\n",
              "        0.2703, 0.8134, 0.5910, 0.7183, 0.4687, 0.2140, 0.9522, 0.4501, 0.7114,\n",
              "        0.7381, 0.3096, 0.1800, 0.2725, 0.5607, 0.7852, 0.3804, 0.0129, 0.5193,\n",
              "        0.7663, 0.1643, 0.7098, 0.0872, 0.7968, 0.2421, 0.5503, 0.0314, 0.7930,\n",
              "        0.2277, 0.7858, 0.5646, 0.6456, 0.4731, 0.8333, 0.9062, 0.9016, 0.1142,\n",
              "        0.7873, 0.2807, 0.9796, 0.2290, 0.1128, 0.7577, 0.0666, 0.8334, 0.9906,\n",
              "        0.7265, 0.6393, 0.0505, 0.7638, 0.7073, 0.6187, 0.3734, 0.9659, 0.8124,\n",
              "        0.0083, 0.9249, 0.1895, 0.5664, 0.8199, 0.2563, 0.2258, 0.5579, 0.5008,\n",
              "        0.1128, 0.0595, 0.1848, 0.6868, 0.5776, 0.0828, 0.9716, 0.8032, 0.9120,\n",
              "        0.0216, 0.4582, 0.6400, 0.2104, 0.5751, 0.2641, 0.3302, 0.9064, 0.6642,\n",
              "        0.3350, 0.6065, 0.8654, 0.5848, 0.5795, 0.1604, 0.1643, 0.6906, 0.2567,\n",
              "        0.9598, 0.8737, 0.8847, 0.8275, 0.7540, 0.7722, 0.5999, 0.0884, 0.7823,\n",
              "        0.2857, 0.3300, 0.6762, 0.6499, 0.8666, 0.3932, 0.5334, 0.3555, 0.7561,\n",
              "        0.9821, 0.1586, 0.6556, 0.9445, 0.4509, 0.0291, 0.9345, 0.8377, 0.6252,\n",
              "        0.3971, 0.9191, 0.2041, 0.6966, 0.4770, 0.8111, 0.6255, 0.9446, 0.4395,\n",
              "        0.8582, 0.8302, 0.1122, 0.0202, 0.6777, 0.2861, 0.6401, 0.9327, 0.3116,\n",
              "        0.0789, 0.8032, 0.2985, 0.3765, 0.0285, 0.7829, 0.5255, 0.5208, 0.2640,\n",
              "        0.5979, 0.3966, 0.4143, 0.9793, 0.4319, 0.5837, 0.7767, 0.9425, 0.7082,\n",
              "        0.2349, 0.0279, 0.3710, 0.0097, 0.5456, 0.4120, 0.5023, 0.9209, 0.7970,\n",
              "        0.6629, 0.1890, 0.2638, 0.3585, 0.0476, 0.8267, 0.5053, 0.0508, 0.5042,\n",
              "        0.4995, 0.7522, 0.5752, 0.9345, 0.4848, 0.6868, 0.6445, 0.0848, 0.1250,\n",
              "        0.4394, 0.1655, 0.8798, 0.9464, 0.3854, 0.9267, 0.2588, 0.9438, 0.0328,\n",
              "        0.4648, 0.2488, 0.4949, 0.2198, 0.6519, 0.5750, 0.3380, 0.4028, 0.0676,\n",
              "        0.0646, 0.2077, 0.1473, 0.1422, 0.0613, 0.3195, 0.8822, 0.1940, 0.9799,\n",
              "        0.6591, 0.7240, 0.8208, 0.9590, 0.3423, 0.2285, 0.5814, 0.6387, 0.2349,\n",
              "        0.9686, 0.4820, 0.9743, 0.0646, 0.9111, 0.4608, 0.8503, 0.6861, 0.5949,\n",
              "        0.3688, 0.6972, 0.4711, 0.5318, 0.4211, 0.2211, 0.7006, 0.8080, 0.8007,\n",
              "        0.0074, 0.6894, 0.6614, 0.5782, 0.1143, 0.4425, 0.1971, 0.1803, 0.7601,\n",
              "        0.0709, 0.6107, 0.6346, 0.2588, 0.8169, 0.5670, 0.6966, 0.5688, 0.6003,\n",
              "        0.5814, 0.5547, 0.8534, 0.1011, 0.6749, 0.4530, 0.5595, 0.0239, 0.1612,\n",
              "        0.1365, 0.7575, 0.4428, 0.1398, 0.3302, 0.4142, 0.4891, 0.0661, 0.3301,\n",
              "        0.3030, 0.1883, 0.1202, 0.4953, 0.8078, 0.6947, 0.0556, 0.2390, 0.1415,\n",
              "        0.3191, 0.8813, 0.2499, 0.0132, 0.3758, 0.6946, 0.5837, 0.8161, 0.7127,\n",
              "        0.7552, 0.4458, 0.0516, 0.3067, 0.7861, 0.1643, 0.6786, 0.1615, 0.5965,\n",
              "        0.4013, 0.5066, 0.7242, 0.4911, 0.6263, 0.5214, 0.8545, 0.1639, 0.7061,\n",
              "        0.3716, 0.9279, 0.5746, 0.2145, 0.4467, 0.4810, 0.9821, 0.6098, 0.7083,\n",
              "        0.5525, 0.4178, 0.1000, 0.7161, 0.4735, 0.1234, 0.6651, 0.1442, 0.9912,\n",
              "        0.7685, 0.1936, 0.7876, 0.0433, 0.3419, 0.8855, 0.4672, 0.4157, 0.7356,\n",
              "        0.9028, 0.9220, 0.9753, 0.5137, 0.0527, 0.0466, 0.4398, 0.0374, 0.0296,\n",
              "        0.3657, 0.8564, 0.0358, 0.3797, 0.2386, 0.1117, 0.7208, 0.7636, 0.3701,\n",
              "        0.7577, 0.2297, 0.7941, 0.8611, 0.0992, 0.2424, 0.4796, 0.4668, 0.2515,\n",
              "        0.9902, 0.1510, 0.9205, 0.9211, 0.1435, 0.1506, 0.7416, 0.4964, 0.9041,\n",
              "        0.7311, 0.9354, 0.5371, 0.9702, 0.3577, 0.4251, 0.1573, 0.1906, 0.8970,\n",
              "        0.7894, 0.7857, 0.2129, 0.7781, 0.3265, 0.2118, 0.2096, 0.1495, 0.4132])"
            ]
          },
          "metadata": {},
          "execution_count": 33
        }
      ],
      "source": [
        "image_tensor.flatten()"
      ]
    },
    {
      "cell_type": "code",
      "execution_count": null,
      "metadata": {
        "id": "t5EgkSepohxM",
        "outputId": "317348e4-1b6c-4847-a7c8-0fc9698cfd3e",
        "colab": {
          "base_uri": "https://localhost:8080/"
        }
      },
      "outputs": [
        {
          "output_type": "execute_result",
          "data": {
            "text/plain": [
              "torch.Size([432])"
            ]
          },
          "metadata": {},
          "execution_count": 34
        }
      ],
      "source": [
        "image_tensor.ravel().shape"
      ]
    },
    {
      "cell_type": "code",
      "execution_count": null,
      "metadata": {
        "id": "VP7D2L1wohxN",
        "outputId": "deb03952-d799-4c64-b518-d6e0a72010a1",
        "colab": {
          "base_uri": "https://localhost:8080/"
        }
      },
      "outputs": [
        {
          "output_type": "execute_result",
          "data": {
            "text/plain": [
              "432"
            ]
          },
          "metadata": {},
          "execution_count": 35
        }
      ],
      "source": [
        "h * w * c"
      ]
    },
    {
      "cell_type": "code",
      "execution_count": null,
      "metadata": {
        "id": "2IVhYkIG8Z77",
        "outputId": "a47a17e9-4bf6-4ad9-adfa-e10d64e85847",
        "colab": {
          "base_uri": "https://localhost:8080/"
        }
      },
      "outputs": [
        {
          "output_type": "execute_result",
          "data": {
            "text/plain": [
              "tensor([ 0,  1,  2,  3,  4,  5,  6,  7,  8,  9, 10, 11])"
            ]
          },
          "metadata": {},
          "execution_count": 36
        }
      ],
      "source": [
        "a = torch.arange(12)\n",
        "a"
      ]
    },
    {
      "cell_type": "code",
      "execution_count": null,
      "metadata": {
        "id": "8GKa4Uz68Z77",
        "outputId": "31056193-0422-4c0c-b650-22ac6cc12fd6",
        "colab": {
          "base_uri": "https://localhost:8080/"
        }
      },
      "outputs": [
        {
          "output_type": "execute_result",
          "data": {
            "text/plain": [
              "tensor([[[ 0,  1,  2],\n",
              "         [ 3,  4,  5]],\n",
              "\n",
              "        [[ 6,  7,  8],\n",
              "         [ 9, 10, 11]]])"
            ]
          },
          "metadata": {},
          "execution_count": 37
        }
      ],
      "source": [
        "a.reshape([2, 2, 3])"
      ]
    },
    {
      "cell_type": "code",
      "execution_count": null,
      "metadata": {
        "id": "bZ3tEfzn8Z77",
        "outputId": "d45211ee-946d-470f-c40a-045677fb6467",
        "colab": {
          "base_uri": "https://localhost:8080/"
        }
      },
      "outputs": [
        {
          "output_type": "execute_result",
          "data": {
            "text/plain": [
              "tensor([ 0,  6,  3,  9,  1,  7,  4, 10,  2,  8,  5, 11])"
            ]
          },
          "metadata": {},
          "execution_count": 38
        }
      ],
      "source": [
        "a.reshape([2, 2, 3]).swapaxes(0, 2).flatten()"
      ]
    },
    {
      "cell_type": "markdown",
      "metadata": {
        "id": "ERuF_m0YohxN"
      },
      "source": [
        "Посчитаем количество элементов в тензоре с помощью [специальной функции](https://pytorch.org/docs/stable/generated/torch.numel.html):"
      ]
    },
    {
      "cell_type": "code",
      "execution_count": null,
      "metadata": {
        "colab": {
          "base_uri": "https://localhost:8080/"
        },
        "id": "faeEqcp8ohxO",
        "outputId": "71e27d3a-bd8d-4c92-dece-21791479346d"
      },
      "outputs": [
        {
          "output_type": "execute_result",
          "data": {
            "text/plain": [
              "432"
            ]
          },
          "metadata": {},
          "execution_count": 39
        }
      ],
      "source": [
        "image_tensor.numel()"
      ]
    },
    {
      "cell_type": "code",
      "execution_count": null,
      "metadata": {
        "id": "H0BeloSrohxO",
        "outputId": "7e5d43a6-461e-418d-f6b2-960d97b436e0",
        "colab": {
          "base_uri": "https://localhost:8080/"
        }
      },
      "outputs": [
        {
          "output_type": "execute_result",
          "data": {
            "text/plain": [
              "tensor([[[0.7836, 0.7976, 0.1130],\n",
              "         [0.6698, 0.1915, 0.5549]],\n",
              "\n",
              "        [[0.0319, 0.1300, 0.0443],\n",
              "         [0.7579, 0.3340, 0.9173]],\n",
              "\n",
              "        [[0.6542, 0.9445, 0.0634],\n",
              "         [0.5483, 0.8143, 0.3038]]])"
            ]
          },
          "metadata": {},
          "execution_count": 40
        }
      ],
      "source": [
        "h = 2\n",
        "w = 3\n",
        "c = 3\n",
        "\n",
        "shape = (c, h, w)\n",
        "\n",
        "image_tensor = torch.rand(shape)\n",
        "\n",
        "image_tensor"
      ]
    },
    {
      "cell_type": "markdown",
      "metadata": {
        "id": "qzXM-k5yohxP"
      },
      "source": [
        "Попробуем поменять размер с помощью функции [reshape](https://pytorch.org/docs/stable/generated/torch.reshape.html#torch.reshape):"
      ]
    },
    {
      "cell_type": "code",
      "execution_count": null,
      "metadata": {
        "colab": {
          "base_uri": "https://localhost:8080/"
        },
        "id": "dGxmZ9heohxQ",
        "outputId": "af0f26a4-6159-4c39-c626-0777d41be364"
      },
      "outputs": [
        {
          "output_type": "execute_result",
          "data": {
            "text/plain": [
              "tensor([[0.7836, 0.7976, 0.1130, 0.6698, 0.1915, 0.5549],\n",
              "        [0.0319, 0.1300, 0.0443, 0.7579, 0.3340, 0.9173],\n",
              "        [0.6542, 0.9445, 0.0634, 0.5483, 0.8143, 0.3038]])"
            ]
          },
          "metadata": {},
          "execution_count": 41
        }
      ],
      "source": [
        "image_tensor.reshape(c, h * w)"
      ]
    },
    {
      "cell_type": "code",
      "execution_count": null,
      "metadata": {
        "colab": {
          "base_uri": "https://localhost:8080/"
        },
        "id": "GPCKhCJILT47",
        "outputId": "a4ca5a1e-47fb-48d2-f30e-d3ae90486c06"
      },
      "outputs": [
        {
          "output_type": "execute_result",
          "data": {
            "text/plain": [
              "torch.Size([3, 2, 3])"
            ]
          },
          "metadata": {},
          "execution_count": 42
        }
      ],
      "source": [
        "image_tensor.reshape(c, h * w).reshape(-1, h, w).shape\n"
      ]
    },
    {
      "cell_type": "markdown",
      "metadata": {
        "id": "Ei3SzeSWohxQ"
      },
      "source": [
        "Попробуем собрать из нескольких тензоров один большой:\n",
        "\n",
        "[torch.cat](https://pytorch.org/docs/stable/generated/torch.cat.html#torch.cat)"
      ]
    },
    {
      "cell_type": "markdown",
      "metadata": {
        "id": "-epwFqKKsQp6"
      },
      "source": [
        "Важно помнить, что в тензорах, которые планируется конкатенировать все размерности кроме той, по которой происходиит конкатенация, должны совпадать"
      ]
    },
    {
      "cell_type": "code",
      "execution_count": null,
      "metadata": {
        "id": "4i6SiylC8Z78",
        "outputId": "0435ba7c-1daa-4960-ec7b-90bd9674786a",
        "colab": {
          "base_uri": "https://localhost:8080/"
        }
      },
      "outputs": [
        {
          "output_type": "execute_result",
          "data": {
            "text/plain": [
              "tensor([ 0,  1,  2,  3,  4,  5,  6,  7,  8,  9, 10, 11])"
            ]
          },
          "metadata": {},
          "execution_count": 43
        }
      ],
      "source": [
        "a"
      ]
    },
    {
      "cell_type": "code",
      "execution_count": null,
      "metadata": {
        "id": "DXlE2rx38Z78",
        "outputId": "938dd35e-08dc-4997-caee-de6546faf610",
        "colab": {
          "base_uri": "https://localhost:8080/"
        }
      },
      "outputs": [
        {
          "output_type": "execute_result",
          "data": {
            "text/plain": [
              "tensor([-1.6331,  1.3886,  2.0605,  2.8163,  5.7249,  3.5559,  6.2616,  7.0003,\n",
              "         8.0215,  7.6709, 10.5613, 10.0361])"
            ]
          },
          "metadata": {},
          "execution_count": 45
        }
      ],
      "source": [
        "b = torch.randn_like(a, dtype=torch.float)\n",
        "a + b"
      ]
    },
    {
      "cell_type": "code",
      "execution_count": null,
      "metadata": {
        "id": "bYp4IaP6ohxR"
      },
      "outputs": [],
      "source": [
        "x = torch.randn(2, 3)\n",
        "y = torch.randn_like(x)"
      ]
    },
    {
      "cell_type": "code",
      "execution_count": null,
      "metadata": {
        "colab": {
          "base_uri": "https://localhost:8080/"
        },
        "id": "OrNBSmeLohxR",
        "outputId": "f8d6ddb6-cc7e-4e5b-925b-be7749e7df61"
      },
      "outputs": [
        {
          "output_type": "execute_result",
          "data": {
            "text/plain": [
              "tensor([[-1.4620, -0.3123,  0.5369],\n",
              "        [ 1.7782, -0.2550,  1.9353]])"
            ]
          },
          "metadata": {},
          "execution_count": 47
        }
      ],
      "source": [
        "x"
      ]
    },
    {
      "cell_type": "code",
      "execution_count": null,
      "metadata": {
        "id": "kymqCj_Y8Z78",
        "outputId": "e1d00611-3a93-4a0d-c744-75383ec6af04",
        "colab": {
          "base_uri": "https://localhost:8080/"
        }
      },
      "outputs": [
        {
          "output_type": "execute_result",
          "data": {
            "text/plain": [
              "tensor([[-2.5860, -0.0759,  0.1682],\n",
              "        [ 0.6147, -0.8276, -0.4841]])"
            ]
          },
          "metadata": {},
          "execution_count": 48
        }
      ],
      "source": [
        "y"
      ]
    },
    {
      "cell_type": "code",
      "execution_count": null,
      "metadata": {
        "colab": {
          "base_uri": "https://localhost:8080/"
        },
        "id": "A0eTjSDQohxR",
        "outputId": "94d937b3-8fee-411c-b923-83b52fddbd74"
      },
      "outputs": [
        {
          "output_type": "execute_result",
          "data": {
            "text/plain": [
              "tensor([[-1.4620, -0.3123,  0.5369],\n",
              "        [ 1.7782, -0.2550,  1.9353],\n",
              "        [-2.5860, -0.0759,  0.1682],\n",
              "        [ 0.6147, -0.8276, -0.4841]])"
            ]
          },
          "metadata": {},
          "execution_count": 49
        }
      ],
      "source": [
        "torch.cat([x, y], dim=0)"
      ]
    },
    {
      "cell_type": "code",
      "execution_count": null,
      "metadata": {
        "colab": {
          "base_uri": "https://localhost:8080/"
        },
        "id": "d_Lv1B_6ohxS",
        "outputId": "252e22df-7405-4430-ed53-3af02eef0790"
      },
      "outputs": [
        {
          "output_type": "execute_result",
          "data": {
            "text/plain": [
              "tensor([[-1.4620, -0.3123,  0.5369, -2.5860, -0.0759,  0.1682],\n",
              "        [ 1.7782, -0.2550,  1.9353,  0.6147, -0.8276, -0.4841]])"
            ]
          },
          "metadata": {},
          "execution_count": 50
        }
      ],
      "source": [
        "torch.cat((x, y), dim=1)"
      ]
    },
    {
      "cell_type": "code",
      "execution_count": null,
      "metadata": {
        "colab": {
          "base_uri": "https://localhost:8080/"
        },
        "id": "08sAMIuJohxS",
        "outputId": "2fab3593-4d6c-4bf4-fa83-e988564408ed"
      },
      "outputs": [
        {
          "output_type": "stream",
          "name": "stdout",
          "text": [
            "tensor([[[ 0.1099],\n",
            "         [-0.6009],\n",
            "         [ 2.3798]],\n",
            "\n",
            "        [[-1.1369],\n",
            "         [ 0.9354],\n",
            "         [ 0.9228]],\n",
            "\n",
            "        [[-0.8270],\n",
            "         [-2.2214],\n",
            "         [ 0.8097]]])\n",
            "new\n",
            "tensor([[[ 0.4907],\n",
            "         [ 0.1515],\n",
            "         [ 1.4642]],\n",
            "\n",
            "        [[ 0.6841],\n",
            "         [-0.1518],\n",
            "         [ 0.5723]],\n",
            "\n",
            "        [[ 0.7194],\n",
            "         [-0.9717],\n",
            "         [ 0.1747]],\n",
            "\n",
            "        [[-0.5586],\n",
            "         [ 0.4290],\n",
            "         [ 0.4395]],\n",
            "\n",
            "        [[ 0.5532],\n",
            "         [ 0.0860],\n",
            "         [-0.3686]]])\n",
            "new\n",
            "tensor([[[ 0.8544],\n",
            "         [-0.0262],\n",
            "         [-0.4841]]])\n",
            "new\n"
          ]
        },
        {
          "output_type": "execute_result",
          "data": {
            "text/plain": [
              "tensor([[[ 0.1099],\n",
              "         [-0.6009],\n",
              "         [ 2.3798]],\n",
              "\n",
              "        [[-1.1369],\n",
              "         [ 0.9354],\n",
              "         [ 0.9228]],\n",
              "\n",
              "        [[-0.8270],\n",
              "         [-2.2214],\n",
              "         [ 0.8097]],\n",
              "\n",
              "        [[ 0.4907],\n",
              "         [ 0.1515],\n",
              "         [ 1.4642]],\n",
              "\n",
              "        [[ 0.6841],\n",
              "         [-0.1518],\n",
              "         [ 0.5723]],\n",
              "\n",
              "        [[ 0.7194],\n",
              "         [-0.9717],\n",
              "         [ 0.1747]],\n",
              "\n",
              "        [[-0.5586],\n",
              "         [ 0.4290],\n",
              "         [ 0.4395]],\n",
              "\n",
              "        [[ 0.5532],\n",
              "         [ 0.0860],\n",
              "         [-0.3686]],\n",
              "\n",
              "        [[ 0.8544],\n",
              "         [-0.0262],\n",
              "         [-0.4841]]])"
            ]
          },
          "metadata": {},
          "execution_count": 52
        }
      ],
      "source": [
        "x = torch.randn(3, 3, 1)\n",
        "y = torch.randn(5, 3, 1)\n",
        "z = torch.randn(1, 3, 1)\n",
        "\n",
        "for tensor in [x, y, z]:\n",
        "    print(tensor)\n",
        "    print(\"new\")\n",
        "\n",
        "torch.cat((x, y, z), dim=0)"
      ]
    },
    {
      "cell_type": "code",
      "execution_count": null,
      "metadata": {
        "colab": {
          "base_uri": "https://localhost:8080/",
          "height": 787
        },
        "id": "rdvr-709sloX",
        "outputId": "36e61656-1039-4764-f18e-043ceeb65bf6"
      },
      "outputs": [
        {
          "output_type": "stream",
          "name": "stdout",
          "text": [
            "tensor([[[ 1.1703],\n",
            "         [ 0.3196],\n",
            "         [ 1.9932]],\n",
            "\n",
            "        [[ 0.2173],\n",
            "         [-1.0474],\n",
            "         [-0.2592]],\n",
            "\n",
            "        [[ 1.2053],\n",
            "         [-1.0110],\n",
            "         [-0.2653]]])\n",
            "tensor([[[ 0.2829,  1.2017],\n",
            "         [ 0.1210, -1.2880],\n",
            "         [ 0.8279, -0.1200]],\n",
            "\n",
            "        [[ 0.3634, -0.0148],\n",
            "         [-0.7756, -0.5575],\n",
            "         [-0.1396,  1.5684]],\n",
            "\n",
            "        [[ 1.7328,  0.4151],\n",
            "         [ 0.2174,  0.1846],\n",
            "         [ 1.2745,  0.8223]],\n",
            "\n",
            "        [[ 0.0538,  0.5442],\n",
            "         [-0.1584,  0.1559],\n",
            "         [-0.1577,  0.2188]],\n",
            "\n",
            "        [[-0.7267,  0.1816],\n",
            "         [ 1.6503, -1.2718],\n",
            "         [ 1.2963,  0.7498]]])\n",
            "tensor([[[ 1.1924],\n",
            "         [-0.3203],\n",
            "         [-1.3750]]])\n"
          ]
        },
        {
          "output_type": "error",
          "ename": "RuntimeError",
          "evalue": "Sizes of tensors must match except in dimension 0. Expected size 1 but got size 2 for tensor number 1 in the list.",
          "traceback": [
            "\u001b[0;31m---------------------------------------------------------------------------\u001b[0m",
            "\u001b[0;31mRuntimeError\u001b[0m                              Traceback (most recent call last)",
            "\u001b[0;32m<ipython-input-53-c9dcd12f9980>\u001b[0m in \u001b[0;36m<cell line: 8>\u001b[0;34m()\u001b[0m\n\u001b[1;32m      6\u001b[0m     \u001b[0mprint\u001b[0m\u001b[0;34m(\u001b[0m\u001b[0mtensor\u001b[0m\u001b[0;34m)\u001b[0m\u001b[0;34m\u001b[0m\u001b[0;34m\u001b[0m\u001b[0m\n\u001b[1;32m      7\u001b[0m \u001b[0;34m\u001b[0m\u001b[0m\n\u001b[0;32m----> 8\u001b[0;31m \u001b[0mtorch\u001b[0m\u001b[0;34m.\u001b[0m\u001b[0mcat\u001b[0m\u001b[0;34m(\u001b[0m\u001b[0;34m(\u001b[0m\u001b[0mx\u001b[0m\u001b[0;34m,\u001b[0m \u001b[0my\u001b[0m\u001b[0;34m,\u001b[0m \u001b[0mz\u001b[0m\u001b[0;34m)\u001b[0m\u001b[0;34m,\u001b[0m \u001b[0mdim\u001b[0m\u001b[0;34m=\u001b[0m\u001b[0;36m0\u001b[0m\u001b[0;34m)\u001b[0m\u001b[0;34m\u001b[0m\u001b[0;34m\u001b[0m\u001b[0m\n\u001b[0m",
            "\u001b[0;31mRuntimeError\u001b[0m: Sizes of tensors must match except in dimension 0. Expected size 1 but got size 2 for tensor number 1 in the list."
          ]
        }
      ],
      "source": [
        "x = torch.randn(3, 3, 1)\n",
        "y = torch.randn(5, 3, 2) #размерность y не совпадает\n",
        "z = torch.randn(1, 3, 1)\n",
        "\n",
        "for tensor in [x, y, z]:\n",
        "    print(tensor)\n",
        "\n",
        "torch.cat((x, y, z), dim=0)"
      ]
    },
    {
      "cell_type": "code",
      "execution_count": null,
      "metadata": {
        "colab": {
          "base_uri": "https://localhost:8080/"
        },
        "id": "k04jRnmPohxS",
        "outputId": "a431ea9f-0822-4628-ee78-a5a44483f82f"
      },
      "outputs": [
        {
          "output_type": "stream",
          "name": "stdout",
          "text": [
            "tensor([[ 0.4775,  0.7585, -1.3290],\n",
            "        [-0.4803, -0.9404,  0.8828]])\n",
            "tensor([[-1.1294, -0.1203, -0.2312,  1.0308,  1.5457],\n",
            "        [ 0.0845,  0.4249, -0.4672,  0.7690,  0.3569]])\n",
            "tensor([[-1.3635],\n",
            "        [-0.9679]])\n"
          ]
        },
        {
          "output_type": "execute_result",
          "data": {
            "text/plain": [
              "tensor([[ 0.4775,  0.7585, -1.3290, -1.1294, -0.1203, -0.2312,  1.0308,  1.5457,\n",
              "         -1.3635],\n",
              "        [-0.4803, -0.9404,  0.8828,  0.0845,  0.4249, -0.4672,  0.7690,  0.3569,\n",
              "         -0.9679]])"
            ]
          },
          "metadata": {},
          "execution_count": 54
        }
      ],
      "source": [
        "x = torch.randn(2, 3)\n",
        "y = torch.randn(2, 5)\n",
        "z = torch.randn(2, 1)\n",
        "\n",
        "for tensor in [x, y, z]:\n",
        "    print(tensor)\n",
        "\n",
        "torch.cat((x, y, z), dim=1)"
      ]
    },
    {
      "cell_type": "markdown",
      "metadata": {
        "id": "bw3jWTnzohxS"
      },
      "source": [
        "Теперь добавим дополнительную ось:\n",
        "\n",
        "[torch.unsqueeze](https://pytorch.org/docs/stable/generated/torch.unsqueeze.html)"
      ]
    },
    {
      "cell_type": "code",
      "execution_count": null,
      "metadata": {
        "id": "lpLCd-Ve8Z79",
        "outputId": "ca857aa4-a9bd-4389-f9e9-b2f0c6778798",
        "colab": {
          "base_uri": "https://localhost:8080/"
        }
      },
      "outputs": [
        {
          "output_type": "execute_result",
          "data": {
            "text/plain": [
              "torch.Size([1, 3])"
            ]
          },
          "metadata": {},
          "execution_count": 57
        }
      ],
      "source": [
        "x = torch.tensor([1, 2, 3])\n",
        "x.unsqueeze(0).shape"
      ]
    },
    {
      "cell_type": "code",
      "execution_count": null,
      "metadata": {
        "colab": {
          "base_uri": "https://localhost:8080/"
        },
        "id": "FQUcIrJRohxT",
        "outputId": "14dc4871-a16e-4616-dc25-18f011348a02"
      },
      "outputs": [
        {
          "output_type": "stream",
          "name": "stdout",
          "text": [
            "tensor([[0.1164, 0.1850, 0.6001],\n",
            "        [0.7171, 0.3169, 0.2525]])\n",
            "\n",
            "tensor([[[0.1164, 0.1850, 0.6001],\n",
            "         [0.7171, 0.3169, 0.2525]]]) torch.Size([1, 2, 3])\n",
            "\n",
            "tensor([[[0.1164, 0.1850, 0.6001]],\n",
            "\n",
            "        [[0.7171, 0.3169, 0.2525]]]) torch.Size([2, 1, 3])\n",
            "\n",
            "tensor([[[0.1164],\n",
            "         [0.1850],\n",
            "         [0.6001]],\n",
            "\n",
            "        [[0.7171],\n",
            "         [0.3169],\n",
            "         [0.2525]]]) torch.Size([2, 3, 1])\n"
          ]
        }
      ],
      "source": [
        "x = torch.rand(2, 3)\n",
        "\n",
        "print(x)\n",
        "print()\n",
        "print(x.unsqueeze(0), x.unsqueeze(0).shape)\n",
        "print()\n",
        "print(x.unsqueeze(1), x.unsqueeze(1).shape)\n",
        "print()\n",
        "print(x.unsqueeze(2), x.unsqueeze(2).shape)"
      ]
    },
    {
      "cell_type": "markdown",
      "metadata": {
        "id": "cF8zIf1as6MI"
      },
      "source": [
        "Можно еще заменить unsqueeze на None в соответсвующей размерности"
      ]
    },
    {
      "cell_type": "code",
      "execution_count": null,
      "metadata": {
        "colab": {
          "base_uri": "https://localhost:8080/"
        },
        "id": "mk_Ef_Y9MbsK",
        "outputId": "2cafa2b3-9702-41b2-ea1c-e137531cde35"
      },
      "outputs": [
        {
          "output_type": "execute_result",
          "data": {
            "text/plain": [
              "(torch.Size([2, 3]), torch.Size([1, 2, 3]))"
            ]
          },
          "metadata": {},
          "execution_count": 59
        }
      ],
      "source": [
        "x.shape, x[None, :, :].shape"
      ]
    },
    {
      "cell_type": "markdown",
      "metadata": {
        "id": "pUEVimdaohxT"
      },
      "source": [
        "Уберем лишние оси (где размер единичка):"
      ]
    },
    {
      "cell_type": "code",
      "execution_count": null,
      "metadata": {
        "colab": {
          "base_uri": "https://localhost:8080/"
        },
        "id": "PEzEYBNzohxT",
        "outputId": "4ec26571-1b94-41d5-f4d6-66014b9b7b49"
      },
      "outputs": [
        {
          "output_type": "stream",
          "name": "stdout",
          "text": [
            "tensor([[[[0.2014, 0.8541, 0.4821]],\n",
            "\n",
            "         [[0.0186, 0.4189, 0.6669]]],\n",
            "\n",
            "\n",
            "        [[[0.8763, 0.2701, 0.1984]],\n",
            "\n",
            "         [[0.7823, 0.2069, 0.2191]]]])\n",
            "\n",
            "tensor([[[0.2014, 0.8541, 0.4821],\n",
            "         [0.0186, 0.4189, 0.6669]],\n",
            "\n",
            "        [[0.8763, 0.2701, 0.1984],\n",
            "         [0.7823, 0.2069, 0.2191]]]) torch.Size([2, 2, 3])\n",
            "\n",
            "tensor([[[[0.2014, 0.8541, 0.4821]],\n",
            "\n",
            "         [[0.0186, 0.4189, 0.6669]]],\n",
            "\n",
            "\n",
            "        [[[0.8763, 0.2701, 0.1984]],\n",
            "\n",
            "         [[0.7823, 0.2069, 0.2191]]]]) torch.Size([2, 2, 1, 3])\n"
          ]
        }
      ],
      "source": [
        "x = torch.rand(2, 2, 1, 3)\n",
        "\n",
        "print(x)\n",
        "print()\n",
        "print(x.squeeze(), x.squeeze().shape)\n",
        "print()\n",
        "print(x.squeeze(0), x.squeeze(0).shape)"
      ]
    },
    {
      "cell_type": "code",
      "source": [
        "x.view()"
      ],
      "metadata": {
        "colab": {
          "base_uri": "https://localhost:8080/"
        },
        "id": "mnYiclQwXRkc",
        "outputId": "1499d047-2635-4308-a6a4-4cba8f869beb"
      },
      "execution_count": null,
      "outputs": [
        {
          "output_type": "execute_result",
          "data": {
            "text/plain": [
              "torch.Size([2, 2, 1, 3])"
            ]
          },
          "metadata": {},
          "execution_count": 62
        }
      ]
    },
    {
      "cell_type": "markdown",
      "metadata": {
        "id": "k9xRXsg_ohxU"
      },
      "source": [
        "Теперь поговорим про типы данных в тензорах. По умолчанию в тензорах лежат числа в torch.float32 для вещественных и torch.int64 для целочисленных."
      ]
    },
    {
      "cell_type": "code",
      "execution_count": null,
      "metadata": {
        "colab": {
          "base_uri": "https://localhost:8080/"
        },
        "id": "oO7Jwj3EohxU",
        "outputId": "f9bbabd1-539c-47da-9625-42b1b985c51a"
      },
      "outputs": [
        {
          "output_type": "execute_result",
          "data": {
            "text/plain": [
              "tensor([1.5000, 2.2000, 3.7000, 4.9000])"
            ]
          },
          "metadata": {},
          "execution_count": 63
        }
      ],
      "source": [
        "tensor = torch.tensor([1.5, 2.2, 3.7, 4.9])\n",
        "\n",
        "tensor"
      ]
    },
    {
      "cell_type": "code",
      "execution_count": null,
      "metadata": {
        "colab": {
          "base_uri": "https://localhost:8080/"
        },
        "id": "s7u_xe56ohxU",
        "outputId": "327fd3d4-af36-4f25-905e-83876cbc615d"
      },
      "outputs": [
        {
          "output_type": "execute_result",
          "data": {
            "text/plain": [
              "torch.float32"
            ]
          },
          "metadata": {},
          "execution_count": 64
        }
      ],
      "source": [
        "tensor.dtype"
      ]
    },
    {
      "cell_type": "code",
      "execution_count": null,
      "metadata": {
        "colab": {
          "base_uri": "https://localhost:8080/"
        },
        "id": "8vUStLPnohxU",
        "outputId": "8cf26e2c-0f72-484c-bf6e-a7b86d42ba26"
      },
      "outputs": [
        {
          "output_type": "execute_result",
          "data": {
            "text/plain": [
              "tensor([1.5000, 2.1992, 3.6992,    inf], dtype=torch.float16)"
            ]
          },
          "metadata": {},
          "execution_count": 68
        }
      ],
      "source": [
        "tensor = torch.tensor([1.5, 2.2, 3.7, 2 ** 30], dtype=torch.float16)\n",
        "\n",
        "tensor"
      ]
    },
    {
      "cell_type": "code",
      "execution_count": null,
      "metadata": {
        "colab": {
          "base_uri": "https://localhost:8080/"
        },
        "id": "lGvfWZzQohxV",
        "outputId": "d68ef9fd-71ac-411e-debb-7a05f2f48904"
      },
      "outputs": [
        {
          "output_type": "execute_result",
          "data": {
            "text/plain": [
              "tensor([1.5000, 2.2000, 3.7000, 4.9000], dtype=torch.float64)"
            ]
          },
          "metadata": {},
          "execution_count": 69
        }
      ],
      "source": [
        "tensor = torch.tensor([1.5, 2.2, 3.7, 4.9], dtype=torch.float64)\n",
        "\n",
        "tensor"
      ]
    },
    {
      "cell_type": "code",
      "execution_count": null,
      "metadata": {
        "colab": {
          "base_uri": "https://localhost:8080/"
        },
        "id": "sWUc5SaOohxW",
        "outputId": "3020eebd-fc82-4c2f-be2f-5664a322fff1"
      },
      "outputs": [
        {
          "output_type": "execute_result",
          "data": {
            "text/plain": [
              "tensor([15, 22, 37, 49])"
            ]
          },
          "metadata": {},
          "execution_count": 70
        }
      ],
      "source": [
        "tensor = torch.tensor([15, 22, 37, 49])\n",
        "\n",
        "tensor"
      ]
    },
    {
      "cell_type": "code",
      "execution_count": null,
      "metadata": {
        "id": "3u9mRc4rohxW",
        "outputId": "ef8b4d38-3a08-4188-800e-2d66fb94508b",
        "colab": {
          "base_uri": "https://localhost:8080/"
        }
      },
      "outputs": [
        {
          "output_type": "execute_result",
          "data": {
            "text/plain": [
              "torch.int64"
            ]
          },
          "metadata": {},
          "execution_count": 71
        }
      ],
      "source": [
        "tensor.dtype"
      ]
    },
    {
      "cell_type": "code",
      "execution_count": null,
      "metadata": {
        "colab": {
          "base_uri": "https://localhost:8080/"
        },
        "id": "pJ6vVGOUohxX",
        "outputId": "d169bbf7-dfca-4b07-b528-76f495307fbb"
      },
      "outputs": [
        {
          "output_type": "execute_result",
          "data": {
            "text/plain": [
              "tensor([15, 22, 37, 49], dtype=torch.int32)"
            ]
          },
          "metadata": {},
          "execution_count": 72
        }
      ],
      "source": [
        "tensor = torch.tensor([15, 22, 37, 49], dtype=torch.int32)\n",
        "\n",
        "tensor"
      ]
    },
    {
      "cell_type": "code",
      "execution_count": null,
      "metadata": {
        "colab": {
          "base_uri": "https://localhost:8080/"
        },
        "id": "2zPF4AW3ohxX",
        "outputId": "fba4542a-1a8e-4b87-91eb-f5700955b9ba"
      },
      "outputs": [
        {
          "output_type": "execute_result",
          "data": {
            "text/plain": [
              "tensor([15, 22, 37, 49], dtype=torch.int16)"
            ]
          },
          "metadata": {},
          "execution_count": 73
        }
      ],
      "source": [
        "tensor = torch.tensor([15, 22, 37, 49], dtype=torch.int16)\n",
        "\n",
        "tensor"
      ]
    },
    {
      "cell_type": "code",
      "execution_count": null,
      "metadata": {
        "colab": {
          "base_uri": "https://localhost:8080/"
        },
        "id": "q0B09J_uM6jq",
        "outputId": "6fff7aaf-8825-4a33-9cf6-3420eaeae7bf"
      },
      "outputs": [
        {
          "output_type": "execute_result",
          "data": {
            "text/plain": [
              "torch.float32"
            ]
          },
          "metadata": {},
          "execution_count": 74
        }
      ],
      "source": [
        "torch.rand((1, 3, 4), dtype=torch.float32).dtype"
      ]
    },
    {
      "cell_type": "markdown",
      "metadata": {
        "id": "Usj7QgA0ohxY"
      },
      "source": [
        "Размещение тензора на GPU:"
      ]
    },
    {
      "cell_type": "code",
      "execution_count": null,
      "metadata": {
        "id": "cn3kZQH5NSMh"
      },
      "outputs": [],
      "source": [
        "import torch"
      ]
    },
    {
      "cell_type": "code",
      "execution_count": null,
      "metadata": {
        "colab": {
          "base_uri": "https://localhost:8080/"
        },
        "id": "dVfoTLijohxY",
        "outputId": "c00ded07-b1b7-4705-e454-2fa8a9fdc6d2"
      },
      "outputs": [
        {
          "output_type": "stream",
          "name": "stdout",
          "text": [
            "True\n",
            "Tesla T4\n"
          ]
        }
      ],
      "source": [
        "print(torch.cuda.is_available())\n",
        "print(torch.cuda.get_device_name())"
      ]
    },
    {
      "cell_type": "code",
      "execution_count": null,
      "metadata": {
        "colab": {
          "base_uri": "https://localhost:8080/"
        },
        "id": "TzPPqSAeohxY",
        "outputId": "02959986-1c4a-4e82-c454-37d23339b1e0"
      },
      "outputs": [
        {
          "output_type": "stream",
          "name": "stdout",
          "text": [
            "Tue Oct  8 13:45:08 2024       \n",
            "+---------------------------------------------------------------------------------------+\n",
            "| NVIDIA-SMI 535.104.05             Driver Version: 535.104.05   CUDA Version: 12.2     |\n",
            "|-----------------------------------------+----------------------+----------------------+\n",
            "| GPU  Name                 Persistence-M | Bus-Id        Disp.A | Volatile Uncorr. ECC |\n",
            "| Fan  Temp   Perf          Pwr:Usage/Cap |         Memory-Usage | GPU-Util  Compute M. |\n",
            "|                                         |                      |               MIG M. |\n",
            "|=========================================+======================+======================|\n",
            "|   0  Tesla T4                       Off | 00000000:00:04.0 Off |                    0 |\n",
            "| N/A   48C    P0              26W /  70W |    105MiB / 15360MiB |      0%      Default |\n",
            "|                                         |                      |                  N/A |\n",
            "+-----------------------------------------+----------------------+----------------------+\n",
            "                                                                                         \n",
            "+---------------------------------------------------------------------------------------+\n",
            "| Processes:                                                                            |\n",
            "|  GPU   GI   CI        PID   Type   Process name                            GPU Memory |\n",
            "|        ID   ID                                                             Usage      |\n",
            "|=======================================================================================|\n",
            "+---------------------------------------------------------------------------------------+\n"
          ]
        }
      ],
      "source": [
        "! nvidia-smi"
      ]
    },
    {
      "cell_type": "code",
      "execution_count": null,
      "metadata": {
        "colab": {
          "base_uri": "https://localhost:8080/"
        },
        "id": "ayHEr9e6ohxZ",
        "outputId": "6acfaf8d-d4a6-4766-f366-f997548bc700",
        "pycharm": {
          "name": "#%%\n"
        }
      },
      "outputs": [
        {
          "output_type": "stream",
          "name": "stdout",
          "text": [
            "cuda:0\n"
          ]
        }
      ],
      "source": [
        "device = torch.device('cuda:0' if torch.cuda.is_available() else 'cpu')\n",
        "\n",
        "print(device)"
      ]
    },
    {
      "cell_type": "code",
      "execution_count": null,
      "metadata": {
        "colab": {
          "base_uri": "https://localhost:8080/"
        },
        "id": "fnPoyHFvohxZ",
        "outputId": "06189119-e0ca-4c60-afe0-78cbe4e0ff1a"
      },
      "outputs": [
        {
          "output_type": "execute_result",
          "data": {
            "text/plain": [
              "tensor([15, 22, 37, 49], device='cuda:0')"
            ]
          },
          "metadata": {},
          "execution_count": 79
        }
      ],
      "source": [
        "tensor = torch.tensor([15, 22, 37, 49], device=device)\n",
        "\n",
        "tensor.to(device)"
      ]
    },
    {
      "cell_type": "code",
      "execution_count": null,
      "metadata": {
        "colab": {
          "base_uri": "https://localhost:8080/"
        },
        "id": "_-NOgA0HohxZ",
        "outputId": "d83038a4-c921-4a52-9adc-a289cbf16989"
      },
      "outputs": [
        {
          "output_type": "stream",
          "name": "stdout",
          "text": [
            "tensor([15, 22, 37, 49])\n"
          ]
        },
        {
          "output_type": "execute_result",
          "data": {
            "text/plain": [
              "tensor([15, 22, 37, 49], device='cuda:0')"
            ]
          },
          "metadata": {},
          "execution_count": 82
        }
      ],
      "source": [
        "tensor = torch.tensor([15, 22, 37, 49])\n",
        "\n",
        "print(tensor)\n",
        "\n",
        "tensor = tensor.to(device)\n",
        "\n",
        "tensor"
      ]
    },
    {
      "cell_type": "code",
      "execution_count": null,
      "metadata": {
        "colab": {
          "base_uri": "https://localhost:8080/"
        },
        "id": "RCcoOdryohxZ",
        "outputId": "51ff2c04-f740-4b43-985d-2efd4343090b"
      },
      "outputs": [
        {
          "output_type": "execute_result",
          "data": {
            "text/plain": [
              "tensor([15, 22, 37, 49], device='cuda:0', dtype=torch.int32)"
            ]
          },
          "metadata": {},
          "execution_count": 83
        }
      ],
      "source": [
        "tensor.to(torch.int32)"
      ]
    },
    {
      "cell_type": "code",
      "execution_count": null,
      "metadata": {
        "colab": {
          "base_uri": "https://localhost:8080/"
        },
        "id": "yfIXZurKohxa",
        "outputId": "d65f18da-1589-4851-e83b-56df0a0126be"
      },
      "outputs": [
        {
          "output_type": "execute_result",
          "data": {
            "text/plain": [
              "tensor([15, 22, 37, 49])"
            ]
          },
          "metadata": {},
          "execution_count": 84
        }
      ],
      "source": [
        "tensor = tensor.cpu()\n",
        "\n",
        "tensor"
      ]
    },
    {
      "cell_type": "code",
      "execution_count": null,
      "metadata": {
        "colab": {
          "base_uri": "https://localhost:8080/"
        },
        "id": "DEeVDVKDohxa",
        "outputId": "8d77294c-8005-495a-cedc-8c5a191a2af9"
      },
      "outputs": [
        {
          "output_type": "execute_result",
          "data": {
            "text/plain": [
              "tensor([[1.5131, 0.7786, 1.2673],\n",
              "        [1.0198, 0.3296, 1.6262]])"
            ]
          },
          "metadata": {},
          "execution_count": 85
        }
      ],
      "source": [
        "a = torch.rand(2, 3)\n",
        "b = torch.rand(2, 3)\n",
        "\n",
        "a + b"
      ]
    },
    {
      "cell_type": "code",
      "execution_count": null,
      "metadata": {
        "colab": {
          "base_uri": "https://localhost:8080/",
          "height": 180
        },
        "id": "kfjK5Vwhohxa",
        "outputId": "b5737c7a-2657-4c0e-f433-c6e5e030505a"
      },
      "outputs": [
        {
          "output_type": "error",
          "ename": "RuntimeError",
          "evalue": "Expected all tensors to be on the same device, but found at least two devices, cuda:0 and cpu!",
          "traceback": [
            "\u001b[0;31m---------------------------------------------------------------------------\u001b[0m",
            "\u001b[0;31mRuntimeError\u001b[0m                              Traceback (most recent call last)",
            "\u001b[0;32m<ipython-input-86-3fa95f38bcf3>\u001b[0m in \u001b[0;36m<cell line: 3>\u001b[0;34m()\u001b[0m\n\u001b[1;32m      1\u001b[0m \u001b[0ma\u001b[0m \u001b[0;34m=\u001b[0m \u001b[0ma\u001b[0m\u001b[0;34m.\u001b[0m\u001b[0mto\u001b[0m\u001b[0;34m(\u001b[0m\u001b[0mdevice\u001b[0m\u001b[0;34m)\u001b[0m\u001b[0;34m\u001b[0m\u001b[0;34m\u001b[0m\u001b[0m\n\u001b[1;32m      2\u001b[0m \u001b[0;34m\u001b[0m\u001b[0m\n\u001b[0;32m----> 3\u001b[0;31m \u001b[0ma\u001b[0m \u001b[0;34m+\u001b[0m \u001b[0mb\u001b[0m\u001b[0;34m\u001b[0m\u001b[0;34m\u001b[0m\u001b[0m\n\u001b[0m",
            "\u001b[0;31mRuntimeError\u001b[0m: Expected all tensors to be on the same device, but found at least two devices, cuda:0 and cpu!"
          ]
        }
      ],
      "source": [
        "a = a.to(device)\n",
        "\n",
        "a + b"
      ]
    },
    {
      "cell_type": "code",
      "execution_count": null,
      "metadata": {
        "colab": {
          "base_uri": "https://localhost:8080/"
        },
        "id": "7a159Kxvohxb",
        "outputId": "cd362231-e4e1-4bd7-c528-3a0bd39a7805"
      },
      "outputs": [
        {
          "output_type": "execute_result",
          "data": {
            "text/plain": [
              "tensor([[1.5131, 0.7786, 1.2673],\n",
              "        [1.0198, 0.3296, 1.6262]], device='cuda:0')"
            ]
          },
          "metadata": {},
          "execution_count": 87
        }
      ],
      "source": [
        "b = b.to(device)\n",
        "\n",
        "a + b"
      ]
    },
    {
      "cell_type": "markdown",
      "metadata": {
        "id": "e9cFx_MDohxb"
      },
      "source": [
        "### Операции с тензорами\n",
        "\n",
        "Большая часть операций с тензорами хорошо описана в их [документации](https://pytorch.org/docs/stable/torch.html), разберем основные:"
      ]
    },
    {
      "cell_type": "code",
      "execution_count": null,
      "metadata": {
        "id": "5tsIHOb9ohxb",
        "outputId": "6db8e298-e535-4646-f84c-fbcbc0e3fe33",
        "colab": {
          "base_uri": "https://localhost:8080/"
        }
      },
      "outputs": [
        {
          "output_type": "execute_result",
          "data": {
            "text/plain": [
              "(tensor([[0.2847, 0.7899, 0.0196],\n",
              "         [0.8294, 0.0805, 0.3440]]),\n",
              " tensor([[0.4600, 0.3070, 0.9576],\n",
              "         [0.5525, 0.8378, 0.2910]]))"
            ]
          },
          "metadata": {},
          "execution_count": 96
        }
      ],
      "source": [
        "a = torch.rand(2, 3)\n",
        "b = torch.rand(2, 3)\n",
        "\n",
        "a, b"
      ]
    },
    {
      "cell_type": "code",
      "execution_count": null,
      "metadata": {
        "id": "dcFpl3Giohxb",
        "outputId": "09eed92e-3400-438e-d955-4da462b044ac",
        "colab": {
          "base_uri": "https://localhost:8080/"
        }
      },
      "outputs": [
        {
          "output_type": "stream",
          "name": "stdout",
          "text": [
            "tensor([[0.7447, 1.0969, 0.9772],\n",
            "        [1.3819, 0.9183, 0.6350]])\n",
            "\n",
            "tensor([[0.7447, 1.0969, 0.9772],\n",
            "        [1.3819, 0.9183, 0.6350]])\n",
            "\n",
            "tensor([[0.7447, 1.0969, 0.9772],\n",
            "        [1.3819, 0.9183, 0.6350]])\n"
          ]
        }
      ],
      "source": [
        "# поэлементные\n",
        "\n",
        "print(a + b)\n",
        "\n",
        "print()\n",
        "\n",
        "print(torch.add(a, b))\n",
        "\n",
        "print()\n",
        "\n",
        "print(a.add(b))"
      ]
    },
    {
      "cell_type": "code",
      "execution_count": null,
      "metadata": {
        "id": "RJ7HWjNrohxc",
        "outputId": "37479a95-fa88-452b-cd53-5b834fb478cb",
        "colab": {
          "base_uri": "https://localhost:8080/"
        }
      },
      "outputs": [
        {
          "output_type": "stream",
          "name": "stdout",
          "text": [
            "tensor([[-0.1753,  0.4829, -0.9380],\n",
            "        [ 0.2769, -0.7573,  0.0529]])\n",
            "\n",
            "tensor([[-0.1753,  0.4829, -0.9380],\n",
            "        [ 0.2769, -0.7573,  0.0529]])\n",
            "\n",
            "tensor([[-0.1753,  0.4829, -0.9380],\n",
            "        [ 0.2769, -0.7573,  0.0529]])\n"
          ]
        }
      ],
      "source": [
        "print(a - b)\n",
        "\n",
        "print()\n",
        "\n",
        "print(torch.sub(a, b))\n",
        "\n",
        "print()\n",
        "\n",
        "print(a.sub(b))"
      ]
    },
    {
      "cell_type": "code",
      "execution_count": null,
      "metadata": {
        "id": "6XsWzx8fohxc",
        "outputId": "c81fa3b6-9fd4-411d-aa5f-2ca46fb80a5f",
        "colab": {
          "base_uri": "https://localhost:8080/"
        }
      },
      "outputs": [
        {
          "output_type": "stream",
          "name": "stdout",
          "text": [
            "tensor([[0.1309, 0.2425, 0.0188],\n",
            "        [0.4582, 0.0675, 0.1001]])\n",
            "\n",
            "tensor([[0.1309, 0.2425, 0.0188],\n",
            "        [0.4582, 0.0675, 0.1001]])\n",
            "\n",
            "tensor([[0.1309, 0.2425, 0.0188],\n",
            "        [0.4582, 0.0675, 0.1001]])\n"
          ]
        }
      ],
      "source": [
        "print(a * b)\n",
        "\n",
        "print()\n",
        "\n",
        "print(torch.mul(a, b))\n",
        "\n",
        "print()\n",
        "\n",
        "print(a.mul(b))"
      ]
    },
    {
      "cell_type": "code",
      "execution_count": null,
      "metadata": {
        "id": "xfDq6c6Bohxc",
        "outputId": "602b9684-48ee-4b87-e819-949d893d5413",
        "colab": {
          "base_uri": "https://localhost:8080/"
        }
      },
      "outputs": [
        {
          "output_type": "stream",
          "name": "stdout",
          "text": [
            "tensor([[0.6189, 2.5728, 0.0205],\n",
            "        [1.5012, 0.0961, 1.1819]])\n",
            "\n",
            "tensor([[0.6189, 2.5728, 0.0205],\n",
            "        [1.5012, 0.0961, 1.1819]])\n",
            "\n",
            "tensor([[0.6189, 2.5728, 0.0205],\n",
            "        [1.5012, 0.0961, 1.1819]])\n"
          ]
        }
      ],
      "source": [
        "print(a / b)\n",
        "\n",
        "print()\n",
        "\n",
        "print(torch.div(a, b))\n",
        "\n",
        "print()\n",
        "\n",
        "print(a.div(b))"
      ]
    },
    {
      "cell_type": "code",
      "source": [
        "a / 0"
      ],
      "metadata": {
        "colab": {
          "base_uri": "https://localhost:8080/"
        },
        "id": "zxQGSVlaZ1U4",
        "outputId": "1dd14880-d54b-4881-8fc2-cf238ac5648b"
      },
      "execution_count": null,
      "outputs": [
        {
          "output_type": "execute_result",
          "data": {
            "text/plain": [
              "tensor([[inf, inf, inf],\n",
              "        [inf, inf, inf]])"
            ]
          },
          "metadata": {},
          "execution_count": 101
        }
      ]
    },
    {
      "cell_type": "code",
      "execution_count": null,
      "metadata": {
        "colab": {
          "base_uri": "https://localhost:8080/"
        },
        "id": "jXtLICxUohxc",
        "outputId": "15435844-dcd2-4144-e4de-d0d46517dbcd"
      },
      "outputs": [
        {
          "output_type": "execute_result",
          "data": {
            "text/plain": [
              "(tensor([[[0.6179, 0.7622, 0.8149],\n",
              "          [0.7094, 0.8799, 0.6189]],\n",
              " \n",
              "         [[0.8283, 0.8047, 0.1035],\n",
              "          [0.0099, 0.4094, 0.1245]],\n",
              " \n",
              "         [[0.2005, 0.1334, 0.0677],\n",
              "          [0.3937, 0.8265, 0.2290]],\n",
              " \n",
              "         [[0.4889, 0.0521, 0.3519],\n",
              "          [0.5329, 0.2438, 0.4509]],\n",
              " \n",
              "         [[0.2606, 0.7353, 0.7452],\n",
              "          [0.2114, 0.0468, 0.8463]],\n",
              " \n",
              "         [[0.8451, 0.9157, 0.2518],\n",
              "          [0.2374, 0.6756, 0.0462]],\n",
              " \n",
              "         [[0.8283, 0.4573, 0.5991],\n",
              "          [0.5383, 0.9106, 0.1228]],\n",
              " \n",
              "         [[0.1442, 0.7702, 0.7096],\n",
              "          [0.0809, 0.1171, 0.6977]],\n",
              " \n",
              "         [[0.3968, 0.5827, 0.5478],\n",
              "          [0.4122, 0.7551, 0.6995]],\n",
              " \n",
              "         [[0.2215, 0.6534, 0.6576],\n",
              "          [0.2430, 0.3992, 0.5246]]]),\n",
              " tensor([[[0.8490, 0.6493, 0.3678, 0.8335],\n",
              "          [0.5102, 0.6287, 0.5155, 0.3954],\n",
              "          [0.2445, 0.9917, 0.0572, 0.2490]],\n",
              " \n",
              "         [[0.1313, 0.7791, 0.8510, 0.8913],\n",
              "          [0.9946, 0.6248, 0.4649, 0.9423],\n",
              "          [0.0977, 0.9681, 0.3906, 0.8133]],\n",
              " \n",
              "         [[0.0693, 0.5944, 0.4882, 0.9944],\n",
              "          [0.6028, 0.6267, 0.5119, 0.6172],\n",
              "          [0.6899, 0.3238, 0.7369, 0.1477]],\n",
              " \n",
              "         [[0.4942, 0.8520, 0.3395, 0.3898],\n",
              "          [0.5544, 0.3263, 0.5357, 0.6007],\n",
              "          [0.1320, 0.3318, 0.8880, 0.1203]],\n",
              " \n",
              "         [[0.7071, 0.7623, 0.3620, 0.4898],\n",
              "          [0.3408, 0.1507, 0.2601, 0.8802],\n",
              "          [0.7908, 0.7323, 0.7857, 0.5091]],\n",
              " \n",
              "         [[0.2596, 0.7705, 0.0876, 0.8781],\n",
              "          [0.1803, 0.9737, 0.3775, 0.5728],\n",
              "          [0.7211, 0.3129, 0.0899, 0.0588]],\n",
              " \n",
              "         [[0.2932, 0.5527, 0.0863, 0.7040],\n",
              "          [0.8397, 0.2364, 0.2444, 0.0473],\n",
              "          [0.9566, 0.2576, 0.4721, 0.6091]],\n",
              " \n",
              "         [[0.2478, 0.5585, 0.9065, 0.1760],\n",
              "          [0.9538, 0.2888, 0.0084, 0.3506],\n",
              "          [0.3417, 0.9413, 0.4292, 0.4789]],\n",
              " \n",
              "         [[0.4917, 0.6980, 0.1848, 0.9809],\n",
              "          [0.7409, 0.7331, 0.9000, 0.7509],\n",
              "          [0.8315, 0.0298, 0.2472, 0.1124]],\n",
              " \n",
              "         [[0.4255, 0.0210, 0.4541, 0.7031],\n",
              "          [0.7393, 0.0258, 0.3822, 0.8139],\n",
              "          [0.2507, 0.3321, 0.1611, 0.7122]]]),\n",
              " tensor([[0.6484, 0.9135, 0.8233, 0.9909, 0.8407],\n",
              "         [0.3740, 0.2843, 0.7677, 0.9899, 0.2408],\n",
              "         [0.2693, 0.3025, 0.6367, 0.3801, 0.4897],\n",
              "         [0.7251, 0.9835, 0.1507, 0.7041, 0.1522],\n",
              "         [0.9782, 0.9625, 0.5531, 0.1572, 0.0146]]))"
            ]
          },
          "metadata": {},
          "execution_count": 107
        }
      ],
      "source": [
        "a = torch.rand(10, 2, 3)\n",
        "b = torch.rand(10, 3, 4)\n",
        "c = torch.rand(5, 5)\n",
        "\n",
        "a, b, c"
      ]
    },
    {
      "cell_type": "code",
      "execution_count": null,
      "metadata": {
        "colab": {
          "base_uri": "https://localhost:8080/"
        },
        "id": "MEwlD31Xohxd",
        "outputId": "cb5b0460-3c20-499e-bf2f-7888bd86de4d",
        "scrolled": true
      },
      "outputs": [
        {
          "output_type": "stream",
          "name": "stdout",
          "text": [
            "tensor([[[1.1127, 1.6885, 0.6667, 1.0193],\n",
            "         [1.2026, 1.6276, 0.7499, 1.0933]],\n",
            "\n",
            "        [[0.9193, 1.2484, 1.1195, 1.5808],\n",
            "         [0.4207, 0.3841, 0.2474, 0.4960]],\n",
            "\n",
            "        [[0.1410, 0.2247, 0.2160, 0.2917],\n",
            "         [0.6835, 0.8262, 0.7841, 0.9355]],\n",
            "\n",
            "        [[0.3169, 0.5503, 0.5064, 0.2642],\n",
            "         [0.4580, 0.6832, 0.7119, 0.4084]],\n",
            "\n",
            "        [[1.0242, 0.8552, 0.8711, 1.1542],\n",
            "         [0.8347, 0.7880, 0.7537, 0.5756]],\n",
            "\n",
            "        [[0.5661, 1.6216, 0.4424, 1.2814],\n",
            "         [0.2167, 0.8551, 0.2800, 0.5981]],\n",
            "\n",
            "        [[1.1999, 0.7202, 0.4661, 0.9698],\n",
            "         [1.0399, 0.5444, 0.3270, 0.4969]],\n",
            "\n",
            "        [[1.0128, 0.9708, 0.4417, 0.6352],\n",
            "         [0.3701, 0.7357, 0.3737, 0.3894]],\n",
            "\n",
            "        [[1.0823, 0.7205, 0.7332, 0.8884],\n",
            "         [1.3437, 0.8621, 0.9287, 1.0500]],\n",
            "\n",
            "        [[0.7422, 0.2399, 0.4563, 1.1559],\n",
            "         [0.5301, 0.1896, 0.3475, 0.8694]]]) torch.Size([10, 2, 4])\n",
            "\n",
            "tensor([[[1.1127, 1.6885, 0.6667, 1.0193],\n",
            "         [1.2026, 1.6276, 0.7499, 1.0933]],\n",
            "\n",
            "        [[0.9193, 1.2484, 1.1195, 1.5808],\n",
            "         [0.4207, 0.3841, 0.2474, 0.4960]],\n",
            "\n",
            "        [[0.1410, 0.2247, 0.2160, 0.2917],\n",
            "         [0.6835, 0.8262, 0.7841, 0.9355]],\n",
            "\n",
            "        [[0.3169, 0.5503, 0.5064, 0.2642],\n",
            "         [0.4580, 0.6832, 0.7119, 0.4084]],\n",
            "\n",
            "        [[1.0242, 0.8552, 0.8711, 1.1542],\n",
            "         [0.8347, 0.7880, 0.7537, 0.5756]],\n",
            "\n",
            "        [[0.5661, 1.6216, 0.4424, 1.2814],\n",
            "         [0.2167, 0.8551, 0.2800, 0.5981]],\n",
            "\n",
            "        [[1.1999, 0.7202, 0.4661, 0.9698],\n",
            "         [1.0399, 0.5444, 0.3270, 0.4969]],\n",
            "\n",
            "        [[1.0128, 0.9708, 0.4417, 0.6352],\n",
            "         [0.3701, 0.7357, 0.3737, 0.3894]],\n",
            "\n",
            "        [[1.0823, 0.7205, 0.7332, 0.8884],\n",
            "         [1.3437, 0.8621, 0.9287, 1.0500]],\n",
            "\n",
            "        [[0.7422, 0.2399, 0.4563, 1.1559],\n",
            "         [0.5301, 0.1896, 0.3475, 0.8694]]]) torch.Size([10, 2, 4])\n",
            "\n",
            "tensor(2.2881)\n",
            "\n",
            "tensor([[1.9125, 2.4931, 2.2779, 2.6937, 2.3181],\n",
            "        [1.4536, 1.3288, 2.1548, 2.6911, 1.2723],\n",
            "        [1.3090, 1.3532, 1.8903, 1.4625, 1.6318],\n",
            "        [2.0649, 2.6739, 1.1626, 2.0220, 1.1644],\n",
            "        [2.6596, 2.6183, 1.7386, 1.1702, 1.0147]])\n"
          ]
        }
      ],
      "source": [
        "# матричные операции\n",
        "\n",
        "print(a @ b, (a @ b).shape)\n",
        "\n",
        "print()\n",
        "\n",
        "print(torch.matmul(a, b), torch.matmul(a, b).shape)\n",
        "\n",
        "print()\n",
        "\n",
        "print(c.trace())\n",
        "\n",
        "print()\n",
        "\n",
        "print(c.exp())"
      ]
    },
    {
      "cell_type": "markdown",
      "metadata": {
        "id": "IXk1iU_hohxd",
        "pycharm": {
          "name": "#%% md\n"
        }
      },
      "source": [
        "### [Автоматическое дифференцирование](https://pytorch.org/docs/stable/notes/autograd.html)"
      ]
    },
    {
      "cell_type": "code",
      "execution_count": null,
      "metadata": {
        "colab": {
          "base_uri": "https://localhost:8080/"
        },
        "id": "vas-hAJEohxd",
        "outputId": "426195a8-cce2-43b6-c216-4b17d594c052"
      },
      "outputs": [
        {
          "output_type": "execute_result",
          "data": {
            "text/plain": [
              "tensor([0.9816, 0.0246, 0.5815, 0.9859, 0.2236])"
            ]
          },
          "metadata": {},
          "execution_count": 110
        }
      ],
      "source": [
        "x = torch.rand(5)\n",
        "\n",
        "x"
      ]
    },
    {
      "cell_type": "code",
      "execution_count": null,
      "metadata": {
        "colab": {
          "base_uri": "https://localhost:8080/"
        },
        "id": "B1it7raNohxd",
        "outputId": "5143bf58-4067-418d-e6d1-5ee5cf75d432"
      },
      "outputs": [
        {
          "output_type": "execute_result",
          "data": {
            "text/plain": [
              "tensor([[0.0238, 0.2088, 0.8197, 0.2214, 0.6280],\n",
              "        [0.6473, 0.5695, 0.0601, 0.4391, 0.5918],\n",
              "        [0.0456, 0.4512, 0.3637, 0.5994, 0.3138]], requires_grad=True)"
            ]
          },
          "metadata": {},
          "execution_count": 120
        }
      ],
      "source": [
        "w = torch.rand(3, 5, requires_grad=True)\n",
        "\n",
        "w"
      ]
    },
    {
      "cell_type": "code",
      "execution_count": null,
      "metadata": {
        "id": "5Q1mBtBjohxe",
        "outputId": "86b2aa62-95e6-4ca8-e740-27c9873ba82d",
        "colab": {
          "base_uri": "https://localhost:8080/"
        }
      },
      "outputs": [
        {
          "output_type": "stream",
          "name": "stdout",
          "text": [
            "None\n"
          ]
        }
      ],
      "source": [
        "print(w.grad)"
      ]
    },
    {
      "cell_type": "code",
      "execution_count": null,
      "metadata": {
        "id": "WdVvpTNQ8Z8E"
      },
      "outputs": [],
      "source": [
        "z = w + 1"
      ]
    },
    {
      "cell_type": "code",
      "source": [
        "z"
      ],
      "metadata": {
        "colab": {
          "base_uri": "https://localhost:8080/"
        },
        "id": "Dtsotnog_j8H",
        "outputId": "c0cbcfe3-5160-4389-a79a-9f673023e23c"
      },
      "execution_count": null,
      "outputs": [
        {
          "output_type": "execute_result",
          "data": {
            "text/plain": [
              "tensor([[1.0238, 1.2088, 1.8197, 1.2214, 1.6280],\n",
              "        [1.6473, 1.5695, 1.0601, 1.4391, 1.5918],\n",
              "        [1.0456, 1.4512, 1.3637, 1.5994, 1.3138]], grad_fn=<AddBackward0>)"
            ]
          },
          "metadata": {},
          "execution_count": 123
        }
      ]
    },
    {
      "cell_type": "code",
      "execution_count": null,
      "metadata": {
        "id": "h-6KRkCn8Z8F"
      },
      "outputs": [],
      "source": [
        "y = z.sum()"
      ]
    },
    {
      "cell_type": "code",
      "execution_count": null,
      "metadata": {
        "id": "Pr98nr2E8Z8F"
      },
      "outputs": [],
      "source": [
        "y.backward()"
      ]
    },
    {
      "cell_type": "code",
      "source": [
        "y.grad"
      ],
      "metadata": {
        "colab": {
          "base_uri": "https://localhost:8080/"
        },
        "id": "8eN-3AT7b19u",
        "outputId": "31833dd5-6d78-4c28-8893-596a82ee3fa3"
      },
      "execution_count": null,
      "outputs": [
        {
          "output_type": "stream",
          "name": "stderr",
          "text": [
            "<ipython-input-127-10b3a7061f6d>:1: UserWarning: The .grad attribute of a Tensor that is not a leaf Tensor is being accessed. Its .grad attribute won't be populated during autograd.backward(). If you indeed want the .grad field to be populated for a non-leaf Tensor, use .retain_grad() on the non-leaf Tensor. If you access the non-leaf Tensor by mistake, make sure you access the leaf Tensor instead. See github.com/pytorch/pytorch/pull/30531 for more informations. (Triggered internally at aten/src/ATen/core/TensorBody.h:489.)\n",
            "  y.grad\n"
          ]
        }
      ]
    },
    {
      "cell_type": "code",
      "execution_count": null,
      "metadata": {
        "colab": {
          "base_uri": "https://localhost:8080/"
        },
        "id": "lBaHUWGS8Z8F",
        "outputId": "691fc964-96c9-4070-9499-c537c7d0cc56"
      },
      "outputs": [
        {
          "output_type": "execute_result",
          "data": {
            "text/plain": [
              "tensor([[1., 1., 1., 1., 1.],\n",
              "        [1., 1., 1., 1., 1.],\n",
              "        [1., 1., 1., 1., 1.]])"
            ]
          },
          "metadata": {},
          "execution_count": 118
        }
      ],
      "source": [
        "w.grad"
      ]
    },
    {
      "cell_type": "code",
      "source": [
        "w = torch.rand(3, 5, requires_grad=True)\n",
        "z = w + 1\n",
        "z.requires_grad = False"
      ],
      "metadata": {
        "colab": {
          "base_uri": "https://localhost:8080/",
          "height": 198
        },
        "id": "3nM3Mu6yAkd7",
        "outputId": "d5f9540c-ca95-4f7e-876f-2358909a21af"
      },
      "execution_count": null,
      "outputs": [
        {
          "output_type": "error",
          "ename": "RuntimeError",
          "evalue": "you can only change requires_grad flags of leaf variables. If you want to use a computed variable in a subgraph that doesn't require differentiation use var_no_grad = var.detach().",
          "traceback": [
            "\u001b[0;31m---------------------------------------------------------------------------\u001b[0m",
            "\u001b[0;31mRuntimeError\u001b[0m                              Traceback (most recent call last)",
            "\u001b[0;32m<ipython-input-128-951cd2945c7a>\u001b[0m in \u001b[0;36m<cell line: 3>\u001b[0;34m()\u001b[0m\n\u001b[1;32m      1\u001b[0m \u001b[0mw\u001b[0m \u001b[0;34m=\u001b[0m \u001b[0mtorch\u001b[0m\u001b[0;34m.\u001b[0m\u001b[0mrand\u001b[0m\u001b[0;34m(\u001b[0m\u001b[0;36m3\u001b[0m\u001b[0;34m,\u001b[0m \u001b[0;36m5\u001b[0m\u001b[0;34m,\u001b[0m \u001b[0mrequires_grad\u001b[0m\u001b[0;34m=\u001b[0m\u001b[0;32mTrue\u001b[0m\u001b[0;34m)\u001b[0m\u001b[0;34m\u001b[0m\u001b[0;34m\u001b[0m\u001b[0m\n\u001b[1;32m      2\u001b[0m \u001b[0mz\u001b[0m \u001b[0;34m=\u001b[0m \u001b[0mw\u001b[0m \u001b[0;34m+\u001b[0m \u001b[0;36m1\u001b[0m\u001b[0;34m\u001b[0m\u001b[0;34m\u001b[0m\u001b[0m\n\u001b[0;32m----> 3\u001b[0;31m \u001b[0mz\u001b[0m\u001b[0;34m.\u001b[0m\u001b[0mrequires_grad\u001b[0m \u001b[0;34m=\u001b[0m \u001b[0;32mFalse\u001b[0m\u001b[0;34m\u001b[0m\u001b[0;34m\u001b[0m\u001b[0m\n\u001b[0m",
            "\u001b[0;31mRuntimeError\u001b[0m: you can only change requires_grad flags of leaf variables. If you want to use a computed variable in a subgraph that doesn't require differentiation use var_no_grad = var.detach()."
          ]
        }
      ]
    },
    {
      "cell_type": "code",
      "source": [
        "w = torch.rand(3, 5, requires_grad=True)\n",
        "print(\"w\", w.grad)\n",
        "z = w + 1\n",
        "k = z.detach()\n",
        "y = 3 * k\n",
        "y.requires_grad=True\n",
        "print(\"y\", y)\n",
        "y.sum().backward()\n",
        "print(w.grad)"
      ],
      "metadata": {
        "colab": {
          "base_uri": "https://localhost:8080/"
        },
        "id": "NgU77r8_BCUY",
        "outputId": "bb658f7f-1a31-4f6b-8871-1e471d0f0d1c"
      },
      "execution_count": null,
      "outputs": [
        {
          "output_type": "stream",
          "name": "stdout",
          "text": [
            "w None\n",
            "y tensor([[3.1490, 5.2681, 3.4914, 5.1995, 5.7867],\n",
            "        [4.4113, 3.6072, 3.2676, 4.9737, 4.9479],\n",
            "        [5.4530, 3.7754, 5.7827, 4.1460, 4.0219]], requires_grad=True)\n",
            "None\n"
          ]
        }
      ]
    },
    {
      "cell_type": "code",
      "execution_count": null,
      "metadata": {
        "colab": {
          "base_uri": "https://localhost:8080/"
        },
        "id": "MF8OeJauohxe",
        "outputId": "bbc138df-ce06-4f45-aed7-1a10eace67be"
      },
      "outputs": [
        {
          "output_type": "execute_result",
          "data": {
            "text/plain": [
              "tensor([-1.6214e-17,  4.4938e-41, -1.6563e-37])"
            ]
          },
          "metadata": {},
          "execution_count": 131
        }
      ],
      "source": [
        "first_z = torch.empty(3)\n",
        "\n",
        "first_z"
      ]
    },
    {
      "cell_type": "code",
      "execution_count": null,
      "metadata": {
        "colab": {
          "base_uri": "https://localhost:8080/"
        },
        "id": "jHQWNK8Dohxe",
        "outputId": "006e6336-2f4b-415c-8bad-a55ad56ddac7"
      },
      "outputs": [
        {
          "output_type": "execute_result",
          "data": {
            "text/plain": [
              "tensor([1.0931, 1.3124, 1.8012], grad_fn=<CopySlices>)"
            ]
          },
          "metadata": {},
          "execution_count": 132
        }
      ],
      "source": [
        "for i in range(3):\n",
        "    first_z[i] = torch.sum(w[i] * x)\n",
        "\n",
        "first_z"
      ]
    },
    {
      "cell_type": "code",
      "execution_count": null,
      "metadata": {
        "colab": {
          "base_uri": "https://localhost:8080/"
        },
        "id": "v0_dElJWohxe",
        "outputId": "3728da7a-23aa-4eb0-f006-2b0c425d496d"
      },
      "outputs": [
        {
          "output_type": "execute_result",
          "data": {
            "text/plain": [
              "tensor([1.0931, 1.3124, 1.8012], grad_fn=<SqueezeBackward4>)"
            ]
          },
          "metadata": {},
          "execution_count": 133
        }
      ],
      "source": [
        "z = torch.matmul(x, w.t())\n",
        "\n",
        "z"
      ]
    },
    {
      "cell_type": "code",
      "execution_count": null,
      "metadata": {
        "colab": {
          "base_uri": "https://localhost:8080/"
        },
        "id": "KV383htQohxe",
        "outputId": "daea4d08-27c9-4e5e-b0fd-81a279fe48fc"
      },
      "outputs": [
        {
          "output_type": "execute_result",
          "data": {
            "text/plain": [
              "tensor([0.6196, 0.4437, 0.1453], requires_grad=True)"
            ]
          },
          "metadata": {},
          "execution_count": 149
        }
      ],
      "source": [
        "v = torch.rand(3, requires_grad=True)\n",
        "z = torch.tensor([1, 2, 3])\n",
        "\n",
        "v"
      ]
    },
    {
      "cell_type": "code",
      "execution_count": null,
      "metadata": {
        "colab": {
          "base_uri": "https://localhost:8080/"
        },
        "id": "o_rnwMi6ohxf",
        "outputId": "9409a3d1-dfc8-4308-e45d-bbb658904a9c"
      },
      "outputs": [
        {
          "output_type": "stream",
          "name": "stdout",
          "text": [
            "None\n"
          ]
        }
      ],
      "source": [
        "print(v.grad)"
      ]
    },
    {
      "cell_type": "code",
      "execution_count": null,
      "metadata": {
        "colab": {
          "base_uri": "https://localhost:8080/"
        },
        "id": "NzHsrgGwohxf",
        "outputId": "c7588ee3-52b9-47dd-d89f-5f3dab93310c"
      },
      "outputs": [
        {
          "output_type": "execute_result",
          "data": {
            "text/plain": [
              "tensor(1.9427, grad_fn=<SumBackward0>)"
            ]
          },
          "metadata": {},
          "execution_count": 151
        }
      ],
      "source": [
        "y = torch.sum(z * v)\n",
        "\n",
        "y"
      ]
    },
    {
      "cell_type": "code",
      "execution_count": null,
      "metadata": {
        "colab": {
          "base_uri": "https://localhost:8080/"
        },
        "id": "RmJbSc03ohxf",
        "outputId": "48a8b666-f94e-4c78-8b5d-283b3624770b"
      },
      "outputs": [
        {
          "output_type": "execute_result",
          "data": {
            "text/plain": [
              "1.9426649808883667"
            ]
          },
          "metadata": {},
          "execution_count": 152
        }
      ],
      "source": [
        "y.item()"
      ]
    },
    {
      "cell_type": "code",
      "execution_count": null,
      "metadata": {
        "id": "NgMubEwOohxf"
      },
      "outputs": [],
      "source": [
        "loss = torch.mean((y - 2) ** 2)"
      ]
    },
    {
      "cell_type": "code",
      "execution_count": null,
      "metadata": {
        "id": "2SJEmTHeohxf"
      },
      "outputs": [],
      "source": [
        "loss.backward()"
      ]
    },
    {
      "cell_type": "code",
      "execution_count": null,
      "metadata": {
        "colab": {
          "base_uri": "https://localhost:8080/"
        },
        "id": "83rcoOCs8Z8G",
        "outputId": "9f51c3d5-8a26-4a51-9b5e-43a4e463bada"
      },
      "outputs": [
        {
          "output_type": "execute_result",
          "data": {
            "text/plain": [
              "tensor([-0.1147, -0.2293, -0.3440])"
            ]
          },
          "metadata": {},
          "execution_count": 155
        }
      ],
      "source": [
        "v.grad"
      ]
    },
    {
      "cell_type": "code",
      "source": [
        "y = torch.sum(z * v)\n",
        "loss = torch.mean((y - 2) ** 2)\n",
        "v.grad.zero_()\n",
        "loss.backward()\n",
        "v.grad"
      ],
      "metadata": {
        "colab": {
          "base_uri": "https://localhost:8080/"
        },
        "id": "7a_l42i4fXVY",
        "outputId": "6a4e6d05-bc24-4686-be41-354f0ca8adc8"
      },
      "execution_count": null,
      "outputs": [
        {
          "output_type": "execute_result",
          "data": {
            "text/plain": [
              "tensor([-0.1147, -0.2293, -0.3440])"
            ]
          },
          "metadata": {},
          "execution_count": 182
        }
      ]
    },
    {
      "cell_type": "code",
      "execution_count": null,
      "metadata": {
        "colab": {
          "base_uri": "https://localhost:8080/"
        },
        "id": "jM03fGAQ8Z8G",
        "outputId": "d52f3163-2851-47c8-f674-3358799c1164"
      },
      "outputs": [
        {
          "output_type": "execute_result",
          "data": {
            "text/plain": [
              "tensor([15.9391, 31.8783, 47.8174])"
            ]
          },
          "metadata": {},
          "execution_count": 183
        }
      ],
      "source": [
        "v1 = v.clone().detach()\n",
        "new_v = v1 - v.grad * 5\n",
        "new_v.requires_grad = True\n",
        "\n",
        "y = torch.sum(z * new_v)\n",
        "loss = torch.mean((y - 2) ** 2)\n",
        "v.grad.zero_()\n",
        "loss.backward()\n",
        "new_v.grad"
      ]
    },
    {
      "cell_type": "code",
      "execution_count": null,
      "metadata": {
        "id": "SVCOxHkU8Z8G"
      },
      "outputs": [],
      "source": [
        "loss.backward()"
      ]
    },
    {
      "cell_type": "code",
      "execution_count": null,
      "metadata": {
        "colab": {
          "base_uri": "https://localhost:8080/"
        },
        "id": "TTb5g1TZ8Z8G",
        "outputId": "0b3689e2-cc2f-46d5-bf1e-0081edfdb49f"
      },
      "outputs": [
        {
          "output_type": "execute_result",
          "data": {
            "text/plain": [
              "tensor([-0.1146, -0.2293, -0.3439])"
            ]
          },
          "metadata": {},
          "execution_count": 158
        }
      ],
      "source": [
        "v.grad"
      ]
    },
    {
      "cell_type": "code",
      "execution_count": null,
      "metadata": {
        "colab": {
          "base_uri": "https://localhost:8080/"
        },
        "id": "doBqZBhu8Z8G",
        "outputId": "2d1e90ba-5ef7-40cb-df20-921089787c13"
      },
      "outputs": [
        {
          "output_type": "execute_result",
          "data": {
            "text/plain": [
              "False"
            ]
          },
          "metadata": {},
          "execution_count": 140
        }
      ],
      "source": [
        "y.detach().requires_grad"
      ]
    },
    {
      "cell_type": "code",
      "source": [
        "y.detach()"
      ],
      "metadata": {
        "colab": {
          "base_uri": "https://localhost:8080/"
        },
        "id": "WygNpT4qEkVn",
        "outputId": "0a0153f9-e6a8-4f4e-d795-067683ae2fb2"
      },
      "execution_count": null,
      "outputs": [
        {
          "output_type": "execute_result",
          "data": {
            "text/plain": [
              "tensor(1.9511)"
            ]
          },
          "metadata": {},
          "execution_count": 143
        }
      ]
    },
    {
      "cell_type": "code",
      "execution_count": null,
      "metadata": {
        "colab": {
          "base_uri": "https://localhost:8080/"
        },
        "id": "kpOfCmjG8Z8G",
        "outputId": "d3c196e5-b88e-4709-95ca-8b24ed04d464"
      },
      "outputs": [
        {
          "output_type": "execute_result",
          "data": {
            "text/plain": [
              "tensor(1.9511, grad_fn=<SumBackward0>)"
            ]
          },
          "metadata": {},
          "execution_count": 144
        }
      ],
      "source": [
        "y"
      ]
    },
    {
      "cell_type": "code",
      "execution_count": null,
      "metadata": {
        "id": "LIhWxOOo8Z8G"
      },
      "outputs": [],
      "source": [
        "a = torch.tensor(1., requires_grad=True)\n",
        "(y.detach() + a).backward()"
      ]
    },
    {
      "cell_type": "code",
      "execution_count": null,
      "metadata": {
        "colab": {
          "base_uri": "https://localhost:8080/"
        },
        "id": "rqMrL15B8Z8G",
        "outputId": "0bb307c9-df0e-438f-d98d-522e4ec86922"
      },
      "outputs": [
        {
          "output_type": "execute_result",
          "data": {
            "text/plain": [
              "tensor([-0.0979, -0.1957, -0.2936])"
            ]
          },
          "metadata": {},
          "execution_count": 146
        }
      ],
      "source": [
        "v.grad  # не поменялся"
      ]
    },
    {
      "cell_type": "code",
      "source": [
        "a = torch.rand(3, 5, requires_grad=True)\n",
        "b = torch.rand(3, 5, requires_grad=True)\n",
        "\n",
        "a, b"
      ],
      "metadata": {
        "colab": {
          "base_uri": "https://localhost:8080/"
        },
        "id": "j8NUXHH_Ft5G",
        "outputId": "13f222ea-860a-4d43-de73-2a02e7378270"
      },
      "execution_count": null,
      "outputs": [
        {
          "output_type": "execute_result",
          "data": {
            "text/plain": [
              "(tensor([[0.8323, 0.9442, 0.7774, 0.9699, 0.5936],\n",
              "         [0.2752, 0.0520, 0.7683, 0.7400, 0.1261],\n",
              "         [0.2928, 0.4947, 0.2318, 0.5261, 0.4781]], requires_grad=True),\n",
              " tensor([[0.1585, 0.5946, 0.8484, 0.2205, 0.9245],\n",
              "         [0.4517, 0.8945, 0.6801, 0.6447, 0.5086],\n",
              "         [0.8989, 0.9180, 0.3186, 0.6422, 0.6355]], requires_grad=True))"
            ]
          },
          "metadata": {},
          "execution_count": 184
        }
      ]
    },
    {
      "cell_type": "code",
      "execution_count": null,
      "metadata": {
        "colab": {
          "base_uri": "https://localhost:8080/"
        },
        "id": "Ox8t97bMohxm",
        "outputId": "cc72f7d6-f3ca-405f-e6cb-8bde39147bba"
      },
      "outputs": [
        {
          "output_type": "execute_result",
          "data": {
            "text/plain": [
              "tensor(-1.2366)"
            ]
          },
          "metadata": {},
          "execution_count": 190
        }
      ],
      "source": [
        "with torch.no_grad():\n",
        "    loss = torch.sum(a - b)\n",
        "\n",
        "loss"
      ]
    },
    {
      "cell_type": "code",
      "source": [
        "loss.requires_grad = True"
      ],
      "metadata": {
        "id": "CtwAwkbph69f"
      },
      "execution_count": null,
      "outputs": []
    },
    {
      "cell_type": "code",
      "execution_count": null,
      "metadata": {
        "id": "pANPxiYSohxn",
        "colab": {
          "base_uri": "https://localhost:8080/",
          "height": 293
        },
        "outputId": "9baf1f6b-f052-4739-c661-47997bedf498"
      },
      "outputs": [
        {
          "output_type": "error",
          "ename": "RuntimeError",
          "evalue": "element 0 of tensors does not require grad and does not have a grad_fn",
          "traceback": [
            "\u001b[0;31m---------------------------------------------------------------------------\u001b[0m",
            "\u001b[0;31mRuntimeError\u001b[0m                              Traceback (most recent call last)",
            "\u001b[0;32m<ipython-input-186-52a0569421b1>\u001b[0m in \u001b[0;36m<cell line: 1>\u001b[0;34m()\u001b[0m\n\u001b[0;32m----> 1\u001b[0;31m \u001b[0mloss\u001b[0m\u001b[0;34m.\u001b[0m\u001b[0mbackward\u001b[0m\u001b[0;34m(\u001b[0m\u001b[0;34m)\u001b[0m\u001b[0;34m\u001b[0m\u001b[0;34m\u001b[0m\u001b[0m\n\u001b[0m",
            "\u001b[0;32m/usr/local/lib/python3.10/dist-packages/torch/_tensor.py\u001b[0m in \u001b[0;36mbackward\u001b[0;34m(self, gradient, retain_graph, create_graph, inputs)\u001b[0m\n\u001b[1;32m    519\u001b[0m                 \u001b[0minputs\u001b[0m\u001b[0;34m=\u001b[0m\u001b[0minputs\u001b[0m\u001b[0;34m,\u001b[0m\u001b[0;34m\u001b[0m\u001b[0;34m\u001b[0m\u001b[0m\n\u001b[1;32m    520\u001b[0m             )\n\u001b[0;32m--> 521\u001b[0;31m         torch.autograd.backward(\n\u001b[0m\u001b[1;32m    522\u001b[0m             \u001b[0mself\u001b[0m\u001b[0;34m,\u001b[0m \u001b[0mgradient\u001b[0m\u001b[0;34m,\u001b[0m \u001b[0mretain_graph\u001b[0m\u001b[0;34m,\u001b[0m \u001b[0mcreate_graph\u001b[0m\u001b[0;34m,\u001b[0m \u001b[0minputs\u001b[0m\u001b[0;34m=\u001b[0m\u001b[0minputs\u001b[0m\u001b[0;34m\u001b[0m\u001b[0;34m\u001b[0m\u001b[0m\n\u001b[1;32m    523\u001b[0m         )\n",
            "\u001b[0;32m/usr/local/lib/python3.10/dist-packages/torch/autograd/__init__.py\u001b[0m in \u001b[0;36mbackward\u001b[0;34m(tensors, grad_tensors, retain_graph, create_graph, grad_variables, inputs)\u001b[0m\n\u001b[1;32m    287\u001b[0m     \u001b[0;31m# some Python versions print out the first line of a multi-line function\u001b[0m\u001b[0;34m\u001b[0m\u001b[0;34m\u001b[0m\u001b[0m\n\u001b[1;32m    288\u001b[0m     \u001b[0;31m# calls in the traceback and some print out the last line\u001b[0m\u001b[0;34m\u001b[0m\u001b[0;34m\u001b[0m\u001b[0m\n\u001b[0;32m--> 289\u001b[0;31m     _engine_run_backward(\n\u001b[0m\u001b[1;32m    290\u001b[0m         \u001b[0mtensors\u001b[0m\u001b[0;34m,\u001b[0m\u001b[0;34m\u001b[0m\u001b[0;34m\u001b[0m\u001b[0m\n\u001b[1;32m    291\u001b[0m         \u001b[0mgrad_tensors_\u001b[0m\u001b[0;34m,\u001b[0m\u001b[0;34m\u001b[0m\u001b[0;34m\u001b[0m\u001b[0m\n",
            "\u001b[0;32m/usr/local/lib/python3.10/dist-packages/torch/autograd/graph.py\u001b[0m in \u001b[0;36m_engine_run_backward\u001b[0;34m(t_outputs, *args, **kwargs)\u001b[0m\n\u001b[1;32m    767\u001b[0m         \u001b[0munregister_hooks\u001b[0m \u001b[0;34m=\u001b[0m \u001b[0m_register_logging_hooks_on_whole_graph\u001b[0m\u001b[0;34m(\u001b[0m\u001b[0mt_outputs\u001b[0m\u001b[0;34m)\u001b[0m\u001b[0;34m\u001b[0m\u001b[0;34m\u001b[0m\u001b[0m\n\u001b[1;32m    768\u001b[0m     \u001b[0;32mtry\u001b[0m\u001b[0;34m:\u001b[0m\u001b[0;34m\u001b[0m\u001b[0;34m\u001b[0m\u001b[0m\n\u001b[0;32m--> 769\u001b[0;31m         return Variable._execution_engine.run_backward(  # Calls into the C++ engine to run the backward pass\n\u001b[0m\u001b[1;32m    770\u001b[0m             \u001b[0mt_outputs\u001b[0m\u001b[0;34m,\u001b[0m \u001b[0;34m*\u001b[0m\u001b[0margs\u001b[0m\u001b[0;34m,\u001b[0m \u001b[0;34m**\u001b[0m\u001b[0mkwargs\u001b[0m\u001b[0;34m\u001b[0m\u001b[0;34m\u001b[0m\u001b[0m\n\u001b[1;32m    771\u001b[0m         )  # Calls into the C++ engine to run the backward pass\n",
            "\u001b[0;31mRuntimeError\u001b[0m: element 0 of tensors does not require grad and does not have a grad_fn"
          ]
        }
      ],
      "source": [
        "loss.backward()"
      ]
    },
    {
      "cell_type": "code",
      "execution_count": null,
      "metadata": {
        "colab": {
          "base_uri": "https://localhost:8080/"
        },
        "id": "GhxRhRX-ohxn",
        "outputId": "af9f2c5b-f5b9-431d-ab4d-9794c24ff671"
      },
      "outputs": [
        {
          "output_type": "execute_result",
          "data": {
            "text/plain": [
              "tensor(-1.2366)"
            ]
          },
          "metadata": {},
          "execution_count": 193
        }
      ],
      "source": [
        "with torch.inference_mode():\n",
        "    loss = torch.sum(a - b)\n",
        "\n",
        "loss"
      ]
    },
    {
      "cell_type": "code",
      "source": [
        "loss.requires_grad = True"
      ],
      "metadata": {
        "colab": {
          "base_uri": "https://localhost:8080/",
          "height": 144
        },
        "id": "PM0MmRn0Fykb",
        "outputId": "f0ab5fee-273a-4a02-cc2b-6ccc80422faa"
      },
      "execution_count": null,
      "outputs": [
        {
          "output_type": "error",
          "ename": "RuntimeError",
          "evalue": "Setting requires_grad=True on inference tensor outside InferenceMode is not allowed.",
          "traceback": [
            "\u001b[0;31m---------------------------------------------------------------------------\u001b[0m",
            "\u001b[0;31mRuntimeError\u001b[0m                              Traceback (most recent call last)",
            "\u001b[0;32m<ipython-input-194-d0fa426ac8cf>\u001b[0m in \u001b[0;36m<cell line: 1>\u001b[0;34m()\u001b[0m\n\u001b[0;32m----> 1\u001b[0;31m \u001b[0mloss\u001b[0m\u001b[0;34m.\u001b[0m\u001b[0mrequires_grad\u001b[0m \u001b[0;34m=\u001b[0m \u001b[0;32mTrue\u001b[0m\u001b[0;34m\u001b[0m\u001b[0;34m\u001b[0m\u001b[0m\n\u001b[0m",
            "\u001b[0;31mRuntimeError\u001b[0m: Setting requires_grad=True on inference tensor outside InferenceMode is not allowed."
          ]
        }
      ]
    },
    {
      "cell_type": "code",
      "execution_count": null,
      "metadata": {
        "colab": {
          "base_uri": "https://localhost:8080/",
          "height": 293
        },
        "id": "3HjFPpyMohxn",
        "outputId": "d162a857-774b-484f-e01b-e6e974f316df",
        "scrolled": false
      },
      "outputs": [
        {
          "output_type": "error",
          "ename": "RuntimeError",
          "evalue": "element 0 of tensors does not require grad and does not have a grad_fn",
          "traceback": [
            "\u001b[0;31m---------------------------------------------------------------------------\u001b[0m",
            "\u001b[0;31mRuntimeError\u001b[0m                              Traceback (most recent call last)",
            "\u001b[0;32m<ipython-input-156-52a0569421b1>\u001b[0m in \u001b[0;36m<cell line: 1>\u001b[0;34m()\u001b[0m\n\u001b[0;32m----> 1\u001b[0;31m \u001b[0mloss\u001b[0m\u001b[0;34m.\u001b[0m\u001b[0mbackward\u001b[0m\u001b[0;34m(\u001b[0m\u001b[0;34m)\u001b[0m\u001b[0;34m\u001b[0m\u001b[0;34m\u001b[0m\u001b[0m\n\u001b[0m",
            "\u001b[0;32m/usr/local/lib/python3.10/dist-packages/torch/_tensor.py\u001b[0m in \u001b[0;36mbackward\u001b[0;34m(self, gradient, retain_graph, create_graph, inputs)\u001b[0m\n\u001b[1;32m    519\u001b[0m                 \u001b[0minputs\u001b[0m\u001b[0;34m=\u001b[0m\u001b[0minputs\u001b[0m\u001b[0;34m,\u001b[0m\u001b[0;34m\u001b[0m\u001b[0;34m\u001b[0m\u001b[0m\n\u001b[1;32m    520\u001b[0m             )\n\u001b[0;32m--> 521\u001b[0;31m         torch.autograd.backward(\n\u001b[0m\u001b[1;32m    522\u001b[0m             \u001b[0mself\u001b[0m\u001b[0;34m,\u001b[0m \u001b[0mgradient\u001b[0m\u001b[0;34m,\u001b[0m \u001b[0mretain_graph\u001b[0m\u001b[0;34m,\u001b[0m \u001b[0mcreate_graph\u001b[0m\u001b[0;34m,\u001b[0m \u001b[0minputs\u001b[0m\u001b[0;34m=\u001b[0m\u001b[0minputs\u001b[0m\u001b[0;34m\u001b[0m\u001b[0;34m\u001b[0m\u001b[0m\n\u001b[1;32m    523\u001b[0m         )\n",
            "\u001b[0;32m/usr/local/lib/python3.10/dist-packages/torch/autograd/__init__.py\u001b[0m in \u001b[0;36mbackward\u001b[0;34m(tensors, grad_tensors, retain_graph, create_graph, grad_variables, inputs)\u001b[0m\n\u001b[1;32m    287\u001b[0m     \u001b[0;31m# some Python versions print out the first line of a multi-line function\u001b[0m\u001b[0;34m\u001b[0m\u001b[0;34m\u001b[0m\u001b[0m\n\u001b[1;32m    288\u001b[0m     \u001b[0;31m# calls in the traceback and some print out the last line\u001b[0m\u001b[0;34m\u001b[0m\u001b[0;34m\u001b[0m\u001b[0m\n\u001b[0;32m--> 289\u001b[0;31m     _engine_run_backward(\n\u001b[0m\u001b[1;32m    290\u001b[0m         \u001b[0mtensors\u001b[0m\u001b[0;34m,\u001b[0m\u001b[0;34m\u001b[0m\u001b[0;34m\u001b[0m\u001b[0m\n\u001b[1;32m    291\u001b[0m         \u001b[0mgrad_tensors_\u001b[0m\u001b[0;34m,\u001b[0m\u001b[0;34m\u001b[0m\u001b[0;34m\u001b[0m\u001b[0m\n",
            "\u001b[0;32m/usr/local/lib/python3.10/dist-packages/torch/autograd/graph.py\u001b[0m in \u001b[0;36m_engine_run_backward\u001b[0;34m(t_outputs, *args, **kwargs)\u001b[0m\n\u001b[1;32m    767\u001b[0m         \u001b[0munregister_hooks\u001b[0m \u001b[0;34m=\u001b[0m \u001b[0m_register_logging_hooks_on_whole_graph\u001b[0m\u001b[0;34m(\u001b[0m\u001b[0mt_outputs\u001b[0m\u001b[0;34m)\u001b[0m\u001b[0;34m\u001b[0m\u001b[0;34m\u001b[0m\u001b[0m\n\u001b[1;32m    768\u001b[0m     \u001b[0;32mtry\u001b[0m\u001b[0;34m:\u001b[0m\u001b[0;34m\u001b[0m\u001b[0;34m\u001b[0m\u001b[0m\n\u001b[0;32m--> 769\u001b[0;31m         return Variable._execution_engine.run_backward(  # Calls into the C++ engine to run the backward pass\n\u001b[0m\u001b[1;32m    770\u001b[0m             \u001b[0mt_outputs\u001b[0m\u001b[0;34m,\u001b[0m \u001b[0;34m*\u001b[0m\u001b[0margs\u001b[0m\u001b[0;34m,\u001b[0m \u001b[0;34m**\u001b[0m\u001b[0mkwargs\u001b[0m\u001b[0;34m\u001b[0m\u001b[0;34m\u001b[0m\u001b[0m\n\u001b[1;32m    771\u001b[0m         )  # Calls into the C++ engine to run the backward pass\n",
            "\u001b[0;31mRuntimeError\u001b[0m: element 0 of tensors does not require grad and does not have a grad_fn"
          ]
        }
      ],
      "source": [
        "loss.backward()"
      ]
    },
    {
      "cell_type": "code",
      "execution_count": null,
      "metadata": {
        "colab": {
          "base_uri": "https://localhost:8080/"
        },
        "id": "ZOB9s0C2SqEr",
        "outputId": "55d41c97-45eb-4608-b2b9-68498e30b3ad"
      },
      "outputs": [
        {
          "output_type": "execute_result",
          "data": {
            "text/plain": [
              "tensor(-1.2366)"
            ]
          },
          "metadata": {},
          "execution_count": 195
        }
      ],
      "source": [
        "loss = torch.sum(a - b)\n",
        "loss.detach()"
      ]
    },
    {
      "cell_type": "code",
      "execution_count": null,
      "metadata": {
        "colab": {
          "base_uri": "https://localhost:8080/",
          "height": 347
        },
        "id": "0yVG9Wqvohxo",
        "outputId": "4d84bdae-bbb1-4c6b-e68c-5db57118759d"
      },
      "outputs": [
        {
          "output_type": "stream",
          "name": "stdout",
          "text": [
            "loss17.34375762939453=\n"
          ]
        },
        {
          "output_type": "error",
          "ename": "RuntimeError",
          "evalue": "element 0 of tensors does not require grad and does not have a grad_fn",
          "traceback": [
            "\u001b[0;31m---------------------------------------------------------------------------\u001b[0m",
            "\u001b[0;31mRuntimeError\u001b[0m                              Traceback (most recent call last)",
            "\u001b[0;32m<ipython-input-196-82733afacd85>\u001b[0m in \u001b[0;36m<cell line: 1>\u001b[0;34m()\u001b[0m\n\u001b[1;32m      7\u001b[0m     \u001b[0mprint\u001b[0m\u001b[0;34m(\u001b[0m\u001b[0;34mf'loss{loss}='\u001b[0m\u001b[0;34m)\u001b[0m\u001b[0;34m\u001b[0m\u001b[0;34m\u001b[0m\u001b[0m\n\u001b[1;32m      8\u001b[0m \u001b[0;34m\u001b[0m\u001b[0m\n\u001b[0;32m----> 9\u001b[0;31m     \u001b[0mloss\u001b[0m\u001b[0;34m.\u001b[0m\u001b[0mbackward\u001b[0m\u001b[0;34m(\u001b[0m\u001b[0;34m)\u001b[0m\u001b[0;34m\u001b[0m\u001b[0;34m\u001b[0m\u001b[0m\n\u001b[0m",
            "\u001b[0;32m/usr/local/lib/python3.10/dist-packages/torch/_tensor.py\u001b[0m in \u001b[0;36mbackward\u001b[0;34m(self, gradient, retain_graph, create_graph, inputs)\u001b[0m\n\u001b[1;32m    519\u001b[0m                 \u001b[0minputs\u001b[0m\u001b[0;34m=\u001b[0m\u001b[0minputs\u001b[0m\u001b[0;34m,\u001b[0m\u001b[0;34m\u001b[0m\u001b[0;34m\u001b[0m\u001b[0m\n\u001b[1;32m    520\u001b[0m             )\n\u001b[0;32m--> 521\u001b[0;31m         torch.autograd.backward(\n\u001b[0m\u001b[1;32m    522\u001b[0m             \u001b[0mself\u001b[0m\u001b[0;34m,\u001b[0m \u001b[0mgradient\u001b[0m\u001b[0;34m,\u001b[0m \u001b[0mretain_graph\u001b[0m\u001b[0;34m,\u001b[0m \u001b[0mcreate_graph\u001b[0m\u001b[0;34m,\u001b[0m \u001b[0minputs\u001b[0m\u001b[0;34m=\u001b[0m\u001b[0minputs\u001b[0m\u001b[0;34m\u001b[0m\u001b[0;34m\u001b[0m\u001b[0m\n\u001b[1;32m    523\u001b[0m         )\n",
            "\u001b[0;32m/usr/local/lib/python3.10/dist-packages/torch/autograd/__init__.py\u001b[0m in \u001b[0;36mbackward\u001b[0;34m(tensors, grad_tensors, retain_graph, create_graph, grad_variables, inputs)\u001b[0m\n\u001b[1;32m    287\u001b[0m     \u001b[0;31m# some Python versions print out the first line of a multi-line function\u001b[0m\u001b[0;34m\u001b[0m\u001b[0;34m\u001b[0m\u001b[0m\n\u001b[1;32m    288\u001b[0m     \u001b[0;31m# calls in the traceback and some print out the last line\u001b[0m\u001b[0;34m\u001b[0m\u001b[0;34m\u001b[0m\u001b[0m\n\u001b[0;32m--> 289\u001b[0;31m     _engine_run_backward(\n\u001b[0m\u001b[1;32m    290\u001b[0m         \u001b[0mtensors\u001b[0m\u001b[0;34m,\u001b[0m\u001b[0;34m\u001b[0m\u001b[0;34m\u001b[0m\u001b[0m\n\u001b[1;32m    291\u001b[0m         \u001b[0mgrad_tensors_\u001b[0m\u001b[0;34m,\u001b[0m\u001b[0;34m\u001b[0m\u001b[0;34m\u001b[0m\u001b[0m\n",
            "\u001b[0;32m/usr/local/lib/python3.10/dist-packages/torch/autograd/graph.py\u001b[0m in \u001b[0;36m_engine_run_backward\u001b[0;34m(t_outputs, *args, **kwargs)\u001b[0m\n\u001b[1;32m    767\u001b[0m         \u001b[0munregister_hooks\u001b[0m \u001b[0;34m=\u001b[0m \u001b[0m_register_logging_hooks_on_whole_graph\u001b[0m\u001b[0;34m(\u001b[0m\u001b[0mt_outputs\u001b[0m\u001b[0;34m)\u001b[0m\u001b[0;34m\u001b[0m\u001b[0;34m\u001b[0m\u001b[0m\n\u001b[1;32m    768\u001b[0m     \u001b[0;32mtry\u001b[0m\u001b[0;34m:\u001b[0m\u001b[0;34m\u001b[0m\u001b[0;34m\u001b[0m\u001b[0m\n\u001b[0;32m--> 769\u001b[0;31m         return Variable._execution_engine.run_backward(  # Calls into the C++ engine to run the backward pass\n\u001b[0m\u001b[1;32m    770\u001b[0m             \u001b[0mt_outputs\u001b[0m\u001b[0;34m,\u001b[0m \u001b[0;34m*\u001b[0m\u001b[0margs\u001b[0m\u001b[0;34m,\u001b[0m \u001b[0;34m**\u001b[0m\u001b[0mkwargs\u001b[0m\u001b[0;34m\u001b[0m\u001b[0;34m\u001b[0m\u001b[0m\n\u001b[1;32m    771\u001b[0m         )  # Calls into the C++ engine to run the backward pass\n",
            "\u001b[0;31mRuntimeError\u001b[0m: element 0 of tensors does not require grad and does not have a grad_fn"
          ]
        }
      ],
      "source": [
        "with torch.no_grad():\n",
        "    a = torch.rand(3, 5, requires_grad=True)\n",
        "    b = torch.rand(3, 5, requires_grad=True)\n",
        "\n",
        "    loss = torch.sum(a + b)\n",
        "\n",
        "    print(f'loss{loss}=')\n",
        "\n",
        "    loss.backward()"
      ]
    },
    {
      "cell_type": "code",
      "execution_count": null,
      "metadata": {
        "colab": {
          "base_uri": "https://localhost:8080/"
        },
        "id": "TtOo3zfHohxo",
        "outputId": "ef9d3de2-72af-4f54-ebf8-55954a5819fc"
      },
      "outputs": [
        {
          "output_type": "execute_result",
          "data": {
            "text/plain": [
              "tensor(15.7096, grad_fn=<SumBackward0>)"
            ]
          },
          "metadata": {},
          "execution_count": 162
        }
      ],
      "source": [
        "loss2 = torch.sum(a + b)\n",
        "\n",
        "loss2"
      ]
    },
    {
      "cell_type": "code",
      "execution_count": null,
      "metadata": {
        "id": "iVjROuyMohxo",
        "outputId": "6028dcc6-3b3c-41c9-c792-7cb28a04b5d8",
        "colab": {
          "base_uri": "https://localhost:8080/"
        }
      },
      "outputs": [
        {
          "output_type": "stream",
          "name": "stdout",
          "text": [
            "a.grad=None\n",
            "\n",
            "b.grad=None\n",
            "\n"
          ]
        }
      ],
      "source": [
        "print(f'{a.grad=}\\n')\n",
        "print(f'{b.grad=}\\n')"
      ]
    },
    {
      "cell_type": "code",
      "execution_count": null,
      "metadata": {
        "id": "oyazYdQqohxp"
      },
      "outputs": [],
      "source": [
        "loss2.backward()"
      ]
    },
    {
      "cell_type": "code",
      "execution_count": null,
      "metadata": {
        "id": "CtLUzQvyohxp",
        "outputId": "68d986e7-2772-4fff-9874-21f315a51371",
        "colab": {
          "base_uri": "https://localhost:8080/"
        }
      },
      "outputs": [
        {
          "output_type": "stream",
          "name": "stdout",
          "text": [
            "a.grad=tensor([[1., 1., 1., 1., 1.],\n",
            "        [1., 1., 1., 1., 1.],\n",
            "        [1., 1., 1., 1., 1.]])\n",
            "\n",
            "b.grad=tensor([[1., 1., 1., 1., 1.],\n",
            "        [1., 1., 1., 1., 1.],\n",
            "        [1., 1., 1., 1., 1.]])\n",
            "\n"
          ]
        }
      ],
      "source": [
        "print(f'{a.grad=}\\n')\n",
        "print(f'{b.grad=}\\n')"
      ]
    },
    {
      "cell_type": "code",
      "execution_count": null,
      "metadata": {
        "colab": {
          "base_uri": "https://localhost:8080/",
          "height": 347
        },
        "id": "0YGRdcIvohxp",
        "outputId": "5457de3b-d3a7-4720-8260-a527d603c26e"
      },
      "outputs": [
        {
          "output_type": "stream",
          "name": "stdout",
          "text": [
            "13.89467716217041=\n"
          ]
        },
        {
          "output_type": "error",
          "ename": "RuntimeError",
          "evalue": "element 0 of tensors does not require grad and does not have a grad_fn",
          "traceback": [
            "\u001b[0;31m---------------------------------------------------------------------------\u001b[0m",
            "\u001b[0;31mRuntimeError\u001b[0m                              Traceback (most recent call last)",
            "\u001b[0;32m<ipython-input-166-f214ff64eeee>\u001b[0m in \u001b[0;36m<cell line: 1>\u001b[0;34m()\u001b[0m\n\u001b[1;32m      7\u001b[0m     \u001b[0mprint\u001b[0m\u001b[0;34m(\u001b[0m\u001b[0;34mf'{loss}='\u001b[0m\u001b[0;34m)\u001b[0m\u001b[0;34m\u001b[0m\u001b[0;34m\u001b[0m\u001b[0m\n\u001b[1;32m      8\u001b[0m \u001b[0;34m\u001b[0m\u001b[0m\n\u001b[0;32m----> 9\u001b[0;31m     \u001b[0mloss\u001b[0m\u001b[0;34m.\u001b[0m\u001b[0mbackward\u001b[0m\u001b[0;34m(\u001b[0m\u001b[0;34m)\u001b[0m\u001b[0;34m\u001b[0m\u001b[0;34m\u001b[0m\u001b[0m\n\u001b[0m",
            "\u001b[0;32m/usr/local/lib/python3.10/dist-packages/torch/_tensor.py\u001b[0m in \u001b[0;36mbackward\u001b[0;34m(self, gradient, retain_graph, create_graph, inputs)\u001b[0m\n\u001b[1;32m    519\u001b[0m                 \u001b[0minputs\u001b[0m\u001b[0;34m=\u001b[0m\u001b[0minputs\u001b[0m\u001b[0;34m,\u001b[0m\u001b[0;34m\u001b[0m\u001b[0;34m\u001b[0m\u001b[0m\n\u001b[1;32m    520\u001b[0m             )\n\u001b[0;32m--> 521\u001b[0;31m         torch.autograd.backward(\n\u001b[0m\u001b[1;32m    522\u001b[0m             \u001b[0mself\u001b[0m\u001b[0;34m,\u001b[0m \u001b[0mgradient\u001b[0m\u001b[0;34m,\u001b[0m \u001b[0mretain_graph\u001b[0m\u001b[0;34m,\u001b[0m \u001b[0mcreate_graph\u001b[0m\u001b[0;34m,\u001b[0m \u001b[0minputs\u001b[0m\u001b[0;34m=\u001b[0m\u001b[0minputs\u001b[0m\u001b[0;34m\u001b[0m\u001b[0;34m\u001b[0m\u001b[0m\n\u001b[1;32m    523\u001b[0m         )\n",
            "\u001b[0;32m/usr/local/lib/python3.10/dist-packages/torch/autograd/__init__.py\u001b[0m in \u001b[0;36mbackward\u001b[0;34m(tensors, grad_tensors, retain_graph, create_graph, grad_variables, inputs)\u001b[0m\n\u001b[1;32m    287\u001b[0m     \u001b[0;31m# some Python versions print out the first line of a multi-line function\u001b[0m\u001b[0;34m\u001b[0m\u001b[0;34m\u001b[0m\u001b[0m\n\u001b[1;32m    288\u001b[0m     \u001b[0;31m# calls in the traceback and some print out the last line\u001b[0m\u001b[0;34m\u001b[0m\u001b[0;34m\u001b[0m\u001b[0m\n\u001b[0;32m--> 289\u001b[0;31m     _engine_run_backward(\n\u001b[0m\u001b[1;32m    290\u001b[0m         \u001b[0mtensors\u001b[0m\u001b[0;34m,\u001b[0m\u001b[0;34m\u001b[0m\u001b[0;34m\u001b[0m\u001b[0m\n\u001b[1;32m    291\u001b[0m         \u001b[0mgrad_tensors_\u001b[0m\u001b[0;34m,\u001b[0m\u001b[0;34m\u001b[0m\u001b[0;34m\u001b[0m\u001b[0m\n",
            "\u001b[0;32m/usr/local/lib/python3.10/dist-packages/torch/autograd/graph.py\u001b[0m in \u001b[0;36m_engine_run_backward\u001b[0;34m(t_outputs, *args, **kwargs)\u001b[0m\n\u001b[1;32m    767\u001b[0m         \u001b[0munregister_hooks\u001b[0m \u001b[0;34m=\u001b[0m \u001b[0m_register_logging_hooks_on_whole_graph\u001b[0m\u001b[0;34m(\u001b[0m\u001b[0mt_outputs\u001b[0m\u001b[0;34m)\u001b[0m\u001b[0;34m\u001b[0m\u001b[0;34m\u001b[0m\u001b[0m\n\u001b[1;32m    768\u001b[0m     \u001b[0;32mtry\u001b[0m\u001b[0;34m:\u001b[0m\u001b[0;34m\u001b[0m\u001b[0;34m\u001b[0m\u001b[0m\n\u001b[0;32m--> 769\u001b[0;31m         return Variable._execution_engine.run_backward(  # Calls into the C++ engine to run the backward pass\n\u001b[0m\u001b[1;32m    770\u001b[0m             \u001b[0mt_outputs\u001b[0m\u001b[0;34m,\u001b[0m \u001b[0;34m*\u001b[0m\u001b[0margs\u001b[0m\u001b[0;34m,\u001b[0m \u001b[0;34m**\u001b[0m\u001b[0mkwargs\u001b[0m\u001b[0;34m\u001b[0m\u001b[0;34m\u001b[0m\u001b[0m\n\u001b[1;32m    771\u001b[0m         )  # Calls into the C++ engine to run the backward pass\n",
            "\u001b[0;31mRuntimeError\u001b[0m: element 0 of tensors does not require grad and does not have a grad_fn"
          ]
        }
      ],
      "source": [
        "with torch.inference_mode():\n",
        "    a = torch.rand(3, 5, requires_grad=True)\n",
        "    b = torch.rand(3, 5, requires_grad=True)\n",
        "\n",
        "    loss = torch.sum(a + b)\n",
        "\n",
        "    print(f'{loss}=')\n",
        "\n",
        "    loss.backward()"
      ]
    },
    {
      "cell_type": "code",
      "execution_count": null,
      "metadata": {
        "colab": {
          "base_uri": "https://localhost:8080/"
        },
        "id": "L7HNnD-MZZyv",
        "outputId": "6bf45158-6467-4731-a30d-3a83864e3032"
      },
      "outputs": [
        {
          "output_type": "stream",
          "name": "stdout",
          "text": [
            "<AddBackward0 object at 0x7ee7fbc6a860> True\n"
          ]
        }
      ],
      "source": [
        "with torch.no_grad():\n",
        "    x = torch.randn(1)\n",
        "    y = x + 1\n",
        "\n",
        "y.requires_grad = True\n",
        "z = y + 1\n",
        "print(z.grad_fn, z.requires_grad)"
      ]
    },
    {
      "cell_type": "code",
      "execution_count": null,
      "metadata": {
        "colab": {
          "base_uri": "https://localhost:8080/",
          "height": 180
        },
        "id": "sjv8UhTfZcgh",
        "outputId": "3d0b3168-830a-4ea4-ef87-2e308645c664"
      },
      "outputs": [
        {
          "output_type": "error",
          "ename": "RuntimeError",
          "evalue": "Setting requires_grad=True on inference tensor outside InferenceMode is not allowed.",
          "traceback": [
            "\u001b[0;31m---------------------------------------------------------------------------\u001b[0m",
            "\u001b[0;31mRuntimeError\u001b[0m                              Traceback (most recent call last)",
            "\u001b[0;32m<ipython-input-168-28f417584796>\u001b[0m in \u001b[0;36m<cell line: 5>\u001b[0;34m()\u001b[0m\n\u001b[1;32m      3\u001b[0m     \u001b[0my\u001b[0m \u001b[0;34m=\u001b[0m \u001b[0mx\u001b[0m \u001b[0;34m+\u001b[0m \u001b[0;36m1\u001b[0m\u001b[0;34m\u001b[0m\u001b[0;34m\u001b[0m\u001b[0m\n\u001b[1;32m      4\u001b[0m \u001b[0;34m\u001b[0m\u001b[0m\n\u001b[0;32m----> 5\u001b[0;31m \u001b[0my\u001b[0m\u001b[0;34m.\u001b[0m\u001b[0mrequires_grad\u001b[0m \u001b[0;34m=\u001b[0m \u001b[0;32mTrue\u001b[0m\u001b[0;34m\u001b[0m\u001b[0;34m\u001b[0m\u001b[0m\n\u001b[0m",
            "\u001b[0;31mRuntimeError\u001b[0m: Setting requires_grad=True on inference tensor outside InferenceMode is not allowed."
          ]
        }
      ],
      "source": [
        "with torch.inference_mode():\n",
        "    x = torch.randn(1)\n",
        "    y = x + 1\n",
        "\n",
        "y.requires_grad = True"
      ]
    },
    {
      "cell_type": "code",
      "execution_count": null,
      "metadata": {
        "colab": {
          "base_uri": "https://localhost:8080/"
        },
        "id": "wKhkdrpQohxp",
        "outputId": "23b787dc-e773-4028-ca5b-98f6c47f067a"
      },
      "outputs": [
        {
          "output_type": "execute_result",
          "data": {
            "text/plain": [
              "tensor(13.8947)"
            ]
          },
          "metadata": {},
          "execution_count": 169
        }
      ],
      "source": [
        "loss2 = torch.sum(a + b)\n",
        "\n",
        "loss2"
      ]
    },
    {
      "cell_type": "code",
      "execution_count": null,
      "metadata": {
        "id": "L5RkwRb7ohxq"
      },
      "outputs": [],
      "source": [
        "@torch.no_grad()\n",
        "def foo():\n",
        "    a = torch.rand(3, 5, requires_grad=True)\n",
        "    b = torch.rand(3, 5, requires_grad=True)\n",
        "\n",
        "    loss = torch.mean(a + b)\n",
        "\n",
        "    print(f'{loss}')\n",
        "\n",
        "    return a, b"
      ]
    },
    {
      "cell_type": "code",
      "execution_count": null,
      "metadata": {
        "colab": {
          "base_uri": "https://localhost:8080/"
        },
        "id": "Q7yLGpCAohxq",
        "outputId": "a53c96dc-ee81-4d63-e6ba-8854bf36bfbd"
      },
      "outputs": [
        {
          "output_type": "stream",
          "name": "stdout",
          "text": [
            "1.1297409534454346\n"
          ]
        }
      ],
      "source": [
        "a, b = foo()"
      ]
    },
    {
      "cell_type": "code",
      "execution_count": null,
      "metadata": {
        "colab": {
          "base_uri": "https://localhost:8080/"
        },
        "id": "KLhDh0Bkohxq",
        "outputId": "a1553a43-9820-4bca-f373-daf8d2576260"
      },
      "outputs": [
        {
          "output_type": "execute_result",
          "data": {
            "text/plain": [
              "tensor(0.0705, grad_fn=<MeanBackward0>)"
            ]
          },
          "metadata": {},
          "execution_count": 175
        }
      ],
      "source": [
        "torch.mean(a - b)"
      ]
    },
    {
      "cell_type": "code",
      "execution_count": null,
      "metadata": {
        "id": "c9pdaV-Aohxr"
      },
      "outputs": [],
      "source": [
        "@torch.inference_mode()\n",
        "def foo():\n",
        "    a = torch.rand(3, 5, requires_grad=True)\n",
        "    b = torch.rand(3, 5, requires_grad=True)\n",
        "\n",
        "    loss = torch.mean(a + b)\n",
        "\n",
        "    print(f'{loss}')\n",
        "\n",
        "    return a, b"
      ]
    },
    {
      "cell_type": "code",
      "execution_count": null,
      "metadata": {
        "colab": {
          "base_uri": "https://localhost:8080/"
        },
        "id": "KtdSTtwUohxr",
        "outputId": "d19ea706-cda1-4556-8956-2bddcefd2e7a"
      },
      "outputs": [
        {
          "output_type": "stream",
          "name": "stdout",
          "text": [
            "0.7915003895759583\n"
          ]
        }
      ],
      "source": [
        "a, b = foo()"
      ]
    },
    {
      "cell_type": "code",
      "execution_count": null,
      "metadata": {
        "colab": {
          "base_uri": "https://localhost:8080/"
        },
        "id": "8v9tbVcGohxr",
        "outputId": "9eb0c9ca-df11-4f25-8ed5-9ff4c13a99e5"
      },
      "outputs": [
        {
          "output_type": "execute_result",
          "data": {
            "text/plain": [
              "tensor(-0.0413)"
            ]
          },
          "metadata": {},
          "execution_count": 178
        }
      ],
      "source": [
        "torch.mean(a - b)"
      ]
    },
    {
      "cell_type": "code",
      "execution_count": null,
      "metadata": {
        "id": "c0l8JbCFohxs",
        "colab": {
          "base_uri": "https://localhost:8080/",
          "height": 144
        },
        "outputId": "cf0cc472-ab65-4ea5-a507-94c069024e04"
      },
      "outputs": [
        {
          "output_type": "error",
          "ename": "RuntimeError",
          "evalue": "Setting requires_grad=True on inference tensor outside InferenceMode is not allowed.",
          "traceback": [
            "\u001b[0;31m---------------------------------------------------------------------------\u001b[0m",
            "\u001b[0;31mRuntimeError\u001b[0m                              Traceback (most recent call last)",
            "\u001b[0;32m<ipython-input-180-41ec1f513950>\u001b[0m in \u001b[0;36m<cell line: 1>\u001b[0;34m()\u001b[0m\n\u001b[0;32m----> 1\u001b[0;31m \u001b[0ma\u001b[0m\u001b[0;34m.\u001b[0m\u001b[0mrequires_grad\u001b[0m \u001b[0;34m=\u001b[0m \u001b[0;32mTrue\u001b[0m\u001b[0;34m\u001b[0m\u001b[0;34m\u001b[0m\u001b[0m\n\u001b[0m",
            "\u001b[0;31mRuntimeError\u001b[0m: Setting requires_grad=True on inference tensor outside InferenceMode is not allowed."
          ]
        }
      ],
      "source": [
        "a.requires_grad = True"
      ]
    },
    {
      "cell_type": "markdown",
      "metadata": {
        "id": "cCt8-2uQohxs",
        "pycharm": {
          "name": "#%% md\n"
        }
      },
      "source": [
        "## Полносвязные слои и функции активации в `PyTorch`"
      ]
    },
    {
      "cell_type": "code",
      "execution_count": null,
      "metadata": {
        "id": "ZhDarDjAohxs",
        "pycharm": {
          "name": "#%%\n"
        }
      },
      "outputs": [],
      "source": [
        "from torch import nn"
      ]
    },
    {
      "cell_type": "markdown",
      "metadata": {
        "id": "zFa3GJl2ohxs",
        "pycharm": {
          "name": "#%% md\n"
        }
      },
      "source": [
        "### Полносвязный слой\n",
        "\n",
        ">$y_j = \\sum\\limits_{i=1}^{n}x_iw_{ji} + b_j$\n"
      ]
    },
    {
      "cell_type": "code",
      "execution_count": null,
      "metadata": {
        "id": "Bjqp_wB4ohxt",
        "pycharm": {
          "name": "#%%\n"
        }
      },
      "outputs": [],
      "source": [
        "layer = nn.Linear(in_features=5, out_features=3)"
      ]
    },
    {
      "cell_type": "code",
      "execution_count": null,
      "metadata": {
        "id": "VU4-Qyvlohxt",
        "outputId": "b4fe979f-ebbd-4971-cf55-4f7de4ff369b",
        "pycharm": {
          "name": "#%%\n"
        },
        "colab": {
          "base_uri": "https://localhost:8080/"
        }
      },
      "outputs": [
        {
          "output_type": "execute_result",
          "data": {
            "text/plain": [
              "Linear(in_features=5, out_features=3, bias=True)"
            ]
          },
          "metadata": {},
          "execution_count": 201
        }
      ],
      "source": [
        "layer"
      ]
    },
    {
      "cell_type": "code",
      "source": [
        "x @ w.T + b"
      ],
      "metadata": {
        "id": "ABYiWUUTi7YU"
      },
      "execution_count": null,
      "outputs": []
    },
    {
      "cell_type": "code",
      "execution_count": null,
      "metadata": {
        "colab": {
          "base_uri": "https://localhost:8080/"
        },
        "id": "MC6vZr2mohxt",
        "outputId": "9699dd75-a8f3-448d-b118-85873d808372"
      },
      "outputs": [
        {
          "output_type": "execute_result",
          "data": {
            "text/plain": [
              "torch.Size([3, 5])"
            ]
          },
          "metadata": {},
          "execution_count": 205
        }
      ],
      "source": [
        "layer.weight.shape"
      ]
    },
    {
      "cell_type": "code",
      "execution_count": null,
      "metadata": {
        "colab": {
          "base_uri": "https://localhost:8080/"
        },
        "id": "XLenAPVwohxt",
        "outputId": "01f985c9-c08f-4812-f73f-001beefc1bdc"
      },
      "outputs": [
        {
          "output_type": "execute_result",
          "data": {
            "text/plain": [
              "torch.Size([3, 5])"
            ]
          },
          "metadata": {},
          "execution_count": 206
        }
      ],
      "source": [
        "layer.weight.shape"
      ]
    },
    {
      "cell_type": "code",
      "execution_count": null,
      "metadata": {
        "id": "af88XeNmohxt"
      },
      "outputs": [],
      "source": [
        "layer.bias"
      ]
    },
    {
      "cell_type": "code",
      "execution_count": null,
      "metadata": {
        "id": "0cSzMY3Cohxu"
      },
      "outputs": [],
      "source": [
        "layer = nn.Linear(in_features=5, out_features=3, bias=False)"
      ]
    },
    {
      "cell_type": "code",
      "execution_count": null,
      "metadata": {
        "id": "IxUTL_pYohxu"
      },
      "outputs": [],
      "source": [
        "layer.bias"
      ]
    },
    {
      "cell_type": "code",
      "execution_count": null,
      "metadata": {
        "colab": {
          "base_uri": "https://localhost:8080/",
          "height": 121
        },
        "id": "JK71Y6AIohxu",
        "outputId": "a17c7ba2-87dc-4930-a2a4-2a112b90cc5d"
      },
      "outputs": [
        {
          "output_type": "execute_result",
          "data": {
            "text/plain": [
              "<bound method Module._wrapped_call_impl of Linear(in_features=5, out_features=3, bias=False)>"
            ],
            "text/html": [
              "<div style=\"max-width:800px; border: 1px solid var(--colab-border-color);\"><style>\n",
              "      pre.function-repr-contents {\n",
              "        overflow-x: auto;\n",
              "        padding: 8px 12px;\n",
              "        max-height: 500px;\n",
              "      }\n",
              "\n",
              "      pre.function-repr-contents.function-repr-contents-collapsed {\n",
              "        cursor: pointer;\n",
              "        max-height: 100px;\n",
              "      }\n",
              "    </style>\n",
              "    <pre style=\"white-space: initial; background:\n",
              "         var(--colab-secondary-surface-color); padding: 8px 12px;\n",
              "         border-bottom: 1px solid var(--colab-border-color);\"><b>torch.nn.modules.module.Module._wrapped_call_impl</b><br/>def _wrapped_call_impl(*args, **kwargs)</pre><pre class=\"function-repr-contents function-repr-contents-collapsed\" style=\"\"><a class=\"filepath\" style=\"display:none\" href=\"#\">/usr/local/lib/python3.10/dist-packages/torch/nn/modules/module.py</a>&lt;no docstring&gt;</pre>\n",
              "      <script>\n",
              "      if (google.colab.kernel.accessAllowed && google.colab.files && google.colab.files.view) {\n",
              "        for (const element of document.querySelectorAll('.filepath')) {\n",
              "          element.style.display = 'block'\n",
              "          element.onclick = (event) => {\n",
              "            event.preventDefault();\n",
              "            event.stopPropagation();\n",
              "            google.colab.files.view(element.textContent, 1549);\n",
              "          };\n",
              "        }\n",
              "      }\n",
              "      for (const element of document.querySelectorAll('.function-repr-contents')) {\n",
              "        element.onclick = (event) => {\n",
              "          event.preventDefault();\n",
              "          event.stopPropagation();\n",
              "          element.classList.toggle('function-repr-contents-collapsed');\n",
              "        };\n",
              "      }\n",
              "      </script>\n",
              "      </div>"
            ]
          },
          "metadata": {},
          "execution_count": 215
        }
      ],
      "source": [
        "layer.__call__"
      ]
    },
    {
      "cell_type": "code",
      "execution_count": null,
      "metadata": {
        "colab": {
          "base_uri": "https://localhost:8080/"
        },
        "id": "geY6vd67ohxu",
        "outputId": "e664f6bf-921f-4ef9-9e58-3df340f056e3",
        "pycharm": {
          "name": "#%%\n"
        }
      },
      "outputs": [
        {
          "output_type": "stream",
          "name": "stdout",
          "text": [
            "tensor([ 0.1581,  0.2214, -0.1437], grad_fn=<SqueezeBackward4>)\n"
          ]
        }
      ],
      "source": [
        "x = torch.randn(5)\n",
        "\n",
        "print(layer(x))"
      ]
    },
    {
      "cell_type": "code",
      "execution_count": null,
      "metadata": {
        "id": "hI95N5SM8Z8M",
        "outputId": "be698eb1-bdc6-4117-e246-cad80094e353",
        "colab": {
          "base_uri": "https://localhost:8080/"
        }
      },
      "outputs": [
        {
          "output_type": "execute_result",
          "data": {
            "text/plain": [
              "tensor([[ 2.9972,  1.0056, -0.1279,  3.8976, -0.8521],\n",
              "        [ 2.9972,  1.0056, -0.1279,  3.8976, -0.8521],\n",
              "        [ 2.9972,  1.0056, -0.1279,  3.8976, -0.8521]])"
            ]
          },
          "metadata": {},
          "execution_count": 218
        }
      ],
      "source": [
        "layer(x).sum().backward()\n",
        "layer.weight.grad"
      ]
    },
    {
      "cell_type": "markdown",
      "metadata": {
        "id": "H3GrUrbrohxu",
        "pycharm": {
          "name": "#%% md\n"
        }
      },
      "source": [
        "### Функции активации"
      ]
    },
    {
      "cell_type": "markdown",
      "metadata": {
        "id": "3ezdQk0_ohxu",
        "pycharm": {
          "name": "#%% md\n"
        }
      },
      "source": [
        "> Сигмоида $f(x) = \\dfrac{1}{1 + e^{-x}}$"
      ]
    },
    {
      "cell_type": "code",
      "execution_count": null,
      "metadata": {
        "id": "K7tuFQ1sohxv",
        "pycharm": {
          "name": "#%%\n"
        }
      },
      "outputs": [],
      "source": [
        "activation = nn.Sigmoid()"
      ]
    },
    {
      "cell_type": "code",
      "execution_count": null,
      "metadata": {
        "colab": {
          "base_uri": "https://localhost:8080/"
        },
        "id": "Ilro77uYohxv",
        "outputId": "3022e25a-b468-48d8-acdf-6a4d65eca3ab",
        "pycharm": {
          "name": "#%%\n"
        }
      },
      "outputs": [
        {
          "output_type": "stream",
          "name": "stdout",
          "text": [
            "tensor([-1.2551, -0.5240,  0.7564, -0.0054,  0.1300])\n",
            "tensor([0.2218, 0.3719, 0.6806, 0.4986, 0.5325])\n"
          ]
        }
      ],
      "source": [
        "x = torch.randn(5)\n",
        "\n",
        "print(x)\n",
        "\n",
        "print(activation(x))"
      ]
    },
    {
      "cell_type": "markdown",
      "metadata": {
        "id": "YMua83bbohxv",
        "pycharm": {
          "name": "#%% md\n"
        }
      },
      "source": [
        "> ReLU $f(x) = \\max(0, x)$"
      ]
    },
    {
      "cell_type": "code",
      "execution_count": null,
      "metadata": {
        "id": "Dvi3A22Dohxv",
        "pycharm": {
          "name": "#%%\n"
        }
      },
      "outputs": [],
      "source": [
        "activation = nn.ReLU()"
      ]
    },
    {
      "cell_type": "code",
      "execution_count": null,
      "metadata": {
        "colab": {
          "base_uri": "https://localhost:8080/"
        },
        "id": "935cJPl6ohxv",
        "outputId": "870184c1-9dc9-436c-dd5b-9179ffdc4ab9",
        "pycharm": {
          "name": "#%%\n"
        }
      },
      "outputs": [
        {
          "output_type": "stream",
          "name": "stdout",
          "text": [
            "tensor([ 0.1922,  0.3827, -0.7457,  0.7524, -0.8754])\n",
            "tensor([0.1922, 0.3827, 0.0000, 0.7524, 0.0000])\n"
          ]
        }
      ],
      "source": [
        "x = torch.randn(5)\n",
        "\n",
        "print(x)\n",
        "\n",
        "print(activation(x))"
      ]
    },
    {
      "cell_type": "markdown",
      "metadata": {
        "id": "cQ8CaMRFohxw",
        "pycharm": {
          "name": "#%% md\n"
        }
      },
      "source": [
        "> Leaky ReLU $f(x) = \\max(0, x) + \\alpha \\min(0, x)$"
      ]
    },
    {
      "cell_type": "code",
      "execution_count": null,
      "metadata": {
        "id": "K3Nx9eUSohxw",
        "pycharm": {
          "name": "#%%\n"
        }
      },
      "outputs": [],
      "source": [
        "activation = nn.LeakyReLU(negative_slope=0.001)"
      ]
    },
    {
      "cell_type": "code",
      "execution_count": null,
      "metadata": {
        "colab": {
          "base_uri": "https://localhost:8080/"
        },
        "id": "DAm7M_Kmohxw",
        "outputId": "50f3fb95-ae1a-49ec-b7f2-7a68f37c914d",
        "pycharm": {
          "name": "#%%\n"
        }
      },
      "outputs": [
        {
          "output_type": "stream",
          "name": "stdout",
          "text": [
            "tensor([0.2054, 1.1214, 0.6880, 1.0917, 0.3360])\n",
            "tensor([0.2054, 1.1214, 0.6880, 1.0917, 0.3360])\n"
          ]
        }
      ],
      "source": [
        "x = torch.randn(5)\n",
        "\n",
        "print(x)\n",
        "\n",
        "print(activation(x))"
      ]
    },
    {
      "cell_type": "markdown",
      "metadata": {
        "id": "navfAbPp8Z8O"
      },
      "source": [
        "### Код из прошлого года, для самостоятельного разбора"
      ]
    },
    {
      "cell_type": "code",
      "execution_count": null,
      "metadata": {
        "colab": {
          "base_uri": "https://localhost:8080/"
        },
        "id": "1hBG7BjMohxg",
        "outputId": "a145724f-3884-4b14-fe18-72d82b17b520"
      },
      "outputs": [
        {
          "name": "stdout",
          "output_type": "stream",
          "text": [
            "None=\n",
            "\n",
            "None=\n",
            "\n",
            "None=\n",
            "\n",
            "None=\n",
            "\n"
          ]
        },
        {
          "name": "stderr",
          "output_type": "stream",
          "text": [
            "/usr/local/lib/python3.7/dist-packages/torch/_tensor.py:1083: UserWarning: The .grad attribute of a Tensor that is not a leaf Tensor is being accessed. Its .grad attribute won't be populated during autograd.backward(). If you indeed want the .grad field to be populated for a non-leaf Tensor, use .retain_grad() on the non-leaf Tensor. If you access the non-leaf Tensor by mistake, make sure you access the leaf Tensor instead. See github.com/pytorch/pytorch/pull/30531 for more informations. (Triggered internally at  aten/src/ATen/core/TensorBody.h:477.)\n",
            "  return self._grad\n"
          ]
        }
      ],
      "source": [
        "print(f'{x.grad}=\\n')\n",
        "print(f'{w.grad}=\\n')\n",
        "print(f'{z.grad}=\\n')\n",
        "print(f'{v.grad}=\\n')"
      ]
    },
    {
      "cell_type": "code",
      "execution_count": null,
      "metadata": {
        "id": "DiudrtNsQ10m"
      },
      "outputs": [],
      "source": []
    },
    {
      "cell_type": "code",
      "execution_count": null,
      "metadata": {
        "id": "uOK3U0gmohxg"
      },
      "outputs": [],
      "source": [
        "loss.backward()"
      ]
    },
    {
      "cell_type": "code",
      "execution_count": null,
      "metadata": {
        "colab": {
          "base_uri": "https://localhost:8080/"
        },
        "id": "O9uhG7TPQMUC",
        "outputId": "130ab149-2f8d-4cfc-85aa-a3cc7083372d"
      },
      "outputs": [
        {
          "data": {
            "text/plain": [
              "(torch.float32, tensor(1.3859, grad_fn=<MeanBackward0>))"
            ]
          },
          "execution_count": 38,
          "metadata": {},
          "output_type": "execute_result"
        }
      ],
      "source": [
        "loss.dtype, loss"
      ]
    },
    {
      "cell_type": "code",
      "execution_count": null,
      "metadata": {
        "colab": {
          "base_uri": "https://localhost:8080/"
        },
        "id": "8zM7Aln4ohxg",
        "outputId": "3da730cb-4df3-4f75-8012-c80e9cb727a9"
      },
      "outputs": [
        {
          "name": "stdout",
          "output_type": "stream",
          "text": [
            "xNone=\n",
            "\n",
            "wtensor([[0.7890, 0.3063, 0.4679, 0.4546, 0.8373],\n",
            "        [1.3126, 0.5095, 0.7784, 0.7563, 1.3931],\n",
            "        [1.4398, 0.5589, 0.8539, 0.8296, 1.5280]])=\n",
            "\n",
            "zNone=\n",
            "\n",
            "vtensor([1.8840, 3.2169, 4.5352])=\n",
            "\n"
          ]
        }
      ],
      "source": [
        "print(f'x{x.grad}=\\n')\n",
        "print(f'w{w.grad}=\\n')\n",
        "print(f'z{z.grad}=\\n')\n",
        "print(f'v{v.grad}=\\n')"
      ]
    },
    {
      "cell_type": "code",
      "execution_count": null,
      "metadata": {
        "colab": {
          "base_uri": "https://localhost:8080/"
        },
        "id": "455fcB1fohxg",
        "outputId": "7e170a82-f59f-490c-d21a-468dd1d9a310"
      },
      "outputs": [
        {
          "data": {
            "text/plain": [
              "(tensor([0.4976], requires_grad=True), tensor([0.1180], requires_grad=True))"
            ]
          },
          "execution_count": 39,
          "metadata": {},
          "output_type": "execute_result"
        }
      ],
      "source": [
        "a = torch.rand(1, requires_grad=True)\n",
        "b = torch.rand(1, requires_grad=True)\n",
        "\n",
        "a, b"
      ]
    },
    {
      "cell_type": "code",
      "execution_count": null,
      "metadata": {
        "id": "32mnxwyVQ7Kz"
      },
      "outputs": [],
      "source": [
        "c = a\n",
        "c = c + b\n",
        "c = c + a"
      ]
    },
    {
      "cell_type": "code",
      "execution_count": null,
      "metadata": {
        "id": "fO4ZhLfYRBCg"
      },
      "outputs": [],
      "source": [
        "c = torch.rand((1, 2, 3))"
      ]
    },
    {
      "cell_type": "code",
      "execution_count": null,
      "metadata": {
        "colab": {
          "base_uri": "https://localhost:8080/"
        },
        "id": "OGRfPsn1ohxh",
        "outputId": "222516a9-e75a-4d7d-c57f-3d24d59848e4"
      },
      "outputs": [
        {
          "data": {
            "text/plain": [
              "tensor([0.3796], grad_fn=<SubBackward0>)"
            ]
          },
          "execution_count": 41,
          "metadata": {},
          "output_type": "execute_result"
        }
      ],
      "source": [
        "loss = (a - b)\n",
        "\n",
        "loss"
      ]
    },
    {
      "cell_type": "code",
      "execution_count": null,
      "metadata": {
        "colab": {
          "base_uri": "https://localhost:8080/"
        },
        "id": "SqcFhBi6ohxh",
        "outputId": "3b54484e-0472-4df6-b74c-c116395f6da3"
      },
      "outputs": [
        {
          "name": "stdout",
          "output_type": "stream",
          "text": [
            "None=\n",
            "\n",
            "None=\n",
            "\n"
          ]
        }
      ],
      "source": [
        "print(f'{a.grad}=\\n')\n",
        "print(f'{b.grad}=\\n')"
      ]
    },
    {
      "cell_type": "code",
      "execution_count": null,
      "metadata": {
        "id": "_xgyZQTLohxh"
      },
      "outputs": [],
      "source": [
        "loss.backward()"
      ]
    },
    {
      "cell_type": "code",
      "execution_count": null,
      "metadata": {
        "colab": {
          "base_uri": "https://localhost:8080/"
        },
        "id": "p95UQk1Wohxh",
        "outputId": "23bb5b60-aee7-4430-f849-b474b478a80b"
      },
      "outputs": [
        {
          "name": "stdout",
          "output_type": "stream",
          "text": [
            "tensor([1.])=\n",
            "\n",
            "tensor([-1.])=\n",
            "\n"
          ]
        }
      ],
      "source": [
        "print(f'{a.grad}=\\n')  # 1\n",
        "print(f'{b.grad}=\\n')  # -1"
      ]
    },
    {
      "cell_type": "code",
      "execution_count": null,
      "metadata": {
        "colab": {
          "base_uri": "https://localhost:8080/"
        },
        "id": "DPKMzogEohxh",
        "outputId": "4aa027bb-a80e-4c7d-cfd0-651affd87b4e"
      },
      "outputs": [
        {
          "data": {
            "text/plain": [
              "tensor([0.])"
            ]
          },
          "execution_count": 45,
          "metadata": {},
          "output_type": "execute_result"
        }
      ],
      "source": [
        "a.grad.zero_()\n",
        "b.grad.zero_()"
      ]
    },
    {
      "cell_type": "code",
      "execution_count": null,
      "metadata": {
        "colab": {
          "base_uri": "https://localhost:8080/"
        },
        "id": "9daN1dBnohxi",
        "outputId": "2b349419-2ca1-459a-fa4d-2a07d5e83bd9",
        "pycharm": {
          "name": "#%%\n"
        }
      },
      "outputs": [
        {
          "data": {
            "text/plain": [
              "tensor([0.1441], grad_fn=<PowBackward0>)"
            ]
          },
          "execution_count": 46,
          "metadata": {},
          "output_type": "execute_result"
        }
      ],
      "source": [
        "loss = (a - b) ** 2\n",
        "\n",
        "loss"
      ]
    },
    {
      "cell_type": "code",
      "execution_count": null,
      "metadata": {
        "id": "Boq4LFtnohxi",
        "outputId": "4c69d5fc-4398-4737-d24f-92f25d3a9da5",
        "pycharm": {
          "name": "#%%\n"
        }
      },
      "outputs": [
        {
          "name": "stdout",
          "output_type": "stream",
          "text": [
            "a.grad=tensor([0.])\n",
            "\n",
            "b.grad=tensor([0.])\n",
            "\n"
          ]
        }
      ],
      "source": [
        "print(f'{a.grad=}\\n')\n",
        "print(f'{b.grad=}\\n')"
      ]
    },
    {
      "cell_type": "code",
      "execution_count": null,
      "metadata": {
        "id": "uf2oDiz7ohxi",
        "pycharm": {
          "name": "#%%\n"
        }
      },
      "outputs": [],
      "source": [
        "loss.backward()"
      ]
    },
    {
      "cell_type": "code",
      "execution_count": null,
      "metadata": {
        "id": "Z8j23Es0ohxi",
        "outputId": "385177ce-05c2-49be-bf1b-a90a0061d62d"
      },
      "outputs": [
        {
          "name": "stdout",
          "output_type": "stream",
          "text": [
            "a.grad=tensor([0.2736])\n",
            "\n",
            "b.grad=tensor([-0.2736])\n",
            "\n"
          ]
        }
      ],
      "source": [
        "print(f'{a.grad=}\\n')  # 2 * (a - b)\n",
        "print(f'{b.grad=}\\n')  # -2 * (a - b)"
      ]
    },
    {
      "cell_type": "code",
      "execution_count": null,
      "metadata": {
        "id": "RI_-RuO9ohxi",
        "outputId": "f07cd5eb-93da-439d-d09c-b6424d433489"
      },
      "outputs": [
        {
          "data": {
            "text/plain": [
              "tensor([0.2736], grad_fn=<MulBackward0>)"
            ]
          },
          "execution_count": 87,
          "metadata": {},
          "output_type": "execute_result"
        }
      ],
      "source": [
        "2 * (a - b)"
      ]
    },
    {
      "cell_type": "code",
      "execution_count": null,
      "metadata": {
        "id": "sapJ47vIohxj",
        "outputId": "3a9c6af8-d1d7-4675-b391-146645726d15"
      },
      "outputs": [
        {
          "data": {
            "text/plain": [
              "(tensor([[0.3279, 0.5942, 0.6495, 0.8076, 0.6961],\n",
              "         [0.7243, 0.3865, 0.4297, 0.0069, 0.3211],\n",
              "         [0.9084, 0.0009, 0.5393, 0.4543, 0.1057]], requires_grad=True),\n",
              " tensor([[0.3158, 0.7038, 0.3901, 0.7456, 0.8604],\n",
              "         [0.4813, 0.8476, 0.9554, 0.9591, 0.9958],\n",
              "         [0.5856, 0.4295, 0.9476, 0.6895, 0.3585]], requires_grad=True))"
            ]
          },
          "execution_count": 88,
          "metadata": {},
          "output_type": "execute_result"
        }
      ],
      "source": [
        "a = torch.rand(3, 5, requires_grad=True)\n",
        "b = torch.rand(3, 5, requires_grad=True)\n",
        "\n",
        "a, b"
      ]
    },
    {
      "cell_type": "code",
      "execution_count": null,
      "metadata": {
        "id": "DYEQCbpWohxj",
        "outputId": "4ffbf127-e6bd-46bd-baf6-4846ab3e74f0"
      },
      "outputs": [
        {
          "data": {
            "text/plain": [
              "tensor(0.3189, grad_fn=<MeanBackward0>)"
            ]
          },
          "execution_count": 89,
          "metadata": {},
          "output_type": "execute_result"
        }
      ],
      "source": [
        "loss = torch.mean(a * b)\n",
        "\n",
        "loss"
      ]
    },
    {
      "cell_type": "code",
      "execution_count": null,
      "metadata": {
        "id": "kaBBlfrMohxj",
        "outputId": "4f64feb6-f623-42da-ccc2-b47e6bbbe317"
      },
      "outputs": [
        {
          "name": "stdout",
          "output_type": "stream",
          "text": [
            "a.grad=None\n",
            "\n",
            "b.grad=None\n",
            "\n"
          ]
        }
      ],
      "source": [
        "print(f'{a.grad=}\\n')\n",
        "print(f'{b.grad=}\\n')"
      ]
    },
    {
      "cell_type": "code",
      "execution_count": null,
      "metadata": {
        "id": "FXHtFht1ohxk"
      },
      "outputs": [],
      "source": [
        "loss.backward()"
      ]
    },
    {
      "cell_type": "code",
      "execution_count": null,
      "metadata": {
        "id": "KoZSFHa1ohxk",
        "outputId": "752d7f20-de06-4137-e75e-b62460dfd31f"
      },
      "outputs": [
        {
          "name": "stdout",
          "output_type": "stream",
          "text": [
            "a.grad=tensor([[0.0211, 0.0469, 0.0260, 0.0497, 0.0574],\n",
            "        [0.0321, 0.0565, 0.0637, 0.0639, 0.0664],\n",
            "        [0.0390, 0.0286, 0.0632, 0.0460, 0.0239]])\n",
            "\n",
            "b.grad=tensor([[2.1862e-02, 3.9616e-02, 4.3297e-02, 5.3840e-02, 4.6404e-02],\n",
            "        [4.8289e-02, 2.5765e-02, 2.8644e-02, 4.6089e-04, 2.1404e-02],\n",
            "        [6.0560e-02, 6.2525e-05, 3.5952e-02, 3.0284e-02, 7.0479e-03]])\n",
            "\n"
          ]
        }
      ],
      "source": [
        "print(f'{a.grad=}\\n')  # b / (3 * 5)\n",
        "print(f'{b.grad=}\\n')  # a / (3 * 5)"
      ]
    },
    {
      "cell_type": "code",
      "execution_count": null,
      "metadata": {
        "id": "ZdnOa2-Pohxk",
        "outputId": "51187565-e45e-4617-e590-fe501738f97b"
      },
      "outputs": [
        {
          "data": {
            "text/plain": [
              "tensor([[2.1862e-02, 3.9616e-02, 4.3297e-02, 5.3840e-02, 4.6404e-02],\n",
              "        [4.8289e-02, 2.5765e-02, 2.8644e-02, 4.6089e-04, 2.1404e-02],\n",
              "        [6.0560e-02, 6.2525e-05, 3.5952e-02, 3.0284e-02, 7.0479e-03]],\n",
              "       grad_fn=<DivBackward0>)"
            ]
          },
          "execution_count": 93,
          "metadata": {},
          "output_type": "execute_result"
        }
      ],
      "source": [
        "a / 15"
      ]
    },
    {
      "cell_type": "code",
      "execution_count": null,
      "metadata": {
        "id": "rl5MjASxohxk",
        "outputId": "da0375a2-4487-475b-fc79-b0844cae1bb5"
      },
      "outputs": [
        {
          "data": {
            "text/plain": [
              "tensor([[0.0211, 0.0469, 0.0260, 0.0497, 0.0574],\n",
              "        [0.0321, 0.0565, 0.0637, 0.0639, 0.0664],\n",
              "        [0.0390, 0.0286, 0.0632, 0.0460, 0.0239]], grad_fn=<DivBackward0>)"
            ]
          },
          "execution_count": 94,
          "metadata": {},
          "output_type": "execute_result"
        }
      ],
      "source": [
        "b / 15"
      ]
    },
    {
      "cell_type": "code",
      "execution_count": null,
      "metadata": {
        "id": "rik_GoG8ohxl",
        "outputId": "44063f72-9bf1-4308-f4bd-2fd49f9afb41",
        "pycharm": {
          "name": "#%%\n"
        }
      },
      "outputs": [
        {
          "name": "stdout",
          "output_type": "stream",
          "text": [
            "a=tensor([[0.9249, 0.5178, 0.4018, 0.5241, 0.2307],\n",
            "        [0.4165, 0.5878, 0.6177, 0.4664, 0.3297],\n",
            "        [0.2164, 0.3102, 0.1307, 0.8902, 0.9583]], requires_grad=True)\n",
            "\n",
            "a.grad=None\n",
            "\n",
            "a.grad=tensor([[1.8499, 1.0356, 0.8036, 1.0483, 0.4613],\n",
            "        [0.8329, 1.1757, 1.2353, 0.9329, 0.6594],\n",
            "        [0.4329, 0.6204, 0.2613, 1.7805, 1.9166]])\n",
            "\n",
            "a.grad=tensor([[2.8499, 2.0356, 1.8036, 2.0483, 1.4613],\n",
            "        [1.8329, 2.1757, 2.2353, 1.9329, 1.6594],\n",
            "        [1.4329, 1.6204, 1.2613, 2.7805, 2.9166]])\n",
            "\n"
          ]
        }
      ],
      "source": [
        "a = torch.rand(3, 5, requires_grad=True)\n",
        "\n",
        "print(f'{a=}\\n')\n",
        "\n",
        "loss1 = torch.sum(a ** 2) # 2a\n",
        "loss2 = torch.sum(a) # 1\n",
        "\n",
        "print(f'{a.grad=}\\n')\n",
        "\n",
        "loss1.backward()\n",
        "\n",
        "print(f'{a.grad=}\\n')\n",
        "\n",
        "loss2.backward()\n",
        "\n",
        "print(f'{a.grad=}\\n')"
      ]
    },
    {
      "cell_type": "code",
      "execution_count": null,
      "metadata": {
        "id": "jJJnltz9ohxl",
        "outputId": "a857b368-9175-42ef-f885-514981543de3"
      },
      "outputs": [
        {
          "name": "stdout",
          "output_type": "stream",
          "text": [
            "2*a=tensor([[1.8499, 1.0356, 0.8036, 1.0483, 0.4613],\n",
            "        [0.8329, 1.1757, 1.2353, 0.9329, 0.6594],\n",
            "        [0.4329, 0.6204, 0.2613, 1.7805, 1.9166]], grad_fn=<MulBackward0>)\n",
            "\n",
            "2*a+1=tensor([[2.8499, 2.0356, 1.8036, 2.0483, 1.4613],\n",
            "        [1.8329, 2.1757, 2.2353, 1.9329, 1.6594],\n",
            "        [1.4329, 1.6204, 1.2613, 2.7805, 2.9166]], grad_fn=<AddBackward0>)\n"
          ]
        }
      ],
      "source": [
        "print(f'{2*a=}\\n')\n",
        "print(f'{2*a+1=}')"
      ]
    },
    {
      "cell_type": "code",
      "execution_count": null,
      "metadata": {
        "id": "bTHo21I3ohxl",
        "outputId": "5da97790-8408-4f60-8fe9-795274d01a79"
      },
      "outputs": [
        {
          "data": {
            "text/plain": [
              "(tensor([[0.9585, 0.8137, 0.7837, 0.3117, 0.5308],\n",
              "         [0.5991, 0.7310, 0.9645, 0.7374, 0.7492],\n",
              "         [0.5522, 0.8426, 0.0137, 0.8135, 0.0080]], requires_grad=True),\n",
              " tensor([[0.0779, 0.3624, 0.0938, 0.1770, 0.2233],\n",
              "         [0.3437, 0.3984, 0.9332, 0.7502, 0.0515],\n",
              "         [0.3722, 0.6910, 0.0804, 0.5425, 0.1549]]))"
            ]
          },
          "execution_count": 97,
          "metadata": {},
          "output_type": "execute_result"
        }
      ],
      "source": [
        "a = torch.rand(3, 5, requires_grad=True)\n",
        "b = torch.rand(3, 5, requires_grad=False)\n",
        "\n",
        "a, b"
      ]
    },
    {
      "cell_type": "code",
      "execution_count": null,
      "metadata": {
        "id": "xJwIfKProhxl",
        "outputId": "5bd036a0-1e38-4af8-f593-a5e5a2fde2c4"
      },
      "outputs": [
        {
          "data": {
            "text/plain": [
              "tensor(4.1571, grad_fn=<SumBackward0>)"
            ]
          },
          "execution_count": 98,
          "metadata": {},
          "output_type": "execute_result"
        }
      ],
      "source": [
        "loss = torch.sum(a - b)\n",
        "\n",
        "loss"
      ]
    },
    {
      "cell_type": "code",
      "execution_count": null,
      "metadata": {
        "id": "ltJzr__8ohxm",
        "outputId": "8352cdfe-7844-41cd-9942-254b6004460a"
      },
      "outputs": [
        {
          "name": "stdout",
          "output_type": "stream",
          "text": [
            "a.grad=None\n",
            "\n",
            "b.grad=None\n",
            "\n"
          ]
        }
      ],
      "source": [
        "print(f'{a.grad=}\\n')\n",
        "print(f'{b.grad=}\\n')"
      ]
    },
    {
      "cell_type": "code",
      "execution_count": null,
      "metadata": {
        "id": "PJg3yiJBohxm"
      },
      "outputs": [],
      "source": [
        "loss.backward()"
      ]
    },
    {
      "cell_type": "code",
      "execution_count": null,
      "metadata": {
        "id": "oCEyVrtCohxm",
        "outputId": "bccf9d60-0253-464b-e174-6f04f03165c9"
      },
      "outputs": [
        {
          "name": "stdout",
          "output_type": "stream",
          "text": [
            "a.grad=tensor([[1., 1., 1., 1., 1.],\n",
            "        [1., 1., 1., 1., 1.],\n",
            "        [1., 1., 1., 1., 1.]])\n",
            "\n",
            "b.grad=None\n",
            "\n"
          ]
        }
      ],
      "source": [
        "print(f'{a.grad=}\\n')  # all ones\n",
        "print(f'{b.grad=}\\n')  # None"
      ]
    },
    {
      "cell_type": "code",
      "execution_count": null,
      "metadata": {
        "id": "RWZb065Iohxm",
        "outputId": "f4f38819-85b2-4d44-b4d7-6baa714408fd"
      },
      "outputs": [
        {
          "data": {
            "text/plain": [
              "(tensor([[0.4873, 0.0094, 0.3410, 0.6388, 0.3698],\n",
              "         [0.3318, 0.3989, 0.4540, 0.8396, 0.7872],\n",
              "         [0.2356, 0.5495, 0.3216, 0.0462, 0.1471]], requires_grad=True),\n",
              " tensor([[0.9219, 0.8603, 0.0196, 0.7148, 0.3156],\n",
              "         [0.4160, 0.4039, 0.9161, 0.9858, 0.4589],\n",
              "         [0.9566, 0.1626, 0.5449, 0.9074, 0.7661]], requires_grad=True))"
            ]
          },
          "execution_count": 102,
          "metadata": {},
          "output_type": "execute_result"
        }
      ],
      "source": [
        "a = torch.rand(3, 5, requires_grad=True)\n",
        "b = torch.rand(3, 5, requires_grad=True)\n",
        "\n",
        "a, b"
      ]
    },
    {
      "cell_type": "markdown",
      "metadata": {
        "id": "_Q6wcu-Zohxw",
        "pycharm": {
          "name": "#%% md\n"
        }
      },
      "source": [
        "## Градиентный спуск своими руками"
      ]
    },
    {
      "cell_type": "code",
      "execution_count": null,
      "metadata": {
        "id": "LHpcIxO7ohxw",
        "pycharm": {
          "name": "#%%\n"
        }
      },
      "outputs": [],
      "source": [
        "n_features = 2\n",
        "n_objects = 300\n",
        "\n",
        "torch.manual_seed(0)\n",
        "\n",
        "w_true = torch.randn(n_features)\n",
        "b_true = torch.randn(1)\n",
        "\n",
        "x = (torch.rand(n_objects, n_features) - 0.5) * 10 * (torch.arange(n_features) * 2 + 1)\n",
        "y = torch.matmul(x, w_true) + torch.randn(n_objects) + b_true"
      ]
    },
    {
      "cell_type": "code",
      "execution_count": null,
      "metadata": {
        "colab": {
          "base_uri": "https://localhost:8080/"
        },
        "id": "DytIAJr_U_34",
        "outputId": "9e7093b4-54a7-413c-cfed-c332973c8243"
      },
      "outputs": [
        {
          "output_type": "execute_result",
          "data": {
            "text/plain": [
              "(torch.Size([300, 2]), torch.Size([300]), torch.Size([2]), torch.Size([1]))"
            ]
          },
          "metadata": {},
          "execution_count": 227
        }
      ],
      "source": [
        "x.shape, y.shape, w_true.shape, b_true.shape"
      ]
    },
    {
      "cell_type": "code",
      "execution_count": null,
      "metadata": {
        "id": "17PbQyqPohxx",
        "pycharm": {
          "name": "#%%\n"
        }
      },
      "outputs": [],
      "source": [
        "n_steps = 200\n",
        "step_size = 1e-2"
      ]
    },
    {
      "cell_type": "code",
      "execution_count": null,
      "metadata": {
        "colab": {
          "base_uri": "https://localhost:8080/"
        },
        "id": "t1VJ0On3ohxx",
        "outputId": "15aa5069-c214-4559-bd95-2890df2c3546",
        "pycharm": {
          "name": "#%%\n"
        },
        "scrolled": false
      },
      "outputs": [
        {
          "output_type": "stream",
          "name": "stdout",
          "text": [
            "MSE на шаге 1 23.65750\n",
            "MSE на шаге 2 15.53605\n",
            "MSE на шаге 3 12.11575\n",
            "MSE на шаге 4 10.36995\n",
            "MSE на шаге 5 9.30175\n",
            "MSE на шаге 6 8.55659\n",
            "MSE на шаге 7 7.99169\n",
            "MSE на шаге 8 7.53972\n",
            "MSE на шаге 9 7.16377\n",
            "MSE на шаге 10 6.84131\n",
            "MSE на шаге 11 6.55765\n",
            "MSE на шаге 12 6.30292\n",
            "MSE на шаге 13 6.07033\n",
            "MSE на шаге 14 5.85515\n",
            "MSE на шаге 15 5.65409\n",
            "MSE на шаге 16 5.46479\n",
            "MSE на шаге 17 5.28555\n",
            "MSE на шаге 18 5.11514\n",
            "MSE на шаге 19 4.95265\n",
            "MSE на шаге 20 4.79735\n",
            "MSE на шаге 21 4.64871\n",
            "MSE на шаге 31 3.45555\n",
            "MSE на шаге 41 2.65631\n",
            "MSE на шаге 51 2.11964\n",
            "MSE на шаге 61 1.75925\n",
            "MSE на шаге 71 1.51724\n",
            "MSE на шаге 81 1.35471\n",
            "MSE на шаге 91 1.24558\n",
            "MSE на шаге 101 1.17229\n",
            "MSE на шаге 111 1.12307\n",
            "MSE на шаге 121 1.09002\n",
            "MSE на шаге 131 1.06782\n",
            "MSE на шаге 141 1.05292\n",
            "MSE на шаге 151 1.04291\n",
            "MSE на шаге 161 1.03619\n",
            "MSE на шаге 171 1.03168\n",
            "MSE на шаге 181 1.02864\n",
            "MSE на шаге 191 1.02661\n"
          ]
        }
      ],
      "source": [
        "w = torch.rand(n_features, requires_grad=True)\n",
        "b = torch.rand(1, requires_grad=True)\n",
        "\n",
        "for i in range(n_steps):\n",
        "    y_pred = torch.matmul(x, w) + b\n",
        "\n",
        "    mse = torch.mean((y_pred - y) ** 2)\n",
        "\n",
        "    if i < 20 or i % 10 == 0:\n",
        "        print(f'MSE на шаге {i + 1} {mse.item():.5f}')\n",
        "\n",
        "    mse.backward()\n",
        "\n",
        "    with torch.no_grad():\n",
        "        w -= w.grad * step_size\n",
        "        b -= b.grad * step_size\n",
        "\n",
        "    w.grad.zero_()\n",
        "    b.grad.zero_()"
      ]
    },
    {
      "cell_type": "code",
      "source": [
        "w_true, w"
      ],
      "metadata": {
        "colab": {
          "base_uri": "https://localhost:8080/"
        },
        "id": "a6o4sfgmHnYC",
        "outputId": "03a3d355-81b2-4dcc-ddde-dd32b3f1109e"
      },
      "execution_count": null,
      "outputs": [
        {
          "output_type": "execute_result",
          "data": {
            "text/plain": [
              "(tensor([ 1.5410, -0.2934]), tensor([ 1.5492, -0.2854], requires_grad=True))"
            ]
          },
          "metadata": {},
          "execution_count": 230
        }
      ]
    },
    {
      "cell_type": "code",
      "execution_count": null,
      "metadata": {
        "colab": {
          "base_uri": "https://localhost:8080/"
        },
        "id": "3ZPwFjdSohxx",
        "outputId": "a6e3ce3a-a8ad-43a5-b692-4e2fc53cfa6c"
      },
      "outputs": [
        {
          "output_type": "stream",
          "name": "stdout",
          "text": [
            "MSE на шаге 1 24.25042\n",
            "MSE на шаге 2 12.14032\n",
            "MSE на шаге 3 7.56999\n",
            "MSE на шаге 4 5.56054\n",
            "MSE на шаге 5 4.51141\n",
            "MSE на шаге 6 3.87844\n",
            "MSE на шаге 7 3.45734\n",
            "MSE на шаге 8 3.15958\n",
            "MSE на шаге 9 2.94016\n",
            "MSE на шаге 10 2.77302\n",
            "MSE на шаге 11 2.64175\n",
            "MSE на шаге 12 2.53550\n",
            "MSE на шаге 13 2.44699\n",
            "MSE на шаге 14 2.37122\n",
            "MSE на шаге 15 2.30476\n",
            "MSE на шаге 16 2.24524\n",
            "MSE на шаге 17 2.19103\n",
            "MSE на шаге 18 2.14098\n",
            "MSE на шаге 19 2.09428\n",
            "MSE на шаге 20 2.05035\n",
            "MSE на шаге 21 2.00880\n",
            "MSE на шаге 31 1.68252\n",
            "MSE на шаге 41 1.46566\n",
            "MSE на шаге 51 1.32008\n",
            "MSE на шаге 61 1.22232\n",
            "MSE на шаге 71 1.15667\n",
            "MSE на шаге 81 1.11258\n",
            "MSE на шаге 91 1.08297\n",
            "MSE на шаге 101 1.06309\n",
            "MSE на шаге 111 1.04974\n",
            "MSE на шаге 121 1.04078\n",
            "MSE на шаге 131 1.03476\n",
            "MSE на шаге 141 1.03071\n",
            "MSE на шаге 151 1.02800\n",
            "MSE на шаге 161 1.02617\n",
            "MSE на шаге 171 1.02495\n",
            "MSE на шаге 181 1.02413\n",
            "MSE на шаге 191 1.02358\n"
          ]
        }
      ],
      "source": [
        "layer = nn.Linear(in_features=n_features, out_features=1)\n",
        "\n",
        "for i in range(n_steps):\n",
        "    y_pred = layer(x).view(-1)\n",
        "\n",
        "    mse = torch.mean((y_pred - y) ** 2)\n",
        "\n",
        "    if i < 20 or i % 10 == 0:\n",
        "        print(f'MSE на шаге {i + 1} {mse.item():.5f}')\n",
        "\n",
        "    mse.backward()\n",
        "\n",
        "    with torch.no_grad():\n",
        "        layer.weight.data -= layer.weight.grad * step_size\n",
        "        layer.bias.data -= layer.bias.grad * step_size\n",
        "\n",
        "#     layer.weight.grad.zero_()\n",
        "#     layer.bias.grad.zero_()\n",
        "\n",
        "    layer.zero_grad()"
      ]
    },
    {
      "cell_type": "code",
      "source": [
        "w_true, layer.weight"
      ],
      "metadata": {
        "colab": {
          "base_uri": "https://localhost:8080/"
        },
        "id": "KT99zqgQHUXN",
        "outputId": "aa8548da-a063-43e8-ed6a-f2787b3d06f7"
      },
      "execution_count": null,
      "outputs": [
        {
          "output_type": "execute_result",
          "data": {
            "text/plain": [
              "(tensor([ 1.5410, -0.2934]),\n",
              " Parameter containing:\n",
              " tensor([[ 1.5482, -0.2852]], requires_grad=True))"
            ]
          },
          "metadata": {},
          "execution_count": 233
        }
      ]
    },
    {
      "cell_type": "code",
      "execution_count": null,
      "metadata": {
        "colab": {
          "base_uri": "https://localhost:8080/"
        },
        "id": "gwp1CJXyohxy",
        "outputId": "73125861-9821-4623-969c-6e4fc2869ea7"
      },
      "outputs": [
        {
          "data": {
            "text/plain": [
              "torch.Size([300, 1])"
            ]
          },
          "execution_count": 93,
          "metadata": {},
          "output_type": "execute_result"
        }
      ],
      "source": [
        "layer(x).shape"
      ]
    },
    {
      "cell_type": "code",
      "execution_count": null,
      "metadata": {
        "colab": {
          "base_uri": "https://localhost:8080/"
        },
        "id": "3LzhJUfDohxy",
        "outputId": "1340d68e-7a68-4f19-ec1d-f937c6472b67"
      },
      "outputs": [
        {
          "data": {
            "text/plain": [
              "torch.Size([300])"
            ]
          },
          "execution_count": 94,
          "metadata": {},
          "output_type": "execute_result"
        }
      ],
      "source": [
        "y.shape"
      ]
    },
    {
      "cell_type": "code",
      "execution_count": null,
      "metadata": {
        "colab": {
          "base_uri": "https://localhost:8080/"
        },
        "id": "5CtyUXubohxy",
        "outputId": "2564687d-6aa1-4f6f-8d8d-432137e3adef"
      },
      "outputs": [
        {
          "data": {
            "text/plain": [
              "torch.Size([300, 300])"
            ]
          },
          "execution_count": 96,
          "metadata": {},
          "output_type": "execute_result"
        }
      ],
      "source": [
        "(layer(x) - y).shape"
      ]
    },
    {
      "cell_type": "code",
      "execution_count": null,
      "metadata": {
        "colab": {
          "base_uri": "https://localhost:8080/"
        },
        "id": "0MuG_jSCohxz",
        "outputId": "e2f4f4a5-e611-4d5a-c825-56ee298f3650"
      },
      "outputs": [
        {
          "data": {
            "text/plain": [
              "torch.Size([300])"
            ]
          },
          "execution_count": 97,
          "metadata": {},
          "output_type": "execute_result"
        }
      ],
      "source": [
        "(layer(x).ravel() - y).shape"
      ]
    },
    {
      "cell_type": "code",
      "execution_count": null,
      "metadata": {
        "id": "gU2hy971ohxz",
        "outputId": "3c6bf53c-108c-48af-8686-25e72b81454c",
        "scrolled": false
      },
      "outputs": [
        {
          "name": "stdout",
          "output_type": "stream",
          "text": [
            "MSE на шаге 1 82.40031\n",
            "MSE на шаге 2 34.83059\n",
            "MSE на шаге 3 18.67639\n",
            "MSE на шаге 4 12.57786\n",
            "MSE на шаге 5 9.87140\n",
            "MSE на шаге 6 8.42349\n",
            "MSE на шаге 7 7.51441\n",
            "MSE на шаге 8 6.87739\n",
            "MSE на шаге 9 6.39865\n",
            "MSE на шаге 10 6.02125\n",
            "MSE на шаге 11 5.71254\n",
            "MSE на шаге 12 5.45201\n",
            "MSE на шаге 13 5.22616\n",
            "MSE на шаге 14 5.02584\n",
            "MSE на шаге 15 4.84476\n",
            "MSE на шаге 16 4.67857\n",
            "MSE на шаге 17 4.52421\n",
            "MSE на шаге 18 4.37955\n",
            "MSE на шаге 19 4.24304\n",
            "MSE на шаге 20 4.11358\n",
            "MSE на шаге 21 3.99035\n",
            "MSE на шаге 31 3.01138\n",
            "MSE на шаге 41 2.35799\n",
            "MSE на шаге 51 1.91931\n",
            "MSE на шаге 61 1.62472\n",
            "MSE на шаге 71 1.42689\n",
            "MSE на шаге 81 1.29405\n",
            "MSE на шаге 91 1.20484\n",
            "MSE на шаге 101 1.14493\n",
            "MSE на шаге 111 1.10470\n",
            "MSE на шаге 121 1.07768\n",
            "MSE на шаге 131 1.05954\n",
            "MSE на шаге 141 1.04736\n",
            "MSE на шаге 151 1.03917\n",
            "MSE на шаге 161 1.03368\n",
            "MSE на шаге 171 1.02999\n",
            "MSE на шаге 181 1.02751\n",
            "MSE на шаге 191 1.02585\n"
          ]
        }
      ],
      "source": [
        "layer = nn.Linear(in_features=n_features, out_features=1)\n",
        "\n",
        "for i in range(n_steps):\n",
        "    y_pred = layer(x).ravel()\n",
        "\n",
        "    mse = torch.mean((y_pred - y) ** 2)\n",
        "\n",
        "    if i < 20 or i % 10 == 0:\n",
        "        print(f'MSE на шаге {i + 1} {mse.item():.5f}')\n",
        "\n",
        "    mse.backward()\n",
        "\n",
        "    with torch.no_grad():\n",
        "        layer.weight -= layer.weight.grad * step_size\n",
        "        layer.bias -= layer.bias.grad * step_size\n",
        "\n",
        "    layer.zero_grad()"
      ]
    },
    {
      "cell_type": "code",
      "execution_count": null,
      "metadata": {
        "id": "snDUgN6sohxz"
      },
      "outputs": [],
      "source": [
        "n_features = 5\n",
        "n_objects = 300\n",
        "\n",
        "torch.manual_seed(0)\n",
        "\n",
        "w_true = torch.randn(n_features)\n",
        "\n",
        "x = (torch.rand(n_objects, n_features) - 0.5) * 10 * (torch.arange(n_features) * 2 + 1)\n",
        "y = torch.matmul(x, w_true) + torch.randn(n_objects)"
      ]
    },
    {
      "cell_type": "code",
      "execution_count": null,
      "metadata": {
        "id": "xri83e4pohx0"
      },
      "outputs": [],
      "source": [
        "n_steps = 2000\n",
        "step_size = 1e-3"
      ]
    },
    {
      "cell_type": "code",
      "execution_count": null,
      "metadata": {
        "colab": {
          "base_uri": "https://localhost:8080/"
        },
        "id": "cd0Z3brOohx0",
        "outputId": "54892fb6-2f62-4ccb-c977-d927aa7b1d09",
        "scrolled": false
      },
      "outputs": [
        {
          "name": "stdout",
          "output_type": "stream",
          "text": [
            "MSE на шаге 1 1522.64282\n",
            "MSE на шаге 2 345.22867\n",
            "MSE на шаге 3 134.71323\n",
            "MSE на шаге 4 69.14162\n",
            "MSE на шаге 5 45.61798\n",
            "MSE на шаге 6 36.15922\n",
            "MSE на шаге 7 31.74179\n",
            "MSE на шаге 8 29.24493\n",
            "MSE на шаге 9 27.53952\n",
            "MSE на шаге 10 26.19924\n",
            "MSE на шаге 11 25.05364\n",
            "MSE на шаге 12 24.02866\n",
            "MSE на шаге 13 23.08827\n",
            "MSE на шаге 14 22.21260\n",
            "MSE на шаге 15 21.38941\n",
            "MSE на шаге 16 20.61047\n",
            "MSE на шаге 17 19.86992\n",
            "MSE на шаге 18 19.16343\n",
            "MSE на шаге 19 18.48770\n",
            "MSE на шаге 20 17.84015\n",
            "MSE на шаге 51 6.27401\n",
            "MSE на шаге 101 1.74083\n",
            "MSE на шаге 151 1.02593\n",
            "MSE на шаге 201 0.91269\n",
            "MSE на шаге 251 0.89435\n",
            "MSE на шаге 301 0.89104\n",
            "MSE на шаге 351 0.89019\n",
            "MSE на шаге 401 0.88977\n",
            "MSE на шаге 451 0.88948\n",
            "MSE на шаге 501 0.88925\n",
            "MSE на шаге 551 0.88906\n",
            "MSE на шаге 601 0.88890\n",
            "MSE на шаге 651 0.88877\n",
            "MSE на шаге 701 0.88867\n",
            "MSE на шаге 751 0.88858\n",
            "MSE на шаге 801 0.88851\n",
            "MSE на шаге 851 0.88845\n",
            "MSE на шаге 901 0.88840\n",
            "MSE на шаге 951 0.88836\n",
            "MSE на шаге 1001 0.88833\n",
            "MSE на шаге 1051 0.88830\n",
            "MSE на шаге 1101 0.88828\n",
            "MSE на шаге 1151 0.88826\n",
            "MSE на шаге 1201 0.88825\n",
            "MSE на шаге 1251 0.88824\n",
            "MSE на шаге 1301 0.88823\n",
            "MSE на шаге 1351 0.88822\n",
            "MSE на шаге 1401 0.88821\n",
            "MSE на шаге 1451 0.88821\n",
            "MSE на шаге 1501 0.88820\n",
            "MSE на шаге 1551 0.88820\n",
            "MSE на шаге 1601 0.88820\n",
            "MSE на шаге 1651 0.88819\n",
            "MSE на шаге 1701 0.88819\n",
            "MSE на шаге 1751 0.88819\n",
            "MSE на шаге 1801 0.88819\n",
            "MSE на шаге 1851 0.88819\n",
            "MSE на шаге 1901 0.88819\n",
            "MSE на шаге 1951 0.88819\n"
          ]
        }
      ],
      "source": [
        "layer = nn.Linear(in_features=n_features, out_features=1)\n",
        "\n",
        "for i in range(n_steps):\n",
        "    y_pred = layer(x).ravel()\n",
        "\n",
        "    mse = torch.mean((y_pred - y) ** 2)\n",
        "\n",
        "    if i < 20 or i % 50 == 0:\n",
        "        print(f'MSE на шаге {i + 1} {mse.item():.5f}')\n",
        "\n",
        "    mse.backward()\n",
        "\n",
        "    with torch.no_grad():\n",
        "        layer.weight -= layer.weight.grad * step_size\n",
        "        layer.bias -= layer.bias.grad * step_size\n",
        "\n",
        "    layer.zero_grad()"
      ]
    },
    {
      "cell_type": "code",
      "execution_count": null,
      "metadata": {
        "id": "KJlEk8Umohx0"
      },
      "outputs": [],
      "source": [
        "n_steps = 2000\n",
        "step_size = 5e-4"
      ]
    },
    {
      "cell_type": "code",
      "execution_count": null,
      "metadata": {
        "colab": {
          "base_uri": "https://localhost:8080/"
        },
        "id": "bstFZVEKohx0",
        "outputId": "c4aea595-05d9-41f5-e8b1-69b51b0722c9"
      },
      "outputs": [
        {
          "name": "stdout",
          "output_type": "stream",
          "text": [
            "MSE на шаге 1 2065.53369\n",
            "MSE на шаге 2 1888.85938\n",
            "MSE на шаге 3 1850.07874\n",
            "MSE на шаге 4 1825.02942\n",
            "MSE на шаге 5 1791.48108\n",
            "MSE на шаге 6 1741.56946\n",
            "MSE на шаге 7 1664.26440\n",
            "MSE на шаге 8 1554.74976\n",
            "MSE на шаге 9 1436.31213\n",
            "MSE на шаге 10 1332.71838\n",
            "MSE на шаге 11 1251.31506\n",
            "MSE на шаге 12 1172.20129\n",
            "MSE на шаге 13 1067.16370\n",
            "MSE на шаге 14 917.52533\n",
            "MSE на шаге 15 715.28870\n",
            "MSE на шаге 16 494.19235\n",
            "MSE на шаге 17 321.12256\n",
            "MSE на шаге 18 196.44054\n",
            "MSE на шаге 19 114.49352\n",
            "MSE на шаге 20 68.29835\n",
            "MSE на шаге 51 6.47334\n",
            "MSE на шаге 101 2.82488\n",
            "MSE на шаге 151 1.49911\n",
            "MSE на шаге 201 1.07840\n",
            "MSE на шаге 251 0.96143\n",
            "MSE на шаге 301 0.92727\n",
            "MSE на шаге 351 0.91400\n",
            "MSE на шаге 401 0.90641\n",
            "MSE на шаге 451 0.90219\n",
            "MSE на шаге 501 0.89821\n",
            "MSE на шаге 551 0.89528\n",
            "MSE на шаге 601 0.89345\n",
            "MSE на шаге 651 0.89220\n",
            "MSE на шаге 701 0.89122\n",
            "MSE на шаге 751 0.88999\n",
            "MSE на шаге 801 0.88914\n",
            "MSE на шаге 851 0.88839\n",
            "MSE на шаге 901 0.88770\n",
            "MSE на шаге 951 0.88708\n",
            "MSE на шаге 1001 0.88650\n",
            "MSE на шаге 1051 0.88596\n",
            "MSE на шаге 1101 0.88545\n",
            "MSE на шаге 1151 0.88498\n",
            "MSE на шаге 1201 0.88452\n",
            "MSE на шаге 1251 0.88409\n",
            "MSE на шаге 1301 0.88368\n",
            "MSE на шаге 1351 0.88329\n",
            "MSE на шаге 1401 0.88292\n",
            "MSE на шаге 1451 0.88257\n",
            "MSE на шаге 1501 0.88223\n",
            "MSE на шаге 1551 0.88190\n",
            "MSE на шаге 1601 0.88159\n",
            "MSE на шаге 1651 0.88130\n",
            "MSE на шаге 1701 0.88101\n",
            "MSE на шаге 1751 0.88074\n",
            "MSE на шаге 1801 0.88032\n",
            "MSE на шаге 1851 0.88000\n",
            "MSE на шаге 1901 0.87970\n",
            "MSE на шаге 1951 0.87943\n"
          ]
        }
      ],
      "source": [
        "layer1 = nn.Linear(in_features=n_features, out_features=3)\n",
        "layer2 = nn.Linear(in_features=3, out_features=1)\n",
        "activation = nn.ReLU()\n",
        "\n",
        "\n",
        "for i in range(n_steps):\n",
        "    y_pred = layer2(activation(layer1(x))).ravel()\n",
        "\n",
        "    mse = torch.mean((y_pred - y) ** 2)\n",
        "\n",
        "    if i < 20 or i % 50 == 0:\n",
        "        print(f'MSE на шаге {i + 1} {mse.item():.5f}')\n",
        "\n",
        "    mse.backward()\n",
        "\n",
        "    with torch.no_grad():\n",
        "        layer1.weight -= layer1.weight.grad * step_size\n",
        "        layer1.bias -= layer1.bias.grad * step_size\n",
        "        layer2.weight -= layer2.weight.grad * step_size\n",
        "        layer2.bias -= layer2.bias.grad * step_size\n",
        "x\n",
        "    layer1.zero_grad()\n",
        "    layer2.zero_grad()"
      ]
    },
    {
      "cell_type": "code",
      "execution_count": null,
      "metadata": {
        "id": "HFbdzLYHohx1"
      },
      "outputs": [],
      "source": []
    }
  ],
  "metadata": {
    "accelerator": "GPU",
    "colab": {
      "provenance": []
    },
    "kernelspec": {
      "display_name": "Python (ml)",
      "language": "python",
      "name": "ml"
    },
    "language_info": {
      "codemirror_mode": {
        "name": "ipython",
        "version": 3
      },
      "file_extension": ".py",
      "mimetype": "text/x-python",
      "name": "python",
      "nbconvert_exporter": "python",
      "pygments_lexer": "ipython3",
      "version": "3.9.15"
    }
  },
  "nbformat": 4,
  "nbformat_minor": 0
}