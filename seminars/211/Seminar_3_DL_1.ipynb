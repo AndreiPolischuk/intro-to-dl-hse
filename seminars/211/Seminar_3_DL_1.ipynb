{
  "nbformat": 4,
  "nbformat_minor": 0,
  "metadata": {
    "colab": {
      "provenance": [],
      "gpuType": "T4"
    },
    "kernelspec": {
      "name": "python3",
      "display_name": "Python 3"
    },
    "language_info": {
      "name": "python"
    },
    "accelerator": "GPU"
  },
  "cells": [
    {
      "cell_type": "code",
      "source": [
        "from torchvision.datasets import MNIST\n",
        "import torchvision.transforms as transforms\n",
        "from torch.utils.data import Dataset, DataLoader"
      ],
      "metadata": {
        "id": "7jrnuMM9kHxi"
      },
      "execution_count": null,
      "outputs": []
    },
    {
      "cell_type": "code",
      "source": [
        "train_set = MNIST('.MNIST', transform=transforms.ToTensor(), train=True, download=True)\n",
        "val_set = MNIST('.MNIST', transform=transforms.ToTensor(), train=False, download=True)"
      ],
      "metadata": {
        "id": "II_aiL7gkIBt"
      },
      "execution_count": null,
      "outputs": []
    },
    {
      "cell_type": "code",
      "source": [
        "x, y = train_set[0]\n",
        "x.shape"
      ],
      "metadata": {
        "colab": {
          "base_uri": "https://localhost:8080/"
        },
        "id": "e-MI6NCOm_KX",
        "outputId": "9b424850-dacf-4069-e7e6-50223ca45805"
      },
      "execution_count": null,
      "outputs": [
        {
          "output_type": "execute_result",
          "data": {
            "text/plain": [
              "torch.Size([1, 28, 28])"
            ]
          },
          "metadata": {},
          "execution_count": 111
        }
      ]
    },
    {
      "cell_type": "code",
      "source": [
        "import matplotlib.pyplot as plt\n",
        "\n",
        "x, y = train_set[1]\n",
        "plt.imshow(x[0,:,:], cmap='gray')\n",
        "plt.show()\n",
        "print(y)"
      ],
      "metadata": {
        "id": "GsRScEP1kIEl",
        "colab": {
          "base_uri": "https://localhost:8080/",
          "height": 447
        },
        "outputId": "f9a48118-5b33-4b63-eb03-6186d1c617a9"
      },
      "execution_count": null,
      "outputs": [
        {
          "output_type": "display_data",
          "data": {
            "text/plain": [
              "<Figure size 640x480 with 1 Axes>"
            ],
            "image/png": "[encoded data removed]"
          },
          "metadata": {}
        },
        {
          "output_type": "stream",
          "name": "stdout",
          "text": [
            "0\n"
          ]
        }
      ]
    },
    {
      "cell_type": "code",
      "source": [
        "train_loader = DataLoader(train_set, batch_size=64, shuffle=True)\n",
        "val_loader = DataLoader(val_set, batch_size=64, shuffle=False)"
      ],
      "metadata": {
        "id": "YGd6jMdQmm5-"
      },
      "execution_count": null,
      "outputs": []
    },
    {
      "cell_type": "code",
      "source": [
        "from torch import nn\n",
        "import torch.nn.functional as F\n",
        "import torch\n",
        "\n",
        "class MLP(nn.Module):\n",
        "    def __init__(self, hidden_size):\n",
        "        super().__init__()\n",
        "\n",
        "        self.linear1 = nn.Linear(784, hidden_size)\n",
        "        self.linear2 = nn.Linear(hidden_size, 10)\n",
        "\n",
        "\n",
        "    def forward(self, x):\n",
        "        # (batch_size, 1, 28, 28)\n",
        "        x = torch.flatten(x, start_dim=1)\n",
        "        # (batch_size, 784)\n",
        "        x = self.linear1(x)\n",
        "        x = F.relu(x)\n",
        "        x = self.linear2(x)\n",
        "        return x"
      ],
      "metadata": {
        "id": "tpPs1jhImm-v"
      },
      "execution_count": null,
      "outputs": []
    },
    {
      "cell_type": "code",
      "source": [
        "batch = next(iter(train_loader))\n",
        "batch[1].shape"
      ],
      "metadata": {
        "colab": {
          "base_uri": "https://localhost:8080/"
        },
        "id": "5dbEQzbxpoMc",
        "outputId": "ab66c6b2-6a72-47a5-ffbc-86d8fccf023b"
      },
      "execution_count": null,
      "outputs": [
        {
          "output_type": "execute_result",
          "data": {
            "text/plain": [
              "torch.Size([64])"
            ]
          },
          "metadata": {},
          "execution_count": 115
        }
      ]
    },
    {
      "cell_type": "code",
      "source": [
        "net = MLP(hidden_size=100)\n",
        "net(batch[0]).shape"
      ],
      "metadata": {
        "id": "XHGL32w1poO3",
        "colab": {
          "base_uri": "https://localhost:8080/"
        },
        "outputId": "23c6a057-5db1-4427-b277-97c13e4bbc33"
      },
      "execution_count": null,
      "outputs": [
        {
          "output_type": "execute_result",
          "data": {
            "text/plain": [
              "torch.Size([64, 10])"
            ]
          },
          "metadata": {},
          "execution_count": 116
        }
      ]
    },
    {
      "cell_type": "code",
      "source": [
        "def count_parameters(model):\n",
        "    return sum(p.numel() for p in model.parameters() if p.requires_grad)\n",
        "\n",
        "count_parameters(net)"
      ],
      "metadata": {
        "colab": {
          "base_uri": "https://localhost:8080/"
        },
        "id": "fy12WF3ICn2D",
        "outputId": "c27052bd-ac7a-4a23-957d-914845f8cb01"
      },
      "execution_count": null,
      "outputs": [
        {
          "output_type": "execute_result",
          "data": {
            "text/plain": [
              "79510"
            ]
          },
          "metadata": {},
          "execution_count": 117
        }
      ]
    },
    {
      "cell_type": "code",
      "source": [],
      "metadata": {
        "id": "NDFTxOyKmnC-"
      },
      "execution_count": null,
      "outputs": []
    },
    {
      "cell_type": "code",
      "source": [
        "def test(net, loader):\n",
        "    net.eval()\n",
        "\n",
        "    correct, total = 0, 0\n",
        "\n",
        "    for batch in loader:\n",
        "        images, labels = batch[0], batch[1]\n",
        "        images = images.to('cuda')\n",
        "        labels = labels.to('cuda')\n",
        "\n",
        "        with torch.no_grad():\n",
        "            out = net(images)\n",
        "        pred = torch.argmax(out, dim=1)\n",
        "\n",
        "        total += len(pred)\n",
        "        correct += (pred == labels).cpu().numpy().sum()\n",
        "\n",
        "    return correct / total"
      ],
      "metadata": {
        "id": "ktkZIPwVwRxG"
      },
      "execution_count": null,
      "outputs": []
    },
    {
      "cell_type": "code",
      "source": [
        "def train(net, train_loader, val_loader, optimizer, epochs=10):\n",
        "    train_acc, val_acc = [], []\n",
        "    net.train()\n",
        "\n",
        "    for epoch in range(epochs):\n",
        "\n",
        "        correct, total = 0, 0\n",
        "\n",
        "        for batch in train_loader:\n",
        "            images, labels = batch[0], batch[1]\n",
        "            images = images.to('cuda')\n",
        "            labels = labels.to('cuda')\n",
        "\n",
        "            optimizer.zero_grad()\n",
        "            out = net(images)\n",
        "            loss = F.cross_entropy(out, labels)\n",
        "            loss.backward()\n",
        "            optimizer.step()\n",
        "\n",
        "            pred = torch.argmax(out, dim=1)\n",
        "\n",
        "            total += len(pred)\n",
        "            correct += (pred == labels).detach().cpu().numpy().sum()\n",
        "\n",
        "        train_acc.append(correct / total)\n",
        "        val_acc.append(test(net, val_loader))\n",
        "\n",
        "        print(f\"Epoch: {epoch}\")\n",
        "        print(f\"train accuracy: {train_acc[-1]}\")\n",
        "        print(f\"val accuracy: {val_acc[-1]}\")\n",
        "\n",
        "    return train_acc, val_acc"
      ],
      "metadata": {
        "id": "xW_HOmF6waPl"
      },
      "execution_count": null,
      "outputs": []
    },
    {
      "cell_type": "code",
      "source": [
        "net = MLP(hidden_size=1000).to('cuda')\n",
        "optimizer = torch.optim.SGD(net.parameters(), lr=0.1, momentum=0.9)"
      ],
      "metadata": {
        "id": "9eYh4GJbwSGs"
      },
      "execution_count": null,
      "outputs": []
    },
    {
      "cell_type": "code",
      "source": [
        "train_acc, val_acc = train(net, train_loader, val_loader, optimizer, epochs=10)"
      ],
      "metadata": {
        "colab": {
          "base_uri": "https://localhost:8080/"
        },
        "id": "2JFeSSenwSLM",
        "outputId": "20d46f32-279a-45f9-aaaa-0a73d3f752d4"
      },
      "execution_count": null,
      "outputs": [
        {
          "output_type": "stream",
          "name": "stdout",
          "text": [
            "Epoch: 0\n",
            "train accuracy: 0.9353166666666667\n",
            "val accuracy: 0.9706\n",
            "Epoch: 1\n",
            "train accuracy: 0.9743166666666667\n",
            "val accuracy: 0.9728\n",
            "Epoch: 2\n",
            "train accuracy: 0.9821833333333333\n",
            "val accuracy: 0.9779\n",
            "Epoch: 3\n",
            "train accuracy: 0.9872333333333333\n",
            "val accuracy: 0.9795\n",
            "Epoch: 4\n",
            "train accuracy: 0.9915\n",
            "val accuracy: 0.9803\n",
            "Epoch: 5\n",
            "train accuracy: 0.9943166666666666\n",
            "val accuracy: 0.9833\n",
            "Epoch: 6\n",
            "train accuracy: 0.9960833333333333\n",
            "val accuracy: 0.9842\n",
            "Epoch: 7\n",
            "train accuracy: 0.9978333333333333\n",
            "val accuracy: 0.9831\n",
            "Epoch: 8\n",
            "train accuracy: 0.9991166666666667\n",
            "val accuracy: 0.9833\n",
            "Epoch: 9\n",
            "train accuracy: 0.9997666666666667\n",
            "val accuracy: 0.9858\n"
          ]
        }
      ]
    },
    {
      "cell_type": "code",
      "source": [
        "import numpy as np\n",
        "\n",
        "plt.figure(figsize=(7, 5))\n",
        "\n",
        "plt.plot(np.arange(10), train_acc, label='train')\n",
        "plt.plot(np.arange(10), val_acc, label='val')\n",
        "\n",
        "plt.grid()\n",
        "plt.legend(loc='lower right')\n",
        "plt.xlabel(\"epoch\")\n",
        "plt.ylabel(\"accuracy\")\n",
        "plt.title(\"MLP training\")\n",
        "plt.show()"
      ],
      "metadata": {
        "colab": {
          "base_uri": "https://localhost:8080/",
          "height": 487
        },
        "id": "fpmVPHsf-59Z",
        "outputId": "d30ea496-845d-4ffb-d383-1cafb1a65988"
      },
      "execution_count": null,
      "outputs": [
        {
          "output_type": "display_data",
          "data": {
            "text/plain": [
              "<Figure size 700x500 with 1 Axes>"
            ],
            "image/png": "[encoded data removed]"
          },
          "metadata": {}
        }
      ]
    },
    {
      "cell_type": "code",
      "source": [
        "count_parameters(net)"
      ],
      "metadata": {
        "colab": {
          "base_uri": "https://localhost:8080/"
        },
        "id": "UUbS0LNLO7-6",
        "outputId": "f4b21a67-c8b1-4480-e74a-19413e9dfab2"
      },
      "execution_count": null,
      "outputs": [
        {
          "output_type": "execute_result",
          "data": {
            "text/plain": [
              "795010"
            ]
          },
          "metadata": {},
          "execution_count": 121
        }
      ]
    },
    {
      "cell_type": "code",
      "source": [],
      "metadata": {
        "id": "_GfR7N6vKpR_"
      },
      "execution_count": null,
      "outputs": []
    },
    {
      "cell_type": "code",
      "source": [
        "import torch.nn as nn\n",
        "import torch.nn.functional as F\n",
        "\n",
        "# convolutional neural network\n",
        "class ConvNet(nn.Module):\n",
        "    def __init__(self):\n",
        "        super().__init__()\n",
        "        self.conv1 = nn.Conv2d(in_channels=1, out_channels=16, kernel_size=5)\n",
        "        self.conv2 = nn.Conv2d(in_channels=16, out_channels=32, kernel_size=5)\n",
        "        self.pool = nn.MaxPool2d(kernel_size=2)\n",
        "        self.fc = nn.Linear(512, 10)\n",
        "\n",
        "    def forward(self, x):\n",
        "        x = F.relu(self.pool(self.conv1(x)))\n",
        "        x = F.relu(self.pool(self.conv2(x)))\n",
        "\n",
        "        x = torch.flatten(x, 1) # flatten all dimensions except batch\n",
        "        x = self.fc(x)\n",
        "        return x\n",
        "\n",
        "net = ConvNet()\n",
        "batch = next(iter(train_loader))\n",
        "net(batch[0]).shape"
      ],
      "metadata": {
        "colab": {
          "base_uri": "https://localhost:8080/"
        },
        "id": "eh_Xw0ZhKpZj",
        "outputId": "8f8b5d65-6143-4494-cfcc-25d3c994c417"
      },
      "execution_count": null,
      "outputs": [
        {
          "output_type": "execute_result",
          "data": {
            "text/plain": [
              "torch.Size([64, 10])"
            ]
          },
          "metadata": {},
          "execution_count": 122
        }
      ]
    },
    {
      "cell_type": "code",
      "source": [
        "count_parameters(net)"
      ],
      "metadata": {
        "id": "s6DZm13fMKig",
        "colab": {
          "base_uri": "https://localhost:8080/"
        },
        "outputId": "e84e0473-f4c4-411f-e13f-a7846ea4de96"
      },
      "execution_count": null,
      "outputs": [
        {
          "output_type": "execute_result",
          "data": {
            "text/plain": [
              "18378"
            ]
          },
          "metadata": {},
          "execution_count": 123
        }
      ]
    },
    {
      "cell_type": "code",
      "source": [
        "net = ConvNet().to('cuda')\n",
        "optimizer = torch.optim.SGD(net.parameters(), lr=0.01, momentum=0.9)\n",
        "train_acc, val_acc = train(net, train_loader, val_loader, optimizer, epochs=5)"
      ],
      "metadata": {
        "id": "td3Mg5GmKpcN",
        "colab": {
          "base_uri": "https://localhost:8080/"
        },
        "outputId": "eda2b105-0201-4474-baad-05a7e268899d"
      },
      "execution_count": null,
      "outputs": [
        {
          "output_type": "stream",
          "name": "stdout",
          "text": [
            "Epoch: 0\n",
            "train accuracy: 0.9237666666666666\n",
            "val accuracy: 0.9796\n",
            "Epoch: 1\n",
            "train accuracy: 0.9777\n",
            "val accuracy: 0.9853\n",
            "Epoch: 2\n",
            "train accuracy: 0.9830666666666666\n",
            "val accuracy: 0.9862\n",
            "Epoch: 3\n",
            "train accuracy: 0.9859333333333333\n",
            "val accuracy: 0.9872\n",
            "Epoch: 4\n",
            "train accuracy: 0.9879\n",
            "val accuracy: 0.9894\n"
          ]
        }
      ]
    },
    {
      "cell_type": "code",
      "source": [
        "plt.figure(figsize=(7, 5))\n",
        "plt.plot(np.arange(10), train_acc, label='train')\n",
        "plt.plot(np.arange(10), val_acc, label='val')\n",
        "plt.grid()\n",
        "plt.legend(loc='lower right')\n",
        "plt.xlabel(\"epoch\")\n",
        "plt.ylabel(\"accuracy\")\n",
        "plt.title(\"CNN training\")\n",
        "plt.show()"
      ],
      "metadata": {
        "id": "vTu1J4IUMSXi"
      },
      "execution_count": null,
      "outputs": []
    },
    {
      "cell_type": "code",
      "source": [],
      "metadata": {
        "id": "ygvkA37USWjD"
      },
      "execution_count": null,
      "outputs": []
    },
    {
      "cell_type": "code",
      "source": [],
      "metadata": {
        "id": "yYqsCZ-6SWpW"
      },
      "execution_count": null,
      "outputs": []
    },
    {
      "cell_type": "code",
      "source": [],
      "metadata": {
        "id": "OIIPv9HhSWrn"
      },
      "execution_count": null,
      "outputs": []
    }
  ]
}