{
 "cells": [
  {
   "cell_type": "code",
   "execution_count": 1,
   "id": "6180da91-3bf1-40c2-a4a3-5ab06f70cd23",
   "metadata": {},
   "outputs": [],
   "source": [
    "import torch"
   ]
  },
  {
   "cell_type": "code",
   "execution_count": 3,
   "id": "2e72a29f-3b81-4e99-adc3-457a58c180e5",
   "metadata": {},
   "outputs": [
    {
     "data": {
      "text/plain": [
       "'2.1.0+cu121'"
      ]
     },
     "execution_count": 3,
     "metadata": {},
     "output_type": "execute_result"
    }
   ],
   "source": [
    "torch.__version__"
   ]
  },
  {
   "cell_type": "code",
   "execution_count": 5,
   "id": "2233e71f-62e9-4243-bd10-fd0c6fcbd1f7",
   "metadata": {},
   "outputs": [],
   "source": [
    "! pip freeze >> req.txt"
   ]
  },
  {
   "cell_type": "code",
   "execution_count": null,
   "id": "739f96a2-a517-4562-8b7d-94010ebc5444",
   "metadata": {},
   "outputs": [],
   "source": [
    "# installing poetry (colab & kaggle)\n",
    "# https://python-poetry.org/docs/basic-usage/\n",
    "! curl -sSL https://install.python-poetry.org | POETRY_VERSION=1.6.1 python3 -"
   ]
  },
  {
   "cell_type": "code",
   "execution_count": null,
   "id": "ea53a176-7796-4ab8-8112-3924f62d1128",
   "metadata": {},
   "outputs": [],
   "source": [
    "# kaggle\n",
    "! cd /kaggle/input/poetry-python/ && POETRY_VIRTUALENVS_CREATE=false /root/.local/bin/poetry install"
   ]
  },
  {
   "cell_type": "code",
   "execution_count": null,
   "id": "9d2644ad-bb20-464b-a247-6f35f608197a",
   "metadata": {},
   "outputs": [],
   "source": [
    "# colab\n",
    "! POETRY_VIRTUALENVS_CREATE=false /root/.local/bin/poetry install"
   ]
  },
  {
   "cell_type": "code",
   "execution_count": 6,
   "id": "97d8947d-a743-481e-95c3-95f60dc0f552",
   "metadata": {},
   "outputs": [
    {
     "data": {
      "text/plain": [
       "True"
      ]
     },
     "execution_count": 6,
     "metadata": {},
     "output_type": "execute_result"
    }
   ],
   "source": [
    "torch.cuda.is_available()"
   ]
  }
 ],
 "metadata": {
  "kernelspec": {
   "display_name": "Python 3 (ipykernel)",
   "language": "python",
   "name": "python3"
  },
  "language_info": {
   "codemirror_mode": {
    "name": "ipython",
    "version": 3
   },
   "file_extension": ".py",
   "mimetype": "text/x-python",
   "name": "python",
   "nbconvert_exporter": "python",
   "pygments_lexer": "ipython3",
   "version": "3.10.12"
  }
 },
 "nbformat": 4,
 "nbformat_minor": 5
}
