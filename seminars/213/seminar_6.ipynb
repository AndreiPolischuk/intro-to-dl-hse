{
 "cells": [
  {
   "cell_type": "markdown",
   "id": "a90c041c",
   "metadata": {},
   "source": [
    "# Word2Vec training\n",
    "\n",
    "This notebook is based on the [word2vec-pytorch](https://github.com/OlgaChernytska/word2vec-pytorch/tree/18d4f24c4d82dde76de9f6e4d88bbcbcf68befc2) repo."
   ]
  },
  {
   "cell_type": "code",
   "execution_count": 1,
   "id": "61b9afb3",
   "metadata": {},
   "outputs": [
    {
     "name": "stderr",
     "output_type": "stream",
     "text": [
      "--2023-11-24 18:23:00--  https://s3.amazonaws.com/research.metamind.io/wikitext/wikitext-2-v1.zip\n",
      "Resolving s3.amazonaws.com (s3.amazonaws.com)... 52.216.208.120, 52.216.211.104, 52.217.131.64, ...\n",
      "Connecting to s3.amazonaws.com (s3.amazonaws.com)|52.216.208.120|:443... connected.\n",
      "HTTP request sent, awaiting response... 200 OK\n",
      "Length: 4475746 (4.3M) [application/zip]\n",
      "Saving to: ‘wikitext-2-v1.zip’\n",
      "\n",
      "     0K .......... .......... .......... .......... ..........  1%  202K 21s\n",
      "    50K .......... .......... .......... .......... ..........  2%  145M 11s\n",
      "   100K .......... .......... .......... .......... ..........  3%  403K 10s\n",
      "   150K .......... .......... .......... .......... ..........  4%  163M 8s\n",
      "   200K .......... .......... .......... .......... ..........  5%  172M 6s\n",
      "   250K .......... .......... .......... .......... ..........  6%  408K 7s\n",
      "   300K .......... .......... .......... .......... ..........  8%  130M 6s\n",
      "   350K .......... .......... .......... .......... ..........  9%  113M 5s\n",
      "   400K .......... .......... .......... .......... .......... 10%  110M 4s\n",
      "   450K .......... .......... .......... .......... .......... 11%  113M 4s\n",
      "   500K .......... .......... .......... .......... .......... 12% 1.16M 4s\n",
      "   550K .......... .......... .......... .......... .......... 13%  594K 4s\n",
      "   600K .......... .......... .......... .......... .......... 14%  447M 4s\n",
      "   650K .......... .......... .......... .......... .......... 16% 1.06G 3s\n",
      "   700K .......... .......... .......... .......... .......... 17% 1021M 3s\n",
      "   750K .......... .......... .......... .......... .......... 18%  812M 3s\n",
      "   800K .......... .......... .......... .......... .......... 19%  515M 3s\n",
      "   850K .......... .......... .......... .......... .......... 20%  969M 2s\n",
      "   900K .......... .......... .......... .......... .......... 21% 1.04G 2s\n",
      "   950K .......... .......... .......... .......... .......... 22% 1.18G 2s\n",
      "  1000K .......... .......... .......... .......... .......... 24%  832M 2s\n",
      "  1050K .......... .......... .......... .......... .......... 25%  772M 2s\n",
      "  1100K .......... .......... .......... .......... .......... 26% 1.24M 2s\n",
      "  1150K .......... .......... .......... .......... .......... 27%  628K 2s\n",
      "  1200K .......... .......... .......... .......... .......... 28%  102M 2s\n",
      "  1250K .......... .......... .......... .......... .......... 29%  104M 2s\n",
      "  1300K .......... .......... .......... .......... .......... 30%  111M 2s\n",
      "  1350K .......... .......... .......... .......... .......... 32%  118M 2s\n",
      "  1400K .......... .......... .......... .......... .......... 33%  109M 2s\n",
      "  1450K .......... .......... .......... .......... .......... 34%  106M 1s\n",
      "  1500K .......... .......... .......... .......... .......... 35%  108M 1s\n",
      "  1550K .......... .......... .......... .......... .......... 36%  116M 1s\n",
      "  1600K .......... .......... .......... .......... .......... 37%  101M 1s\n",
      "  1650K .......... .......... .......... .......... .......... 38%  107M 1s\n",
      "  1700K .......... .......... .......... .......... .......... 40% 96.5M 1s\n",
      "  1750K .......... .......... .......... .......... .......... 41%  123M 1s\n",
      "  1800K .......... .......... .......... .......... .......... 42%  117M 1s\n",
      "  1850K .......... .......... .......... .......... .......... 43%  110M 1s\n",
      "  1900K .......... .......... .......... .......... .......... 44%  460M 1s\n",
      "  1950K .......... .......... .......... .......... .......... 45%  547M 1s\n",
      "  2000K .......... .......... .......... .......... .......... 46%  108M 1s\n",
      "  2050K .......... .......... .......... .......... .......... 48%  114M 1s\n",
      "  2100K .......... .......... .......... .......... .......... 49% 47.5M 1s\n",
      "  2150K .......... .......... .......... .......... .......... 50%  170M 1s\n",
      "  2200K .......... .......... .......... .......... .......... 51% 1.39M 1s\n",
      "  2250K .......... .......... .......... .......... .......... 52%  117M 1s\n",
      "  2300K .......... .......... .......... .......... .......... 53%  116M 1s\n",
      "  2350K .......... .......... .......... .......... .......... 54%  632K 1s\n",
      "  2400K .......... .......... .......... .......... .......... 56% 88.6M 1s\n",
      "  2450K .......... .......... .......... .......... .......... 57%  104M 1s\n",
      "  2500K .......... .......... .......... .......... .......... 58%  122M 1s\n",
      "  2550K .......... .......... .......... .......... .......... 59%  123M 1s\n",
      "  2600K .......... .......... .......... .......... .......... 60%  112M 1s\n",
      "  2650K .......... .......... .......... .......... .......... 61%  129M 1s\n",
      "  2700K .......... .......... .......... .......... .......... 62%  121M 1s\n",
      "  2750K .......... .......... .......... .......... .......... 64%  124M 0s\n",
      "  2800K .......... .......... .......... .......... .......... 65%  102M 0s\n",
      "  2850K .......... .......... .......... .......... .......... 66%  126M 0s\n",
      "  2900K .......... .......... .......... .......... .......... 67%  126M 0s\n",
      "  2950K .......... .......... .......... .......... .......... 68%  116M 0s\n",
      "  3000K .......... .......... .......... .......... .......... 69%  114M 0s\n",
      "  3050K .......... .......... .......... .......... .......... 70%  122M 0s\n",
      "  3100K .......... .......... .......... .......... .......... 72%  128M 0s\n",
      "  3150K .......... .......... .......... .......... .......... 73%  362M 0s\n",
      "  3200K .......... .......... .......... .......... .......... 74%  106M 0s\n",
      "  3250K .......... .......... .......... .......... .......... 75%  119M 0s\n",
      "  3300K .......... .......... .......... .......... .......... 76%  115M 0s\n",
      "  3350K .......... .......... .......... .......... .......... 77%  119M 0s\n",
      "  3400K .......... .......... .......... .......... .......... 78%  117M 0s\n",
      "  3450K .......... .......... .......... .......... .......... 80% 99.9M 0s\n",
      "  3500K .......... .......... .......... .......... .......... 81%  123M 0s\n",
      "  3550K .......... .......... .......... .......... .......... 82%  121M 0s\n",
      "  3600K .......... .......... .......... .......... .......... 83% 96.5M 0s\n",
      "  3650K .......... .......... .......... .......... .......... 84%  116M 0s\n",
      "  3700K .......... .......... .......... .......... .......... 85%  119M 0s\n",
      "  3750K .......... .......... .......... .......... .......... 86%  119M 0s\n",
      "  3800K .......... .......... .......... .......... .......... 88%  114M 0s\n",
      "  3850K .......... .......... .......... .......... .......... 89%  119M 0s\n",
      "  3900K .......... .......... .......... .......... .......... 90%  115M 0s\n",
      "  3950K .......... .......... .......... .......... .......... 91%  118M 0s\n",
      "  4000K .......... .......... .......... .......... .......... 92% 89.5M 0s\n",
      "  4050K .......... .......... .......... .......... .......... 93%  119M 0s\n",
      "  4100K .......... .......... .......... .......... .......... 94%  115M 0s\n",
      "  4150K .......... .......... .......... .......... .......... 96%  119M 0s\n",
      "  4200K .......... .......... .......... .......... .......... 97%  117M 0s\n",
      "  4250K .......... .......... .......... .......... .......... 98%  115M 0s\n",
      "  4300K .......... .......... .......... .......... .......... 99%  119M 0s\n",
      "  4350K .......... ..........                                 100%  132M=0.9s\n",
      "\n",
      "2023-11-24 18:23:01 (4.83 MB/s) - ‘wikitext-2-v1.zip’ saved [4475746/4475746]\n",
      "\n"
     ]
    },
    {
     "name": "stdout",
     "output_type": "stream",
     "text": [
      "Archive:  wikitext-2-v1.zip\n",
      "   creating: wikitext-2/\n",
      "  inflating: wikitext-2/wiki.test.tokens  \n",
      "  inflating: wikitext-2/wiki.valid.tokens  \n",
      "  inflating: wikitext-2/wiki.train.tokens  \n"
     ]
    }
   ],
   "source": [
    "%%bash\n",
    "wget https://s3.amazonaws.com/research.metamind.io/wikitext/wikitext-2-v1.zip\n",
    "unzip wikitext-2-v1.zip"
   ]
  },
  {
   "cell_type": "code",
   "execution_count": 3,
   "id": "282f0e5e",
   "metadata": {},
   "outputs": [],
   "source": [
    "import torch\n",
    "import numpy as np\n",
    "from torch import nn\n",
    "from torch.utils.data import Dataset, DataLoader\n",
    "\n",
    "from torchtext.data.utils import get_tokenizer\n",
    "from torchtext.vocab import build_vocab_from_iterator\n",
    "\n",
    "import matplotlib.pyplot as plt\n",
    "import seaborn as sns\n",
    "\n",
    "sns.set_style('whitegrid')\n",
    "plt.rcParams.update({'font.size': 14})"
   ]
  },
  {
   "cell_type": "code",
   "execution_count": 4,
   "id": "1b6b28f3",
   "metadata": {},
   "outputs": [],
   "source": [
    "TRAIN_TOKENS = 'wikitext-2/wiki.train.tokens'\n",
    "VALID_TOKENS = 'wikitext-2/wiki.valid.tokens'\n",
    "\n",
    "SKIPGRAM_N_WORDS = 4\n",
    "MIN_WORD_FREQUENCY = 20\n",
    "MAX_SEQUENCE_LENGTH = 256\n",
    "\n",
    "EMBED_DIM = 256\n",
    "EMBED_MAX_NORM = 1\n",
    "BATCH_SIZE = 16\n",
    "NUM_EPOCHS = 20"
   ]
  },
  {
   "cell_type": "code",
   "execution_count": 5,
   "id": "394ba4d9",
   "metadata": {},
   "outputs": [],
   "source": [
    "tokenizer = get_tokenizer(\"basic_english\", language=\"en\")\n",
    "\n",
    "def load_and_preprocess_dataset(path):\n",
    "    with open(path, 'r') as file:\n",
    "        lines = file.readlines()\n",
    "\n",
    "    data = list(filter(\n",
    "        lambda sent: len(sent) > SKIPGRAM_N_WORDS * 2,\n",
    "        map(tokenizer, lines)\n",
    "    ))\n",
    "    return data"
   ]
  },
  {
   "cell_type": "code",
   "execution_count": 6,
   "id": "278e49c6",
   "metadata": {},
   "outputs": [
    {
     "name": "stdout",
     "output_type": "stream",
     "text": [
      "Num sentences: train - 17715, valid - 1892)\n",
      "Total tokens: train - 2014338, valid - 211057)\n",
      "Average tokens in sentence: 113.71\n"
     ]
    }
   ],
   "source": [
    "train_data = load_and_preprocess_dataset(TRAIN_TOKENS)\n",
    "valid_data = load_and_preprocess_dataset(VALID_TOKENS)\n",
    "\n",
    "total_train_tokens = sum(len(sent) for sent in train_data)\n",
    "total_valid_tokens = sum(len(sent) for sent in valid_data)\n",
    "\n",
    "print(f'Num sentences: train - {len(train_data)}, valid - {len(valid_data)})')\n",
    "print(f'Total tokens: train - {total_train_tokens}, valid - {total_valid_tokens})')\n",
    "print(f'Average tokens in sentence: {total_train_tokens / len(train_data):.2f}')"
   ]
  },
  {
   "cell_type": "code",
   "execution_count": 7,
   "id": "522172b6",
   "metadata": {},
   "outputs": [
    {
     "data": {
      "image/png": "[encoded data removed]",
      "text/plain": [
       "<Figure size 500x500 with 1 Axes>"
      ]
     },
     "metadata": {},
     "output_type": "display_data"
    }
   ],
   "source": [
    "_ = sns.displot([len(sent) for sent in train_data])"
   ]
  },
  {
   "cell_type": "code",
   "execution_count": 10,
   "id": "556e8d8c",
   "metadata": {},
   "outputs": [
    {
     "name": "stdout",
     "output_type": "stream",
     "text": [
      "Vocab size: 8076\n"
     ]
    }
   ],
   "source": [
    "vocab = build_vocab_from_iterator(train_data, specials=[\"<unk>\"], min_freq=MIN_WORD_FREQUENCY)\n",
    "vocab.set_default_index(vocab[\"<unk>\"])\n",
    "\n",
    "VOCAB_SIZE = len(vocab)\n",
    "print(f'Vocab size: {VOCAB_SIZE}')"
   ]
  },
  {
   "cell_type": "code",
   "execution_count": 11,
   "id": "05cde39b",
   "metadata": {},
   "outputs": [
    {
     "data": {
      "text/plain": [
       "['seaside', 'holiday', 'j', '.', 'salmon', ',', '1918', ',', '1921']"
      ]
     },
     "execution_count": 11,
     "metadata": {},
     "output_type": "execute_result"
    }
   ],
   "source": [
    "train_data[102]"
   ]
  },
  {
   "cell_type": "code",
   "execution_count": 12,
   "id": "3c39a6a5",
   "metadata": {},
   "outputs": [
    {
     "data": {
      "text/plain": [
       "[0, 3041, 1415, 3, 4855, 2, 2079, 2, 3157]"
      ]
     },
     "execution_count": 12,
     "metadata": {},
     "output_type": "execute_result"
    }
   ],
   "source": [
    "vocab(train_data[102])"
   ]
  },
  {
   "cell_type": "code",
   "execution_count": 13,
   "id": "00736c8f",
   "metadata": {},
   "outputs": [],
   "source": [
    "def collate_fn(batch):\n",
    "    \"\"\"\n",
    "    Collate_fn for Skip-Gram model to be used with Dataloader.\n",
    "    `batch` is expected to be list of text paragrahs.\n",
    "\n",
    "    Context is represented as N=SKIPGRAM_N_WORDS past words \n",
    "    and N=SKIPGRAM_N_WORDS future words.\n",
    "\n",
    "    Long paragraphs will be truncated to contain\n",
    "    no more that MAX_SEQUENCE_LENGTH tokens.\n",
    "\n",
    "    Each element in `batch_input` is a middle word.\n",
    "    Each element in `batch_output` is a context word.\n",
    "    \"\"\"\n",
    "    batch_input, batch_output = [], []\n",
    "    for text in batch:\n",
    "        text_tokens_ids = vocab(text)\n",
    "\n",
    "        if MAX_SEQUENCE_LENGTH:\n",
    "            text_tokens_ids = text_tokens_ids[:MAX_SEQUENCE_LENGTH]\n",
    "\n",
    "        for idx in range(len(text_tokens_ids) - SKIPGRAM_N_WORDS * 2):\n",
    "            token_id_sequence = text_tokens_ids[idx : (idx + SKIPGRAM_N_WORDS * 2 + 1)]\n",
    "            input_ = token_id_sequence.pop(SKIPGRAM_N_WORDS)\n",
    "            outputs = token_id_sequence\n",
    "\n",
    "            batch_input += [input_] * len(outputs)\n",
    "            batch_output += outputs\n",
    "\n",
    "    batch_input = torch.tensor(batch_input, dtype=torch.long)\n",
    "    batch_output = torch.tensor(batch_output, dtype=torch.long)\n",
    "    return batch_input, batch_output"
   ]
  },
  {
   "cell_type": "code",
   "execution_count": 14,
   "id": "1d544377",
   "metadata": {},
   "outputs": [],
   "source": [
    "train_loader = DataLoader(train_data, batch_size=BATCH_SIZE, num_workers=4,\n",
    "                          pin_memory=True, collate_fn=collate_fn, shuffle=True)\n",
    "valid_loader = DataLoader(valid_data, batch_size=BATCH_SIZE, num_workers=4,\n",
    "                          pin_memory=True, collate_fn=collate_fn)"
   ]
  },
  {
   "cell_type": "code",
   "execution_count": 15,
   "id": "f1ab2158",
   "metadata": {},
   "outputs": [],
   "source": [
    "from IPython.display import clear_output\n",
    "from tqdm.notebook import tqdm\n",
    "\n",
    "\n",
    "def plot_losses(train_losses, valid_losses):\n",
    "    clear_output()\n",
    "    plt.figure(figsize=(6, 4))\n",
    "    plt.plot(range(1, len(train_losses) + 1), train_losses, label='train', color='deepskyblue', linewidth=2)\n",
    "    plt.plot(range(1, len(valid_losses) + 1), valid_losses, label='valid', color='springgreen', linewidth=2)\n",
    "    plt.ylabel('loss')\n",
    "    plt.xlabel('epoch')\n",
    "    plt.legend()\n",
    "    plt.show()"
   ]
  },
  {
   "cell_type": "code",
   "execution_count": 16,
   "id": "5a903840",
   "metadata": {},
   "outputs": [],
   "source": [
    "def training_epoch(model, optimizer, criterion, train_loader, tqdm_desc):\n",
    "    train_loss, num_batches = 0.0, 1\n",
    "    model.train()\n",
    "    for inputs, outputs in tqdm(train_loader, desc=tqdm_desc):\n",
    "        inputs = inputs.to(device)\n",
    "        outputs = outputs.to(device)\n",
    "\n",
    "        optimizer.zero_grad()\n",
    "        logits = model(inputs)\n",
    "        loss = criterion(logits, outputs)\n",
    "        loss.backward()\n",
    "        optimizer.step()\n",
    "\n",
    "        train_loss += loss.item()\n",
    "        num_batches += 1\n",
    "\n",
    "    train_loss /= num_batches\n",
    "    return train_loss\n",
    "\n",
    "\n",
    "@torch.no_grad()\n",
    "def validation_epoch(model, criterion, valid_loader, tqdm_desc):\n",
    "    valid_loss, num_batches = 0.0, 0\n",
    "    model.eval()\n",
    "    for inputs, outputs in tqdm(valid_loader, desc=tqdm_desc):\n",
    "        inputs = inputs.to(device)\n",
    "        outputs = outputs.to(device)\n",
    "\n",
    "        logits = model(inputs)\n",
    "        loss = criterion(logits, outputs)\n",
    "\n",
    "        valid_loss += loss.item()\n",
    "        num_batches += 1\n",
    "\n",
    "    valid_loss /= num_batches\n",
    "    return valid_loss\n",
    "\n",
    "\n",
    "def train(model, optimizer, scheduler, criterion, train_loader, valid_loader, num_epochs):\n",
    "    train_losses, valid_losses = [], []\n",
    "\n",
    "    for epoch in range(1, num_epochs + 1):\n",
    "        train_loss = training_epoch(\n",
    "            model, optimizer, criterion, train_loader,\n",
    "            tqdm_desc=f'Training {epoch}/{num_epochs}'\n",
    "        )\n",
    "        valid_loss = validation_epoch(\n",
    "            model, criterion, valid_loader,\n",
    "            tqdm_desc=f'Validating {epoch}/{num_epochs}'\n",
    "        )\n",
    "\n",
    "        if scheduler is not None:\n",
    "            scheduler.step()\n",
    "\n",
    "        train_losses += [train_loss]\n",
    "        valid_losses += [valid_loss]\n",
    "        plot_losses(train_losses, valid_losses)"
   ]
  },
  {
   "cell_type": "code",
   "execution_count": 17,
   "id": "accac7cc",
   "metadata": {},
   "outputs": [],
   "source": [
    "class Word2VecModel(nn.Module):\n",
    "    def __init__(self, embed_dim, embed_max_norm, vocab_size):\n",
    "        super().__init__()\n",
    "        self.embeds = nn.Embedding(num_embeddings=vocab_size, embedding_dim=embed_dim,\n",
    "                                   max_norm=embed_max_norm)\n",
    "        self.decoder = nn.Linear(embed_dim, vocab_size)\n",
    "        \n",
    "    def forward(self, tokens):\n",
    "        embeds = self.embeds(tokens)\n",
    "        logits = self.decoder(embeds)\n",
    "        return logits"
   ]
  },
  {
   "cell_type": "code",
   "execution_count": 18,
   "id": "b7342561",
   "metadata": {},
   "outputs": [
    {
     "data": {
      "text/plain": [
       "device(type='cuda', index=0)"
      ]
     },
     "execution_count": 18,
     "metadata": {},
     "output_type": "execute_result"
    }
   ],
   "source": [
    "device = torch.device('cuda:0' if torch.cuda.is_available() else 'cpu')\n",
    "device"
   ]
  },
  {
   "cell_type": "code",
   "execution_count": 19,
   "id": "de72dded",
   "metadata": {},
   "outputs": [],
   "source": [
    "model = Word2VecModel(embed_dim=EMBED_DIM, embed_max_norm=EMBED_MAX_NORM,\n",
    "                      vocab_size=VOCAB_SIZE).to(device)\n",
    "optimizer = torch.optim.Adam(model.parameters(), lr=1e-3)\n",
    "scheduler = torch.optim.lr_scheduler.CosineAnnealingLR(optimizer, NUM_EPOCHS)\n",
    "criterion = nn.CrossEntropyLoss()"
   ]
  },
  {
   "cell_type": "code",
   "execution_count": 20,
   "id": "b69073d2",
   "metadata": {},
   "outputs": [
    {
     "data": {
      "image/png": "[encoded data removed]",
      "text/plain": [
       "<Figure size 600x400 with 1 Axes>"
      ]
     },
     "metadata": {},
     "output_type": "display_data"
    }
   ],
   "source": [
    "train(model, optimizer, scheduler, criterion, train_loader, valid_loader, NUM_EPOCHS)"
   ]
  },
  {
   "cell_type": "code",
   "execution_count": 21,
   "id": "d9c22212",
   "metadata": {},
   "outputs": [],
   "source": [
    "import re\n",
    "\n",
    "\n",
    "def get_similarities(embed_vector):\n",
    "    similarities = embed_matrix @ embed_vector / embed_norms / torch.norm(embed_vector)\n",
    "    top_indices = similarities.argsort(descending=True)\n",
    "    return similarities, top_indices\n",
    "\n",
    "\n",
    "def get_similar(query, num_similar=5):\n",
    "    print(f'Processing query \\\"{query}\\\"')\n",
    "    split_query = re.split('([^a-zA-Z0-9])', query)\n",
    "    index = vocab[split_query[0]]\n",
    "    embed_vector = torch.clone(embed_matrix[index])\n",
    "    if index > 0:\n",
    "        print(f'Found word \\\"{split_query[0]}\\\" in vocab')\n",
    "    else:\n",
    "        print(f'Word \\\"{split_query[0]}\\\" not in vocab, using <unk>')\n",
    "\n",
    "    for i in range(2, len(split_query), 2):\n",
    "        index = vocab[split_query[i]]\n",
    "        if index > 0:\n",
    "            print(f'Found word \\\"{split_query[i]}\\\" in vocab, ', end='')\n",
    "        else:\n",
    "            print(f'Word \\\"{split_query[i]}\\\" not in vocab, using <unk>, ', end='')\n",
    "        print(f'operation \\\"{split_query[i - 1]}\\\"')\n",
    "\n",
    "        if split_query[i - 1] == '+':\n",
    "            embed_vector += embed_matrix[index]\n",
    "        elif split_query[i - 1] == '-':\n",
    "            embed_vector -= embed_matrix[index]\n",
    "        else:\n",
    "            raise ValueError('Unknown operation')\n",
    "\n",
    "    similarities, top_indices = get_similarities(embed_vector)\n",
    "    itos = vocab.get_itos()\n",
    "    print('Top similar:')\n",
    "    for top_index in top_indices[:num_similar]:\n",
    "        print(f'    {itos[top_index]}: sim = {similarities[top_index]:.4f}')"
   ]
  },
  {
   "cell_type": "code",
   "execution_count": 22,
   "id": "17e53619",
   "metadata": {},
   "outputs": [],
   "source": [
    "embed_matrix = model.embeds.weight.detach()\n",
    "embed_norms = (embed_matrix ** 2).sum(1).sqrt()"
   ]
  },
  {
   "cell_type": "code",
   "execution_count": 24,
   "id": "ff777fce",
   "metadata": {},
   "outputs": [
    {
     "name": "stdout",
     "output_type": "stream",
     "text": [
      "Processing query \"woman\"\n",
      "Found word \"woman\" in vocab\n",
      "Top similar:\n",
      "    woman: sim = 1.0000\n",
      "    girl: sim = 0.8042\n",
      "    man: sim = 0.7655\n",
      "    lover: sim = 0.7342\n",
      "    jealous: sim = 0.7296\n"
     ]
    }
   ],
   "source": [
    "get_similar('woman')"
   ]
  },
  {
   "cell_type": "code",
   "execution_count": 25,
   "id": "f24a1844",
   "metadata": {},
   "outputs": [
    {
     "name": "stdout",
     "output_type": "stream",
     "text": [
      "Processing query \"kick\"\n",
      "Found word \"kick\" in vocab\n",
      "Top similar:\n",
      "    kick: sim = 1.0000\n",
      "    touchdown: sim = 0.8436\n",
      "    ecu: sim = 0.8363\n",
      "    punt: sim = 0.8273\n",
      "    tech: sim = 0.7988\n"
     ]
    }
   ],
   "source": [
    "get_similar('kick')"
   ]
  },
  {
   "cell_type": "code",
   "execution_count": 26,
   "id": "6996edc3",
   "metadata": {},
   "outputs": [
    {
     "name": "stdout",
     "output_type": "stream",
     "text": [
      "Processing query \"help\"\n",
      "Found word \"help\" in vocab\n",
      "Top similar:\n",
      "    help: sim = 1.0000\n",
      "    keep: sim = 0.6968\n",
      "    try: sim = 0.6507\n",
      "    bring: sim = 0.6488\n",
      "    wants: sim = 0.6473\n"
     ]
    }
   ],
   "source": [
    "get_similar('help')"
   ]
  },
  {
   "cell_type": "code",
   "execution_count": 27,
   "id": "43a72873",
   "metadata": {},
   "outputs": [
    {
     "name": "stdout",
     "output_type": "stream",
     "text": [
      "Processing query \"king-man+woman\"\n",
      "Found word \"king\" in vocab\n",
      "Found word \"man\" in vocab, operation \"-\"\n",
      "Found word \"woman\" in vocab, operation \"+\"\n",
      "Top similar:\n",
      "    king: sim = 0.8307\n",
      "    lord: sim = 0.6963\n",
      "    son: sim = 0.6916\n",
      "    eldest: sim = 0.6873\n",
      "    hairan: sim = 0.6866\n",
      "    nephew: sim = 0.6699\n",
      "    henry: sim = 0.6646\n",
      "    edward: sim = 0.6620\n",
      "    leo: sim = 0.6576\n",
      "    heir: sim = 0.6540\n"
     ]
    }
   ],
   "source": [
    "v = get_similar('king-man+woman', num_similar=10)"
   ]
  },
  {
   "cell_type": "code",
   "execution_count": 29,
   "id": "5bcf813c",
   "metadata": {},
   "outputs": [
    {
     "name": "stdout",
     "output_type": "stream",
     "text": [
      "Processing query \"king\"\n",
      "Found word \"king\" in vocab\n",
      "Top similar:\n",
      "    king: sim = 1.0000\n",
      "    edward: sim = 0.8300\n",
      "    henry: sim = 0.8147\n",
      "    pope: sim = 0.7920\n",
      "    lord: sim = 0.7732\n"
     ]
    }
   ],
   "source": [
    "get_similar('king')"
   ]
  },
  {
   "cell_type": "markdown",
   "id": "10ae5d04",
   "metadata": {},
   "source": [
    "# FastText for sentiment classification"
   ]
  },
  {
   "cell_type": "code",
   "execution_count": 30,
   "id": "5d733811",
   "metadata": {},
   "outputs": [
    {
     "name": "stdout",
     "output_type": "stream",
     "text": [
      "Downloading bumble-dating-app-google-play-store-review.zip to /home/sergej/GitHub/intro-to-dl-hse/seminars/213\n"
     ]
    },
    {
     "name": "stderr",
     "output_type": "stream",
     "text": [
      "\r",
      "  0%|          | 0.00/20.2M [00:00<?, ?B/s]\r",
      "  5%|▍         | 1.00M/20.2M [00:00<00:11, 1.72MB/s]\r",
      " 10%|▉         | 2.00M/20.2M [00:00<00:05, 3.37MB/s]\r",
      " 20%|█▉        | 4.00M/20.2M [00:00<00:02, 7.08MB/s]\r",
      " 40%|███▉      | 8.00M/20.2M [00:00<00:00, 14.5MB/s]\r",
      " 54%|█████▍    | 11.0M/20.2M [00:01<00:00, 15.8MB/s]\r",
      " 64%|██████▍   | 13.0M/20.2M [00:01<00:00, 16.8MB/s]\r",
      " 74%|███████▍  | 15.0M/20.2M [00:01<00:00, 17.5MB/s]\r",
      " 84%|████████▍ | 17.0M/20.2M [00:01<00:00, 18.0MB/s]\r",
      "100%|██████████| 20.2M/20.2M [00:01<00:00, 13.9MB/s]\n"
     ]
    },
    {
     "name": "stdout",
     "output_type": "stream",
     "text": [
      "\n",
      "Archive:  bumble-dating-app-google-play-store-review.zip\n",
      "  inflating: bumble_google_play_reviews.csv  \n"
     ]
    }
   ],
   "source": [
    "%%bash\n",
    "kaggle datasets download -d shivkumarganesh/bumble-dating-app-google-play-store-review\n",
    "unzip bumble-dating-app-google-play-store-review.zip"
   ]
  },
  {
   "cell_type": "code",
   "execution_count": 32,
   "id": "6114b43f",
   "metadata": {},
   "outputs": [],
   "source": [
    "import pandas as pd\n",
    "import fasttext\n",
    "import fasttext.util\n",
    "\n",
    "import matplotlib.pyplot as plt\n",
    "import seaborn as sns\n",
    "\n",
    "sns.set_style('whitegrid')\n",
    "plt.rcParams.update({'font.size': 14})"
   ]
  },
  {
   "cell_type": "code",
   "execution_count": 33,
   "id": "b2bf448a",
   "metadata": {},
   "outputs": [
    {
     "data": {
      "text/html": [
       "<div>\n",
       "<style scoped>\n",
       "    .dataframe tbody tr th:only-of-type {\n",
       "        vertical-align: middle;\n",
       "    }\n",
       "\n",
       "    .dataframe tbody tr th {\n",
       "        vertical-align: top;\n",
       "    }\n",
       "\n",
       "    .dataframe thead th {\n",
       "        text-align: right;\n",
       "    }\n",
       "</style>\n",
       "<table border=\"1\" class=\"dataframe\">\n",
       "  <thead>\n",
       "    <tr style=\"text-align: right;\">\n",
       "      <th></th>\n",
       "      <th>reviewId</th>\n",
       "      <th>userName</th>\n",
       "      <th>userImage</th>\n",
       "      <th>content</th>\n",
       "      <th>score</th>\n",
       "      <th>thumbsUpCount</th>\n",
       "      <th>reviewCreatedVersion</th>\n",
       "      <th>at</th>\n",
       "      <th>replyContent</th>\n",
       "      <th>repliedAt</th>\n",
       "      <th>appVersion</th>\n",
       "    </tr>\n",
       "  </thead>\n",
       "  <tbody>\n",
       "    <tr>\n",
       "      <th>0</th>\n",
       "      <td>c447880b-c57c-4f87-851e-a65439c20336</td>\n",
       "      <td>Dylan Massengill (BlackDahlia)</td>\n",
       "      <td>https://play-lh.googleusercontent.com/a/ACg8oc...</td>\n",
       "      <td>Garbage \"dating\" app just like the rest.</td>\n",
       "      <td>1</td>\n",
       "      <td>0</td>\n",
       "      <td>5.345.1</td>\n",
       "      <td>2023-11-19 00:56:43</td>\n",
       "      <td>NaN</td>\n",
       "      <td>NaN</td>\n",
       "      <td>5.345.1</td>\n",
       "    </tr>\n",
       "    <tr>\n",
       "      <th>1</th>\n",
       "      <td>6343a25a-a0f6-401e-ad7d-83100745aa27</td>\n",
       "      <td>Jessica C</td>\n",
       "      <td>https://play-lh.googleusercontent.com/a-/ALV-U...</td>\n",
       "      <td>What I liked about bubble was the use of gif a...</td>\n",
       "      <td>3</td>\n",
       "      <td>0</td>\n",
       "      <td>NaN</td>\n",
       "      <td>2023-11-19 00:53:51</td>\n",
       "      <td>NaN</td>\n",
       "      <td>NaN</td>\n",
       "      <td>NaN</td>\n",
       "    </tr>\n",
       "    <tr>\n",
       "      <th>2</th>\n",
       "      <td>771c5486-1c53-41c5-b264-3ee7cccb884e</td>\n",
       "      <td>Dman</td>\n",
       "      <td>https://play-lh.googleusercontent.com/a/ACg8oc...</td>\n",
       "      <td>Complete junk. I used to get between 1 and 3 l...</td>\n",
       "      <td>1</td>\n",
       "      <td>0</td>\n",
       "      <td>NaN</td>\n",
       "      <td>2023-11-19 00:52:40</td>\n",
       "      <td>NaN</td>\n",
       "      <td>NaN</td>\n",
       "      <td>NaN</td>\n",
       "    </tr>\n",
       "    <tr>\n",
       "      <th>3</th>\n",
       "      <td>8efbc143-70ce-44a5-920f-1d2faf575779</td>\n",
       "      <td>Rob Herteis</td>\n",
       "      <td>https://play-lh.googleusercontent.com/a/ACg8oc...</td>\n",
       "      <td>I know people that have not been on the app fo...</td>\n",
       "      <td>1</td>\n",
       "      <td>0</td>\n",
       "      <td>NaN</td>\n",
       "      <td>2023-11-19 00:52:19</td>\n",
       "      <td>NaN</td>\n",
       "      <td>NaN</td>\n",
       "      <td>NaN</td>\n",
       "    </tr>\n",
       "    <tr>\n",
       "      <th>4</th>\n",
       "      <td>950a9a92-d95f-4643-86af-0630913988a9</td>\n",
       "      <td>David</td>\n",
       "      <td>https://play-lh.googleusercontent.com/a/ACg8oc...</td>\n",
       "      <td>The 24 hours to respond is really bad. Especia...</td>\n",
       "      <td>1</td>\n",
       "      <td>1</td>\n",
       "      <td>5.345.1</td>\n",
       "      <td>2023-11-19 00:51:41</td>\n",
       "      <td>Thank you for your review.\\nWe have acknowledg...</td>\n",
       "      <td>2023-11-19 01:18:43</td>\n",
       "      <td>5.345.1</td>\n",
       "    </tr>\n",
       "    <tr>\n",
       "      <th>...</th>\n",
       "      <td>...</td>\n",
       "      <td>...</td>\n",
       "      <td>...</td>\n",
       "      <td>...</td>\n",
       "      <td>...</td>\n",
       "      <td>...</td>\n",
       "      <td>...</td>\n",
       "      <td>...</td>\n",
       "      <td>...</td>\n",
       "      <td>...</td>\n",
       "      <td>...</td>\n",
       "    </tr>\n",
       "    <tr>\n",
       "      <th>140954</th>\n",
       "      <td>61bc7cdc-3085-4631-ac95-d8e42e2e0742</td>\n",
       "      <td>A Google user</td>\n",
       "      <td>https://play-lh.googleusercontent.com/EGemoI2N...</td>\n",
       "      <td>Finally here!</td>\n",
       "      <td>5</td>\n",
       "      <td>54</td>\n",
       "      <td>1.0.1</td>\n",
       "      <td>2015-12-01 02:17:24</td>\n",
       "      <td>NaN</td>\n",
       "      <td>NaN</td>\n",
       "      <td>1.0.1</td>\n",
       "    </tr>\n",
       "    <tr>\n",
       "      <th>140955</th>\n",
       "      <td>24d07489-88ad-496a-80ce-8f137c130323</td>\n",
       "      <td>A Google user</td>\n",
       "      <td>https://play-lh.googleusercontent.com/EGemoI2N...</td>\n",
       "      <td>Finally!</td>\n",
       "      <td>5</td>\n",
       "      <td>75</td>\n",
       "      <td>1.0.1</td>\n",
       "      <td>2015-12-01 02:09:05</td>\n",
       "      <td>NaN</td>\n",
       "      <td>NaN</td>\n",
       "      <td>1.0.1</td>\n",
       "    </tr>\n",
       "    <tr>\n",
       "      <th>140956</th>\n",
       "      <td>22a42d0d-7a12-400d-a2af-826f35d21581</td>\n",
       "      <td>A Google user</td>\n",
       "      <td>https://play-lh.googleusercontent.com/EGemoI2N...</td>\n",
       "      <td>Finally, an app where women have to start the ...</td>\n",
       "      <td>4</td>\n",
       "      <td>2</td>\n",
       "      <td>1.0.1</td>\n",
       "      <td>2015-12-01 00:18:53</td>\n",
       "      <td>NaN</td>\n",
       "      <td>NaN</td>\n",
       "      <td>1.0.1</td>\n",
       "    </tr>\n",
       "    <tr>\n",
       "      <th>140957</th>\n",
       "      <td>2480a41f-8863-4948-9f83-7d856bd9dc78</td>\n",
       "      <td>A Google user</td>\n",
       "      <td>https://play-lh.googleusercontent.com/EGemoI2N...</td>\n",
       "      <td>At last we have Android version!</td>\n",
       "      <td>5</td>\n",
       "      <td>60</td>\n",
       "      <td>1.0.0</td>\n",
       "      <td>2015-11-30 21:27:51</td>\n",
       "      <td>NaN</td>\n",
       "      <td>NaN</td>\n",
       "      <td>1.0.0</td>\n",
       "    </tr>\n",
       "    <tr>\n",
       "      <th>140958</th>\n",
       "      <td>6ebb270a-3b4b-4ff5-b98c-8899dcfd40ee</td>\n",
       "      <td>A Google user</td>\n",
       "      <td>https://play-lh.googleusercontent.com/EGemoI2N...</td>\n",
       "      <td>Nice and smooth.</td>\n",
       "      <td>5</td>\n",
       "      <td>52</td>\n",
       "      <td>NaN</td>\n",
       "      <td>2015-11-29 23:15:25</td>\n",
       "      <td>NaN</td>\n",
       "      <td>NaN</td>\n",
       "      <td>NaN</td>\n",
       "    </tr>\n",
       "  </tbody>\n",
       "</table>\n",
       "<p>140950 rows × 11 columns</p>\n",
       "</div>"
      ],
      "text/plain": [
       "                                    reviewId                        userName  \\\n",
       "0       c447880b-c57c-4f87-851e-a65439c20336  Dylan Massengill (BlackDahlia)   \n",
       "1       6343a25a-a0f6-401e-ad7d-83100745aa27                       Jessica C   \n",
       "2       771c5486-1c53-41c5-b264-3ee7cccb884e                            Dman   \n",
       "3       8efbc143-70ce-44a5-920f-1d2faf575779                     Rob Herteis   \n",
       "4       950a9a92-d95f-4643-86af-0630913988a9                           David   \n",
       "...                                      ...                             ...   \n",
       "140954  61bc7cdc-3085-4631-ac95-d8e42e2e0742                   A Google user   \n",
       "140955  24d07489-88ad-496a-80ce-8f137c130323                   A Google user   \n",
       "140956  22a42d0d-7a12-400d-a2af-826f35d21581                   A Google user   \n",
       "140957  2480a41f-8863-4948-9f83-7d856bd9dc78                   A Google user   \n",
       "140958  6ebb270a-3b4b-4ff5-b98c-8899dcfd40ee                   A Google user   \n",
       "\n",
       "                                                userImage  \\\n",
       "0       https://play-lh.googleusercontent.com/a/ACg8oc...   \n",
       "1       https://play-lh.googleusercontent.com/a-/ALV-U...   \n",
       "2       https://play-lh.googleusercontent.com/a/ACg8oc...   \n",
       "3       https://play-lh.googleusercontent.com/a/ACg8oc...   \n",
       "4       https://play-lh.googleusercontent.com/a/ACg8oc...   \n",
       "...                                                   ...   \n",
       "140954  https://play-lh.googleusercontent.com/EGemoI2N...   \n",
       "140955  https://play-lh.googleusercontent.com/EGemoI2N...   \n",
       "140956  https://play-lh.googleusercontent.com/EGemoI2N...   \n",
       "140957  https://play-lh.googleusercontent.com/EGemoI2N...   \n",
       "140958  https://play-lh.googleusercontent.com/EGemoI2N...   \n",
       "\n",
       "                                                  content  score  \\\n",
       "0                Garbage \"dating\" app just like the rest.      1   \n",
       "1       What I liked about bubble was the use of gif a...      3   \n",
       "2       Complete junk. I used to get between 1 and 3 l...      1   \n",
       "3       I know people that have not been on the app fo...      1   \n",
       "4       The 24 hours to respond is really bad. Especia...      1   \n",
       "...                                                   ...    ...   \n",
       "140954                                      Finally here!      5   \n",
       "140955                                           Finally!      5   \n",
       "140956  Finally, an app where women have to start the ...      4   \n",
       "140957                   At last we have Android version!      5   \n",
       "140958                                   Nice and smooth.      5   \n",
       "\n",
       "        thumbsUpCount reviewCreatedVersion                   at  \\\n",
       "0                   0              5.345.1  2023-11-19 00:56:43   \n",
       "1                   0                  NaN  2023-11-19 00:53:51   \n",
       "2                   0                  NaN  2023-11-19 00:52:40   \n",
       "3                   0                  NaN  2023-11-19 00:52:19   \n",
       "4                   1              5.345.1  2023-11-19 00:51:41   \n",
       "...               ...                  ...                  ...   \n",
       "140954             54                1.0.1  2015-12-01 02:17:24   \n",
       "140955             75                1.0.1  2015-12-01 02:09:05   \n",
       "140956              2                1.0.1  2015-12-01 00:18:53   \n",
       "140957             60                1.0.0  2015-11-30 21:27:51   \n",
       "140958             52                  NaN  2015-11-29 23:15:25   \n",
       "\n",
       "                                             replyContent  \\\n",
       "0                                                     NaN   \n",
       "1                                                     NaN   \n",
       "2                                                     NaN   \n",
       "3                                                     NaN   \n",
       "4       Thank you for your review.\\nWe have acknowledg...   \n",
       "...                                                   ...   \n",
       "140954                                                NaN   \n",
       "140955                                                NaN   \n",
       "140956                                                NaN   \n",
       "140957                                                NaN   \n",
       "140958                                                NaN   \n",
       "\n",
       "                  repliedAt appVersion  \n",
       "0                       NaN    5.345.1  \n",
       "1                       NaN        NaN  \n",
       "2                       NaN        NaN  \n",
       "3                       NaN        NaN  \n",
       "4       2023-11-19 01:18:43    5.345.1  \n",
       "...                     ...        ...  \n",
       "140954                  NaN      1.0.1  \n",
       "140955                  NaN      1.0.1  \n",
       "140956                  NaN      1.0.1  \n",
       "140957                  NaN      1.0.0  \n",
       "140958                  NaN        NaN  \n",
       "\n",
       "[140950 rows x 11 columns]"
      ]
     },
     "execution_count": 33,
     "metadata": {},
     "output_type": "execute_result"
    }
   ],
   "source": [
    "data = pd.read_csv('bumble_google_play_reviews.csv')\n",
    "data = data[data.content.notna()]\n",
    "data"
   ]
  },
  {
   "cell_type": "code",
   "execution_count": 37,
   "id": "b40ef514",
   "metadata": {},
   "outputs": [
    {
     "data": {
      "image/png": "[encoded data removed]",
      "text/plain": [
       "<Figure size 500x500 with 1 Axes>"
      ]
     },
     "metadata": {},
     "output_type": "display_data"
    }
   ],
   "source": [
    "X = data.content.apply(tokenizer).to_list()\n",
    "y = (data.score >= 4).to_numpy().astype(int)\n",
    "_ = sns.displot(y)"
   ]
  },
  {
   "cell_type": "code",
   "execution_count": 38,
   "id": "694fc868",
   "metadata": {},
   "outputs": [
    {
     "data": {
      "image/png": "[encoded data removed]",
      "text/plain": [
       "<Figure size 640x480 with 1 Axes>"
      ]
     },
     "metadata": {},
     "output_type": "display_data"
    }
   ],
   "source": [
    "plt.hist([len(sent) for sent in X], bins=100)\n",
    "plt.yscale('log')\n",
    "plt.ylabel('count')\n",
    "plt.xlabel('num words')\n",
    "plt.show()"
   ]
  },
  {
   "cell_type": "code",
   "execution_count": 39,
   "id": "16a144be",
   "metadata": {},
   "outputs": [
    {
     "data": {
      "text/plain": [
       "(105712, 35238)"
      ]
     },
     "execution_count": 39,
     "metadata": {},
     "output_type": "execute_result"
    }
   ],
   "source": [
    "from sklearn.model_selection import train_test_split\n",
    "\n",
    "X_train, X_test, y_train, y_test = train_test_split(X, y, test_size=0.25, random_state=42)\n",
    "len(X_train), len(X_test)"
   ]
  },
  {
   "cell_type": "code",
   "execution_count": 40,
   "id": "d021d805",
   "metadata": {
    "scrolled": true
   },
   "outputs": [
    {
     "name": "stdout",
     "output_type": "stream",
     "text": [
      "Downloading https://dl.fbaipublicfiles.com/fasttext/vectors-crawl/cc.en.300.bin.gz\n",
      " (0.54%) [>                                                  ]>                                                  ]>                                                  ]>                                                  ]>                                                  ]>                                                  ]>                                                  ]>                                                  ]>                                                  ]>                                                  ]>                                                  ]>                                                  ]\r"
     ]
    },
    {
     "name": "stderr",
     "output_type": "stream",
     "text": [
      "IOPub message rate exceeded.\n",
      "The notebook server will temporarily stop sending output\n",
      "to the client in order to avoid crashing it.\n",
      "To change this limit, set the config variable\n",
      "`--NotebookApp.iopub_msg_rate_limit`.\n",
      "\n",
      "Current values:\n",
      "NotebookApp.iopub_msg_rate_limit=1000.0 (msgs/sec)\n",
      "NotebookApp.rate_limit_window=3.0 (secs)\n",
      "\n"
     ]
    },
    {
     "name": "stdout",
     "output_type": "stream",
     "text": [
      " (2.32%) [=>                                                 ]\r"
     ]
    },
    {
     "name": "stderr",
     "output_type": "stream",
     "text": [
      "IOPub message rate exceeded.\n",
      "The notebook server will temporarily stop sending output\n",
      "to the client in order to avoid crashing it.\n",
      "To change this limit, set the config variable\n",
      "`--NotebookApp.iopub_msg_rate_limit`.\n",
      "\n",
      "Current values:\n",
      "NotebookApp.iopub_msg_rate_limit=1000.0 (msgs/sec)\n",
      "NotebookApp.rate_limit_window=3.0 (secs)\n",
      "\n"
     ]
    },
    {
     "name": "stdout",
     "output_type": "stream",
     "text": [
      " (4.13%) [==>                                                ]\r"
     ]
    },
    {
     "name": "stderr",
     "output_type": "stream",
     "text": [
      "IOPub message rate exceeded.\n",
      "The notebook server will temporarily stop sending output\n",
      "to the client in order to avoid crashing it.\n",
      "To change this limit, set the config variable\n",
      "`--NotebookApp.iopub_msg_rate_limit`.\n",
      "\n",
      "Current values:\n",
      "NotebookApp.iopub_msg_rate_limit=1000.0 (msgs/sec)\n",
      "NotebookApp.rate_limit_window=3.0 (secs)\n",
      "\n"
     ]
    },
    {
     "name": "stdout",
     "output_type": "stream",
     "text": [
      " (6.02%) [===>                                               ]==>                                                ]\r"
     ]
    },
    {
     "name": "stderr",
     "output_type": "stream",
     "text": [
      "IOPub message rate exceeded.\n",
      "The notebook server will temporarily stop sending output\n",
      "to the client in order to avoid crashing it.\n",
      "To change this limit, set the config variable\n",
      "`--NotebookApp.iopub_msg_rate_limit`.\n",
      "\n",
      "Current values:\n",
      "NotebookApp.iopub_msg_rate_limit=1000.0 (msgs/sec)\n",
      "NotebookApp.rate_limit_window=3.0 (secs)\n",
      "\n"
     ]
    },
    {
     "name": "stdout",
     "output_type": "stream",
     "text": [
      " (8.82%) [====>                                              ]====>                                              ]====>                                              ]====>                                              ]====>                                              ]====>                                              ]====>                                              ]====>                                              ]====>                                              ]====>                                              ]====>                                              ]====>                                              ]\r"
     ]
    },
    {
     "name": "stderr",
     "output_type": "stream",
     "text": [
      "IOPub message rate exceeded.\n",
      "The notebook server will temporarily stop sending output\n",
      "to the client in order to avoid crashing it.\n",
      "To change this limit, set the config variable\n",
      "`--NotebookApp.iopub_msg_rate_limit`.\n",
      "\n",
      "Current values:\n",
      "NotebookApp.iopub_msg_rate_limit=1000.0 (msgs/sec)\n",
      "NotebookApp.rate_limit_window=3.0 (secs)\n",
      "\n"
     ]
    },
    {
     "name": "stdout",
     "output_type": "stream",
     "text": [
      " (11.49%) [=====>                                             ]=====>                                             ]=====>                                             ]=====>                                             ]\r"
     ]
    },
    {
     "name": "stderr",
     "output_type": "stream",
     "text": [
      "IOPub message rate exceeded.\n",
      "The notebook server will temporarily stop sending output\n",
      "to the client in order to avoid crashing it.\n",
      "To change this limit, set the config variable\n",
      "`--NotebookApp.iopub_msg_rate_limit`.\n",
      "\n",
      "Current values:\n",
      "NotebookApp.iopub_msg_rate_limit=1000.0 (msgs/sec)\n",
      "NotebookApp.rate_limit_window=3.0 (secs)\n",
      "\n"
     ]
    },
    {
     "name": "stdout",
     "output_type": "stream",
     "text": [
      " (14.03%) [=======>                                           ]\r"
     ]
    },
    {
     "name": "stderr",
     "output_type": "stream",
     "text": [
      "IOPub message rate exceeded.\n",
      "The notebook server will temporarily stop sending output\n",
      "to the client in order to avoid crashing it.\n",
      "To change this limit, set the config variable\n",
      "`--NotebookApp.iopub_msg_rate_limit`.\n",
      "\n",
      "Current values:\n",
      "NotebookApp.iopub_msg_rate_limit=1000.0 (msgs/sec)\n",
      "NotebookApp.rate_limit_window=3.0 (secs)\n",
      "\n"
     ]
    },
    {
     "name": "stdout",
     "output_type": "stream",
     "text": [
      " (16.88%) [========>                                          ]========>                                          ]========>                                          ]\r"
     ]
    },
    {
     "name": "stderr",
     "output_type": "stream",
     "text": [
      "IOPub message rate exceeded.\n",
      "The notebook server will temporarily stop sending output\n",
      "to the client in order to avoid crashing it.\n",
      "To change this limit, set the config variable\n",
      "`--NotebookApp.iopub_msg_rate_limit`.\n",
      "\n",
      "Current values:\n",
      "NotebookApp.iopub_msg_rate_limit=1000.0 (msgs/sec)\n",
      "NotebookApp.rate_limit_window=3.0 (secs)\n",
      "\n"
     ]
    },
    {
     "name": "stdout",
     "output_type": "stream",
     "text": [
      " (19.54%) [=========>                                         ]\r"
     ]
    },
    {
     "name": "stderr",
     "output_type": "stream",
     "text": [
      "IOPub message rate exceeded.\n",
      "The notebook server will temporarily stop sending output\n",
      "to the client in order to avoid crashing it.\n",
      "To change this limit, set the config variable\n",
      "`--NotebookApp.iopub_msg_rate_limit`.\n",
      "\n",
      "Current values:\n",
      "NotebookApp.iopub_msg_rate_limit=1000.0 (msgs/sec)\n",
      "NotebookApp.rate_limit_window=3.0 (secs)\n",
      "\n"
     ]
    },
    {
     "name": "stdout",
     "output_type": "stream",
     "text": [
      " (22.24%) [===========>                                       ]\r"
     ]
    },
    {
     "name": "stderr",
     "output_type": "stream",
     "text": [
      "IOPub message rate exceeded.\n",
      "The notebook server will temporarily stop sending output\n",
      "to the client in order to avoid crashing it.\n",
      "To change this limit, set the config variable\n",
      "`--NotebookApp.iopub_msg_rate_limit`.\n",
      "\n",
      "Current values:\n",
      "NotebookApp.iopub_msg_rate_limit=1000.0 (msgs/sec)\n",
      "NotebookApp.rate_limit_window=3.0 (secs)\n",
      "\n"
     ]
    },
    {
     "name": "stdout",
     "output_type": "stream",
     "text": [
      " (24.88%) [============>                                      ]\r"
     ]
    },
    {
     "name": "stderr",
     "output_type": "stream",
     "text": [
      "IOPub message rate exceeded.\n",
      "The notebook server will temporarily stop sending output\n",
      "to the client in order to avoid crashing it.\n",
      "To change this limit, set the config variable\n",
      "`--NotebookApp.iopub_msg_rate_limit`.\n",
      "\n",
      "Current values:\n",
      "NotebookApp.iopub_msg_rate_limit=1000.0 (msgs/sec)\n",
      "NotebookApp.rate_limit_window=3.0 (secs)\n",
      "\n"
     ]
    },
    {
     "name": "stdout",
     "output_type": "stream",
     "text": [
      " (27.40%) [=============>                                     ]\r"
     ]
    },
    {
     "name": "stderr",
     "output_type": "stream",
     "text": [
      "IOPub message rate exceeded.\n",
      "The notebook server will temporarily stop sending output\n",
      "to the client in order to avoid crashing it.\n",
      "To change this limit, set the config variable\n",
      "`--NotebookApp.iopub_msg_rate_limit`.\n",
      "\n",
      "Current values:\n",
      "NotebookApp.iopub_msg_rate_limit=1000.0 (msgs/sec)\n",
      "NotebookApp.rate_limit_window=3.0 (secs)\n",
      "\n"
     ]
    },
    {
     "name": "stdout",
     "output_type": "stream",
     "text": [
      " (30.13%) [===============>                                   ]\r"
     ]
    },
    {
     "name": "stderr",
     "output_type": "stream",
     "text": [
      "IOPub message rate exceeded.\n",
      "The notebook server will temporarily stop sending output\n",
      "to the client in order to avoid crashing it.\n",
      "To change this limit, set the config variable\n",
      "`--NotebookApp.iopub_msg_rate_limit`.\n",
      "\n",
      "Current values:\n",
      "NotebookApp.iopub_msg_rate_limit=1000.0 (msgs/sec)\n",
      "NotebookApp.rate_limit_window=3.0 (secs)\n",
      "\n"
     ]
    },
    {
     "name": "stdout",
     "output_type": "stream",
     "text": [
      " (32.68%) [================>                                  ]================>                                  ]\r"
     ]
    },
    {
     "name": "stderr",
     "output_type": "stream",
     "text": [
      "IOPub message rate exceeded.\n",
      "The notebook server will temporarily stop sending output\n",
      "to the client in order to avoid crashing it.\n",
      "To change this limit, set the config variable\n",
      "`--NotebookApp.iopub_msg_rate_limit`.\n",
      "\n",
      "Current values:\n",
      "NotebookApp.iopub_msg_rate_limit=1000.0 (msgs/sec)\n",
      "NotebookApp.rate_limit_window=3.0 (secs)\n",
      "\n"
     ]
    },
    {
     "name": "stdout",
     "output_type": "stream",
     "text": [
      " (35.28%) [=================>                                 ]\r"
     ]
    },
    {
     "name": "stderr",
     "output_type": "stream",
     "text": [
      "IOPub message rate exceeded.\n",
      "The notebook server will temporarily stop sending output\n",
      "to the client in order to avoid crashing it.\n",
      "To change this limit, set the config variable\n",
      "`--NotebookApp.iopub_msg_rate_limit`.\n",
      "\n",
      "Current values:\n",
      "NotebookApp.iopub_msg_rate_limit=1000.0 (msgs/sec)\n",
      "NotebookApp.rate_limit_window=3.0 (secs)\n",
      "\n"
     ]
    },
    {
     "name": "stdout",
     "output_type": "stream",
     "text": [
      " (38.26%) [===================>                               ]\r"
     ]
    },
    {
     "name": "stderr",
     "output_type": "stream",
     "text": [
      "IOPub message rate exceeded.\n",
      "The notebook server will temporarily stop sending output\n",
      "to the client in order to avoid crashing it.\n",
      "To change this limit, set the config variable\n",
      "`--NotebookApp.iopub_msg_rate_limit`.\n",
      "\n",
      "Current values:\n",
      "NotebookApp.iopub_msg_rate_limit=1000.0 (msgs/sec)\n",
      "NotebookApp.rate_limit_window=3.0 (secs)\n",
      "\n"
     ]
    },
    {
     "name": "stdout",
     "output_type": "stream",
     "text": [
      " (40.80%) [====================>                              ]\r"
     ]
    },
    {
     "name": "stderr",
     "output_type": "stream",
     "text": [
      "IOPub message rate exceeded.\n",
      "The notebook server will temporarily stop sending output\n",
      "to the client in order to avoid crashing it.\n",
      "To change this limit, set the config variable\n",
      "`--NotebookApp.iopub_msg_rate_limit`.\n",
      "\n",
      "Current values:\n",
      "NotebookApp.iopub_msg_rate_limit=1000.0 (msgs/sec)\n",
      "NotebookApp.rate_limit_window=3.0 (secs)\n",
      "\n"
     ]
    },
    {
     "name": "stdout",
     "output_type": "stream",
     "text": [
      " (43.73%) [=====================>                             ]\r"
     ]
    },
    {
     "name": "stderr",
     "output_type": "stream",
     "text": [
      "IOPub message rate exceeded.\n",
      "The notebook server will temporarily stop sending output\n",
      "to the client in order to avoid crashing it.\n",
      "To change this limit, set the config variable\n",
      "`--NotebookApp.iopub_msg_rate_limit`.\n",
      "\n",
      "Current values:\n",
      "NotebookApp.iopub_msg_rate_limit=1000.0 (msgs/sec)\n",
      "NotebookApp.rate_limit_window=3.0 (secs)\n",
      "\n"
     ]
    },
    {
     "name": "stdout",
     "output_type": "stream",
     "text": [
      " (46.16%) [=======================>                           ]\r"
     ]
    },
    {
     "name": "stderr",
     "output_type": "stream",
     "text": [
      "IOPub message rate exceeded.\n",
      "The notebook server will temporarily stop sending output\n",
      "to the client in order to avoid crashing it.\n",
      "To change this limit, set the config variable\n",
      "`--NotebookApp.iopub_msg_rate_limit`.\n",
      "\n",
      "Current values:\n",
      "NotebookApp.iopub_msg_rate_limit=1000.0 (msgs/sec)\n",
      "NotebookApp.rate_limit_window=3.0 (secs)\n",
      "\n"
     ]
    },
    {
     "name": "stdout",
     "output_type": "stream",
     "text": [
      " (48.76%) [========================>                          ]========================>                          ]\r"
     ]
    },
    {
     "name": "stderr",
     "output_type": "stream",
     "text": [
      "IOPub message rate exceeded.\n",
      "The notebook server will temporarily stop sending output\n",
      "to the client in order to avoid crashing it.\n",
      "To change this limit, set the config variable\n",
      "`--NotebookApp.iopub_msg_rate_limit`.\n",
      "\n",
      "Current values:\n",
      "NotebookApp.iopub_msg_rate_limit=1000.0 (msgs/sec)\n",
      "NotebookApp.rate_limit_window=3.0 (secs)\n",
      "\n"
     ]
    },
    {
     "name": "stdout",
     "output_type": "stream",
     "text": [
      " (51.59%) [=========================>                         ]=========================>                         ]=========================>                         ]=========================>                         ]=========================>                         ]\r"
     ]
    },
    {
     "name": "stderr",
     "output_type": "stream",
     "text": [
      "IOPub message rate exceeded.\n",
      "The notebook server will temporarily stop sending output\n",
      "to the client in order to avoid crashing it.\n",
      "To change this limit, set the config variable\n",
      "`--NotebookApp.iopub_msg_rate_limit`.\n",
      "\n",
      "Current values:\n",
      "NotebookApp.iopub_msg_rate_limit=1000.0 (msgs/sec)\n",
      "NotebookApp.rate_limit_window=3.0 (secs)\n",
      "\n"
     ]
    },
    {
     "name": "stdout",
     "output_type": "stream",
     "text": [
      " (53.80%) [==========================>                        ]==========================>                        ]==========================>                        ]\r"
     ]
    },
    {
     "name": "stderr",
     "output_type": "stream",
     "text": [
      "IOPub message rate exceeded.\n",
      "The notebook server will temporarily stop sending output\n",
      "to the client in order to avoid crashing it.\n",
      "To change this limit, set the config variable\n",
      "`--NotebookApp.iopub_msg_rate_limit`.\n",
      "\n",
      "Current values:\n",
      "NotebookApp.iopub_msg_rate_limit=1000.0 (msgs/sec)\n",
      "NotebookApp.rate_limit_window=3.0 (secs)\n",
      "\n"
     ]
    },
    {
     "name": "stdout",
     "output_type": "stream",
     "text": [
      " (56.79%) [============================>                      ]\r"
     ]
    },
    {
     "name": "stderr",
     "output_type": "stream",
     "text": [
      "IOPub message rate exceeded.\n",
      "The notebook server will temporarily stop sending output\n",
      "to the client in order to avoid crashing it.\n",
      "To change this limit, set the config variable\n",
      "`--NotebookApp.iopub_msg_rate_limit`.\n",
      "\n",
      "Current values:\n",
      "NotebookApp.iopub_msg_rate_limit=1000.0 (msgs/sec)\n",
      "NotebookApp.rate_limit_window=3.0 (secs)\n",
      "\n"
     ]
    },
    {
     "name": "stdout",
     "output_type": "stream",
     "text": [
      " (59.42%) [=============================>                     ]\r"
     ]
    },
    {
     "name": "stderr",
     "output_type": "stream",
     "text": [
      "IOPub message rate exceeded.\n",
      "The notebook server will temporarily stop sending output\n",
      "to the client in order to avoid crashing it.\n",
      "To change this limit, set the config variable\n",
      "`--NotebookApp.iopub_msg_rate_limit`.\n",
      "\n",
      "Current values:\n",
      "NotebookApp.iopub_msg_rate_limit=1000.0 (msgs/sec)\n",
      "NotebookApp.rate_limit_window=3.0 (secs)\n",
      "\n"
     ]
    },
    {
     "name": "stdout",
     "output_type": "stream",
     "text": [
      " (61.94%) [==============================>                    ]==============================>                    ]==============================>                    ]==============================>                    ]==============================>                    ]==============================>                    ]==============================>                    ]\r"
     ]
    },
    {
     "name": "stderr",
     "output_type": "stream",
     "text": [
      "IOPub message rate exceeded.\n",
      "The notebook server will temporarily stop sending output\n",
      "to the client in order to avoid crashing it.\n",
      "To change this limit, set the config variable\n",
      "`--NotebookApp.iopub_msg_rate_limit`.\n",
      "\n",
      "Current values:\n",
      "NotebookApp.iopub_msg_rate_limit=1000.0 (msgs/sec)\n",
      "NotebookApp.rate_limit_window=3.0 (secs)\n",
      "\n"
     ]
    },
    {
     "name": "stdout",
     "output_type": "stream",
     "text": [
      " (64.73%) [================================>                  ]\r"
     ]
    },
    {
     "name": "stderr",
     "output_type": "stream",
     "text": [
      "IOPub message rate exceeded.\n",
      "The notebook server will temporarily stop sending output\n",
      "to the client in order to avoid crashing it.\n",
      "To change this limit, set the config variable\n",
      "`--NotebookApp.iopub_msg_rate_limit`.\n",
      "\n",
      "Current values:\n",
      "NotebookApp.iopub_msg_rate_limit=1000.0 (msgs/sec)\n",
      "NotebookApp.rate_limit_window=3.0 (secs)\n",
      "\n"
     ]
    },
    {
     "name": "stdout",
     "output_type": "stream",
     "text": [
      " (67.26%) [=================================>                 ]=================================>                 ]=================================>                 ]\r"
     ]
    },
    {
     "name": "stderr",
     "output_type": "stream",
     "text": [
      "IOPub message rate exceeded.\n",
      "The notebook server will temporarily stop sending output\n",
      "to the client in order to avoid crashing it.\n",
      "To change this limit, set the config variable\n",
      "`--NotebookApp.iopub_msg_rate_limit`.\n",
      "\n",
      "Current values:\n",
      "NotebookApp.iopub_msg_rate_limit=1000.0 (msgs/sec)\n",
      "NotebookApp.rate_limit_window=3.0 (secs)\n",
      "\n"
     ]
    },
    {
     "name": "stdout",
     "output_type": "stream",
     "text": [
      " (70.08%) [===================================>               ]==================================>                ]==================================>                ]==================================>                ]==================================>                ]==================================>                ]===================================>               ]\r"
     ]
    },
    {
     "name": "stderr",
     "output_type": "stream",
     "text": [
      "IOPub message rate exceeded.\n",
      "The notebook server will temporarily stop sending output\n",
      "to the client in order to avoid crashing it.\n",
      "To change this limit, set the config variable\n",
      "`--NotebookApp.iopub_msg_rate_limit`.\n",
      "\n",
      "Current values:\n",
      "NotebookApp.iopub_msg_rate_limit=1000.0 (msgs/sec)\n",
      "NotebookApp.rate_limit_window=3.0 (secs)\n",
      "\n"
     ]
    },
    {
     "name": "stdout",
     "output_type": "stream",
     "text": [
      " (72.62%) [====================================>              ]\r"
     ]
    },
    {
     "name": "stderr",
     "output_type": "stream",
     "text": [
      "IOPub message rate exceeded.\n",
      "The notebook server will temporarily stop sending output\n",
      "to the client in order to avoid crashing it.\n",
      "To change this limit, set the config variable\n",
      "`--NotebookApp.iopub_msg_rate_limit`.\n",
      "\n",
      "Current values:\n",
      "NotebookApp.iopub_msg_rate_limit=1000.0 (msgs/sec)\n",
      "NotebookApp.rate_limit_window=3.0 (secs)\n",
      "\n"
     ]
    },
    {
     "name": "stdout",
     "output_type": "stream",
     "text": [
      " (75.17%) [=====================================>             ]=====================================>             ]=====================================>             ]\r"
     ]
    },
    {
     "name": "stderr",
     "output_type": "stream",
     "text": [
      "IOPub message rate exceeded.\n",
      "The notebook server will temporarily stop sending output\n",
      "to the client in order to avoid crashing it.\n",
      "To change this limit, set the config variable\n",
      "`--NotebookApp.iopub_msg_rate_limit`.\n",
      "\n",
      "Current values:\n",
      "NotebookApp.iopub_msg_rate_limit=1000.0 (msgs/sec)\n",
      "NotebookApp.rate_limit_window=3.0 (secs)\n",
      "\n"
     ]
    },
    {
     "name": "stdout",
     "output_type": "stream",
     "text": [
      " (77.83%) [======================================>            ]======================================>            ]======================================>            ]======================================>            ]======================================>            ]======================================>            ]======================================>            ]======================================>            ]\r"
     ]
    },
    {
     "name": "stderr",
     "output_type": "stream",
     "text": [
      "IOPub message rate exceeded.\n",
      "The notebook server will temporarily stop sending output\n",
      "to the client in order to avoid crashing it.\n",
      "To change this limit, set the config variable\n",
      "`--NotebookApp.iopub_msg_rate_limit`.\n",
      "\n",
      "Current values:\n",
      "NotebookApp.iopub_msg_rate_limit=1000.0 (msgs/sec)\n",
      "NotebookApp.rate_limit_window=3.0 (secs)\n",
      "\n"
     ]
    },
    {
     "name": "stdout",
     "output_type": "stream",
     "text": [
      " (80.32%) [========================================>          ]\r"
     ]
    },
    {
     "name": "stderr",
     "output_type": "stream",
     "text": [
      "IOPub message rate exceeded.\n",
      "The notebook server will temporarily stop sending output\n",
      "to the client in order to avoid crashing it.\n",
      "To change this limit, set the config variable\n",
      "`--NotebookApp.iopub_msg_rate_limit`.\n",
      "\n",
      "Current values:\n",
      "NotebookApp.iopub_msg_rate_limit=1000.0 (msgs/sec)\n",
      "NotebookApp.rate_limit_window=3.0 (secs)\n",
      "\n"
     ]
    },
    {
     "name": "stdout",
     "output_type": "stream",
     "text": [
      " (82.98%) [=========================================>         ]\r"
     ]
    },
    {
     "name": "stderr",
     "output_type": "stream",
     "text": [
      "IOPub message rate exceeded.\n",
      "The notebook server will temporarily stop sending output\n",
      "to the client in order to avoid crashing it.\n",
      "To change this limit, set the config variable\n",
      "`--NotebookApp.iopub_msg_rate_limit`.\n",
      "\n",
      "Current values:\n",
      "NotebookApp.iopub_msg_rate_limit=1000.0 (msgs/sec)\n",
      "NotebookApp.rate_limit_window=3.0 (secs)\n",
      "\n"
     ]
    },
    {
     "name": "stdout",
     "output_type": "stream",
     "text": [
      " (85.79%) [==========================================>        ]\r"
     ]
    },
    {
     "name": "stderr",
     "output_type": "stream",
     "text": [
      "IOPub message rate exceeded.\n",
      "The notebook server will temporarily stop sending output\n",
      "to the client in order to avoid crashing it.\n",
      "To change this limit, set the config variable\n",
      "`--NotebookApp.iopub_msg_rate_limit`.\n",
      "\n",
      "Current values:\n",
      "NotebookApp.iopub_msg_rate_limit=1000.0 (msgs/sec)\n",
      "NotebookApp.rate_limit_window=3.0 (secs)\n",
      "\n"
     ]
    },
    {
     "name": "stdout",
     "output_type": "stream",
     "text": [
      " (88.38%) [============================================>      ]\r"
     ]
    },
    {
     "name": "stderr",
     "output_type": "stream",
     "text": [
      "IOPub message rate exceeded.\n",
      "The notebook server will temporarily stop sending output\n",
      "to the client in order to avoid crashing it.\n",
      "To change this limit, set the config variable\n",
      "`--NotebookApp.iopub_msg_rate_limit`.\n",
      "\n",
      "Current values:\n",
      "NotebookApp.iopub_msg_rate_limit=1000.0 (msgs/sec)\n",
      "NotebookApp.rate_limit_window=3.0 (secs)\n",
      "\n"
     ]
    },
    {
     "name": "stdout",
     "output_type": "stream",
     "text": [
      " (90.77%) [=============================================>     ]\r"
     ]
    },
    {
     "name": "stderr",
     "output_type": "stream",
     "text": [
      "IOPub message rate exceeded.\n",
      "The notebook server will temporarily stop sending output\n",
      "to the client in order to avoid crashing it.\n",
      "To change this limit, set the config variable\n",
      "`--NotebookApp.iopub_msg_rate_limit`.\n",
      "\n",
      "Current values:\n",
      "NotebookApp.iopub_msg_rate_limit=1000.0 (msgs/sec)\n",
      "NotebookApp.rate_limit_window=3.0 (secs)\n",
      "\n"
     ]
    },
    {
     "name": "stdout",
     "output_type": "stream",
     "text": [
      " (93.26%) [==============================================>    ]\r"
     ]
    },
    {
     "name": "stderr",
     "output_type": "stream",
     "text": [
      "IOPub message rate exceeded.\n",
      "The notebook server will temporarily stop sending output\n",
      "to the client in order to avoid crashing it.\n",
      "To change this limit, set the config variable\n",
      "`--NotebookApp.iopub_msg_rate_limit`.\n",
      "\n",
      "Current values:\n",
      "NotebookApp.iopub_msg_rate_limit=1000.0 (msgs/sec)\n",
      "NotebookApp.rate_limit_window=3.0 (secs)\n",
      "\n"
     ]
    },
    {
     "name": "stdout",
     "output_type": "stream",
     "text": [
      " (96.14%) [================================================>  ]================================================>  ]\r"
     ]
    },
    {
     "name": "stderr",
     "output_type": "stream",
     "text": [
      "IOPub message rate exceeded.\n",
      "The notebook server will temporarily stop sending output\n",
      "to the client in order to avoid crashing it.\n",
      "To change this limit, set the config variable\n",
      "`--NotebookApp.iopub_msg_rate_limit`.\n",
      "\n",
      "Current values:\n",
      "NotebookApp.iopub_msg_rate_limit=1000.0 (msgs/sec)\n",
      "NotebookApp.rate_limit_window=3.0 (secs)\n",
      "\n"
     ]
    },
    {
     "name": "stdout",
     "output_type": "stream",
     "text": [
      " (98.87%) [=================================================> ]\r"
     ]
    },
    {
     "name": "stderr",
     "output_type": "stream",
     "text": [
      "IOPub message rate exceeded.\n",
      "The notebook server will temporarily stop sending output\n",
      "to the client in order to avoid crashing it.\n",
      "To change this limit, set the config variable\n",
      "`--NotebookApp.iopub_msg_rate_limit`.\n",
      "\n",
      "Current values:\n",
      "NotebookApp.iopub_msg_rate_limit=1000.0 (msgs/sec)\n",
      "NotebookApp.rate_limit_window=3.0 (secs)\n",
      "\n",
      "Warning : `load_model` does not return WordVectorModel or SupervisedModel any more, but a `FastText` object which is very similar.\n"
     ]
    }
   ],
   "source": [
    "fasttext.util.download_model('en', if_exists='ignore')\n",
    "ft = fasttext.load_model('cc.en.300.bin')"
   ]
  },
  {
   "cell_type": "code",
   "execution_count": 41,
   "id": "78839cc8",
   "metadata": {},
   "outputs": [
    {
     "data": {
      "text/plain": [
       "(300,)"
      ]
     },
     "execution_count": 41,
     "metadata": {},
     "output_type": "execute_result"
    }
   ],
   "source": [
    "ft.get_word_vector('mother').shape"
   ]
  },
  {
   "cell_type": "code",
   "execution_count": 42,
   "id": "5716953b",
   "metadata": {},
   "outputs": [
    {
     "data": {
      "text/plain": [
       "[(0.8316885828971863, 'father'),\n",
       " (0.8139842748641968, 'grandmother'),\n",
       " (0.8042423725128174, 'daughter'),\n",
       " (0.7595430612564087, 'aunt'),\n",
       " (0.7551708221435547, 'stepfather'),\n",
       " (0.7433159947395325, 'mom'),\n",
       " (0.7390366792678833, 'step-father'),\n",
       " (0.7379246950149536, 'stepmother'),\n",
       " (0.7268661856651306, 'step-mother'),\n",
       " (0.7265076041221619, 'sister')]"
      ]
     },
     "execution_count": 42,
     "metadata": {},
     "output_type": "execute_result"
    }
   ],
   "source": [
    "ft.get_nearest_neighbors('mother')"
   ]
  },
  {
   "cell_type": "code",
   "execution_count": 44,
   "id": "5394bdb6",
   "metadata": {},
   "outputs": [
    {
     "data": {
      "text/plain": [
       "[(0.7550359964370728, 'kings'),\n",
       " (0.7068519592285156, 'queen'),\n",
       " (0.7060439586639404, 'king-'),\n",
       " (0.6811205148696899, 'king.'),\n",
       " (0.660710871219635, 'king.The'),\n",
       " (0.6591265797615051, 'King'),\n",
       " (0.6495252251625061, 'prince'),\n",
       " (0.6278106570243835, '-king'),\n",
       " (0.6183920502662659, 'monarch'),\n",
       " (0.6070184707641602, 'queen-mother')]"
      ]
     },
     "execution_count": 44,
     "metadata": {},
     "output_type": "execute_result"
    }
   ],
   "source": [
    "ft.get_nearest_neighbors('king')"
   ]
  },
  {
   "cell_type": "code",
   "execution_count": 46,
   "id": "ad24cf1b",
   "metadata": {},
   "outputs": [],
   "source": [
    "emb = ft.get_word_vector('king') - ft.get_word_vector('man') + ft.get_word_vector('woman')"
   ]
  },
  {
   "cell_type": "code",
   "execution_count": 51,
   "id": "1b1bb3a8",
   "metadata": {},
   "outputs": [],
   "source": [
    "from sklearn.feature_extraction.text import TfidfVectorizer\n",
    "from sklearn.linear_model import LogisticRegression\n",
    "from sklearn.metrics import accuracy_score"
   ]
  },
  {
   "cell_type": "code",
   "execution_count": 52,
   "id": "dfe2eb0f",
   "metadata": {},
   "outputs": [],
   "source": [
    "X_train_sents = [' '.join(sent) for sent in X_train]\n",
    "X_test_sents = [' '.join(sent) for sent in X_test]"
   ]
  },
  {
   "cell_type": "code",
   "execution_count": 53,
   "id": "02ea04e8",
   "metadata": {},
   "outputs": [
    {
     "data": {
      "text/plain": [
       "((105712, 8384), (35238, 8384))"
      ]
     },
     "execution_count": 53,
     "metadata": {},
     "output_type": "execute_result"
    }
   ],
   "source": [
    "tf_idf = TfidfVectorizer(min_df=5).fit(X_train_sents)\n",
    "tf_idf_train = tf_idf.transform(X_train_sents)\n",
    "tf_idf_test = tf_idf.transform(X_test_sents)\n",
    "\n",
    "tf_idf_train.shape, tf_idf_test.shape"
   ]
  },
  {
   "cell_type": "code",
   "execution_count": 54,
   "id": "8e80207e",
   "metadata": {},
   "outputs": [],
   "source": [
    "lr = LogisticRegression(max_iter=1000).fit(tf_idf_train, y_train)"
   ]
  },
  {
   "cell_type": "code",
   "execution_count": 55,
   "id": "3fcf9b2f",
   "metadata": {},
   "outputs": [
    {
     "name": "stdout",
     "output_type": "stream",
     "text": [
      "Tf-idf + LogRegr train acc: 0.8999\n",
      "Tf-idf + LogRegr test acc: 0.8878\n"
     ]
    }
   ],
   "source": [
    "print(f'Tf-idf + LogRegr train acc: {accuracy_score(lr.predict(tf_idf_train), y_train):.4f}')\n",
    "print(f'Tf-idf + LogRegr test acc: {accuracy_score(lr.predict(tf_idf_test), y_test):.4f}')"
   ]
  },
  {
   "cell_type": "code",
   "execution_count": 56,
   "id": "c5002797",
   "metadata": {},
   "outputs": [],
   "source": [
    "def get_sentence_embedding(sent):\n",
    "    embeds = []\n",
    "    for word in sent:\n",
    "        embeds += [ft.get_word_vector(word)]\n",
    "\n",
    "    return np.stack(embeds, axis=0).mean(0)"
   ]
  },
  {
   "cell_type": "code",
   "execution_count": 57,
   "id": "9c2de438",
   "metadata": {},
   "outputs": [],
   "source": [
    "train_embeds = np.stack([get_sentence_embedding(sent) for sent in X_train], axis=0)\n",
    "test_embeds = np.stack([get_sentence_embedding(sent) for sent in X_test], axis=0)"
   ]
  },
  {
   "cell_type": "code",
   "execution_count": 58,
   "id": "047b4f6e",
   "metadata": {},
   "outputs": [],
   "source": [
    "lr = LogisticRegression(max_iter=1000).fit(train_embeds, y_train)"
   ]
  },
  {
   "cell_type": "code",
   "execution_count": 59,
   "id": "9d5c8102",
   "metadata": {},
   "outputs": [
    {
     "name": "stdout",
     "output_type": "stream",
     "text": [
      "FastText + LogRegr train acc: 0.8583\n",
      "FastText + LogRegr test acc: 0.8556\n"
     ]
    }
   ],
   "source": [
    "print(f'FastText + LogRegr train acc: {accuracy_score(lr.predict(train_embeds), y_train):.4f}')\n",
    "print(f'FastText + LogRegr test acc: {accuracy_score(lr.predict(test_embeds), y_test):.4f}')"
   ]
  },
  {
   "cell_type": "code",
   "execution_count": 60,
   "id": "5e4a9938",
   "metadata": {},
   "outputs": [],
   "source": [
    "BATCH_SIZE = 128\n",
    "MAX_SEQUENCE_LENGTH = 256\n",
    "MODEL_BLOCKS = 2\n",
    "MODEL_CHANNELS = 300\n",
    "NUM_EPOCHS = 5"
   ]
  },
  {
   "cell_type": "code",
   "execution_count": 61,
   "id": "bd885090",
   "metadata": {},
   "outputs": [],
   "source": [
    "class EmbeddingsDataset(Dataset):\n",
    "    def __init__(self, sents, targets, max_length):\n",
    "        super().__init__()\n",
    "        self.max_length = max_length\n",
    "        self.sents = sents\n",
    "        self.targets = targets\n",
    "    \n",
    "    def __len__(self):\n",
    "        return len(self.sents)\n",
    "\n",
    "    def __getitem__(self, item):\n",
    "        sent = self.sents[item]\n",
    "        length = min(len(sent), self.max_length)\n",
    "\n",
    "        embeds = []\n",
    "        for word in sent[:length]:\n",
    "            embeds += [torch.from_numpy(ft.get_word_vector(word).astype(np.float32))]\n",
    "        \n",
    "        embeds = torch.stack(embeds, dim=1)\n",
    "        padding = torch.zeros((embeds.shape[0], self.max_length - length))\n",
    "        embeds = torch.cat([embeds, padding], dim=1)\n",
    "        target = self.targets[item]\n",
    "        return embeds, length, target"
   ]
  },
  {
   "cell_type": "code",
   "execution_count": 62,
   "id": "35f890e8",
   "metadata": {},
   "outputs": [],
   "source": [
    "train_set = EmbeddingsDataset(X_train, y_train, max_length=MAX_SEQUENCE_LENGTH)\n",
    "test_set = EmbeddingsDataset(X_test, y_test, max_length=MAX_SEQUENCE_LENGTH)\n",
    "\n",
    "train_loader = DataLoader(train_set, batch_size=BATCH_SIZE, num_workers=4,\n",
    "                          pin_memory=True, shuffle=True)\n",
    "test_loader = DataLoader(test_set, batch_size=BATCH_SIZE, num_workers=4,\n",
    "                         pin_memory=True)"
   ]
  },
  {
   "cell_type": "code",
   "execution_count": 63,
   "id": "95d9476a",
   "metadata": {},
   "outputs": [],
   "source": [
    "class BasicBlock(nn.Module):\n",
    "    def __init__(self, num_channels, kernel_size):\n",
    "        super().__init__()\n",
    "        padding = (kernel_size - 1) // 2\n",
    "        self.conv1 = nn.Conv1d(num_channels, num_channels, kernel_size,\n",
    "                               padding=padding, bias=False)\n",
    "        self.bn1 = nn.BatchNorm1d(num_channels)\n",
    "        self.conv2 = nn.Conv1d(num_channels, num_channels, kernel_size,\n",
    "                               padding=padding, bias=False)\n",
    "        self.bn2 = nn.BatchNorm1d(num_channels)\n",
    "        self.relu = nn.LeakyReLU(0.1)\n",
    "\n",
    "    def forward(self, x):\n",
    "        out = self.conv1(x)\n",
    "        out = self.bn1(out)\n",
    "        out = self.relu(out)\n",
    "        out = self.conv2(out)\n",
    "        out = self.bn2(out)\n",
    "        out = self.relu(out + x)\n",
    "        return out\n",
    "\n",
    "class TextCNN(nn.Module):\n",
    "    def __init__(self, num_blocks, num_channels, num_classes, kernel_size=5):\n",
    "        super().__init__()\n",
    "        self.backbone = nn.Sequential(\n",
    "            *[BasicBlock(num_channels, kernel_size) for _ in range(num_blocks)]\n",
    "        )\n",
    "\n",
    "        self.classifier = nn.Linear(num_channels, num_classes)\n",
    "\n",
    "    @staticmethod\n",
    "    def get_lengths_mask(embeds, lengths):\n",
    "        mask = torch.arange(embeds.shape[-1]).unsqueeze(0).to(embeds.device)\n",
    "        mask = (mask < lengths.unsqueeze(1)).to(torch.float)\n",
    "        return mask.unsqueeze(1)\n",
    "\n",
    "    def forward(self, embeds, lengths):\n",
    "        # embeds: (B, C, T), lengths: (B, )\n",
    "        features = self.backbone(embeds)\n",
    "        # features: (B, C, T)\n",
    "        mask = self.get_lengths_mask(embeds, lengths)\n",
    "        # mask: (B, 1, T)\n",
    "        features = (features * mask).sum(-1) / lengths.unsqueeze(1)\n",
    "        # features: (B, C)\n",
    "        logits = self.classifier(features)\n",
    "        # logits: (B, num_classes)\n",
    "        return logits"
   ]
  },
  {
   "cell_type": "code",
   "execution_count": 64,
   "id": "7986a573",
   "metadata": {},
   "outputs": [],
   "source": [
    "from IPython.display import clear_output\n",
    "from tqdm.notebook import tqdm\n",
    "\n",
    "\n",
    "def plot_losses(train_losses, test_losses, train_accuracies, test_accuracies):\n",
    "    clear_output()\n",
    "    fig, axs = plt.subplots(1, 2, figsize=(13, 4))\n",
    "    axs[0].plot(range(1, len(train_losses) + 1), train_losses, label='train', color='deepskyblue', linewidth=2)\n",
    "    axs[0].plot(range(1, len(test_losses) + 1), test_losses, label='test', color='springgreen', linewidth=2)\n",
    "    axs[0].set_ylabel('loss')\n",
    "\n",
    "    axs[1].plot(range(1, len(train_accuracies) + 1), train_accuracies, label='train',\n",
    "                color='deepskyblue', linewidth=2)\n",
    "    axs[1].plot(range(1, len(test_accuracies) + 1), test_accuracies, label='test',\n",
    "                color='springgreen', linewidth=2)\n",
    "    axs[1].set_ylabel('accuracy')\n",
    "\n",
    "    for ax in axs:\n",
    "        ax.set_xlabel('epoch')\n",
    "        ax.legend()\n",
    "\n",
    "    plt.show()"
   ]
  },
  {
   "cell_type": "code",
   "execution_count": 65,
   "id": "a45bf024",
   "metadata": {},
   "outputs": [],
   "source": [
    "def training_epoch(model, optimizer, criterion, train_loader, tqdm_desc):\n",
    "    train_loss, train_accuracy = 0.0, 0.0\n",
    "    model.train()\n",
    "    for embeds, lengths, labels in tqdm(train_loader, desc=tqdm_desc):\n",
    "        embeds = embeds.to(device)\n",
    "        lengths = lengths.to(device)\n",
    "        labels = labels.to(device)\n",
    "        embeds = embeds[..., :lengths.max()]\n",
    "\n",
    "        optimizer.zero_grad()\n",
    "        logits = model(embeds, lengths)\n",
    "        loss = criterion(logits, labels)\n",
    "        loss.backward()\n",
    "        optimizer.step()\n",
    "\n",
    "        train_loss += loss.item() * embeds.shape[0]\n",
    "        train_accuracy += (logits.argmax(1) == labels).sum().item()\n",
    "\n",
    "    train_loss /= len(train_loader.dataset)\n",
    "    train_accuracy /= len(train_loader.dataset)\n",
    "    return train_loss, train_accuracy\n",
    "\n",
    "\n",
    "@torch.no_grad()\n",
    "def validation_epoch(model, criterion, valid_loader, tqdm_desc):\n",
    "    valid_loss, valid_accuracy = 0.0, 0.0\n",
    "    model.eval()\n",
    "    for embeds, lengths, labels in tqdm(valid_loader, desc=tqdm_desc):\n",
    "        embeds = embeds.to(device)\n",
    "        lengths = lengths.to(device)\n",
    "        labels = labels.to(device)\n",
    "        embeds = embeds[..., :lengths.max()]\n",
    "\n",
    "        logits = model(embeds, lengths)\n",
    "        loss = criterion(logits, labels)\n",
    "\n",
    "        valid_loss += loss.item() * embeds.shape[0]\n",
    "        valid_accuracy += (logits.argmax(1) == labels).sum().item()\n",
    "\n",
    "    valid_loss /= len(valid_loader.dataset)\n",
    "    valid_accuracy /= len(valid_loader.dataset)\n",
    "    return valid_loss, valid_accuracy\n",
    "\n",
    "\n",
    "def train(model, optimizer, scheduler, criterion, train_loader, valid_loader, num_epochs):\n",
    "    train_losses, valid_losses = [], []\n",
    "    train_accuracies, valid_accuracies = [], []\n",
    "\n",
    "    for epoch in range(1, num_epochs + 1):\n",
    "        train_loss, train_accuracy = training_epoch(\n",
    "            model, optimizer, criterion, train_loader,\n",
    "            tqdm_desc=f'Training {epoch}/{num_epochs}'\n",
    "        )\n",
    "        valid_loss, valid_accuracy = validation_epoch(\n",
    "            model, criterion, valid_loader,\n",
    "            tqdm_desc=f'Validating {epoch}/{num_epochs}'\n",
    "        )\n",
    "\n",
    "        if scheduler is not None:\n",
    "            scheduler.step()\n",
    "\n",
    "        train_losses += [train_loss]\n",
    "        train_accuracies += [train_accuracy]\n",
    "        valid_losses += [valid_loss]\n",
    "        valid_accuracies += [valid_accuracy]\n",
    "        plot_losses(train_losses, valid_losses, train_accuracies, valid_accuracies)"
   ]
  },
  {
   "cell_type": "code",
   "execution_count": 66,
   "id": "460dcee6",
   "metadata": {},
   "outputs": [
    {
     "data": {
      "text/plain": [
       "device(type='cuda', index=0)"
      ]
     },
     "execution_count": 66,
     "metadata": {},
     "output_type": "execute_result"
    }
   ],
   "source": [
    "device = torch.device('cuda:0' if torch.cuda.is_available() else 'cpu')\n",
    "device"
   ]
  },
  {
   "cell_type": "code",
   "execution_count": 67,
   "id": "b602cb49",
   "metadata": {},
   "outputs": [],
   "source": [
    "model = TextCNN(num_blocks=MODEL_BLOCKS, num_channels=MODEL_CHANNELS, num_classes=2).to(device)\n",
    "optimizer = torch.optim.Adam(model.parameters(), lr=1e-3)\n",
    "scheduler = torch.optim.lr_scheduler.CosineAnnealingLR(optimizer, NUM_EPOCHS)\n",
    "criterion = nn.CrossEntropyLoss()"
   ]
  },
  {
   "cell_type": "code",
   "execution_count": 68,
   "id": "ec787850",
   "metadata": {},
   "outputs": [
    {
     "data": {
      "image/png": "[encoded data removed]",
      "text/plain": [
       "<Figure size 1300x400 with 2 Axes>"
      ]
     },
     "metadata": {},
     "output_type": "display_data"
    }
   ],
   "source": [
    "train(model, optimizer, scheduler, criterion, train_loader, test_loader, NUM_EPOCHS)"
   ]
  },
  {
   "cell_type": "code",
   "execution_count": null,
   "id": "02744823",
   "metadata": {},
   "outputs": [],
   "source": []
  }
 ],
 "metadata": {
  "kernelspec": {
   "display_name": "Python (ml)",
   "language": "python",
   "name": "ml"
  },
  "language_info": {
   "codemirror_mode": {
    "name": "ipython",
    "version": 3
   },
   "file_extension": ".py",
   "mimetype": "text/x-python",
   "name": "python",
   "nbconvert_exporter": "python",
   "pygments_lexer": "ipython3",
   "version": "3.9.15"
  }
 },
 "nbformat": 4,
 "nbformat_minor": 5
}
