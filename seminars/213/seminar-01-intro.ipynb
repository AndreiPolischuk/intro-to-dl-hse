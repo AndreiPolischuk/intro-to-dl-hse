{
 "cells": [
  {
   "cell_type": "markdown",
   "metadata": {
    "id": "Gp4C09Xoohww",
    "pycharm": {
     "name": "#%% md\n"
    }
   },
   "source": [
    "# Введение. Полносвязные слои. Функции активации (ноутбук)\n",
    "\n",
    "> Начнем осваивать библиотеку `PyTorch`. Познакомимся с нейронными сетями."
   ]
  },
  {
   "cell_type": "markdown",
   "metadata": {
    "id": "xcSFkfemohwx",
    "pycharm": {
     "name": "#%% md\n"
    }
   },
   "source": [
    "## План ноутбука\n",
    "\n",
    "1. Установка `PyTorch`\n",
    "1. Введение в `PyTorch`\n",
    "1. Полносвязные слои и функции активации в `PyTorch`\n",
    "1. Градиентный спуск своими руками"
   ]
  },
  {
   "cell_type": "markdown",
   "metadata": {
    "id": "xqnu9fo-ohwy",
    "pycharm": {
     "name": "#%% md\n"
    }
   },
   "source": [
    "## Установка `PyTorch`"
   ]
  },
  {
   "cell_type": "markdown",
   "metadata": {
    "id": "RFhPyKA_ohwy",
    "pycharm": {
     "name": "#%% md\n"
    }
   },
   "source": [
    "Мы будем использовать библиотеку для глубинного обучения `PyTorch`, ее можно не устанавливать, будем пользоваться сайтом [kaggle.com](kaggle.com) для обучения в облаке (или с учителем?). \n",
    "\n",
    "Чтобы установить `PyTorch` локально себе на компьютер нужно ответить на два вопроса - какая у вас операционная система и есть ли у вас дискретная видеокарта (GPU) и если есть, то какого производителя. В зависимости от ваших ответов мы получаем три варианта по операционной системе - Linux, Mac и Windows; три варианта по дискретной видеокарте - нет видеокарты (доступен только центральный процессор CPU), есть видеокарта от Nvidia или есть видеокарта от AMD (это производитель именно чипа, конечный вендор может быть другой, например, ASUS, MSI, Palit). Работа с PyTorch с видеокартой от AMD это экзотика, которая выходит за рамки нашего курса, поэтому рассмотрим только варианты *нет видеокарты*/*есть видеокарта от Nvidia*.\n",
    "\n",
    "\n",
    "Выберите на [сайте](https://pytorch.org/get-started/locally/) подходящие вам варианты операционной системы/видеокарты и скопируйте команду для установки. Разберем подробно самые популярные варианты установки:"
   ]
  },
  {
   "cell_type": "markdown",
   "metadata": {
    "id": "MAvM4k_pohwz",
    "pycharm": {
     "name": "#%% md\n"
    }
   },
   "source": [
    "### Установка в Linux ([поддерживаемые дистрибутивы](https://pytorch.org/get-started/locally/#supported-linux-distributions))\n",
    "\n",
    "На линуксе будет работать поддержка `PyTorch` в любой конфигурации, что у вас нет видеокарты, что есть от Nvidia, что от AMD. \n",
    "\n",
    "Пререквизит для работы с видеокартой от Nvidia - нужно поставить CUDA, это инструмент от компании Nvidia, который позволяет ускорять вычисления на их же ГПУ. Чтобы поставить себе на машину все правильно воспользуйтесь этим [гайдом](https://docs.nvidia.com/cuda/cuda-installation-guide-linux/index.html) от Nvidia.\n",
    "\n",
    " - **pip**\n",
    "\n",
    "`pip3 install torch torchvision torchaudio --extra-index-url https://download.pytorch.org/whl/cpu` для тех, у кого нет видеокарты.\n",
    "\n",
    "`pip3 install torch torchvision torchaudio --extra-index-url https://download.pytorch.org/whl/cu116` для тех, у кого есть видеокарта (либо другой `--extra-index-url`, смотрите на сайте PyTorch, в зависимости от версии CUDA).\n",
    "\n",
    " - **conda**\n",
    "\n",
    "`conda install pytorch torchvision torchaudio cpuonly -c pytorch` для тех, у кого нет видеокарты.\n",
    "\n",
    "`conda install pytorch torchvision torchaudio cudatoolkit=11.6 -c pytorch -c conda-forge` для тех, у кого есть видеокарта (либо немного другая команда, в зависимости от версии CUDA)."
   ]
  },
  {
   "cell_type": "markdown",
   "metadata": {
    "id": "AKCFyZEAohw0",
    "pycharm": {
     "name": "#%% md\n"
    }
   },
   "source": [
    "### Установка в Windows\n",
    "\n",
    "На винде будет работать поддержка `PyTorch` только для видеокарт от Nvidia и без видеокарт вообще. \n",
    "\n",
    "Пререквизит для работы с видеокартой от Nvidia - нужно поставить CUDA, это инструмент от компании Nvidia, который позволяет ускорять вычисления на их же ГПУ. Чтобы поставить себе на машину все правильно воспользуйтесь этим [гайдом](https://docs.nvidia.com/cuda/cuda-installation-guide-microsoft-windows/index.html) от Nvidia.\n",
    "\n",
    " - **pip**\n",
    "\n",
    "`pip3 install torch torchvision torchaudio --extra-index-url https://download.pytorch.org/whl/cpu` для тех, у кого нет видеокарты.\n",
    "\n",
    "`pip3 install torch torchvision torchaudio --extra-index-url https://download.pytorch.org/whl/cu116` для тех, у кого есть видеокарта (либо другой `--extra-index-url`, смотрите на сайте PyTorch, в зависимости от версии CUDA).\n",
    "\n",
    " - **conda**\n",
    "\n",
    "`conda install pytorch torchvision torchaudio cpuonly -c pytorch` для тех, у кого нет видеокарты.\n",
    "\n",
    "`conda install pytorch torchvision torchaudio cudatoolkit=11.6 -c pytorch -c conda-forge` для тех, у кого есть видеокарта (либо немного другая команда, в зависимости от версии CUDA).\n",
    "\n"
   ]
  },
  {
   "cell_type": "markdown",
   "metadata": {
    "id": "XcCkXHmdohw1",
    "pycharm": {
     "name": "#%% md\n"
    }
   },
   "source": [
    "### Установка на Mac\n",
    "\n",
    "На маках есть пока что поддержка `PyTorch` только центрального процессора, чуть позже появится поддержка ускорения на чипах M1, M2, M1 Pro и так далее.\n",
    "\n",
    " - **pip**\n",
    "\n",
    "`pip3 install torch torchvision torchaudio --extra-index-url https://download.pytorch.org/whl/cpu` \n",
    "\n",
    " - **conda**\n",
    "\n",
    "`conda install pytorch torchvision torchaudio cpuonly -c pytorch`"
   ]
  },
  {
   "cell_type": "markdown",
   "metadata": {
    "id": "gzYuadM1ohw1",
    "pycharm": {
     "name": "#%% md\n"
    }
   },
   "source": [
    "## Введение в `PyTorch`"
   ]
  },
  {
   "cell_type": "markdown",
   "metadata": {
    "id": "7ttmU5drohw1",
    "pycharm": {
     "name": "#%% md\n"
    }
   },
   "source": [
    "### Тензоры\n",
    "\n",
    "Тензоры — это специализированная структура данных, по сути это массивы и матрицы. Тензоры очень похожи на массивы в numpy, так что, если у вас хорошо с numpy, то разобраться в PyTorch тензорах будет очень просто. В PyTorch мы используем тензоры для кодирования входных и выходных данных модели, а также параметров модели."
   ]
  },
  {
   "cell_type": "code",
   "execution_count": 1,
   "metadata": {
    "id": "_8pkMvRkohw2",
    "pycharm": {
     "name": "#%%\n"
    }
   },
   "outputs": [],
   "source": [
    "import torch\n",
    "import numpy as np"
   ]
  },
  {
   "cell_type": "code",
   "execution_count": 2,
   "metadata": {},
   "outputs": [
    {
     "data": {
      "text/plain": [
       "array([1, 2, 3])"
      ]
     },
     "execution_count": 2,
     "metadata": {},
     "output_type": "execute_result"
    }
   ],
   "source": [
    "np.array([1, 2, 3])"
   ]
  },
  {
   "cell_type": "markdown",
   "metadata": {
    "id": "vc3BXij7ohw3"
   },
   "source": [
    "### Создание тензоров\n",
    "\n",
    "Тензор можно создать напрямую из каких-то данных - нам подходят все списки с числами:"
   ]
  },
  {
   "cell_type": "code",
   "execution_count": 3,
   "metadata": {
    "colab": {
     "base_uri": "https://localhost:8080/"
    },
    "id": "CSeNoOtoohw3",
    "outputId": "3281c887-6fa6-4646-9980-ce434df91f26"
   },
   "outputs": [
    {
     "data": {
      "text/plain": [
       "tensor([1, 2, 3, 4])"
      ]
     },
     "execution_count": 3,
     "metadata": {},
     "output_type": "execute_result"
    }
   ],
   "source": [
    "some_data = [1, 2, 3, 4]\n",
    "some_tensor = torch.tensor(some_data)\n",
    "\n",
    "some_tensor"
   ]
  },
  {
   "cell_type": "code",
   "execution_count": 4,
   "metadata": {
    "colab": {
     "base_uri": "https://localhost:8080/"
    },
    "id": "TskN8kt7ohw4",
    "outputId": "e962f996-585c-4e62-fc81-3bf1927aead8",
    "pycharm": {
     "name": "#%%\n"
    }
   },
   "outputs": [
    {
     "data": {
      "text/plain": [
       "tensor([[1, 2],\n",
       "        [3, 4],\n",
       "        [5, 6]])"
      ]
     },
     "execution_count": 4,
     "metadata": {},
     "output_type": "execute_result"
    }
   ],
   "source": [
    "some_data = [[1, 2], [3, 4], [5, 6]]\n",
    "some_tensor = torch.tensor(some_data)\n",
    "\n",
    "some_tensor"
   ]
  },
  {
   "cell_type": "code",
   "execution_count": 5,
   "metadata": {
    "colab": {
     "base_uri": "https://localhost:8080/"
    },
    "id": "wlSK4r9Hohw4",
    "outputId": "b515b4b2-d6e0-44c2-f8fe-4bdcd4149f0d"
   },
   "outputs": [
    {
     "data": {
      "text/plain": [
       "tensor([[[1],\n",
       "         [2]],\n",
       "\n",
       "        [[3],\n",
       "         [4]],\n",
       "\n",
       "        [[5],\n",
       "         [6]]])"
      ]
     },
     "execution_count": 5,
     "metadata": {},
     "output_type": "execute_result"
    }
   ],
   "source": [
    "some_data = [[[1], [2]], [[3], [4]], [[5], [6]]]\n",
    "some_tensor = torch.tensor(some_data)\n",
    "\n",
    "some_tensor"
   ]
  },
  {
   "cell_type": "code",
   "execution_count": 8,
   "metadata": {},
   "outputs": [],
   "source": [
    "a = np.array([1, 2, 3])\n",
    "b = torch.tensor(a)"
   ]
  },
  {
   "cell_type": "code",
   "execution_count": 9,
   "metadata": {},
   "outputs": [
    {
     "data": {
      "text/plain": [
       "array([1, 2, 3])"
      ]
     },
     "execution_count": 9,
     "metadata": {},
     "output_type": "execute_result"
    }
   ],
   "source": [
    "b[0] = -1\n",
    "a"
   ]
  },
  {
   "cell_type": "code",
   "execution_count": 10,
   "metadata": {},
   "outputs": [
    {
     "data": {
      "text/plain": [
       "array([-1,  2,  3])"
      ]
     },
     "execution_count": 10,
     "metadata": {},
     "output_type": "execute_result"
    }
   ],
   "source": [
    "b = torch.from_numpy(a)\n",
    "b[0] = -1\n",
    "a"
   ]
  },
  {
   "cell_type": "code",
   "execution_count": 11,
   "metadata": {},
   "outputs": [
    {
     "data": {
      "text/plain": [
       "tensor([-1,  2,  3], device='cuda:0')"
      ]
     },
     "execution_count": 11,
     "metadata": {},
     "output_type": "execute_result"
    }
   ],
   "source": [
    "c = b.to(\"cuda:0\")\n",
    "c"
   ]
  },
  {
   "cell_type": "code",
   "execution_count": 12,
   "metadata": {},
   "outputs": [
    {
     "data": {
      "text/plain": [
       "array([-1,  2,  3])"
      ]
     },
     "execution_count": 12,
     "metadata": {},
     "output_type": "execute_result"
    }
   ],
   "source": [
    "c[0] = 1\n",
    "a"
   ]
  },
  {
   "cell_type": "markdown",
   "metadata": {
    "id": "eEAqloTPohw5"
   },
   "source": [
    "На самом деле про \"все\" списки с числами - обман. Если у вашего списка есть какой-то уровень вложенности, то должны совпадать размерности у всех вложенных списков (подробнее про размерности поговорим позже):"
   ]
  },
  {
   "cell_type": "code",
   "execution_count": 7,
   "metadata": {
    "colab": {
     "base_uri": "https://localhost:8080/",
     "height": 231
    },
    "id": "coztW4NKohw5",
    "outputId": "28e5b0e9-9b35-4998-b322-676a56c9aa55"
   },
   "outputs": [
    {
     "ename": "ValueError",
     "evalue": "expected sequence of length 2 at dim 1 (got 3)",
     "output_type": "error",
     "traceback": [
      "\u001b[0;31m---------------------------------------------------------------------------\u001b[0m",
      "\u001b[0;31mValueError\u001b[0m                                Traceback (most recent call last)",
      "Cell \u001b[0;32mIn[7], line 2\u001b[0m\n\u001b[1;32m      1\u001b[0m some_other_data \u001b[38;5;241m=\u001b[39m [[\u001b[38;5;241m1\u001b[39m, \u001b[38;5;241m2\u001b[39m], [\u001b[38;5;241m3\u001b[39m, \u001b[38;5;241m4\u001b[39m], [\u001b[38;5;241m5\u001b[39m, \u001b[38;5;241m6\u001b[39m, \u001b[38;5;241m7\u001b[39m]]\n\u001b[0;32m----> 2\u001b[0m some_other_tensor \u001b[38;5;241m=\u001b[39m \u001b[43mtorch\u001b[49m\u001b[38;5;241;43m.\u001b[39;49m\u001b[43mtensor\u001b[49m\u001b[43m(\u001b[49m\u001b[43msome_other_data\u001b[49m\u001b[43m)\u001b[49m\n\u001b[1;32m      4\u001b[0m some_other_tensor\n",
      "\u001b[0;31mValueError\u001b[0m: expected sequence of length 2 at dim 1 (got 3)"
     ]
    }
   ],
   "source": [
    "some_other_data = [[1, 2], [3, 4], [5, 6, 7]]\n",
    "some_other_tensor = torch.tensor(some_other_data)\n",
    "\n",
    "some_other_tensor"
   ]
  },
  {
   "cell_type": "markdown",
   "metadata": {
    "id": "ges6f6W2ohw6"
   },
   "source": [
    "Также тензоры можно создавать из numpy массивов и наоборот:"
   ]
  },
  {
   "cell_type": "code",
   "execution_count": null,
   "metadata": {
    "colab": {
     "base_uri": "https://localhost:8080/"
    },
    "id": "FAKzvFyFohw7",
    "outputId": "624b5e2b-3f44-4fb2-a144-26fd4d3778d3",
    "pycharm": {
     "name": "#%%\n"
    }
   },
   "outputs": [
    {
     "data": {
      "text/plain": [
       "array([[[1],\n",
       "        [2]],\n",
       "\n",
       "       [[3],\n",
       "        [4]],\n",
       "\n",
       "       [[5],\n",
       "        [6]]])"
      ]
     },
     "execution_count": 7,
     "metadata": {},
     "output_type": "execute_result"
    }
   ],
   "source": [
    "some_numpy_array = np.array(some_data)\n",
    "\n",
    "some_numpy_array"
   ]
  },
  {
   "cell_type": "code",
   "execution_count": null,
   "metadata": {
    "colab": {
     "base_uri": "https://localhost:8080/"
    },
    "id": "kFz27sXkohw7",
    "outputId": "b65a5bcb-8b8d-4926-b8e6-8e22e5ad14b0"
   },
   "outputs": [
    {
     "data": {
      "text/plain": [
       "tensor([[[1],\n",
       "         [2]],\n",
       "\n",
       "        [[3],\n",
       "         [4]],\n",
       "\n",
       "        [[5],\n",
       "         [6]]])"
      ]
     },
     "execution_count": 8,
     "metadata": {},
     "output_type": "execute_result"
    }
   ],
   "source": [
    "some_tensor_from_numpy = torch.from_numpy(some_numpy_array)\n",
    "\n",
    "some_tensor_from_numpy"
   ]
  },
  {
   "cell_type": "markdown",
   "metadata": {
    "id": "PNxcksCtohw8"
   },
   "source": [
    "При этом если мы создаем тензор из numpy массива с помощью `torch.from_numpy`, то они делят между собой память, где лежат их данные и, соответственно, при изменении тензора меняется numpy массив и наоборот:"
   ]
  },
  {
   "cell_type": "code",
   "execution_count": null,
   "metadata": {
    "colab": {
     "base_uri": "https://localhost:8080/"
    },
    "id": "PUOQy9OPohw8",
    "outputId": "6c4d1571-0762-4430-fac1-0491250ce83c"
   },
   "outputs": [
    {
     "data": {
      "text/plain": [
       "(array([1., 1., 1., 1., 1., 1., 1., 1., 1., 1.]),\n",
       " tensor([1., 1., 1., 1., 1., 1., 1., 1., 1., 1.], dtype=torch.float64))"
      ]
     },
     "execution_count": 9,
     "metadata": {},
     "output_type": "execute_result"
    }
   ],
   "source": [
    "x = np.ones(10)\n",
    "y = torch.from_numpy(x)\n",
    "\n",
    "x, y"
   ]
  },
  {
   "cell_type": "code",
   "execution_count": null,
   "metadata": {
    "colab": {
     "base_uri": "https://localhost:8080/"
    },
    "id": "FSge8rdOohw9",
    "outputId": "a975608b-903c-4917-e6a3-bb2ef3b59704"
   },
   "outputs": [
    {
     "data": {
      "text/plain": [
       "(array([2., 2., 2., 2., 2., 2., 2., 2., 2., 2.]),\n",
       " tensor([2., 2., 2., 2., 2., 2., 2., 2., 2., 2.], dtype=torch.float64))"
      ]
     },
     "execution_count": 10,
     "metadata": {},
     "output_type": "execute_result"
    }
   ],
   "source": [
    "x += 1\n",
    "\n",
    "x, y"
   ]
  },
  {
   "cell_type": "code",
   "execution_count": null,
   "metadata": {
    "colab": {
     "base_uri": "https://localhost:8080/"
    },
    "id": "IbXkXEXFohw-",
    "outputId": "3910b3e8-cc1f-4b48-ef4a-b07dc1fcb980"
   },
   "outputs": [
    {
     "data": {
      "text/plain": [
       "(tensor([1., 1., 1., 1., 1., 1., 1., 1., 1., 1.]),\n",
       " array([1., 1., 1., 1., 1., 1., 1., 1., 1., 1.], dtype=float32))"
      ]
     },
     "execution_count": 11,
     "metadata": {},
     "output_type": "execute_result"
    }
   ],
   "source": [
    "x = torch.ones(10)\n",
    "y = x.numpy()\n",
    "\n",
    "x, y"
   ]
  },
  {
   "cell_type": "code",
   "execution_count": null,
   "metadata": {
    "colab": {
     "base_uri": "https://localhost:8080/"
    },
    "id": "HqMLzE0Wohw-",
    "outputId": "40e656ae-872e-4d97-ea25-5b6c57ddf841"
   },
   "outputs": [
    {
     "data": {
      "text/plain": [
       "(tensor([2., 2., 2., 2., 2., 2., 2., 2., 2., 2.]),\n",
       " array([2., 2., 2., 2., 2., 2., 2., 2., 2., 2.], dtype=float32))"
      ]
     },
     "execution_count": 12,
     "metadata": {},
     "output_type": "execute_result"
    }
   ],
   "source": [
    "x += 1\n",
    "\n",
    "x, y"
   ]
  },
  {
   "cell_type": "markdown",
   "metadata": {
    "id": "pIIthqR_ohw_"
   },
   "source": [
    "Можем создать тензор со случайными или константными значениями:"
   ]
  },
  {
   "cell_type": "code",
   "execution_count": 13,
   "metadata": {
    "colab": {
     "base_uri": "https://localhost:8080/"
    },
    "id": "o6OgDQsoohxA",
    "outputId": "cd3f2e43-8627-4c84-e060-f71a898a93a5"
   },
   "outputs": [
    {
     "name": "stdout",
     "output_type": "stream",
     "text": [
      "tensor([[-0.7653,  1.3169,  0.1505],\n",
      "        [ 1.0771, -0.2559,  0.1218]])\n",
      "tensor([[1., 1., 1.],\n",
      "        [1., 1., 1.]])\n",
      "tensor([[0., 0., 0.],\n",
      "        [0., 0., 0.]])\n",
      "tensor([[0., 0., 0.],\n",
      "        [0., 0., 0.]])\n"
     ]
    }
   ],
   "source": [
    "shape = (2, 3)\n",
    "\n",
    "random_tensor = torch.randn(shape)\n",
    "ones_tensor = torch.ones(shape)\n",
    "zeros_tensor = torch.zeros(shape)\n",
    "empty_tensor = torch.empty(shape)\n",
    "\n",
    "print(random_tensor)\n",
    "print(ones_tensor)\n",
    "print(zeros_tensor) \n",
    "print(empty_tensor)"
   ]
  },
  {
   "cell_type": "markdown",
   "metadata": {
    "id": "QO3cS_EBohxA"
   },
   "source": [
    "Теперь поговорим про размерности подробнее.\n",
    "\n",
    "У тензора есть какой-то размер, какая форма. Первое с чем нужно определиться, какой **размерности** тензор - количество осей у него."
   ]
  },
  {
   "cell_type": "code",
   "execution_count": 14,
   "metadata": {},
   "outputs": [
    {
     "data": {
      "text/plain": [
       "torch.Size([3])"
      ]
     },
     "execution_count": 14,
     "metadata": {},
     "output_type": "execute_result"
    }
   ],
   "source": [
    "c.shape"
   ]
  },
  {
   "cell_type": "code",
   "execution_count": 15,
   "metadata": {},
   "outputs": [
    {
     "data": {
      "text/plain": [
       "tensor([1, 2, 3], device='cuda:0')"
      ]
     },
     "execution_count": 15,
     "metadata": {},
     "output_type": "execute_result"
    }
   ],
   "source": [
    "c"
   ]
  },
  {
   "cell_type": "code",
   "execution_count": 16,
   "metadata": {},
   "outputs": [
    {
     "data": {
      "text/plain": [
       "tensor([[1, 2],\n",
       "        [1, 2]])"
      ]
     },
     "execution_count": 16,
     "metadata": {},
     "output_type": "execute_result"
    }
   ],
   "source": [
    "d = torch.tensor([[1, 2], [1, 2]])\n",
    "d"
   ]
  },
  {
   "cell_type": "code",
   "execution_count": 17,
   "metadata": {},
   "outputs": [
    {
     "data": {
      "text/plain": [
       "torch.Size([2, 2])"
      ]
     },
     "execution_count": 17,
     "metadata": {},
     "output_type": "execute_result"
    }
   ],
   "source": [
    "d.shape"
   ]
  },
  {
   "cell_type": "code",
   "execution_count": null,
   "metadata": {
    "id": "8jnzvGSjohxB",
    "outputId": "1bbb1a99-6b11-4468-a21f-6e3919141456"
   },
   "outputs": [
    {
     "data": {
      "text/plain": [
       "tensor([0.2560, 0.9379, 0.6417, 0.5229, 0.8069, 0.4212, 0.0097, 0.7956, 0.5459,\n",
       "        0.2644])"
      ]
     },
     "execution_count": 13,
     "metadata": {},
     "output_type": "execute_result"
    }
   ],
   "source": [
    "shape = (10)  # одна ось (вектор)\n",
    "\n",
    "tensor = torch.rand(shape)\n",
    "\n",
    "tensor"
   ]
  },
  {
   "cell_type": "code",
   "execution_count": null,
   "metadata": {
    "id": "PiSZMW6PohxC",
    "outputId": "4aa5ea35-3e80-420e-a3ae-258f452c3f1d"
   },
   "outputs": [
    {
     "data": {
      "text/plain": [
       "tensor([[0.0559, 0.2930, 0.9226],\n",
       "        [0.0079, 0.0833, 0.0602]])"
      ]
     },
     "execution_count": 14,
     "metadata": {},
     "output_type": "execute_result"
    }
   ],
   "source": [
    "shape = (2, 3)  # две оси (матрица)\n",
    "\n",
    "tensor = torch.rand(shape)\n",
    "\n",
    "tensor"
   ]
  },
  {
   "cell_type": "code",
   "execution_count": null,
   "metadata": {
    "id": "RqCkPEPUohxC",
    "outputId": "a0a23472-5b21-4993-aa4f-3a8655e0b398"
   },
   "outputs": [
    {
     "data": {
      "text/plain": [
       "tensor([[[0.3993, 0.4952, 0.0413],\n",
       "         [0.6340, 0.6229, 0.8200]],\n",
       "\n",
       "        [[0.7292, 0.2421, 0.7074],\n",
       "         [0.0581, 0.0137, 0.0532]],\n",
       "\n",
       "        [[0.9352, 0.7882, 0.3498],\n",
       "         [0.9770, 0.3449, 0.2242]]])"
      ]
     },
     "execution_count": 15,
     "metadata": {},
     "output_type": "execute_result"
    }
   ],
   "source": [
    "shape = (3, 2, 3)  # три оси (и больше - тензор)\n",
    "\n",
    "tensor = torch.rand(shape)\n",
    "\n",
    "tensor"
   ]
  },
  {
   "cell_type": "markdown",
   "metadata": {
    "id": "uDX1jJsWohxD"
   },
   "source": [
    "Тензор с размерностью 1 - это просто вектор, список чисел.\n",
    "\n",
    "Тензор с размерностью 2 - это просто матрица, то есть список списков чисел.\n",
    "\n",
    "Тензор с размерностью 3 и больше - это тензор, то есть список списков списков ... чисел."
   ]
  },
  {
   "cell_type": "markdown",
   "metadata": {
    "id": "vOPzB_ozohxD"
   },
   "source": [
    "Получить доступ к размеру уже созданного тензора - метод `.shape`:"
   ]
  },
  {
   "cell_type": "code",
   "execution_count": null,
   "metadata": {
    "colab": {
     "base_uri": "https://localhost:8080/"
    },
    "id": "17lpXMrQohxE",
    "outputId": "72ccbc69-dda6-4a26-8e61-2aac4869ecf3"
   },
   "outputs": [
    {
     "name": "stdout",
     "output_type": "stream",
     "text": [
      "tensor([[[1],\n",
      "         [2]],\n",
      "\n",
      "        [[3],\n",
      "         [4]],\n",
      "\n",
      "        [[5],\n",
      "         [6]]])\n",
      "torch.Size([3, 2, 1])\n"
     ]
    }
   ],
   "source": [
    "some_data = [[[1], [2]], [[3], [4]], [[5], [6]]]\n",
    "some_tensor = torch.tensor(some_data)\n",
    "\n",
    "print(some_tensor)\n",
    "print(some_tensor.shape)"
   ]
  },
  {
   "cell_type": "markdown",
   "metadata": {
    "id": "PaBvVnJdohxG"
   },
   "source": [
    "В лекции мы говорили про изображения, давайте сделаем тензор, который будет нам имитировать изображение - сделаем его размер `(c, h, w)`, где `h` и `w` это его высота и ширина, а `c` - число каналов в цветовом пространстве (в черно-белом 1, в RGB 3):"
   ]
  },
  {
   "cell_type": "code",
   "execution_count": null,
   "metadata": {},
   "outputs": [],
   "source": [
    "shape = (h, w, c)  # numpy"
   ]
  },
  {
   "cell_type": "code",
   "execution_count": null,
   "metadata": {},
   "outputs": [],
   "source": [
    "shape = (c, h, w)  # torch"
   ]
  },
  {
   "cell_type": "code",
   "execution_count": 19,
   "metadata": {
    "colab": {
     "base_uri": "https://localhost:8080/"
    },
    "id": "pN46r45UohxI",
    "outputId": "c5d1ab8e-f615-42b1-a53a-267c843c14d4",
    "scrolled": false
   },
   "outputs": [
    {
     "data": {
      "text/plain": [
       "tensor([[[1.0140e-01, 2.4642e-01, 8.0393e-01, 9.3969e-01, 8.5649e-01,\n",
       "          2.5389e-01, 9.9779e-01, 9.8726e-02, 9.7752e-01, 8.4206e-01,\n",
       "          3.5622e-01, 2.2354e-01, 3.2508e-01, 7.6454e-01, 3.4762e-01,\n",
       "          5.1990e-01],\n",
       "         [1.7124e-01, 7.3216e-01, 8.6255e-01, 6.3095e-01, 9.9924e-01,\n",
       "          4.2302e-01, 9.3682e-01, 8.5350e-01, 1.6242e-01, 9.4464e-01,\n",
       "          2.4762e-01, 2.5934e-01, 6.7765e-01, 5.1041e-02, 4.1614e-01,\n",
       "          4.8299e-01],\n",
       "         [5.0595e-01, 2.6622e-01, 1.8791e-01, 5.4442e-01, 7.5468e-02,\n",
       "          7.9483e-01, 4.0687e-01, 1.5340e-01, 2.3708e-01, 7.5340e-01,\n",
       "          5.0144e-01, 7.0155e-01, 3.7440e-02, 1.0609e-01, 3.7512e-01,\n",
       "          1.5700e-02],\n",
       "         [8.8738e-01, 9.9987e-01, 4.9596e-01, 3.8853e-01, 9.0138e-01,\n",
       "          8.2520e-01, 8.6925e-01, 9.2815e-01, 8.5832e-01, 9.7568e-01,\n",
       "          3.4480e-01, 2.3270e-01, 4.0151e-01, 8.1755e-02, 2.9266e-01,\n",
       "          7.4636e-01],\n",
       "         [5.3463e-01, 2.4072e-01, 5.4817e-02, 5.6752e-01, 9.7849e-01,\n",
       "          9.5184e-01, 8.2717e-01, 2.5478e-01, 2.2927e-01, 2.9749e-02,\n",
       "          5.0066e-01, 5.4763e-01, 6.9779e-01, 2.9212e-01, 7.3454e-01,\n",
       "          4.4400e-02],\n",
       "         [7.1490e-01, 9.3611e-01, 6.1580e-01, 2.5553e-01, 9.6773e-01,\n",
       "          9.9027e-01, 2.2017e-01, 7.4947e-02, 7.8296e-02, 5.2488e-01,\n",
       "          9.7405e-01, 4.5481e-01, 9.2157e-01, 1.9794e-01, 8.2623e-01,\n",
       "          9.1263e-01],\n",
       "         [1.8400e-01, 7.4817e-01, 4.1338e-01, 6.9913e-01, 2.4077e-01,\n",
       "          7.3049e-01, 6.3330e-01, 5.6857e-01, 8.3214e-01, 3.7284e-01,\n",
       "          4.2223e-01, 7.2233e-01, 1.0651e-01, 3.1195e-01, 1.8090e-01,\n",
       "          3.5343e-01],\n",
       "         [3.5647e-01, 3.8321e-01, 1.6335e-01, 2.9617e-02, 9.1826e-01,\n",
       "          1.1129e-01, 7.0956e-01, 2.8418e-01, 9.9208e-01, 6.3195e-01,\n",
       "          6.8497e-01, 1.4490e-01, 2.7737e-01, 3.4372e-01, 8.2701e-01,\n",
       "          5.3990e-01],\n",
       "         [9.2290e-01, 7.3306e-02, 6.5960e-01, 4.7623e-01, 1.8834e-01,\n",
       "          9.5301e-01, 4.4363e-02, 8.3290e-01, 1.8468e-01, 4.0176e-01,\n",
       "          9.8332e-01, 3.7881e-01, 6.9361e-01, 2.8672e-01, 3.8852e-02,\n",
       "          5.4727e-01]],\n",
       "\n",
       "        [[4.2651e-01, 8.2373e-01, 1.2521e-01, 4.3649e-01, 8.0553e-01,\n",
       "          6.1532e-01, 6.5873e-01, 2.6336e-01, 5.9544e-01, 2.0524e-01,\n",
       "          2.1259e-01, 8.4605e-01, 7.7387e-01, 9.1286e-02, 9.5589e-01,\n",
       "          5.3946e-01],\n",
       "         [8.3932e-01, 4.5147e-01, 2.0578e-02, 1.0445e-01, 1.9078e-01,\n",
       "          8.8017e-01, 8.6409e-01, 5.1944e-01, 2.0616e-01, 1.3409e-01,\n",
       "          1.0458e-01, 5.1519e-01, 3.4335e-02, 3.7472e-01, 6.0321e-02,\n",
       "          6.2157e-01],\n",
       "         [2.5740e-01, 2.3675e-01, 5.3705e-01, 7.2664e-01, 9.2680e-02,\n",
       "          2.2171e-01, 7.4970e-01, 8.2924e-01, 3.0098e-01, 8.2992e-01,\n",
       "          2.4267e-01, 5.9923e-01, 6.3938e-01, 5.6231e-01, 3.2627e-02,\n",
       "          1.1170e-01],\n",
       "         [9.9366e-02, 9.3242e-01, 7.8303e-01, 7.8508e-01, 5.0746e-01,\n",
       "          3.6722e-01, 3.8728e-01, 1.7104e-01, 8.2506e-01, 9.7677e-01,\n",
       "          7.8414e-01, 6.4207e-01, 5.8187e-01, 1.9101e-01, 4.9711e-01,\n",
       "          2.8523e-01],\n",
       "         [8.5233e-01, 2.5831e-01, 8.8249e-02, 9.7748e-01, 6.5522e-01,\n",
       "          9.6409e-01, 5.0017e-01, 3.6943e-01, 8.3382e-01, 2.5555e-01,\n",
       "          8.8228e-01, 3.7250e-01, 1.3773e-01, 7.7346e-01, 9.0931e-01,\n",
       "          2.4983e-01],\n",
       "         [2.6134e-01, 7.8483e-01, 2.8444e-01, 1.3983e-01, 2.6836e-01,\n",
       "          1.3802e-01, 7.1587e-01, 4.4063e-01, 6.8708e-01, 7.7065e-01,\n",
       "          2.9235e-01, 7.9020e-02, 6.6205e-01, 2.5048e-01, 2.4081e-01,\n",
       "          3.2099e-01],\n",
       "         [9.1939e-01, 9.2356e-02, 9.3149e-01, 8.2160e-01, 8.7121e-01,\n",
       "          8.5956e-01, 9.2010e-01, 4.0287e-01, 8.3963e-01, 1.1607e-01,\n",
       "          7.2837e-01, 9.3671e-01, 8.1834e-01, 1.1297e-01, 1.3559e-01,\n",
       "          2.7450e-01],\n",
       "         [2.7497e-02, 1.5638e-01, 3.5958e-01, 2.1272e-01, 2.1316e-01,\n",
       "          7.3651e-01, 9.1995e-01, 5.4481e-01, 6.3004e-01, 6.5579e-01,\n",
       "          9.2862e-01, 5.4009e-01, 5.8525e-01, 6.5179e-01, 2.4403e-01,\n",
       "          3.3203e-01],\n",
       "         [3.9175e-01, 1.3641e-01, 9.2293e-01, 6.8489e-01, 9.6841e-01,\n",
       "          8.1373e-01, 7.0184e-01, 3.9253e-01, 2.0440e-01, 8.3067e-01,\n",
       "          7.3481e-01, 2.8384e-01, 1.8000e-01, 6.9255e-01, 6.8230e-01,\n",
       "          2.6041e-01]],\n",
       "\n",
       "        [[2.0555e-01, 6.6364e-01, 7.9203e-01, 2.1447e-01, 7.2434e-01,\n",
       "          1.8126e-01, 5.5441e-01, 1.5877e-01, 6.2987e-01, 8.5472e-01,\n",
       "          2.6653e-01, 4.0708e-02, 5.0867e-01, 2.8024e-01, 8.9705e-01,\n",
       "          8.4801e-01],\n",
       "         [2.2714e-02, 8.1267e-01, 4.1900e-01, 2.4669e-01, 3.4358e-01,\n",
       "          4.7710e-01, 3.6166e-01, 8.9470e-01, 9.3934e-01, 4.4442e-01,\n",
       "          2.2960e-01, 1.4030e-01, 5.3865e-04, 7.7458e-01, 3.9798e-01,\n",
       "          4.3179e-01],\n",
       "         [1.2644e-01, 3.0126e-01, 6.2851e-01, 9.4060e-02, 3.3562e-01,\n",
       "          1.0636e-01, 8.8694e-01, 6.3553e-01, 5.5995e-01, 5.5349e-01,\n",
       "          2.7638e-01, 4.3083e-02, 6.4584e-01, 3.1263e-01, 1.4555e-01,\n",
       "          7.0215e-01],\n",
       "         [6.5533e-01, 3.7809e-01, 4.3041e-01, 9.7372e-01, 3.7040e-01,\n",
       "          5.2979e-02, 1.0978e-01, 3.1365e-01, 9.1653e-01, 9.2061e-01,\n",
       "          6.2287e-01, 3.7967e-01, 4.9918e-02, 6.7359e-01, 7.9721e-01,\n",
       "          9.2368e-01],\n",
       "         [7.7651e-01, 3.2182e-01, 9.4148e-01, 8.5641e-01, 7.5979e-01,\n",
       "          6.7310e-01, 9.8541e-01, 7.5143e-01, 6.2386e-01, 2.9158e-01,\n",
       "          4.6644e-01, 7.8029e-01, 2.2779e-01, 7.1698e-01, 3.1768e-01,\n",
       "          5.0944e-01],\n",
       "         [6.9830e-01, 1.0836e-01, 6.7339e-01, 9.1795e-01, 7.3304e-01,\n",
       "          2.1006e-01, 8.2174e-01, 7.0684e-01, 6.4465e-01, 9.1126e-01,\n",
       "          4.2952e-01, 2.1751e-01, 7.9584e-01, 4.6634e-01, 2.2291e-01,\n",
       "          5.6313e-01],\n",
       "         [7.7816e-01, 1.9349e-01, 2.3581e-01, 5.8348e-01, 1.2339e-01,\n",
       "          1.8887e-01, 2.4699e-01, 9.0352e-01, 2.9082e-01, 7.6144e-01,\n",
       "          7.3839e-01, 1.0646e-01, 4.6434e-01, 1.0324e-01, 9.9212e-01,\n",
       "          7.8346e-01],\n",
       "         [3.6460e-01, 5.5293e-01, 7.2890e-01, 4.4928e-01, 8.3100e-01,\n",
       "          2.1586e-01, 3.5402e-01, 5.0591e-01, 1.7568e-01, 9.6211e-01,\n",
       "          9.7569e-01, 6.1693e-01, 2.6057e-01, 4.7389e-02, 1.2983e-01,\n",
       "          8.3988e-01],\n",
       "         [5.8731e-01, 2.5824e-01, 5.7906e-01, 8.6837e-01, 4.4597e-01,\n",
       "          4.0957e-01, 7.9498e-01, 7.9567e-01, 2.2408e-01, 8.2867e-01,\n",
       "          2.2368e-01, 5.1839e-01, 4.5509e-01, 3.5342e-01, 8.7949e-01,\n",
       "          1.2256e-02]]])"
      ]
     },
     "execution_count": 19,
     "metadata": {},
     "output_type": "execute_result"
    }
   ],
   "source": [
    "h = 9\n",
    "w = 16\n",
    "c = 3\n",
    "\n",
    "shape = (c, h, w)\n",
    "\n",
    "image_tensor = torch.rand(shape)\n",
    "\n",
    "image_tensor"
   ]
  },
  {
   "cell_type": "code",
   "execution_count": null,
   "metadata": {
    "colab": {
     "base_uri": "https://localhost:8080/"
    },
    "id": "2_6FqvIHohxK",
    "outputId": "0f7645ab-e3f0-4376-9541-87d5c75b95cd"
   },
   "outputs": [
    {
     "data": {
      "text/plain": [
       "torch.Size([3, 9, 16])"
      ]
     },
     "execution_count": 16,
     "metadata": {},
     "output_type": "execute_result"
    }
   ],
   "source": [
    "image_tensor.shape"
   ]
  },
  {
   "cell_type": "markdown",
   "metadata": {
    "id": "F0xPUF6yohxL"
   },
   "source": [
    "Можем попробовать поменять размер тензора, например, [вытянуть его в вектор](https://pytorch.org/docs/stable/generated/torch.ravel.html):"
   ]
  },
  {
   "cell_type": "code",
   "execution_count": 20,
   "metadata": {
    "colab": {
     "base_uri": "https://localhost:8080/"
    },
    "id": "h1Q6MBcHohxM",
    "outputId": "ef310d08-7423-4d5b-c4c5-24100289d774"
   },
   "outputs": [
    {
     "data": {
      "text/plain": [
       "tensor([1.0140e-01, 2.4642e-01, 8.0393e-01, 9.3969e-01, 8.5649e-01, 2.5389e-01,\n",
       "        9.9779e-01, 9.8726e-02, 9.7752e-01, 8.4206e-01, 3.5622e-01, 2.2354e-01,\n",
       "        3.2508e-01, 7.6454e-01, 3.4762e-01, 5.1990e-01, 1.7124e-01, 7.3216e-01,\n",
       "        8.6255e-01, 6.3095e-01, 9.9924e-01, 4.2302e-01, 9.3682e-01, 8.5350e-01,\n",
       "        1.6242e-01, 9.4464e-01, 2.4762e-01, 2.5934e-01, 6.7765e-01, 5.1041e-02,\n",
       "        4.1614e-01, 4.8299e-01, 5.0595e-01, 2.6622e-01, 1.8791e-01, 5.4442e-01,\n",
       "        7.5468e-02, 7.9483e-01, 4.0687e-01, 1.5340e-01, 2.3708e-01, 7.5340e-01,\n",
       "        5.0144e-01, 7.0155e-01, 3.7440e-02, 1.0609e-01, 3.7512e-01, 1.5700e-02,\n",
       "        8.8738e-01, 9.9987e-01, 4.9596e-01, 3.8853e-01, 9.0138e-01, 8.2520e-01,\n",
       "        8.6925e-01, 9.2815e-01, 8.5832e-01, 9.7568e-01, 3.4480e-01, 2.3270e-01,\n",
       "        4.0151e-01, 8.1755e-02, 2.9266e-01, 7.4636e-01, 5.3463e-01, 2.4072e-01,\n",
       "        5.4817e-02, 5.6752e-01, 9.7849e-01, 9.5184e-01, 8.2717e-01, 2.5478e-01,\n",
       "        2.2927e-01, 2.9749e-02, 5.0066e-01, 5.4763e-01, 6.9779e-01, 2.9212e-01,\n",
       "        7.3454e-01, 4.4400e-02, 7.1490e-01, 9.3611e-01, 6.1580e-01, 2.5553e-01,\n",
       "        9.6773e-01, 9.9027e-01, 2.2017e-01, 7.4947e-02, 7.8296e-02, 5.2488e-01,\n",
       "        9.7405e-01, 4.5481e-01, 9.2157e-01, 1.9794e-01, 8.2623e-01, 9.1263e-01,\n",
       "        1.8400e-01, 7.4817e-01, 4.1338e-01, 6.9913e-01, 2.4077e-01, 7.3049e-01,\n",
       "        6.3330e-01, 5.6857e-01, 8.3214e-01, 3.7284e-01, 4.2223e-01, 7.2233e-01,\n",
       "        1.0651e-01, 3.1195e-01, 1.8090e-01, 3.5343e-01, 3.5647e-01, 3.8321e-01,\n",
       "        1.6335e-01, 2.9617e-02, 9.1826e-01, 1.1129e-01, 7.0956e-01, 2.8418e-01,\n",
       "        9.9208e-01, 6.3195e-01, 6.8497e-01, 1.4490e-01, 2.7737e-01, 3.4372e-01,\n",
       "        8.2701e-01, 5.3990e-01, 9.2290e-01, 7.3306e-02, 6.5960e-01, 4.7623e-01,\n",
       "        1.8834e-01, 9.5301e-01, 4.4363e-02, 8.3290e-01, 1.8468e-01, 4.0176e-01,\n",
       "        9.8332e-01, 3.7881e-01, 6.9361e-01, 2.8672e-01, 3.8852e-02, 5.4727e-01,\n",
       "        4.2651e-01, 8.2373e-01, 1.2521e-01, 4.3649e-01, 8.0553e-01, 6.1532e-01,\n",
       "        6.5873e-01, 2.6336e-01, 5.9544e-01, 2.0524e-01, 2.1259e-01, 8.4605e-01,\n",
       "        7.7387e-01, 9.1286e-02, 9.5589e-01, 5.3946e-01, 8.3932e-01, 4.5147e-01,\n",
       "        2.0578e-02, 1.0445e-01, 1.9078e-01, 8.8017e-01, 8.6409e-01, 5.1944e-01,\n",
       "        2.0616e-01, 1.3409e-01, 1.0458e-01, 5.1519e-01, 3.4335e-02, 3.7472e-01,\n",
       "        6.0321e-02, 6.2157e-01, 2.5740e-01, 2.3675e-01, 5.3705e-01, 7.2664e-01,\n",
       "        9.2680e-02, 2.2171e-01, 7.4970e-01, 8.2924e-01, 3.0098e-01, 8.2992e-01,\n",
       "        2.4267e-01, 5.9923e-01, 6.3938e-01, 5.6231e-01, 3.2627e-02, 1.1170e-01,\n",
       "        9.9366e-02, 9.3242e-01, 7.8303e-01, 7.8508e-01, 5.0746e-01, 3.6722e-01,\n",
       "        3.8728e-01, 1.7104e-01, 8.2506e-01, 9.7677e-01, 7.8414e-01, 6.4207e-01,\n",
       "        5.8187e-01, 1.9101e-01, 4.9711e-01, 2.8523e-01, 8.5233e-01, 2.5831e-01,\n",
       "        8.8249e-02, 9.7748e-01, 6.5522e-01, 9.6409e-01, 5.0017e-01, 3.6943e-01,\n",
       "        8.3382e-01, 2.5555e-01, 8.8228e-01, 3.7250e-01, 1.3773e-01, 7.7346e-01,\n",
       "        9.0931e-01, 2.4983e-01, 2.6134e-01, 7.8483e-01, 2.8444e-01, 1.3983e-01,\n",
       "        2.6836e-01, 1.3802e-01, 7.1587e-01, 4.4063e-01, 6.8708e-01, 7.7065e-01,\n",
       "        2.9235e-01, 7.9020e-02, 6.6205e-01, 2.5048e-01, 2.4081e-01, 3.2099e-01,\n",
       "        9.1939e-01, 9.2356e-02, 9.3149e-01, 8.2160e-01, 8.7121e-01, 8.5956e-01,\n",
       "        9.2010e-01, 4.0287e-01, 8.3963e-01, 1.1607e-01, 7.2837e-01, 9.3671e-01,\n",
       "        8.1834e-01, 1.1297e-01, 1.3559e-01, 2.7450e-01, 2.7497e-02, 1.5638e-01,\n",
       "        3.5958e-01, 2.1272e-01, 2.1316e-01, 7.3651e-01, 9.1995e-01, 5.4481e-01,\n",
       "        6.3004e-01, 6.5579e-01, 9.2862e-01, 5.4009e-01, 5.8525e-01, 6.5179e-01,\n",
       "        2.4403e-01, 3.3203e-01, 3.9175e-01, 1.3641e-01, 9.2293e-01, 6.8489e-01,\n",
       "        9.6841e-01, 8.1373e-01, 7.0184e-01, 3.9253e-01, 2.0440e-01, 8.3067e-01,\n",
       "        7.3481e-01, 2.8384e-01, 1.8000e-01, 6.9255e-01, 6.8230e-01, 2.6041e-01,\n",
       "        2.0555e-01, 6.6364e-01, 7.9203e-01, 2.1447e-01, 7.2434e-01, 1.8126e-01,\n",
       "        5.5441e-01, 1.5877e-01, 6.2987e-01, 8.5472e-01, 2.6653e-01, 4.0708e-02,\n",
       "        5.0867e-01, 2.8024e-01, 8.9705e-01, 8.4801e-01, 2.2714e-02, 8.1267e-01,\n",
       "        4.1900e-01, 2.4669e-01, 3.4358e-01, 4.7710e-01, 3.6166e-01, 8.9470e-01,\n",
       "        9.3934e-01, 4.4442e-01, 2.2960e-01, 1.4030e-01, 5.3865e-04, 7.7458e-01,\n",
       "        3.9798e-01, 4.3179e-01, 1.2644e-01, 3.0126e-01, 6.2851e-01, 9.4060e-02,\n",
       "        3.3562e-01, 1.0636e-01, 8.8694e-01, 6.3553e-01, 5.5995e-01, 5.5349e-01,\n",
       "        2.7638e-01, 4.3083e-02, 6.4584e-01, 3.1263e-01, 1.4555e-01, 7.0215e-01,\n",
       "        6.5533e-01, 3.7809e-01, 4.3041e-01, 9.7372e-01, 3.7040e-01, 5.2979e-02,\n",
       "        1.0978e-01, 3.1365e-01, 9.1653e-01, 9.2061e-01, 6.2287e-01, 3.7967e-01,\n",
       "        4.9918e-02, 6.7359e-01, 7.9721e-01, 9.2368e-01, 7.7651e-01, 3.2182e-01,\n",
       "        9.4148e-01, 8.5641e-01, 7.5979e-01, 6.7310e-01, 9.8541e-01, 7.5143e-01,\n",
       "        6.2386e-01, 2.9158e-01, 4.6644e-01, 7.8029e-01, 2.2779e-01, 7.1698e-01,\n",
       "        3.1768e-01, 5.0944e-01, 6.9830e-01, 1.0836e-01, 6.7339e-01, 9.1795e-01,\n",
       "        7.3304e-01, 2.1006e-01, 8.2174e-01, 7.0684e-01, 6.4465e-01, 9.1126e-01,\n",
       "        4.2952e-01, 2.1751e-01, 7.9584e-01, 4.6634e-01, 2.2291e-01, 5.6313e-01,\n",
       "        7.7816e-01, 1.9349e-01, 2.3581e-01, 5.8348e-01, 1.2339e-01, 1.8887e-01,\n",
       "        2.4699e-01, 9.0352e-01, 2.9082e-01, 7.6144e-01, 7.3839e-01, 1.0646e-01,\n",
       "        4.6434e-01, 1.0324e-01, 9.9212e-01, 7.8346e-01, 3.6460e-01, 5.5293e-01,\n",
       "        7.2890e-01, 4.4928e-01, 8.3100e-01, 2.1586e-01, 3.5402e-01, 5.0591e-01,\n",
       "        1.7568e-01, 9.6211e-01, 9.7569e-01, 6.1693e-01, 2.6057e-01, 4.7389e-02,\n",
       "        1.2983e-01, 8.3988e-01, 5.8731e-01, 2.5824e-01, 5.7906e-01, 8.6837e-01,\n",
       "        4.4597e-01, 4.0957e-01, 7.9498e-01, 7.9567e-01, 2.2408e-01, 8.2867e-01,\n",
       "        2.2368e-01, 5.1839e-01, 4.5509e-01, 3.5342e-01, 8.7949e-01, 1.2256e-02])"
      ]
     },
     "execution_count": 20,
     "metadata": {},
     "output_type": "execute_result"
    }
   ],
   "source": [
    "image_tensor.flatten()"
   ]
  },
  {
   "cell_type": "code",
   "execution_count": 21,
   "metadata": {
    "id": "t5EgkSepohxM",
    "outputId": "3e0c21cf-5c02-4bce-8ec4-ec09e82778f2"
   },
   "outputs": [
    {
     "data": {
      "text/plain": [
       "torch.Size([432])"
      ]
     },
     "execution_count": 21,
     "metadata": {},
     "output_type": "execute_result"
    }
   ],
   "source": [
    "image_tensor.ravel().shape"
   ]
  },
  {
   "cell_type": "code",
   "execution_count": null,
   "metadata": {
    "id": "VP7D2L1wohxN",
    "outputId": "30ce42f9-ae40-45c4-d8b2-731a1674964f"
   },
   "outputs": [
    {
     "data": {
      "text/plain": [
       "432"
      ]
     },
     "execution_count": 21,
     "metadata": {},
     "output_type": "execute_result"
    }
   ],
   "source": [
    "h * w * c"
   ]
  },
  {
   "cell_type": "code",
   "execution_count": 26,
   "metadata": {},
   "outputs": [
    {
     "data": {
      "text/plain": [
       "tensor([ 0,  1,  2,  3,  4,  5,  6,  7,  8,  9, 10, 11])"
      ]
     },
     "execution_count": 26,
     "metadata": {},
     "output_type": "execute_result"
    }
   ],
   "source": [
    "a = torch.arange(12)\n",
    "a"
   ]
  },
  {
   "cell_type": "code",
   "execution_count": 32,
   "metadata": {},
   "outputs": [
    {
     "data": {
      "text/plain": [
       "tensor([[[ 0,  1,  2],\n",
       "         [ 3,  4,  5]],\n",
       "\n",
       "        [[ 6,  7,  8],\n",
       "         [ 9, 10, 11]]])"
      ]
     },
     "execution_count": 32,
     "metadata": {},
     "output_type": "execute_result"
    }
   ],
   "source": [
    "a.reshape([2, 2, 3])"
   ]
  },
  {
   "cell_type": "code",
   "execution_count": 35,
   "metadata": {},
   "outputs": [
    {
     "data": {
      "text/plain": [
       "tensor([ 0,  6,  3,  9,  1,  7,  4, 10,  2,  8,  5, 11])"
      ]
     },
     "execution_count": 35,
     "metadata": {},
     "output_type": "execute_result"
    }
   ],
   "source": [
    "a.reshape([2, 2, 3]).swapaxes(0, 2).flatten()"
   ]
  },
  {
   "cell_type": "markdown",
   "metadata": {
    "id": "ERuF_m0YohxN"
   },
   "source": [
    "Посчитаем количество элементов в тензоре с помощью [специальной функции](https://pytorch.org/docs/stable/generated/torch.numel.html):"
   ]
  },
  {
   "cell_type": "code",
   "execution_count": null,
   "metadata": {
    "colab": {
     "base_uri": "https://localhost:8080/"
    },
    "id": "faeEqcp8ohxO",
    "outputId": "884251c1-e621-4cf4-fe2e-b23d9efa2b36"
   },
   "outputs": [
    {
     "data": {
      "text/plain": [
       "432"
      ]
     },
     "execution_count": 18,
     "metadata": {},
     "output_type": "execute_result"
    }
   ],
   "source": [
    "image_tensor.numel()"
   ]
  },
  {
   "cell_type": "code",
   "execution_count": null,
   "metadata": {
    "id": "H0BeloSrohxO",
    "outputId": "d4b9bca2-1ba2-4935-e2c0-1428cb75a4ee"
   },
   "outputs": [
    {
     "data": {
      "text/plain": [
       "tensor([[[0.0260, 0.5321, 0.8319],\n",
       "         [0.8304, 0.5789, 0.3981]],\n",
       "\n",
       "        [[0.5885, 0.2135, 0.3219],\n",
       "         [0.3482, 0.2303, 0.0958]],\n",
       "\n",
       "        [[0.6992, 0.2370, 0.6614],\n",
       "         [0.0874, 0.5682, 0.1406]]])"
      ]
     },
     "execution_count": 23,
     "metadata": {},
     "output_type": "execute_result"
    }
   ],
   "source": [
    "h = 2\n",
    "w = 3\n",
    "c = 3\n",
    "\n",
    "shape = (c, h, w)\n",
    "\n",
    "image_tensor = torch.rand(shape)\n",
    "\n",
    "image_tensor"
   ]
  },
  {
   "cell_type": "markdown",
   "metadata": {
    "id": "qzXM-k5yohxP"
   },
   "source": [
    "Попробуем поменять размер с помощью функции [reshape](https://pytorch.org/docs/stable/generated/torch.reshape.html#torch.reshape):"
   ]
  },
  {
   "cell_type": "code",
   "execution_count": null,
   "metadata": {
    "colab": {
     "base_uri": "https://localhost:8080/"
    },
    "id": "dGxmZ9heohxQ",
    "outputId": "e70ab9c8-c100-491c-91d4-e281c19a0566"
   },
   "outputs": [
    {
     "data": {
      "text/plain": [
       "tensor([[0.2949, 0.6946, 0.3977, 0.4057, 0.6880, 0.9954, 0.7357, 0.3604, 0.0592,\n",
       "         0.1223, 0.8141, 0.8485, 0.6304, 0.5291, 0.9158, 0.2867, 0.4638, 0.4052,\n",
       "         0.8572, 0.9300, 0.1590, 0.1208, 0.8563, 0.4530, 0.6034, 0.7110, 0.3972,\n",
       "         0.3716, 0.5773, 0.5198, 0.5977, 0.8108, 0.6948, 0.2181, 0.9889, 0.5124,\n",
       "         0.2245, 0.3009, 0.4103, 0.5378, 0.7738, 0.1619, 0.9717, 0.0947, 0.5098,\n",
       "         0.2336, 0.1076, 0.0333, 0.6614, 0.9526, 0.5016, 0.5679, 0.5234, 0.1649,\n",
       "         0.6341, 0.4258, 0.3450, 0.9286, 0.8990, 0.4064, 0.9994, 0.4070, 0.8882,\n",
       "         0.4921, 0.3712, 0.4033, 0.2478, 0.4273, 0.3231, 0.7836, 0.3489, 0.2103,\n",
       "         0.6756, 0.0127, 0.5606, 0.4380, 0.4447, 0.2431, 0.5324, 0.2058, 0.5607,\n",
       "         0.7632, 0.7098, 0.0629, 0.3411, 0.6229, 0.8610, 0.5598, 0.5682, 0.7224,\n",
       "         0.3799, 0.5182, 0.6789, 0.1812, 0.4476, 0.7362, 0.0224, 0.3352, 0.2837,\n",
       "         0.7480, 0.0323, 0.3490, 0.8019, 0.4910, 0.5104, 0.9195, 0.0931, 0.7398,\n",
       "         0.5069, 0.1076, 0.0344, 0.8934, 0.9748, 0.1099, 0.5389, 0.4673, 0.3154,\n",
       "         0.5480, 0.3428, 0.1844, 0.4546, 0.0685, 0.1774, 0.0812, 0.2846, 0.8324,\n",
       "         0.2327, 0.6996, 0.2157, 0.6405, 0.6846, 0.1031, 0.6279, 0.1072, 0.4546,\n",
       "         0.7518, 0.3684, 0.4293, 0.7845, 0.3060, 0.4983, 0.6147, 0.8276, 0.9190],\n",
       "        [0.4110, 0.6892, 0.0493, 0.8707, 0.2369, 0.4442, 0.1277, 0.4494, 0.4878,\n",
       "         0.2769, 0.9036, 0.5392, 0.4018, 0.0221, 0.8683, 0.8239, 0.7311, 0.7626,\n",
       "         0.3900, 0.2032, 0.2668, 0.1429, 0.6705, 0.0596, 0.2879, 0.4550, 0.6934,\n",
       "         0.0570, 0.6807, 0.4887, 0.2897, 0.1961, 0.4117, 0.5843, 0.9398, 0.6138,\n",
       "         0.1800, 0.7123, 0.3705, 0.3711, 0.7499, 0.8232, 0.4796, 0.3346, 0.7344,\n",
       "         0.4425, 0.1301, 0.7033, 0.9774, 0.8523, 0.9640, 0.9149, 0.2103, 0.3639,\n",
       "         0.4504, 0.8640, 0.0956, 0.4279, 0.6493, 0.7411, 0.9614, 0.1551, 0.5735,\n",
       "         0.7020, 0.5452, 0.5504, 0.9696, 0.3016, 0.5725, 0.3283, 0.7800, 0.4972,\n",
       "         0.5580, 0.1535, 0.3094, 0.6331, 0.8494, 0.9352, 0.7933, 0.2005, 0.4080,\n",
       "         0.4820, 0.6370, 0.3302, 0.4147, 0.6443, 0.5590, 0.4277, 0.8887, 0.4268,\n",
       "         0.3631, 0.5382, 0.3183, 0.7440, 0.1020, 0.7054, 0.4357, 0.8611, 0.7135,\n",
       "         0.1151, 0.4879, 0.0471, 0.4251, 0.4529, 0.7500, 0.7335, 0.8537, 0.2658,\n",
       "         0.1274, 0.0665, 0.7931, 0.8134, 0.2604, 0.6406, 0.7823, 0.9728, 0.4640,\n",
       "         0.1535, 0.1565, 0.5610, 0.4275, 0.7839, 0.6280, 0.1113, 0.1850, 0.5143,\n",
       "         0.0060, 0.0179, 0.0466, 0.2781, 0.3404, 0.0211, 0.6332, 0.6103, 0.8518,\n",
       "         0.5690, 0.8521, 0.2637, 0.4781, 0.3258, 0.5588, 0.5475, 0.5149, 0.5333],\n",
       "        [0.9368, 0.2515, 0.5858, 0.6710, 0.7658, 0.1935, 0.8655, 0.2295, 0.4171,\n",
       "         0.1626, 0.4240, 0.1912, 0.0857, 0.1147, 0.8469, 0.6584, 0.5717, 0.0275,\n",
       "         0.3578, 0.8016, 0.9922, 0.9453, 0.0544, 0.7920, 0.6561, 0.1977, 0.4716,\n",
       "         0.5328, 0.2005, 0.3171, 0.2562, 0.0647, 0.5496, 0.3259, 0.9439, 0.8629,\n",
       "         0.1758, 0.4400, 0.6890, 0.6548, 0.2910, 0.0487, 0.0707, 0.9751, 0.2382,\n",
       "         0.6329, 0.0446, 0.9324, 0.9752, 0.9970, 0.1965, 0.8884, 0.8011, 0.3707,\n",
       "         0.1171, 0.8092, 0.2593, 0.1224, 0.0480, 0.5223, 0.5198, 0.0132, 0.0060,\n",
       "         0.2402, 0.1093, 0.0751, 0.0021, 0.9435, 0.7204, 0.7229, 0.2195, 0.6345,\n",
       "         0.4155, 0.5012, 0.7236, 0.5672, 0.7463, 0.2192, 0.2054, 0.0469, 0.3532,\n",
       "         0.5084, 0.0687, 0.9326, 0.6837, 0.7593, 0.2615, 0.6663, 0.7027, 0.9349,\n",
       "         0.4984, 0.9687, 0.0816, 0.7285, 0.4602, 0.1200, 0.3472, 0.6285, 0.2027,\n",
       "         0.7602, 0.0197, 0.2557, 0.1795, 0.3925, 0.3502, 0.2991, 0.8002, 0.7706,\n",
       "         0.6352, 0.3385, 0.6475, 0.5106, 0.3425, 0.2486, 0.5139, 0.0031, 0.1422,\n",
       "         0.1435, 0.3154, 0.0722, 0.4324, 0.4220, 0.4136, 0.9855, 0.5761, 0.4779,\n",
       "         0.0144, 0.8883, 0.1213, 0.5230, 0.5083, 0.5776, 0.0596, 0.6833, 0.2833,\n",
       "         0.9633, 0.2850, 0.8342, 0.8253, 0.1439, 0.5268, 0.9145, 0.8542, 0.3924]])"
      ]
     },
     "execution_count": 19,
     "metadata": {},
     "output_type": "execute_result"
    }
   ],
   "source": [
    "image_tensor.reshape(c, h * w)"
   ]
  },
  {
   "cell_type": "code",
   "execution_count": null,
   "metadata": {
    "colab": {
     "base_uri": "https://localhost:8080/"
    },
    "id": "GPCKhCJILT47",
    "outputId": "0dbdd106-d90d-4b7d-826d-92578aae4e3f"
   },
   "outputs": [
    {
     "data": {
      "text/plain": [
       "torch.Size([3, 9, 16])"
      ]
     },
     "execution_count": 21,
     "metadata": {},
     "output_type": "execute_result"
    }
   ],
   "source": [
    "image_tensor.reshape(c, h * w).reshape(-1, h, w).shape\n"
   ]
  },
  {
   "cell_type": "markdown",
   "metadata": {
    "id": "Ei3SzeSWohxQ"
   },
   "source": [
    "Попробуем собрать из нескольких тензоров один большой:\n",
    "\n",
    "[torch.cat](https://pytorch.org/docs/stable/generated/torch.cat.html#torch.cat)"
   ]
  },
  {
   "cell_type": "markdown",
   "metadata": {
    "id": "-epwFqKKsQp6"
   },
   "source": [
    "Важно помнить, что в тензорах, которые планируется конкатенировать все размерности кроме той, по которой происходиит конкатенация, должны совпадать"
   ]
  },
  {
   "cell_type": "code",
   "execution_count": 36,
   "metadata": {},
   "outputs": [
    {
     "data": {
      "text/plain": [
       "tensor([ 0,  1,  2,  3,  4,  5,  6,  7,  8,  9, 10, 11])"
      ]
     },
     "execution_count": 36,
     "metadata": {},
     "output_type": "execute_result"
    }
   ],
   "source": [
    "a"
   ]
  },
  {
   "cell_type": "code",
   "execution_count": 38,
   "metadata": {},
   "outputs": [
    {
     "data": {
      "text/plain": [
       "tensor([ 0.4025,  1.6418,  3.4913,  4.1228,  3.6142,  5.5530,  6.7273,  6.0795,\n",
       "         6.1785,  7.8497, 11.7591, 11.2999])"
      ]
     },
     "execution_count": 38,
     "metadata": {},
     "output_type": "execute_result"
    }
   ],
   "source": [
    "b = torch.randn_like(a, dtype=torch.float)\n",
    "a + b"
   ]
  },
  {
   "cell_type": "code",
   "execution_count": 42,
   "metadata": {
    "id": "bYp4IaP6ohxR"
   },
   "outputs": [],
   "source": [
    "x = torch.randn(2, 3)\n",
    "y = torch.randn_like(x)"
   ]
  },
  {
   "cell_type": "code",
   "execution_count": 44,
   "metadata": {
    "colab": {
     "base_uri": "https://localhost:8080/"
    },
    "id": "OrNBSmeLohxR",
    "outputId": "d0f9b5d6-1f38-4d33-b642-68932fda053e"
   },
   "outputs": [
    {
     "data": {
      "text/plain": [
       "tensor([[-0.0859, -0.6193, -0.1746],\n",
       "        [-0.8474, -0.0084,  2.3809]])"
      ]
     },
     "execution_count": 44,
     "metadata": {},
     "output_type": "execute_result"
    }
   ],
   "source": [
    "x"
   ]
  },
  {
   "cell_type": "code",
   "execution_count": 43,
   "metadata": {},
   "outputs": [
    {
     "data": {
      "text/plain": [
       "tensor([[-2.4154, -0.1630,  0.0842],\n",
       "        [-0.9715,  0.9781,  0.0159]])"
      ]
     },
     "execution_count": 43,
     "metadata": {},
     "output_type": "execute_result"
    }
   ],
   "source": [
    "y"
   ]
  },
  {
   "cell_type": "code",
   "execution_count": 46,
   "metadata": {
    "colab": {
     "base_uri": "https://localhost:8080/"
    },
    "id": "A0eTjSDQohxR",
    "outputId": "2df82948-6825-4450-d9e4-b2efa0b029d7"
   },
   "outputs": [
    {
     "data": {
      "text/plain": [
       "tensor([[-0.0859, -0.6193, -0.1746],\n",
       "        [-0.8474, -0.0084,  2.3809],\n",
       "        [-2.4154, -0.1630,  0.0842],\n",
       "        [-0.9715,  0.9781,  0.0159]])"
      ]
     },
     "execution_count": 46,
     "metadata": {},
     "output_type": "execute_result"
    }
   ],
   "source": [
    "torch.cat([x, y], dim=0)"
   ]
  },
  {
   "cell_type": "code",
   "execution_count": 47,
   "metadata": {
    "colab": {
     "base_uri": "https://localhost:8080/"
    },
    "id": "d_Lv1B_6ohxS",
    "outputId": "a5cbd245-a38d-4071-f4a3-9f1c0c44835f"
   },
   "outputs": [
    {
     "data": {
      "text/plain": [
       "tensor([[-0.0859, -0.6193, -0.1746, -2.4154, -0.1630,  0.0842],\n",
       "        [-0.8474, -0.0084,  2.3809, -0.9715,  0.9781,  0.0159]])"
      ]
     },
     "execution_count": 47,
     "metadata": {},
     "output_type": "execute_result"
    }
   ],
   "source": [
    "torch.cat((x, y), dim=1)"
   ]
  },
  {
   "cell_type": "code",
   "execution_count": null,
   "metadata": {
    "colab": {
     "base_uri": "https://localhost:8080/"
    },
    "id": "08sAMIuJohxS",
    "outputId": "e152ab63-e62a-414e-aff2-9ddd09745f6a"
   },
   "outputs": [
    {
     "name": "stdout",
     "output_type": "stream",
     "text": [
      "tensor([[[-1.0996],\n",
      "         [ 0.8870],\n",
      "         [-0.6228]],\n",
      "\n",
      "        [[ 0.2182],\n",
      "         [-0.0984],\n",
      "         [ 1.8739]],\n",
      "\n",
      "        [[-0.2601],\n",
      "         [-0.3606],\n",
      "         [ 1.5824]]])\n",
      "tensor([[[-0.6973],\n",
      "         [ 0.8779],\n",
      "         [-0.9715]],\n",
      "\n",
      "        [[ 1.9083],\n",
      "         [ 0.9880],\n",
      "         [-1.1860]],\n",
      "\n",
      "        [[-0.5247],\n",
      "         [-0.2767],\n",
      "         [ 0.8874]],\n",
      "\n",
      "        [[ 1.5901],\n",
      "         [ 0.3149],\n",
      "         [-0.3506]],\n",
      "\n",
      "        [[ 0.0619],\n",
      "         [-0.2136],\n",
      "         [ 0.2138]]])\n",
      "tensor([[[-0.8409],\n",
      "         [-0.1382],\n",
      "         [-1.8849]]])\n"
     ]
    },
    {
     "data": {
      "text/plain": [
       "tensor([[[-1.0996],\n",
       "         [ 0.8870],\n",
       "         [-0.6228]],\n",
       "\n",
       "        [[ 0.2182],\n",
       "         [-0.0984],\n",
       "         [ 1.8739]],\n",
       "\n",
       "        [[-0.2601],\n",
       "         [-0.3606],\n",
       "         [ 1.5824]],\n",
       "\n",
       "        [[-0.6973],\n",
       "         [ 0.8779],\n",
       "         [-0.9715]],\n",
       "\n",
       "        [[ 1.9083],\n",
       "         [ 0.9880],\n",
       "         [-1.1860]],\n",
       "\n",
       "        [[-0.5247],\n",
       "         [-0.2767],\n",
       "         [ 0.8874]],\n",
       "\n",
       "        [[ 1.5901],\n",
       "         [ 0.3149],\n",
       "         [-0.3506]],\n",
       "\n",
       "        [[ 0.0619],\n",
       "         [-0.2136],\n",
       "         [ 0.2138]],\n",
       "\n",
       "        [[-0.8409],\n",
       "         [-0.1382],\n",
       "         [-1.8849]]])"
      ]
     },
     "execution_count": 31,
     "metadata": {},
     "output_type": "execute_result"
    }
   ],
   "source": [
    "x = torch.randn(3, 3, 1)\n",
    "y = torch.randn(5, 3, 1)\n",
    "z = torch.randn(1, 3, 1)\n",
    "\n",
    "for tensor in [x, y, z]:\n",
    "    print(tensor)\n",
    "\n",
    "torch.cat((x, y, z), dim=0)"
   ]
  },
  {
   "cell_type": "code",
   "execution_count": 48,
   "metadata": {
    "colab": {
     "base_uri": "https://localhost:8080/",
     "height": 776
    },
    "id": "rdvr-709sloX",
    "outputId": "8ea9e0e4-184c-422c-b739-fc012c6d5991"
   },
   "outputs": [
    {
     "name": "stdout",
     "output_type": "stream",
     "text": [
      "tensor([[[ 2.0599e-01],\n",
      "         [-1.5538e+00],\n",
      "         [ 6.8786e-01]],\n",
      "\n",
      "        [[-1.2918e+00],\n",
      "         [-9.5494e-04],\n",
      "         [-1.8852e+00]],\n",
      "\n",
      "        [[-2.8690e-01],\n",
      "         [ 7.5325e-01],\n",
      "         [ 6.6791e-01]]])\n",
      "tensor([[[ 0.1120, -0.2168],\n",
      "         [-0.5894,  2.9537],\n",
      "         [-0.7515,  0.6161]],\n",
      "\n",
      "        [[-0.1843,  1.4034],\n",
      "         [-0.1575, -0.9925],\n",
      "         [-0.9296, -1.6669]],\n",
      "\n",
      "        [[ 1.8203,  0.8333],\n",
      "         [ 1.1095, -0.1926],\n",
      "         [-1.0859, -0.7623]],\n",
      "\n",
      "        [[ 0.7722,  0.5206],\n",
      "         [ 0.9806,  0.6359],\n",
      "         [-1.1908,  0.4714]],\n",
      "\n",
      "        [[-1.0493, -0.3733],\n",
      "         [ 0.3750,  0.7499],\n",
      "         [-1.2848,  0.7691]]])\n",
      "tensor([[[ 1.1811],\n",
      "         [-1.6493],\n",
      "         [ 1.1299]]])\n"
     ]
    },
    {
     "ename": "RuntimeError",
     "evalue": "Sizes of tensors must match except in dimension 0. Expected size 1 but got size 2 for tensor number 1 in the list.",
     "output_type": "error",
     "traceback": [
      "\u001b[0;31m---------------------------------------------------------------------------\u001b[0m",
      "\u001b[0;31mRuntimeError\u001b[0m                              Traceback (most recent call last)",
      "Cell \u001b[0;32mIn[48], line 8\u001b[0m\n\u001b[1;32m      5\u001b[0m \u001b[38;5;28;01mfor\u001b[39;00m tensor \u001b[38;5;129;01min\u001b[39;00m [x, y, z]:\n\u001b[1;32m      6\u001b[0m     \u001b[38;5;28mprint\u001b[39m(tensor)\n\u001b[0;32m----> 8\u001b[0m \u001b[43mtorch\u001b[49m\u001b[38;5;241;43m.\u001b[39;49m\u001b[43mcat\u001b[49m\u001b[43m(\u001b[49m\u001b[43m(\u001b[49m\u001b[43mx\u001b[49m\u001b[43m,\u001b[49m\u001b[43m \u001b[49m\u001b[43my\u001b[49m\u001b[43m,\u001b[49m\u001b[43m \u001b[49m\u001b[43mz\u001b[49m\u001b[43m)\u001b[49m\u001b[43m,\u001b[49m\u001b[43m \u001b[49m\u001b[43mdim\u001b[49m\u001b[38;5;241;43m=\u001b[39;49m\u001b[38;5;241;43m0\u001b[39;49m\u001b[43m)\u001b[49m\n",
      "\u001b[0;31mRuntimeError\u001b[0m: Sizes of tensors must match except in dimension 0. Expected size 1 but got size 2 for tensor number 1 in the list."
     ]
    }
   ],
   "source": [
    "x = torch.randn(3, 3, 1)\n",
    "y = torch.randn(5, 3, 2) #размерность y не совпадает \n",
    "z = torch.randn(1, 3, 1)\n",
    "\n",
    "for tensor in [x, y, z]:\n",
    "    print(tensor)\n",
    "\n",
    "torch.cat((x, y, z), dim=0)"
   ]
  },
  {
   "cell_type": "code",
   "execution_count": 50,
   "metadata": {
    "colab": {
     "base_uri": "https://localhost:8080/"
    },
    "id": "k04jRnmPohxS",
    "outputId": "0a8c4aab-54e5-4d41-926b-b391d9202c20"
   },
   "outputs": [
    {
     "name": "stdout",
     "output_type": "stream",
     "text": [
      "tensor([[-0.1738,  0.1036, -1.0324],\n",
      "        [-0.7696,  1.0251,  1.6378]])\n",
      "tensor([[-0.2498,  0.5532, -0.6359, -0.1115, -0.5017],\n",
      "        [ 0.7331,  1.0725,  0.7739, -0.1870, -0.6978]])\n",
      "tensor([[-0.5738],\n",
      "        [ 0.6600]])\n"
     ]
    },
    {
     "data": {
      "text/plain": [
       "tensor([[-0.1738,  0.1036, -1.0324, -0.2498,  0.5532, -0.6359, -0.1115, -0.5017,\n",
       "         -0.5738],\n",
       "        [-0.7696,  1.0251,  1.6378,  0.7331,  1.0725,  0.7739, -0.1870, -0.6978,\n",
       "          0.6600]])"
      ]
     },
     "execution_count": 50,
     "metadata": {},
     "output_type": "execute_result"
    }
   ],
   "source": [
    "x = torch.randn(2, 3)\n",
    "y = torch.randn(2, 5)\n",
    "z = torch.randn(2, 1)\n",
    "\n",
    "for tensor in [x, y, z]:\n",
    "    print(tensor)\n",
    "\n",
    "torch.cat((x, y, z), dim=1)"
   ]
  },
  {
   "cell_type": "markdown",
   "metadata": {
    "id": "bw3jWTnzohxS"
   },
   "source": [
    "Теперь добавим дополнительную ось:\n",
    "\n",
    "[torch.unsqueeze](https://pytorch.org/docs/stable/generated/torch.unsqueeze.html)"
   ]
  },
  {
   "cell_type": "code",
   "execution_count": 51,
   "metadata": {},
   "outputs": [
    {
     "data": {
      "text/plain": [
       "tensor([[1, 2, 3]])"
      ]
     },
     "execution_count": 51,
     "metadata": {},
     "output_type": "execute_result"
    }
   ],
   "source": [
    "x = torch.tensor([1, 2, 3])\n",
    "x.unsqueeze(0)"
   ]
  },
  {
   "cell_type": "code",
   "execution_count": 52,
   "metadata": {
    "colab": {
     "base_uri": "https://localhost:8080/"
    },
    "id": "FQUcIrJRohxT",
    "outputId": "529899b1-4a5e-491e-b0fa-296705f913b4"
   },
   "outputs": [
    {
     "name": "stdout",
     "output_type": "stream",
     "text": [
      "tensor([[0.9432, 0.7833, 0.1356],\n",
      "        [0.9320, 0.9911, 0.9981]])\n",
      "\n",
      "tensor([[[0.9432, 0.7833, 0.1356],\n",
      "         [0.9320, 0.9911, 0.9981]]]) torch.Size([1, 2, 3])\n",
      "\n",
      "tensor([[[0.9432, 0.7833, 0.1356]],\n",
      "\n",
      "        [[0.9320, 0.9911, 0.9981]]]) torch.Size([2, 1, 3])\n",
      "\n",
      "tensor([[[0.9432],\n",
      "         [0.7833],\n",
      "         [0.1356]],\n",
      "\n",
      "        [[0.9320],\n",
      "         [0.9911],\n",
      "         [0.9981]]]) torch.Size([2, 3, 1])\n"
     ]
    }
   ],
   "source": [
    "x = torch.rand(2, 3)\n",
    "\n",
    "print(x)\n",
    "print()\n",
    "print(x.unsqueeze(0), x.unsqueeze(0).shape)\n",
    "print()\n",
    "print(x.unsqueeze(1), x.unsqueeze(1).shape)\n",
    "print()\n",
    "print(x.unsqueeze(2), x.unsqueeze(2).shape)"
   ]
  },
  {
   "cell_type": "markdown",
   "metadata": {
    "id": "cF8zIf1as6MI"
   },
   "source": [
    "Можно еще заменить unsqueeze на None в соответсвующей размерности"
   ]
  },
  {
   "cell_type": "code",
   "execution_count": 2,
   "metadata": {
    "colab": {
     "base_uri": "https://localhost:8080/"
    },
    "id": "mk_Ef_Y9MbsK",
    "outputId": "2b46361e-66de-4710-cd10-2880698d307b"
   },
   "outputs": [
    {
     "data": {
      "text/plain": [
       "(torch.Size([2, 3]), torch.Size([1, 2, 3]))"
      ]
     },
     "execution_count": 2,
     "metadata": {},
     "output_type": "execute_result"
    }
   ],
   "source": [
    "x.shape, x[None, :, :].shape"
   ]
  },
  {
   "cell_type": "markdown",
   "metadata": {
    "id": "pUEVimdaohxT"
   },
   "source": [
    "Уберем лишние оси (где размер единичка):"
   ]
  },
  {
   "cell_type": "code",
   "execution_count": 54,
   "metadata": {
    "colab": {
     "base_uri": "https://localhost:8080/"
    },
    "id": "PEzEYBNzohxT",
    "outputId": "731a926f-f267-46a3-f77d-9fe5a1a8ea6d"
   },
   "outputs": [
    {
     "name": "stdout",
     "output_type": "stream",
     "text": [
      "tensor([[[[0.0802, 0.9211, 0.2741]],\n",
      "\n",
      "         [[0.7667, 0.1818, 0.9038]]]])\n",
      "\n",
      "tensor([[0.0802, 0.9211, 0.2741],\n",
      "        [0.7667, 0.1818, 0.9038]]) torch.Size([2, 3])\n",
      "\n",
      "tensor([[[0.0802, 0.9211, 0.2741]],\n",
      "\n",
      "        [[0.7667, 0.1818, 0.9038]]]) torch.Size([2, 1, 3])\n"
     ]
    }
   ],
   "source": [
    "x = torch.rand(1, 2, 1, 3)\n",
    "\n",
    "print(x)\n",
    "print()\n",
    "print(x.squeeze(), x.squeeze().shape)\n",
    "print()\n",
    "print(x.squeeze(0), x.squeeze(0).shape)"
   ]
  },
  {
   "cell_type": "markdown",
   "metadata": {
    "id": "k9xRXsg_ohxU"
   },
   "source": [
    "Теперь поговорим про типы данных в тензорах. По умолчанию в тензорах лежат числа в torch.float32 для вещественных и torch.int64 для целочисленных."
   ]
  },
  {
   "cell_type": "code",
   "execution_count": null,
   "metadata": {
    "colab": {
     "base_uri": "https://localhost:8080/"
    },
    "id": "oO7Jwj3EohxU",
    "outputId": "6b4083fb-f3bc-4c25-c4cc-bff97b140c86"
   },
   "outputs": [
    {
     "data": {
      "text/plain": [
       "tensor([1.5000, 2.2000, 3.7000, 4.9000])"
      ]
     },
     "execution_count": 37,
     "metadata": {},
     "output_type": "execute_result"
    }
   ],
   "source": [
    "tensor = torch.tensor([1.5, 2.2, 3.7, 4.9])\n",
    "\n",
    "tensor"
   ]
  },
  {
   "cell_type": "code",
   "execution_count": null,
   "metadata": {
    "colab": {
     "base_uri": "https://localhost:8080/"
    },
    "id": "s7u_xe56ohxU",
    "outputId": "100ca137-6413-4c6f-92c0-224fd129a31b"
   },
   "outputs": [
    {
     "data": {
      "text/plain": [
       "torch.float32"
      ]
     },
     "execution_count": 38,
     "metadata": {},
     "output_type": "execute_result"
    }
   ],
   "source": [
    "tensor.dtype"
   ]
  },
  {
   "cell_type": "code",
   "execution_count": null,
   "metadata": {
    "colab": {
     "base_uri": "https://localhost:8080/"
    },
    "id": "8vUStLPnohxU",
    "outputId": "bd4a667b-fd1d-46c6-a0f0-a6edb9b67e28"
   },
   "outputs": [
    {
     "data": {
      "text/plain": [
       "tensor([1.5000, 2.1992, 3.6992, 4.8984], dtype=torch.float16)"
      ]
     },
     "execution_count": 39,
     "metadata": {},
     "output_type": "execute_result"
    }
   ],
   "source": [
    "tensor = torch.tensor([1.5, 2.2, 3.7, 4.9], dtype=torch.float16)\n",
    "\n",
    "tensor"
   ]
  },
  {
   "cell_type": "code",
   "execution_count": null,
   "metadata": {
    "colab": {
     "base_uri": "https://localhost:8080/"
    },
    "id": "lGvfWZzQohxV",
    "outputId": "a87fa504-f009-49cb-aa6f-c003b9939fff"
   },
   "outputs": [
    {
     "data": {
      "text/plain": [
       "tensor([1.5000, 2.2000, 3.7000, 4.9000], dtype=torch.float64)"
      ]
     },
     "execution_count": 43,
     "metadata": {},
     "output_type": "execute_result"
    }
   ],
   "source": [
    "tensor = torch.tensor([1.5, 2.2, 3.7, 4.9], dtype=torch.float64)\n",
    "\n",
    "tensor"
   ]
  },
  {
   "cell_type": "code",
   "execution_count": null,
   "metadata": {
    "colab": {
     "base_uri": "https://localhost:8080/"
    },
    "id": "sWUc5SaOohxW",
    "outputId": "43765b81-2da1-4c21-fa1e-1dccfb8ffb78"
   },
   "outputs": [
    {
     "data": {
      "text/plain": [
       "tensor([15, 22, 37, 49])"
      ]
     },
     "execution_count": 44,
     "metadata": {},
     "output_type": "execute_result"
    }
   ],
   "source": [
    "tensor = torch.tensor([15, 22, 37, 49])\n",
    "\n",
    "tensor"
   ]
  },
  {
   "cell_type": "code",
   "execution_count": null,
   "metadata": {
    "id": "3u9mRc4rohxW",
    "outputId": "6197e437-31d8-4729-deb3-4c81e24a9bab"
   },
   "outputs": [
    {
     "data": {
      "text/plain": [
       "torch.int64"
      ]
     },
     "execution_count": 38,
     "metadata": {},
     "output_type": "execute_result"
    }
   ],
   "source": [
    "tensor.dtype"
   ]
  },
  {
   "cell_type": "code",
   "execution_count": null,
   "metadata": {
    "colab": {
     "base_uri": "https://localhost:8080/"
    },
    "id": "pJ6vVGOUohxX",
    "outputId": "ce85723f-eab7-40d0-e2ee-16607d3cce0e"
   },
   "outputs": [
    {
     "data": {
      "text/plain": [
       "tensor([15, 22, 37, 49], dtype=torch.int32)"
      ]
     },
     "execution_count": 45,
     "metadata": {},
     "output_type": "execute_result"
    }
   ],
   "source": [
    "tensor = torch.tensor([15, 22, 37, 49], dtype=torch.int32)\n",
    "\n",
    "tensor"
   ]
  },
  {
   "cell_type": "code",
   "execution_count": null,
   "metadata": {
    "colab": {
     "base_uri": "https://localhost:8080/"
    },
    "id": "2zPF4AW3ohxX",
    "outputId": "af96cc14-6a70-4ca5-a574-d810a8cf6548"
   },
   "outputs": [
    {
     "data": {
      "text/plain": [
       "tensor([15, 22, 37, 49], dtype=torch.int16)"
      ]
     },
     "execution_count": 46,
     "metadata": {},
     "output_type": "execute_result"
    }
   ],
   "source": [
    "tensor = torch.tensor([15, 22, 37, 49], dtype=torch.int16)\n",
    "\n",
    "tensor"
   ]
  },
  {
   "cell_type": "code",
   "execution_count": null,
   "metadata": {
    "colab": {
     "base_uri": "https://localhost:8080/"
    },
    "id": "q0B09J_uM6jq",
    "outputId": "3ffb6371-1144-4907-8393-f6e4ab563964"
   },
   "outputs": [
    {
     "data": {
      "text/plain": [
       "torch.float32"
      ]
     },
     "execution_count": 47,
     "metadata": {},
     "output_type": "execute_result"
    }
   ],
   "source": [
    "torch.rand((1, 3, 4), dtype=torch.float32).dtype"
   ]
  },
  {
   "cell_type": "markdown",
   "metadata": {
    "id": "Usj7QgA0ohxY"
   },
   "source": [
    "Размещение тензора на GPU:"
   ]
  },
  {
   "cell_type": "code",
   "execution_count": 55,
   "metadata": {
    "id": "cn3kZQH5NSMh"
   },
   "outputs": [],
   "source": [
    "import torch"
   ]
  },
  {
   "cell_type": "code",
   "execution_count": 56,
   "metadata": {
    "colab": {
     "base_uri": "https://localhost:8080/"
    },
    "id": "dVfoTLijohxY",
    "outputId": "01fcc51b-5931-47f2-9156-330756a0ec67"
   },
   "outputs": [
    {
     "name": "stdout",
     "output_type": "stream",
     "text": [
      "True\n",
      "NVIDIA GeForce RTX 3090\n"
     ]
    }
   ],
   "source": [
    "print(torch.cuda.is_available())\n",
    "print(torch.cuda.get_device_name())"
   ]
  },
  {
   "cell_type": "code",
   "execution_count": 57,
   "metadata": {
    "colab": {
     "base_uri": "https://localhost:8080/"
    },
    "id": "TzPPqSAeohxY",
    "outputId": "a5faa736-ad70-4ef7-bae5-5888e31b32c7"
   },
   "outputs": [
    {
     "name": "stdout",
     "output_type": "stream",
     "text": [
      "Fri Sep 29 18:47:46 2023       \r\n",
      "+-----------------------------------------------------------------------------+\r\n",
      "| NVIDIA-SMI 515.43.04    Driver Version: 515.43.04    CUDA Version: 11.7     |\r\n",
      "|-------------------------------+----------------------+----------------------+\r\n",
      "| GPU  Name        Persistence-M| Bus-Id        Disp.A | Volatile Uncorr. ECC |\r\n",
      "| Fan  Temp  Perf  Pwr:Usage/Cap|         Memory-Usage | GPU-Util  Compute M. |\r\n",
      "|                               |                      |               MIG M. |\r\n",
      "|===============================+======================+======================|\r\n",
      "|   0  NVIDIA GeForce ...  On   | 00000000:01:00.0 Off |                  N/A |\r\n",
      "| 30%   29C    P8    23W / 370W |    395MiB / 24576MiB |      0%      Default |\r\n",
      "|                               |                      |                  N/A |\r\n",
      "+-------------------------------+----------------------+----------------------+\r\n",
      "                                                                               \r\n",
      "+-----------------------------------------------------------------------------+\r\n",
      "| Processes:                                                                  |\r\n",
      "|  GPU   GI   CI        PID   Type   Process name                  GPU Memory |\r\n",
      "|        ID   ID                                                   Usage      |\r\n",
      "|=============================================================================|\r\n",
      "|    0   N/A  N/A      1593      G   /usr/lib/xorg/Xorg                 23MiB |\r\n",
      "|    0   N/A  N/A      2483      G   cinnamon                           12MiB |\r\n",
      "|    0   N/A  N/A     78439      C   ...conda3/envs/ml/bin/python      355MiB |\r\n",
      "+-----------------------------------------------------------------------------+\r\n"
     ]
    }
   ],
   "source": [
    "! nvidia-smi"
   ]
  },
  {
   "cell_type": "code",
   "execution_count": 58,
   "metadata": {
    "colab": {
     "base_uri": "https://localhost:8080/"
    },
    "id": "ayHEr9e6ohxZ",
    "outputId": "9b37bc93-918e-430a-94cd-68bdd7905cb5",
    "pycharm": {
     "name": "#%%\n"
    }
   },
   "outputs": [
    {
     "name": "stdout",
     "output_type": "stream",
     "text": [
      "cuda:0\n"
     ]
    }
   ],
   "source": [
    "device = torch.device('cuda:0' if torch.cuda.is_available() else 'cpu')\n",
    "\n",
    "print(device)"
   ]
  },
  {
   "cell_type": "code",
   "execution_count": 59,
   "metadata": {
    "colab": {
     "base_uri": "https://localhost:8080/"
    },
    "id": "fnPoyHFvohxZ",
    "outputId": "f3423ac5-1b69-4f4f-b74d-f859af09845b"
   },
   "outputs": [
    {
     "data": {
      "text/plain": [
       "tensor([15, 22, 37, 49], device='cuda:0')"
      ]
     },
     "execution_count": 59,
     "metadata": {},
     "output_type": "execute_result"
    }
   ],
   "source": [
    "tensor = torch.tensor([15, 22, 37, 49], device=device)\n",
    "\n",
    "tensor.to(device)"
   ]
  },
  {
   "cell_type": "code",
   "execution_count": null,
   "metadata": {
    "colab": {
     "base_uri": "https://localhost:8080/"
    },
    "id": "_-NOgA0HohxZ",
    "outputId": "4c280ae5-1e53-42dc-8ef1-29a899f1ca23"
   },
   "outputs": [
    {
     "name": "stdout",
     "output_type": "stream",
     "text": [
      "tensor([15, 22, 37, 49])\n"
     ]
    },
    {
     "data": {
      "text/plain": [
       "tensor([15, 22, 37, 49], device='cuda:0')"
      ]
     },
     "execution_count": 9,
     "metadata": {},
     "output_type": "execute_result"
    }
   ],
   "source": [
    "tensor = torch.tensor([15, 22, 37, 49])\n",
    "\n",
    "print(tensor)\n",
    "\n",
    "tensor = tensor.to(device)\n",
    "\n",
    "tensor"
   ]
  },
  {
   "cell_type": "code",
   "execution_count": null,
   "metadata": {
    "colab": {
     "base_uri": "https://localhost:8080/"
    },
    "id": "RCcoOdryohxZ",
    "outputId": "8a6ead1b-7e9d-4dfe-da05-63e0c159fb22"
   },
   "outputs": [
    {
     "data": {
      "text/plain": [
       "tensor([15, 22, 37, 49], device='cuda:0', dtype=torch.int32)"
      ]
     },
     "execution_count": 10,
     "metadata": {},
     "output_type": "execute_result"
    }
   ],
   "source": [
    "tensor.to(torch.int32)"
   ]
  },
  {
   "cell_type": "code",
   "execution_count": null,
   "metadata": {
    "colab": {
     "base_uri": "https://localhost:8080/"
    },
    "id": "yfIXZurKohxa",
    "outputId": "26a61a4e-191b-4a3a-f8f6-390677d918f4"
   },
   "outputs": [
    {
     "data": {
      "text/plain": [
       "tensor([15, 22, 37, 49])"
      ]
     },
     "execution_count": 11,
     "metadata": {},
     "output_type": "execute_result"
    }
   ],
   "source": [
    "tensor = tensor.cpu()\n",
    "\n",
    "tensor"
   ]
  },
  {
   "cell_type": "code",
   "execution_count": 60,
   "metadata": {
    "colab": {
     "base_uri": "https://localhost:8080/"
    },
    "id": "DEeVDVKDohxa",
    "outputId": "044af35e-4269-4bca-fa7a-ca9326f9b65d"
   },
   "outputs": [
    {
     "data": {
      "text/plain": [
       "tensor([[1.5960, 1.3589, 0.6230],\n",
       "        [0.9393, 1.7910, 0.9600]])"
      ]
     },
     "execution_count": 60,
     "metadata": {},
     "output_type": "execute_result"
    }
   ],
   "source": [
    "a = torch.rand(2, 3)\n",
    "b = torch.rand(2, 3)\n",
    "\n",
    "a + b"
   ]
  },
  {
   "cell_type": "code",
   "execution_count": 61,
   "metadata": {
    "colab": {
     "base_uri": "https://localhost:8080/",
     "height": 214
    },
    "id": "kfjK5Vwhohxa",
    "outputId": "835c038a-6dc4-47fc-e7f0-4b6413e2864e"
   },
   "outputs": [
    {
     "ename": "RuntimeError",
     "evalue": "Expected all tensors to be on the same device, but found at least two devices, cuda:0 and cpu!",
     "output_type": "error",
     "traceback": [
      "\u001b[0;31m---------------------------------------------------------------------------\u001b[0m",
      "\u001b[0;31mRuntimeError\u001b[0m                              Traceback (most recent call last)",
      "Cell \u001b[0;32mIn[61], line 3\u001b[0m\n\u001b[1;32m      1\u001b[0m a \u001b[38;5;241m=\u001b[39m a\u001b[38;5;241m.\u001b[39mto(device)\n\u001b[0;32m----> 3\u001b[0m \u001b[43ma\u001b[49m\u001b[43m \u001b[49m\u001b[38;5;241;43m+\u001b[39;49m\u001b[43m \u001b[49m\u001b[43mb\u001b[49m\n",
      "\u001b[0;31mRuntimeError\u001b[0m: Expected all tensors to be on the same device, but found at least two devices, cuda:0 and cpu!"
     ]
    }
   ],
   "source": [
    "a = a.to(device)\n",
    "\n",
    "a + b"
   ]
  },
  {
   "cell_type": "code",
   "execution_count": null,
   "metadata": {
    "colab": {
     "base_uri": "https://localhost:8080/"
    },
    "id": "7a159Kxvohxb",
    "outputId": "d9d803e2-2102-4f37-913a-3fe20ec2a991"
   },
   "outputs": [
    {
     "data": {
      "text/plain": [
       "tensor([[0.4449, 1.0726, 1.1576],\n",
       "        [1.8336, 0.5651, 0.9005]], device='cuda:0')"
      ]
     },
     "execution_count": 14,
     "metadata": {},
     "output_type": "execute_result"
    }
   ],
   "source": [
    "b = b.to(device)\n",
    "\n",
    "a + b"
   ]
  },
  {
   "cell_type": "markdown",
   "metadata": {
    "id": "e9cFx_MDohxb"
   },
   "source": [
    "### Операции с тензорами\n",
    "\n",
    "Большая часть операций с тензорами хорошо описана в их [документации](https://pytorch.org/docs/stable/torch.html), разберем основные:"
   ]
  },
  {
   "cell_type": "code",
   "execution_count": null,
   "metadata": {
    "id": "5tsIHOb9ohxb",
    "outputId": "d07c9840-9ecf-44ed-d38b-86918e698c6f"
   },
   "outputs": [
    {
     "data": {
      "text/plain": [
       "(tensor([[0.0542, 0.3823, 0.5019],\n",
       "         [0.7535, 0.0122, 0.9364]]),\n",
       " tensor([[0.9840, 0.0882, 0.7651],\n",
       "         [0.7870, 0.4985, 0.0727]]))"
      ]
     },
     "execution_count": 51,
     "metadata": {},
     "output_type": "execute_result"
    }
   ],
   "source": [
    "a = torch.rand(2, 3)\n",
    "b = torch.rand(2, 3)\n",
    "\n",
    "a, b"
   ]
  },
  {
   "cell_type": "code",
   "execution_count": null,
   "metadata": {
    "id": "dcFpl3Giohxb",
    "outputId": "1eb9e9d7-f959-44ef-dd0c-6f0e4d30dc12"
   },
   "outputs": [
    {
     "name": "stdout",
     "output_type": "stream",
     "text": [
      "tensor([[1.0383, 0.4705, 1.2670],\n",
      "        [1.5404, 0.5107, 1.0090]])\n",
      "\n",
      "tensor([[1.0383, 0.4705, 1.2670],\n",
      "        [1.5404, 0.5107, 1.0090]])\n",
      "\n",
      "tensor([[1.0383, 0.4705, 1.2670],\n",
      "        [1.5404, 0.5107, 1.0090]])\n"
     ]
    }
   ],
   "source": [
    "# поэлементные\n",
    "\n",
    "print(a + b)\n",
    "\n",
    "print()\n",
    "\n",
    "print(torch.add(a, b))\n",
    "\n",
    "print()\n",
    "\n",
    "print(a.add(b))"
   ]
  },
  {
   "cell_type": "code",
   "execution_count": null,
   "metadata": {
    "id": "RJ7HWjNrohxc",
    "outputId": "c95576ba-2f34-4725-98dc-513ce7c4805b"
   },
   "outputs": [
    {
     "name": "stdout",
     "output_type": "stream",
     "text": [
      "tensor([[-0.9298,  0.2940, -0.2632],\n",
      "        [-0.0335, -0.4864,  0.8637]])\n",
      "\n",
      "tensor([[-0.9298,  0.2940, -0.2632],\n",
      "        [-0.0335, -0.4864,  0.8637]])\n",
      "\n",
      "tensor([[-0.9298,  0.2940, -0.2632],\n",
      "        [-0.0335, -0.4864,  0.8637]])\n"
     ]
    }
   ],
   "source": [
    "print(a - b)\n",
    "\n",
    "print()\n",
    "\n",
    "print(torch.sub(a, b))\n",
    "\n",
    "print()\n",
    "\n",
    "print(a.sub(b))"
   ]
  },
  {
   "cell_type": "code",
   "execution_count": null,
   "metadata": {
    "id": "6XsWzx8fohxc",
    "outputId": "16c9cf35-7a68-4279-ea41-93b0aa6019f9"
   },
   "outputs": [
    {
     "name": "stdout",
     "output_type": "stream",
     "text": [
      "tensor([[0.0534, 0.0337, 0.3840],\n",
      "        [0.5929, 0.0061, 0.0680]])\n",
      "\n",
      "tensor([[0.0534, 0.0337, 0.3840],\n",
      "        [0.5929, 0.0061, 0.0680]])\n",
      "\n",
      "tensor([[0.0534, 0.0337, 0.3840],\n",
      "        [0.5929, 0.0061, 0.0680]])\n"
     ]
    }
   ],
   "source": [
    "print(a * b)\n",
    "\n",
    "print()\n",
    "\n",
    "print(torch.mul(a, b))\n",
    "\n",
    "print()\n",
    "\n",
    "print(a.mul(b))"
   ]
  },
  {
   "cell_type": "code",
   "execution_count": null,
   "metadata": {
    "id": "xfDq6c6Bohxc",
    "outputId": "525f66b4-f7fc-404b-a12a-fc2e0c7e9ab3"
   },
   "outputs": [
    {
     "name": "stdout",
     "output_type": "stream",
     "text": [
      "tensor([[ 0.0551,  4.3328,  0.6560],\n",
      "        [ 0.9574,  0.0244, 12.8874]])\n",
      "\n",
      "tensor([[ 0.0551,  4.3328,  0.6560],\n",
      "        [ 0.9574,  0.0244, 12.8874]])\n",
      "\n",
      "tensor([[ 0.0551,  4.3328,  0.6560],\n",
      "        [ 0.9574,  0.0244, 12.8874]])\n"
     ]
    }
   ],
   "source": [
    "print(a / b)\n",
    "\n",
    "print()\n",
    "\n",
    "print(torch.div(a, b))\n",
    "\n",
    "print()\n",
    "\n",
    "print(a.div(b))"
   ]
  },
  {
   "cell_type": "code",
   "execution_count": 62,
   "metadata": {
    "colab": {
     "base_uri": "https://localhost:8080/"
    },
    "id": "jXtLICxUohxc",
    "outputId": "89122752-bdbf-42da-dc5e-c4babb090ead"
   },
   "outputs": [
    {
     "data": {
      "text/plain": [
       "(tensor([[0.5521, 0.5774, 0.1383],\n",
       "         [0.6714, 0.9636, 0.9908]]),\n",
       " tensor([[0.3551, 0.6535, 0.3463, 0.1253],\n",
       "         [0.5997, 0.9538, 0.2726, 0.7810],\n",
       "         [0.2266, 0.7590, 0.3964, 0.9586]]),\n",
       " tensor([[0.9616, 0.4842, 0.1539, 0.2728, 0.1055],\n",
       "         [0.3487, 0.7067, 0.3381, 0.3798, 0.9193],\n",
       "         [0.3779, 0.1528, 0.1942, 0.2199, 0.0263],\n",
       "         [0.9414, 0.1839, 0.0010, 0.2215, 0.3000],\n",
       "         [0.3884, 0.2396, 0.5998, 0.2122, 0.7922]]))"
      ]
     },
     "execution_count": 62,
     "metadata": {},
     "output_type": "execute_result"
    }
   ],
   "source": [
    "a = torch.rand(2, 3)\n",
    "b = torch.rand(3, 4)\n",
    "c = torch.rand(5, 5)\n",
    "\n",
    "a, b, c"
   ]
  },
  {
   "cell_type": "code",
   "execution_count": 64,
   "metadata": {
    "colab": {
     "base_uri": "https://localhost:8080/"
    },
    "id": "MEwlD31Xohxd",
    "outputId": "5e1f470c-6184-4177-92c6-b1d321717111",
    "scrolled": true
   },
   "outputs": [
    {
     "name": "stdout",
     "output_type": "stream",
     "text": [
      "tensor([[0.5737, 1.0165, 0.4034, 0.6527],\n",
      "        [1.0409, 2.1099, 0.8879, 1.7866]]) torch.Size([2, 4])\n",
      "\n",
      "tensor([[0.5737, 1.0165, 0.4034, 0.6527],\n",
      "        [1.0409, 2.1099, 0.8879, 1.7866]]) torch.Size([2, 4])\n",
      "\n",
      "tensor(2.8762)\n",
      "\n",
      "tensor([[2.6159, 1.6229, 1.1664, 1.3137, 1.1112],\n",
      "        [1.4172, 2.0273, 1.4023, 1.4621, 2.5074],\n",
      "        [1.4592, 1.1650, 1.2143, 1.2460, 1.0266],\n",
      "        [2.5636, 1.2019, 1.0010, 1.2480, 1.3499],\n",
      "        [1.4746, 1.2708, 1.8218, 1.2364, 2.2083]])\n"
     ]
    }
   ],
   "source": [
    "# матричные операции\n",
    "\n",
    "print(a @ b, (a @ b).shape)\n",
    "\n",
    "print()\n",
    "\n",
    "print(torch.matmul(a, b), torch.matmul(a, b).shape)\n",
    "\n",
    "print()\n",
    "\n",
    "print(c.trace())\n",
    "\n",
    "print()\n",
    "\n",
    "print(c.exp())"
   ]
  },
  {
   "cell_type": "markdown",
   "metadata": {
    "id": "IXk1iU_hohxd",
    "pycharm": {
     "name": "#%% md\n"
    }
   },
   "source": [
    "### [Автоматическое дифференцирование](https://pytorch.org/docs/stable/notes/autograd.html)"
   ]
  },
  {
   "cell_type": "code",
   "execution_count": 65,
   "metadata": {
    "colab": {
     "base_uri": "https://localhost:8080/"
    },
    "id": "vas-hAJEohxd",
    "outputId": "d1bafff7-e7b1-4615-b1ea-f83f4db44fb4"
   },
   "outputs": [
    {
     "data": {
      "text/plain": [
       "tensor([0.7457, 0.9796, 0.9334, 0.4455, 0.5999])"
      ]
     },
     "execution_count": 65,
     "metadata": {},
     "output_type": "execute_result"
    }
   ],
   "source": [
    "x = torch.rand(5)\n",
    "\n",
    "x"
   ]
  },
  {
   "cell_type": "code",
   "execution_count": 66,
   "metadata": {
    "colab": {
     "base_uri": "https://localhost:8080/"
    },
    "id": "B1it7raNohxd",
    "outputId": "a707d661-4908-4c60-b42b-5b897d85b51e"
   },
   "outputs": [
    {
     "data": {
      "text/plain": [
       "tensor([[0.5411, 0.3350, 0.8735, 0.6997, 0.7013],\n",
       "        [0.4934, 0.7489, 0.1113, 0.8750, 0.6097],\n",
       "        [0.5045, 0.1526, 0.4441, 0.4012, 0.5350]], requires_grad=True)"
      ]
     },
     "execution_count": 66,
     "metadata": {},
     "output_type": "execute_result"
    }
   ],
   "source": [
    "w = torch.rand(3, 5, requires_grad=True)\n",
    "\n",
    "w"
   ]
  },
  {
   "cell_type": "code",
   "execution_count": 67,
   "metadata": {
    "colab": {
     "base_uri": "https://localhost:8080/"
    },
    "id": "HSPenqZfOnY6",
    "outputId": "0c63e78f-7d66-4e1a-811a-09e419a99cbd"
   },
   "outputs": [
    {
     "data": {
      "text/plain": [
       "tensor([[0.5411, 0.3350, 0.8735, 0.6997, 0.7013],\n",
       "        [0.4934, 0.7489, 0.1113, 0.8750, 0.6097],\n",
       "        [0.5045, 0.1526, 0.4441, 0.4012, 0.5350]], requires_grad=True)"
      ]
     },
     "execution_count": 67,
     "metadata": {},
     "output_type": "execute_result"
    }
   ],
   "source": [
    "w.requires_grad = True\n",
    "w"
   ]
  },
  {
   "cell_type": "code",
   "execution_count": 68,
   "metadata": {
    "id": "5Q1mBtBjohxe",
    "outputId": "932fb679-f436-4627-8cfa-6e50090238fa"
   },
   "outputs": [
    {
     "name": "stdout",
     "output_type": "stream",
     "text": [
      "None\n"
     ]
    }
   ],
   "source": [
    "print(w.grad)"
   ]
  },
  {
   "cell_type": "code",
   "execution_count": null,
   "metadata": {},
   "outputs": [],
   "source": []
  },
  {
   "cell_type": "code",
   "execution_count": 76,
   "metadata": {},
   "outputs": [],
   "source": [
    "z = w + 1"
   ]
  },
  {
   "cell_type": "code",
   "execution_count": 77,
   "metadata": {},
   "outputs": [],
   "source": [
    "z.retain_grad()"
   ]
  },
  {
   "cell_type": "code",
   "execution_count": 81,
   "metadata": {},
   "outputs": [
    {
     "data": {
      "text/plain": [
       "tensor([[1., 1., 1., 1., 1.],\n",
       "        [1., 1., 1., 1., 1.],\n",
       "        [1., 1., 1., 1., 1.]])"
      ]
     },
     "execution_count": 81,
     "metadata": {},
     "output_type": "execute_result"
    }
   ],
   "source": [
    "z.grad"
   ]
  },
  {
   "cell_type": "code",
   "execution_count": 82,
   "metadata": {},
   "outputs": [
    {
     "data": {
      "text/plain": [
       "tensor([[2., 2., 2., 2., 2.],\n",
       "        [2., 2., 2., 2., 2.],\n",
       "        [2., 2., 2., 2., 2.]])"
      ]
     },
     "execution_count": 82,
     "metadata": {},
     "output_type": "execute_result"
    }
   ],
   "source": [
    "w.grad"
   ]
  },
  {
   "cell_type": "code",
   "execution_count": 79,
   "metadata": {},
   "outputs": [
    {
     "data": {
      "text/plain": [
       "tensor(23.0262, grad_fn=<SumBackward0>)"
      ]
     },
     "execution_count": 79,
     "metadata": {},
     "output_type": "execute_result"
    }
   ],
   "source": [
    "z.sum()"
   ]
  },
  {
   "cell_type": "code",
   "execution_count": 80,
   "metadata": {},
   "outputs": [],
   "source": [
    "z.sum().backward()"
   ]
  },
  {
   "cell_type": "code",
   "execution_count": 75,
   "metadata": {},
   "outputs": [
    {
     "data": {
      "text/plain": [
       "tensor(23.0262, grad_fn=<SumBackward0>)"
      ]
     },
     "execution_count": 75,
     "metadata": {},
     "output_type": "execute_result"
    }
   ],
   "source": [
    "z.sum()"
   ]
  },
  {
   "cell_type": "code",
   "execution_count": null,
   "metadata": {
    "colab": {
     "base_uri": "https://localhost:8080/"
    },
    "id": "MF8OeJauohxe",
    "outputId": "6aff0f0d-b498-4fdb-ab9a-a5ad9678a40c"
   },
   "outputs": [
    {
     "data": {
      "text/plain": [
       "tensor([2.0862e+10, 0.0000e+00, 3.3631e-44])"
      ]
     },
     "execution_count": 22,
     "metadata": {},
     "output_type": "execute_result"
    }
   ],
   "source": [
    "first_z = torch.empty(3)\n",
    "\n",
    "first_z"
   ]
  },
  {
   "cell_type": "code",
   "execution_count": null,
   "metadata": {
    "colab": {
     "base_uri": "https://localhost:8080/"
    },
    "id": "jHQWNK8Dohxe",
    "outputId": "41975336-54fe-458d-b247-1efacb61e872"
   },
   "outputs": [
    {
     "data": {
      "text/plain": [
       "tensor([0.8002, 1.3663, 1.9262], grad_fn=<CopySlices>)"
      ]
     },
     "execution_count": 23,
     "metadata": {},
     "output_type": "execute_result"
    }
   ],
   "source": [
    "for i in range(3):\n",
    "    first_z[i] = torch.sum(w[i] * x)\n",
    "\n",
    "first_z"
   ]
  },
  {
   "cell_type": "code",
   "execution_count": null,
   "metadata": {
    "colab": {
     "base_uri": "https://localhost:8080/"
    },
    "id": "v0_dElJWohxe",
    "outputId": "5e267fb2-50ec-4d7d-c930-8070caa4f7fb"
   },
   "outputs": [
    {
     "data": {
      "text/plain": [
       "tensor([0.8002, 1.3663, 1.9262], grad_fn=<SqueezeBackward3>)"
      ]
     },
     "execution_count": 24,
     "metadata": {},
     "output_type": "execute_result"
    }
   ],
   "source": [
    "z = torch.matmul(x, w.t())\n",
    "\n",
    "z"
   ]
  },
  {
   "cell_type": "code",
   "execution_count": 100,
   "metadata": {
    "colab": {
     "base_uri": "https://localhost:8080/"
    },
    "id": "KV383htQohxe",
    "outputId": "d56e8a0e-cc06-4a59-cbf7-42206d9d9810"
   },
   "outputs": [
    {
     "data": {
      "text/plain": [
       "tensor([0.4725, 0.2244, 0.2097], requires_grad=True)"
      ]
     },
     "execution_count": 100,
     "metadata": {},
     "output_type": "execute_result"
    }
   ],
   "source": [
    "v = torch.rand(3, requires_grad=True)\n",
    "z = torch.tensor([1, 2, 3])\n",
    "\n",
    "v"
   ]
  },
  {
   "cell_type": "code",
   "execution_count": 101,
   "metadata": {
    "colab": {
     "base_uri": "https://localhost:8080/"
    },
    "id": "o_rnwMi6ohxf",
    "outputId": "2adae33b-1e27-4fa4-ed9e-f6e61228211b"
   },
   "outputs": [
    {
     "name": "stdout",
     "output_type": "stream",
     "text": [
      "None\n"
     ]
    }
   ],
   "source": [
    "print(v.grad)"
   ]
  },
  {
   "cell_type": "code",
   "execution_count": 102,
   "metadata": {
    "colab": {
     "base_uri": "https://localhost:8080/"
    },
    "id": "NzHsrgGwohxf",
    "outputId": "b3ab4b22-23b6-4e08-9a05-ac977252c293"
   },
   "outputs": [
    {
     "data": {
      "text/plain": [
       "tensor(1.5503, grad_fn=<SumBackward0>)"
      ]
     },
     "execution_count": 102,
     "metadata": {},
     "output_type": "execute_result"
    }
   ],
   "source": [
    "y = torch.sum(z * v)\n",
    "\n",
    "y"
   ]
  },
  {
   "cell_type": "code",
   "execution_count": 103,
   "metadata": {
    "colab": {
     "base_uri": "https://localhost:8080/"
    },
    "id": "RmJbSc03ohxf",
    "outputId": "659f053f-9497-4a0b-f873-8ea357209097"
   },
   "outputs": [
    {
     "data": {
      "text/plain": [
       "1.5502820014953613"
      ]
     },
     "execution_count": 103,
     "metadata": {},
     "output_type": "execute_result"
    }
   ],
   "source": [
    "y.item()"
   ]
  },
  {
   "cell_type": "code",
   "execution_count": 104,
   "metadata": {
    "id": "NgMubEwOohxf"
   },
   "outputs": [],
   "source": [
    "loss = torch.mean((y - 2) ** 2)"
   ]
  },
  {
   "cell_type": "code",
   "execution_count": 105,
   "metadata": {
    "colab": {
     "base_uri": "https://localhost:8080/"
    },
    "id": "2SJEmTHeohxf",
    "outputId": "ea7ee463-5719-45a1-c010-8cb84cb519cf"
   },
   "outputs": [],
   "source": [
    "loss.backward()"
   ]
  },
  {
   "cell_type": "code",
   "execution_count": 106,
   "metadata": {},
   "outputs": [
    {
     "data": {
      "text/plain": [
       "tensor([-0.8994, -1.7989, -2.6983])"
      ]
     },
     "execution_count": 106,
     "metadata": {},
     "output_type": "execute_result"
    }
   ],
   "source": [
    "v.grad"
   ]
  },
  {
   "cell_type": "code",
   "execution_count": 107,
   "metadata": {},
   "outputs": [
    {
     "data": {
      "text/plain": [
       "tensor([0., 0., 0.])"
      ]
     },
     "execution_count": 107,
     "metadata": {},
     "output_type": "execute_result"
    }
   ],
   "source": [
    "y = torch.sum(z * (v - v.grad * 0.001))\n",
    "loss = torch.mean((y - 2) ** 2)\n",
    "v.grad.zero_()"
   ]
  },
  {
   "cell_type": "code",
   "execution_count": 108,
   "metadata": {},
   "outputs": [],
   "source": [
    "loss.backward()"
   ]
  },
  {
   "cell_type": "code",
   "execution_count": 118,
   "metadata": {},
   "outputs": [
    {
     "data": {
      "text/plain": [
       "tensor([-0.8743, -1.7485, -2.6228])"
      ]
     },
     "execution_count": 118,
     "metadata": {},
     "output_type": "execute_result"
    }
   ],
   "source": [
    "v.grad"
   ]
  },
  {
   "cell_type": "code",
   "execution_count": 112,
   "metadata": {},
   "outputs": [
    {
     "data": {
      "text/plain": [
       "False"
      ]
     },
     "execution_count": 112,
     "metadata": {},
     "output_type": "execute_result"
    }
   ],
   "source": [
    "y.detach().requires_grad"
   ]
  },
  {
   "cell_type": "code",
   "execution_count": 113,
   "metadata": {},
   "outputs": [
    {
     "data": {
      "text/plain": [
       "tensor(1.5629, grad_fn=<SumBackward0>)"
      ]
     },
     "execution_count": 113,
     "metadata": {},
     "output_type": "execute_result"
    }
   ],
   "source": [
    "y"
   ]
  },
  {
   "cell_type": "code",
   "execution_count": 117,
   "metadata": {},
   "outputs": [],
   "source": [
    "a = torch.tensor(1., requires_grad=True)\n",
    "(y.detach() + a).backward()"
   ]
  },
  {
   "cell_type": "code",
   "execution_count": 118,
   "metadata": {},
   "outputs": [
    {
     "data": {
      "text/plain": [
       "tensor([-0.8743, -1.7485, -2.6228])"
      ]
     },
     "execution_count": 118,
     "metadata": {},
     "output_type": "execute_result"
    }
   ],
   "source": [
    "v.grad  # не поменялся"
   ]
  },
  {
   "cell_type": "code",
   "execution_count": 123,
   "metadata": {
    "colab": {
     "base_uri": "https://localhost:8080/"
    },
    "id": "Ox8t97bMohxm",
    "outputId": "43fa6df5-294b-45a5-85e9-90a2458fca9c"
   },
   "outputs": [
    {
     "data": {
      "text/plain": [
       "tensor(5.5719)"
      ]
     },
     "execution_count": 123,
     "metadata": {},
     "output_type": "execute_result"
    }
   ],
   "source": [
    "with torch.no_grad():\n",
    "    loss = torch.sum(a - b)\n",
    "\n",
    "loss"
   ]
  },
  {
   "cell_type": "code",
   "execution_count": 124,
   "metadata": {
    "colab": {
     "base_uri": "https://localhost:8080/",
     "height": 320
    },
    "id": "pANPxiYSohxn",
    "outputId": "852a683b-aef4-47a2-ea08-366dcb4579d0"
   },
   "outputs": [
    {
     "ename": "RuntimeError",
     "evalue": "element 0 of tensors does not require grad and does not have a grad_fn",
     "output_type": "error",
     "traceback": [
      "\u001b[0;31m---------------------------------------------------------------------------\u001b[0m",
      "\u001b[0;31mRuntimeError\u001b[0m                              Traceback (most recent call last)",
      "Cell \u001b[0;32mIn[124], line 1\u001b[0m\n\u001b[0;32m----> 1\u001b[0m \u001b[43mloss\u001b[49m\u001b[38;5;241;43m.\u001b[39;49m\u001b[43mbackward\u001b[49m\u001b[43m(\u001b[49m\u001b[43m)\u001b[49m\n",
      "File \u001b[0;32m~/anaconda3/envs/ml/lib/python3.9/site-packages/torch/_tensor.py:488\u001b[0m, in \u001b[0;36mTensor.backward\u001b[0;34m(self, gradient, retain_graph, create_graph, inputs)\u001b[0m\n\u001b[1;32m    478\u001b[0m \u001b[38;5;28;01mif\u001b[39;00m has_torch_function_unary(\u001b[38;5;28mself\u001b[39m):\n\u001b[1;32m    479\u001b[0m     \u001b[38;5;28;01mreturn\u001b[39;00m handle_torch_function(\n\u001b[1;32m    480\u001b[0m         Tensor\u001b[38;5;241m.\u001b[39mbackward,\n\u001b[1;32m    481\u001b[0m         (\u001b[38;5;28mself\u001b[39m,),\n\u001b[0;32m   (...)\u001b[0m\n\u001b[1;32m    486\u001b[0m         inputs\u001b[38;5;241m=\u001b[39minputs,\n\u001b[1;32m    487\u001b[0m     )\n\u001b[0;32m--> 488\u001b[0m \u001b[43mtorch\u001b[49m\u001b[38;5;241;43m.\u001b[39;49m\u001b[43mautograd\u001b[49m\u001b[38;5;241;43m.\u001b[39;49m\u001b[43mbackward\u001b[49m\u001b[43m(\u001b[49m\n\u001b[1;32m    489\u001b[0m \u001b[43m    \u001b[49m\u001b[38;5;28;43mself\u001b[39;49m\u001b[43m,\u001b[49m\u001b[43m \u001b[49m\u001b[43mgradient\u001b[49m\u001b[43m,\u001b[49m\u001b[43m \u001b[49m\u001b[43mretain_graph\u001b[49m\u001b[43m,\u001b[49m\u001b[43m \u001b[49m\u001b[43mcreate_graph\u001b[49m\u001b[43m,\u001b[49m\u001b[43m \u001b[49m\u001b[43minputs\u001b[49m\u001b[38;5;241;43m=\u001b[39;49m\u001b[43minputs\u001b[49m\n\u001b[1;32m    490\u001b[0m \u001b[43m\u001b[49m\u001b[43m)\u001b[49m\n",
      "File \u001b[0;32m~/anaconda3/envs/ml/lib/python3.9/site-packages/torch/autograd/__init__.py:197\u001b[0m, in \u001b[0;36mbackward\u001b[0;34m(tensors, grad_tensors, retain_graph, create_graph, grad_variables, inputs)\u001b[0m\n\u001b[1;32m    192\u001b[0m     retain_graph \u001b[38;5;241m=\u001b[39m create_graph\n\u001b[1;32m    194\u001b[0m \u001b[38;5;66;03m# The reason we repeat same the comment below is that\u001b[39;00m\n\u001b[1;32m    195\u001b[0m \u001b[38;5;66;03m# some Python versions print out the first line of a multi-line function\u001b[39;00m\n\u001b[1;32m    196\u001b[0m \u001b[38;5;66;03m# calls in the traceback and some print out the last line\u001b[39;00m\n\u001b[0;32m--> 197\u001b[0m \u001b[43mVariable\u001b[49m\u001b[38;5;241;43m.\u001b[39;49m\u001b[43m_execution_engine\u001b[49m\u001b[38;5;241;43m.\u001b[39;49m\u001b[43mrun_backward\u001b[49m\u001b[43m(\u001b[49m\u001b[43m  \u001b[49m\u001b[38;5;66;43;03m# Calls into the C++ engine to run the backward pass\u001b[39;49;00m\n\u001b[1;32m    198\u001b[0m \u001b[43m    \u001b[49m\u001b[43mtensors\u001b[49m\u001b[43m,\u001b[49m\u001b[43m \u001b[49m\u001b[43mgrad_tensors_\u001b[49m\u001b[43m,\u001b[49m\u001b[43m \u001b[49m\u001b[43mretain_graph\u001b[49m\u001b[43m,\u001b[49m\u001b[43m \u001b[49m\u001b[43mcreate_graph\u001b[49m\u001b[43m,\u001b[49m\u001b[43m \u001b[49m\u001b[43minputs\u001b[49m\u001b[43m,\u001b[49m\n\u001b[1;32m    199\u001b[0m \u001b[43m    \u001b[49m\u001b[43mallow_unreachable\u001b[49m\u001b[38;5;241;43m=\u001b[39;49m\u001b[38;5;28;43;01mTrue\u001b[39;49;00m\u001b[43m,\u001b[49m\u001b[43m \u001b[49m\u001b[43maccumulate_grad\u001b[49m\u001b[38;5;241;43m=\u001b[39;49m\u001b[38;5;28;43;01mTrue\u001b[39;49;00m\u001b[43m)\u001b[49m\n",
      "\u001b[0;31mRuntimeError\u001b[0m: element 0 of tensors does not require grad and does not have a grad_fn"
     ]
    }
   ],
   "source": [
    "loss.backward()"
   ]
  },
  {
   "cell_type": "code",
   "execution_count": null,
   "metadata": {
    "colab": {
     "base_uri": "https://localhost:8080/"
    },
    "id": "JyN_ZNfTohxn",
    "outputId": "c685de0d-e73f-4320-e780-cf94f18288fe"
   },
   "outputs": [
    {
     "data": {
      "text/plain": [
       "(tensor([[0.3856, 0.4382, 0.2194, 0.8110, 0.3136],\n",
       "         [0.5516, 0.3726, 0.6769, 0.4662, 0.0127],\n",
       "         [0.6691, 0.2735, 0.0376, 0.5726, 0.0020]], requires_grad=True),\n",
       " tensor([[0.3206, 0.1292, 0.6550, 0.2735, 0.1023],\n",
       "         [0.6090, 0.5692, 0.5814, 0.5776, 0.9256],\n",
       "         [0.7932, 0.5164, 0.3540, 0.6253, 0.5959]], requires_grad=True))"
      ]
     },
     "execution_count": 49,
     "metadata": {},
     "output_type": "execute_result"
    }
   ],
   "source": [
    "a = torch.rand(3, 5, requires_grad=True)\n",
    "b = torch.rand(3, 5, requires_grad=True)\n",
    "\n",
    "a, b"
   ]
  },
  {
   "cell_type": "code",
   "execution_count": null,
   "metadata": {
    "colab": {
     "base_uri": "https://localhost:8080/"
    },
    "id": "GhxRhRX-ohxn",
    "outputId": "0189e7ea-a7e6-48b3-de3f-06108fbd88a1"
   },
   "outputs": [
    {
     "data": {
      "text/plain": [
       "tensor(-1.8255)"
      ]
     },
     "execution_count": 50,
     "metadata": {},
     "output_type": "execute_result"
    }
   ],
   "source": [
    "with torch.inference_mode():\n",
    "    loss = torch.sum(a - b)\n",
    "\n",
    "loss"
   ]
  },
  {
   "cell_type": "code",
   "execution_count": null,
   "metadata": {
    "id": "VRs6MBQzSo5o"
   },
   "outputs": [],
   "source": []
  },
  {
   "cell_type": "code",
   "execution_count": null,
   "metadata": {
    "colab": {
     "base_uri": "https://localhost:8080/",
     "height": 320
    },
    "id": "3HjFPpyMohxn",
    "outputId": "fcebd0e7-1693-4a09-e7b0-d8ff887793ba",
    "scrolled": false
   },
   "outputs": [
    {
     "ename": "RuntimeError",
     "evalue": "ignored",
     "output_type": "error",
     "traceback": [
      "\u001b[0;31m---------------------------------------------------------------------------\u001b[0m",
      "\u001b[0;31mRuntimeError\u001b[0m                              Traceback (most recent call last)",
      "\u001b[0;32m<ipython-input-51-52a0569421b1>\u001b[0m in \u001b[0;36m<module>\u001b[0;34m\u001b[0m\n\u001b[0;32m----> 1\u001b[0;31m \u001b[0mloss\u001b[0m\u001b[0;34m.\u001b[0m\u001b[0mbackward\u001b[0m\u001b[0;34m(\u001b[0m\u001b[0;34m)\u001b[0m\u001b[0;34m\u001b[0m\u001b[0;34m\u001b[0m\u001b[0m\n\u001b[0m",
      "\u001b[0;32m/usr/local/lib/python3.7/dist-packages/torch/_tensor.py\u001b[0m in \u001b[0;36mbackward\u001b[0;34m(self, gradient, retain_graph, create_graph, inputs)\u001b[0m\n\u001b[1;32m    394\u001b[0m                 \u001b[0mcreate_graph\u001b[0m\u001b[0;34m=\u001b[0m\u001b[0mcreate_graph\u001b[0m\u001b[0;34m,\u001b[0m\u001b[0;34m\u001b[0m\u001b[0;34m\u001b[0m\u001b[0m\n\u001b[1;32m    395\u001b[0m                 inputs=inputs)\n\u001b[0;32m--> 396\u001b[0;31m         \u001b[0mtorch\u001b[0m\u001b[0;34m.\u001b[0m\u001b[0mautograd\u001b[0m\u001b[0;34m.\u001b[0m\u001b[0mbackward\u001b[0m\u001b[0;34m(\u001b[0m\u001b[0mself\u001b[0m\u001b[0;34m,\u001b[0m \u001b[0mgradient\u001b[0m\u001b[0;34m,\u001b[0m \u001b[0mretain_graph\u001b[0m\u001b[0;34m,\u001b[0m \u001b[0mcreate_graph\u001b[0m\u001b[0;34m,\u001b[0m \u001b[0minputs\u001b[0m\u001b[0;34m=\u001b[0m\u001b[0minputs\u001b[0m\u001b[0;34m)\u001b[0m\u001b[0;34m\u001b[0m\u001b[0;34m\u001b[0m\u001b[0m\n\u001b[0m\u001b[1;32m    397\u001b[0m \u001b[0;34m\u001b[0m\u001b[0m\n\u001b[1;32m    398\u001b[0m     \u001b[0;32mdef\u001b[0m \u001b[0mregister_hook\u001b[0m\u001b[0;34m(\u001b[0m\u001b[0mself\u001b[0m\u001b[0;34m,\u001b[0m \u001b[0mhook\u001b[0m\u001b[0;34m)\u001b[0m\u001b[0;34m:\u001b[0m\u001b[0;34m\u001b[0m\u001b[0;34m\u001b[0m\u001b[0m\n",
      "\u001b[0;32m/usr/local/lib/python3.7/dist-packages/torch/autograd/__init__.py\u001b[0m in \u001b[0;36mbackward\u001b[0;34m(tensors, grad_tensors, retain_graph, create_graph, grad_variables, inputs)\u001b[0m\n\u001b[1;32m    173\u001b[0m     Variable._execution_engine.run_backward(  # Calls into the C++ engine to run the backward pass\n\u001b[1;32m    174\u001b[0m         \u001b[0mtensors\u001b[0m\u001b[0;34m,\u001b[0m \u001b[0mgrad_tensors_\u001b[0m\u001b[0;34m,\u001b[0m \u001b[0mretain_graph\u001b[0m\u001b[0;34m,\u001b[0m \u001b[0mcreate_graph\u001b[0m\u001b[0;34m,\u001b[0m \u001b[0minputs\u001b[0m\u001b[0;34m,\u001b[0m\u001b[0;34m\u001b[0m\u001b[0;34m\u001b[0m\u001b[0m\n\u001b[0;32m--> 175\u001b[0;31m         allow_unreachable=True, accumulate_grad=True)  # Calls into the C++ engine to run the backward pass\n\u001b[0m\u001b[1;32m    176\u001b[0m \u001b[0;34m\u001b[0m\u001b[0m\n\u001b[1;32m    177\u001b[0m def grad(\n",
      "\u001b[0;31mRuntimeError\u001b[0m: element 0 of tensors does not require grad and does not have a grad_fn"
     ]
    }
   ],
   "source": [
    "loss.backward()"
   ]
  },
  {
   "cell_type": "code",
   "execution_count": null,
   "metadata": {
    "colab": {
     "base_uri": "https://localhost:8080/"
    },
    "id": "ZOB9s0C2SqEr",
    "outputId": "3f6bfd64-ca9a-4d90-80b2-49525ca376a5"
   },
   "outputs": [
    {
     "data": {
      "text/plain": [
       "tensor(-1.8255)"
      ]
     },
     "execution_count": 53,
     "metadata": {},
     "output_type": "execute_result"
    }
   ],
   "source": [
    "loss = torch.sum(a - b)\n",
    "loss.detach()"
   ]
  },
  {
   "cell_type": "code",
   "execution_count": null,
   "metadata": {
    "colab": {
     "base_uri": "https://localhost:8080/",
     "height": 370
    },
    "id": "0yVG9Wqvohxo",
    "outputId": "ff560406-076f-4505-c505-86fa1ab0f73d"
   },
   "outputs": [
    {
     "name": "stdout",
     "output_type": "stream",
     "text": [
      "loss15.592167854309082=\n"
     ]
    },
    {
     "ename": "RuntimeError",
     "evalue": "ignored",
     "output_type": "error",
     "traceback": [
      "\u001b[0;31m---------------------------------------------------------------------------\u001b[0m",
      "\u001b[0;31mRuntimeError\u001b[0m                              Traceback (most recent call last)",
      "\u001b[0;32m<ipython-input-55-f412a598358b>\u001b[0m in \u001b[0;36m<module>\u001b[0;34m\u001b[0m\n\u001b[1;32m      7\u001b[0m     \u001b[0mprint\u001b[0m\u001b[0;34m(\u001b[0m\u001b[0;34mf'loss{loss}='\u001b[0m\u001b[0;34m)\u001b[0m\u001b[0;34m\u001b[0m\u001b[0;34m\u001b[0m\u001b[0m\n\u001b[1;32m      8\u001b[0m \u001b[0;34m\u001b[0m\u001b[0m\n\u001b[0;32m----> 9\u001b[0;31m     \u001b[0mloss\u001b[0m\u001b[0;34m.\u001b[0m\u001b[0mbackward\u001b[0m\u001b[0;34m(\u001b[0m\u001b[0;34m)\u001b[0m\u001b[0;34m\u001b[0m\u001b[0;34m\u001b[0m\u001b[0m\n\u001b[0m",
      "\u001b[0;32m/usr/local/lib/python3.7/dist-packages/torch/_tensor.py\u001b[0m in \u001b[0;36mbackward\u001b[0;34m(self, gradient, retain_graph, create_graph, inputs)\u001b[0m\n\u001b[1;32m    394\u001b[0m                 \u001b[0mcreate_graph\u001b[0m\u001b[0;34m=\u001b[0m\u001b[0mcreate_graph\u001b[0m\u001b[0;34m,\u001b[0m\u001b[0;34m\u001b[0m\u001b[0;34m\u001b[0m\u001b[0m\n\u001b[1;32m    395\u001b[0m                 inputs=inputs)\n\u001b[0;32m--> 396\u001b[0;31m         \u001b[0mtorch\u001b[0m\u001b[0;34m.\u001b[0m\u001b[0mautograd\u001b[0m\u001b[0;34m.\u001b[0m\u001b[0mbackward\u001b[0m\u001b[0;34m(\u001b[0m\u001b[0mself\u001b[0m\u001b[0;34m,\u001b[0m \u001b[0mgradient\u001b[0m\u001b[0;34m,\u001b[0m \u001b[0mretain_graph\u001b[0m\u001b[0;34m,\u001b[0m \u001b[0mcreate_graph\u001b[0m\u001b[0;34m,\u001b[0m \u001b[0minputs\u001b[0m\u001b[0;34m=\u001b[0m\u001b[0minputs\u001b[0m\u001b[0;34m)\u001b[0m\u001b[0;34m\u001b[0m\u001b[0;34m\u001b[0m\u001b[0m\n\u001b[0m\u001b[1;32m    397\u001b[0m \u001b[0;34m\u001b[0m\u001b[0m\n\u001b[1;32m    398\u001b[0m     \u001b[0;32mdef\u001b[0m \u001b[0mregister_hook\u001b[0m\u001b[0;34m(\u001b[0m\u001b[0mself\u001b[0m\u001b[0;34m,\u001b[0m \u001b[0mhook\u001b[0m\u001b[0;34m)\u001b[0m\u001b[0;34m:\u001b[0m\u001b[0;34m\u001b[0m\u001b[0;34m\u001b[0m\u001b[0m\n",
      "\u001b[0;32m/usr/local/lib/python3.7/dist-packages/torch/autograd/__init__.py\u001b[0m in \u001b[0;36mbackward\u001b[0;34m(tensors, grad_tensors, retain_graph, create_graph, grad_variables, inputs)\u001b[0m\n\u001b[1;32m    173\u001b[0m     Variable._execution_engine.run_backward(  # Calls into the C++ engine to run the backward pass\n\u001b[1;32m    174\u001b[0m         \u001b[0mtensors\u001b[0m\u001b[0;34m,\u001b[0m \u001b[0mgrad_tensors_\u001b[0m\u001b[0;34m,\u001b[0m \u001b[0mretain_graph\u001b[0m\u001b[0;34m,\u001b[0m \u001b[0mcreate_graph\u001b[0m\u001b[0;34m,\u001b[0m \u001b[0minputs\u001b[0m\u001b[0;34m,\u001b[0m\u001b[0;34m\u001b[0m\u001b[0;34m\u001b[0m\u001b[0m\n\u001b[0;32m--> 175\u001b[0;31m         allow_unreachable=True, accumulate_grad=True)  # Calls into the C++ engine to run the backward pass\n\u001b[0m\u001b[1;32m    176\u001b[0m \u001b[0;34m\u001b[0m\u001b[0m\n\u001b[1;32m    177\u001b[0m def grad(\n",
      "\u001b[0;31mRuntimeError\u001b[0m: element 0 of tensors does not require grad and does not have a grad_fn"
     ]
    }
   ],
   "source": [
    "with torch.no_grad():\n",
    "    a = torch.rand(3, 5, requires_grad=True)\n",
    "    b = torch.rand(3, 5, requires_grad=True)\n",
    "    \n",
    "    loss = torch.sum(a + b)\n",
    "    \n",
    "    print(f'loss{loss}=')\n",
    "    \n",
    "    loss.backward()"
   ]
  },
  {
   "cell_type": "code",
   "execution_count": null,
   "metadata": {
    "colab": {
     "base_uri": "https://localhost:8080/"
    },
    "id": "TtOo3zfHohxo",
    "outputId": "8fe1a42d-6b23-47c6-b14b-a8d30ec669a8"
   },
   "outputs": [
    {
     "data": {
      "text/plain": [
       "tensor(15.5922, grad_fn=<SumBackward0>)"
      ]
     },
     "execution_count": 57,
     "metadata": {},
     "output_type": "execute_result"
    }
   ],
   "source": [
    "loss2 = torch.sum(a + b)\n",
    "\n",
    "loss2"
   ]
  },
  {
   "cell_type": "code",
   "execution_count": null,
   "metadata": {
    "id": "iVjROuyMohxo",
    "outputId": "ed317dd8-c8b5-48c8-adc7-844a214af732"
   },
   "outputs": [
    {
     "name": "stdout",
     "output_type": "stream",
     "text": [
      "a.grad=None\n",
      "\n",
      "b.grad=None\n",
      "\n"
     ]
    }
   ],
   "source": [
    "print(f'{a.grad=}\\n')\n",
    "print(f'{b.grad=}\\n')"
   ]
  },
  {
   "cell_type": "code",
   "execution_count": null,
   "metadata": {
    "id": "oyazYdQqohxp"
   },
   "outputs": [],
   "source": [
    "loss2.backward()"
   ]
  },
  {
   "cell_type": "code",
   "execution_count": null,
   "metadata": {
    "id": "CtLUzQvyohxp",
    "outputId": "4fabab26-6925-45bd-8c80-d5c5476606f6"
   },
   "outputs": [
    {
     "name": "stdout",
     "output_type": "stream",
     "text": [
      "a.grad=tensor([[1., 1., 1., 1., 1.],\n",
      "        [1., 1., 1., 1., 1.],\n",
      "        [1., 1., 1., 1., 1.]])\n",
      "\n",
      "b.grad=tensor([[1., 1., 1., 1., 1.],\n",
      "        [1., 1., 1., 1., 1.],\n",
      "        [1., 1., 1., 1., 1.]])\n",
      "\n"
     ]
    }
   ],
   "source": [
    "print(f'{a.grad=}\\n')\n",
    "print(f'{b.grad=}\\n')"
   ]
  },
  {
   "cell_type": "code",
   "execution_count": null,
   "metadata": {
    "colab": {
     "base_uri": "https://localhost:8080/",
     "height": 370
    },
    "id": "0YGRdcIvohxp",
    "outputId": "5c9f73af-7459-4f32-9059-04e3f28a274b"
   },
   "outputs": [
    {
     "name": "stdout",
     "output_type": "stream",
     "text": [
      "13.422080993652344=\n"
     ]
    },
    {
     "ename": "RuntimeError",
     "evalue": "ignored",
     "output_type": "error",
     "traceback": [
      "\u001b[0;31m---------------------------------------------------------------------------\u001b[0m",
      "\u001b[0;31mRuntimeError\u001b[0m                              Traceback (most recent call last)",
      "\u001b[0;32m<ipython-input-58-f214ff64eeee>\u001b[0m in \u001b[0;36m<module>\u001b[0;34m\u001b[0m\n\u001b[1;32m      7\u001b[0m     \u001b[0mprint\u001b[0m\u001b[0;34m(\u001b[0m\u001b[0;34mf'{loss}='\u001b[0m\u001b[0;34m)\u001b[0m\u001b[0;34m\u001b[0m\u001b[0;34m\u001b[0m\u001b[0m\n\u001b[1;32m      8\u001b[0m \u001b[0;34m\u001b[0m\u001b[0m\n\u001b[0;32m----> 9\u001b[0;31m     \u001b[0mloss\u001b[0m\u001b[0;34m.\u001b[0m\u001b[0mbackward\u001b[0m\u001b[0;34m(\u001b[0m\u001b[0;34m)\u001b[0m\u001b[0;34m\u001b[0m\u001b[0;34m\u001b[0m\u001b[0m\n\u001b[0m",
      "\u001b[0;32m/usr/local/lib/python3.7/dist-packages/torch/_tensor.py\u001b[0m in \u001b[0;36mbackward\u001b[0;34m(self, gradient, retain_graph, create_graph, inputs)\u001b[0m\n\u001b[1;32m    394\u001b[0m                 \u001b[0mcreate_graph\u001b[0m\u001b[0;34m=\u001b[0m\u001b[0mcreate_graph\u001b[0m\u001b[0;34m,\u001b[0m\u001b[0;34m\u001b[0m\u001b[0;34m\u001b[0m\u001b[0m\n\u001b[1;32m    395\u001b[0m                 inputs=inputs)\n\u001b[0;32m--> 396\u001b[0;31m         \u001b[0mtorch\u001b[0m\u001b[0;34m.\u001b[0m\u001b[0mautograd\u001b[0m\u001b[0;34m.\u001b[0m\u001b[0mbackward\u001b[0m\u001b[0;34m(\u001b[0m\u001b[0mself\u001b[0m\u001b[0;34m,\u001b[0m \u001b[0mgradient\u001b[0m\u001b[0;34m,\u001b[0m \u001b[0mretain_graph\u001b[0m\u001b[0;34m,\u001b[0m \u001b[0mcreate_graph\u001b[0m\u001b[0;34m,\u001b[0m \u001b[0minputs\u001b[0m\u001b[0;34m=\u001b[0m\u001b[0minputs\u001b[0m\u001b[0;34m)\u001b[0m\u001b[0;34m\u001b[0m\u001b[0;34m\u001b[0m\u001b[0m\n\u001b[0m\u001b[1;32m    397\u001b[0m \u001b[0;34m\u001b[0m\u001b[0m\n\u001b[1;32m    398\u001b[0m     \u001b[0;32mdef\u001b[0m \u001b[0mregister_hook\u001b[0m\u001b[0;34m(\u001b[0m\u001b[0mself\u001b[0m\u001b[0;34m,\u001b[0m \u001b[0mhook\u001b[0m\u001b[0;34m)\u001b[0m\u001b[0;34m:\u001b[0m\u001b[0;34m\u001b[0m\u001b[0;34m\u001b[0m\u001b[0m\n",
      "\u001b[0;32m/usr/local/lib/python3.7/dist-packages/torch/autograd/__init__.py\u001b[0m in \u001b[0;36mbackward\u001b[0;34m(tensors, grad_tensors, retain_graph, create_graph, grad_variables, inputs)\u001b[0m\n\u001b[1;32m    173\u001b[0m     Variable._execution_engine.run_backward(  # Calls into the C++ engine to run the backward pass\n\u001b[1;32m    174\u001b[0m         \u001b[0mtensors\u001b[0m\u001b[0;34m,\u001b[0m \u001b[0mgrad_tensors_\u001b[0m\u001b[0;34m,\u001b[0m \u001b[0mretain_graph\u001b[0m\u001b[0;34m,\u001b[0m \u001b[0mcreate_graph\u001b[0m\u001b[0;34m,\u001b[0m \u001b[0minputs\u001b[0m\u001b[0;34m,\u001b[0m\u001b[0;34m\u001b[0m\u001b[0;34m\u001b[0m\u001b[0m\n\u001b[0;32m--> 175\u001b[0;31m         allow_unreachable=True, accumulate_grad=True)  # Calls into the C++ engine to run the backward pass\n\u001b[0m\u001b[1;32m    176\u001b[0m \u001b[0;34m\u001b[0m\u001b[0m\n\u001b[1;32m    177\u001b[0m def grad(\n",
      "\u001b[0;31mRuntimeError\u001b[0m: element 0 of tensors does not require grad and does not have a grad_fn"
     ]
    }
   ],
   "source": [
    "with torch.inference_mode():\n",
    "    a = torch.rand(3, 5, requires_grad=True)\n",
    "    b = torch.rand(3, 5, requires_grad=True)\n",
    "    \n",
    "    loss = torch.sum(a + b)\n",
    "    \n",
    "    print(f'{loss}=')\n",
    "    \n",
    "    loss.backward()"
   ]
  },
  {
   "cell_type": "code",
   "execution_count": null,
   "metadata": {
    "colab": {
     "base_uri": "https://localhost:8080/"
    },
    "id": "L7HNnD-MZZyv",
    "outputId": "b12ef52b-a595-4591-9456-b044ab0d45b0"
   },
   "outputs": [
    {
     "name": "stdout",
     "output_type": "stream",
     "text": [
      "<AddBackward0 object at 0x7fe769974410> True\n"
     ]
    }
   ],
   "source": [
    "with torch.no_grad():\n",
    "    x = torch.randn(1)\n",
    "    y = x + 1\n",
    "\n",
    "y.requires_grad = True\n",
    "z = y + 1\n",
    "print(z.grad_fn, z.requires_grad)"
   ]
  },
  {
   "cell_type": "code",
   "execution_count": null,
   "metadata": {
    "colab": {
     "base_uri": "https://localhost:8080/",
     "height": 214
    },
    "id": "sjv8UhTfZcgh",
    "outputId": "f19a05bd-a976-4920-aed0-f71cbcfda531"
   },
   "outputs": [
    {
     "ename": "RuntimeError",
     "evalue": "ignored",
     "output_type": "error",
     "traceback": [
      "\u001b[0;31m---------------------------------------------------------------------------\u001b[0m",
      "\u001b[0;31mRuntimeError\u001b[0m                              Traceback (most recent call last)",
      "\u001b[0;32m<ipython-input-104-28f417584796>\u001b[0m in \u001b[0;36m<module>\u001b[0;34m\u001b[0m\n\u001b[1;32m      3\u001b[0m     \u001b[0my\u001b[0m \u001b[0;34m=\u001b[0m \u001b[0mx\u001b[0m \u001b[0;34m+\u001b[0m \u001b[0;36m1\u001b[0m\u001b[0;34m\u001b[0m\u001b[0;34m\u001b[0m\u001b[0m\n\u001b[1;32m      4\u001b[0m \u001b[0;34m\u001b[0m\u001b[0m\n\u001b[0;32m----> 5\u001b[0;31m \u001b[0my\u001b[0m\u001b[0;34m.\u001b[0m\u001b[0mrequires_grad\u001b[0m \u001b[0;34m=\u001b[0m \u001b[0;32mTrue\u001b[0m\u001b[0;34m\u001b[0m\u001b[0;34m\u001b[0m\u001b[0m\n\u001b[0m",
      "\u001b[0;31mRuntimeError\u001b[0m: Setting requires_grad=True on inference tensor outside InferenceMode is not allowed."
     ]
    }
   ],
   "source": [
    "with torch.inference_mode():\n",
    "    x = torch.randn(1)\n",
    "    y = x + 1\n",
    "\n",
    "y.requires_grad = True"
   ]
  },
  {
   "cell_type": "code",
   "execution_count": null,
   "metadata": {
    "colab": {
     "base_uri": "https://localhost:8080/"
    },
    "id": "wKhkdrpQohxp",
    "outputId": "8758c53a-b1af-431f-a4a5-67331c26adfa"
   },
   "outputs": [
    {
     "data": {
      "text/plain": [
       "tensor(13.4221)"
      ]
     },
     "execution_count": 59,
     "metadata": {},
     "output_type": "execute_result"
    }
   ],
   "source": [
    "loss2 = torch.sum(a + b)\n",
    "\n",
    "loss2"
   ]
  },
  {
   "cell_type": "code",
   "execution_count": null,
   "metadata": {
    "id": "L5RkwRb7ohxq"
   },
   "outputs": [],
   "source": [
    "@torch.no_grad()\n",
    "def foo():\n",
    "    a = torch.rand(3, 5, requires_grad=True)\n",
    "    b = torch.rand(3, 5, requires_grad=True)\n",
    "    \n",
    "    loss = torch.mean(a + b)\n",
    "    \n",
    "    print(f'{loss}')\n",
    "    \n",
    "    return a, b"
   ]
  },
  {
   "cell_type": "code",
   "execution_count": null,
   "metadata": {
    "colab": {
     "base_uri": "https://localhost:8080/"
    },
    "id": "Q7yLGpCAohxq",
    "outputId": "c577c843-c302-4da9-8026-52888893861b"
   },
   "outputs": [
    {
     "name": "stdout",
     "output_type": "stream",
     "text": [
      "1.090566635131836\n"
     ]
    }
   ],
   "source": [
    "a, b = foo()"
   ]
  },
  {
   "cell_type": "code",
   "execution_count": null,
   "metadata": {
    "colab": {
     "base_uri": "https://localhost:8080/"
    },
    "id": "KLhDh0Bkohxq",
    "outputId": "82ca1345-da43-4102-9d6c-e334874b197b"
   },
   "outputs": [
    {
     "data": {
      "text/plain": [
       "tensor(0.0373, grad_fn=<MeanBackward0>)"
      ]
     },
     "execution_count": 65,
     "metadata": {},
     "output_type": "execute_result"
    }
   ],
   "source": [
    "torch.mean(a - b)"
   ]
  },
  {
   "cell_type": "code",
   "execution_count": null,
   "metadata": {
    "id": "c9pdaV-Aohxr"
   },
   "outputs": [],
   "source": [
    "@torch.inference_mode()\n",
    "def foo():\n",
    "    a = torch.rand(3, 5, requires_grad=True)\n",
    "    b = torch.rand(3, 5, requires_grad=True)\n",
    "    \n",
    "    loss = torch.mean(a + b)\n",
    "    \n",
    "    print(f'{loss}')\n",
    "    \n",
    "    return a, b"
   ]
  },
  {
   "cell_type": "code",
   "execution_count": null,
   "metadata": {
    "colab": {
     "base_uri": "https://localhost:8080/"
    },
    "id": "KtdSTtwUohxr",
    "outputId": "8bdc0044-f14d-423a-b77f-bac77e8d7acc"
   },
   "outputs": [
    {
     "name": "stdout",
     "output_type": "stream",
     "text": [
      "1.0319470167160034\n"
     ]
    }
   ],
   "source": [
    "a, b = foo()"
   ]
  },
  {
   "cell_type": "code",
   "execution_count": null,
   "metadata": {
    "colab": {
     "base_uri": "https://localhost:8080/"
    },
    "id": "8v9tbVcGohxr",
    "outputId": "1f773f25-8498-4037-a3c2-11f354ce5e6e"
   },
   "outputs": [
    {
     "data": {
      "text/plain": [
       "tensor(0.1286)"
      ]
     },
     "execution_count": 68,
     "metadata": {},
     "output_type": "execute_result"
    }
   ],
   "source": [
    "torch.mean(a - b)"
   ]
  },
  {
   "cell_type": "code",
   "execution_count": null,
   "metadata": {
    "id": "c0l8JbCFohxs"
   },
   "outputs": [],
   "source": [
    "a.requires_grad = False"
   ]
  },
  {
   "cell_type": "markdown",
   "metadata": {
    "id": "cCt8-2uQohxs",
    "pycharm": {
     "name": "#%% md\n"
    }
   },
   "source": [
    "## Полносвязные слои и функции активации в `PyTorch`"
   ]
  },
  {
   "cell_type": "code",
   "execution_count": 125,
   "metadata": {
    "id": "ZhDarDjAohxs",
    "pycharm": {
     "name": "#%%\n"
    }
   },
   "outputs": [],
   "source": [
    "from torch import nn"
   ]
  },
  {
   "cell_type": "markdown",
   "metadata": {
    "id": "zFa3GJl2ohxs",
    "pycharm": {
     "name": "#%% md\n"
    }
   },
   "source": [
    "### Полносвязный слой\n",
    "\n",
    ">$y_j = \\sum\\limits_{i=1}^{n}x_iw_{ji} + b_j$\n"
   ]
  },
  {
   "cell_type": "code",
   "execution_count": null,
   "metadata": {},
   "outputs": [],
   "source": [
    "[n, 5]\n",
    "\n",
    "[5, 3]"
   ]
  },
  {
   "cell_type": "code",
   "execution_count": 126,
   "metadata": {
    "id": "Bjqp_wB4ohxt",
    "pycharm": {
     "name": "#%%\n"
    }
   },
   "outputs": [],
   "source": [
    "layer = nn.Linear(in_features=5, out_features=3)"
   ]
  },
  {
   "cell_type": "code",
   "execution_count": 127,
   "metadata": {
    "id": "VU4-Qyvlohxt",
    "outputId": "d7b9da94-5fbd-47f9-8a9f-321329a5a25e",
    "pycharm": {
     "name": "#%%\n"
    }
   },
   "outputs": [
    {
     "data": {
      "text/plain": [
       "Linear(in_features=5, out_features=3, bias=True)"
      ]
     },
     "execution_count": 127,
     "metadata": {},
     "output_type": "execute_result"
    }
   ],
   "source": [
    "layer"
   ]
  },
  {
   "cell_type": "code",
   "execution_count": 128,
   "metadata": {
    "colab": {
     "base_uri": "https://localhost:8080/"
    },
    "id": "MC6vZr2mohxt",
    "outputId": "ecbeade1-9aea-4ca0-f5df-6fd6d04e993c"
   },
   "outputs": [
    {
     "data": {
      "text/plain": [
       "Parameter containing:\n",
       "tensor([[-0.1822, -0.2018, -0.2231,  0.1934, -0.3534],\n",
       "        [-0.3526, -0.0336, -0.3731, -0.1703,  0.2988],\n",
       "        [-0.2046, -0.2548,  0.1474, -0.4155, -0.2342]], requires_grad=True)"
      ]
     },
     "execution_count": 128,
     "metadata": {},
     "output_type": "execute_result"
    }
   ],
   "source": [
    "layer.weight"
   ]
  },
  {
   "cell_type": "code",
   "execution_count": 129,
   "metadata": {
    "colab": {
     "base_uri": "https://localhost:8080/"
    },
    "id": "XLenAPVwohxt",
    "outputId": "2fbdd7bc-83d8-4ee1-eb4a-6f2349eeecd1"
   },
   "outputs": [
    {
     "data": {
      "text/plain": [
       "torch.Size([3, 5])"
      ]
     },
     "execution_count": 129,
     "metadata": {},
     "output_type": "execute_result"
    }
   ],
   "source": [
    "layer.weight.shape"
   ]
  },
  {
   "cell_type": "code",
   "execution_count": 130,
   "metadata": {
    "colab": {
     "base_uri": "https://localhost:8080/"
    },
    "id": "af88XeNmohxt",
    "outputId": "b00051d0-d075-4ab7-8766-4b1ee10e0e72"
   },
   "outputs": [
    {
     "data": {
      "text/plain": [
       "Parameter containing:\n",
       "tensor([0.4107, 0.1643, 0.0627], requires_grad=True)"
      ]
     },
     "execution_count": 130,
     "metadata": {},
     "output_type": "execute_result"
    }
   ],
   "source": [
    "layer.bias"
   ]
  },
  {
   "cell_type": "code",
   "execution_count": 133,
   "metadata": {
    "id": "0cSzMY3Cohxu"
   },
   "outputs": [],
   "source": [
    "layer = nn.Linear(in_features=5, out_features=3, bias=False)"
   ]
  },
  {
   "cell_type": "code",
   "execution_count": 134,
   "metadata": {
    "id": "IxUTL_pYohxu"
   },
   "outputs": [],
   "source": [
    "layer.bias"
   ]
  },
  {
   "cell_type": "code",
   "execution_count": null,
   "metadata": {
    "colab": {
     "base_uri": "https://localhost:8080/"
    },
    "id": "JK71Y6AIohxu",
    "outputId": "342bcfac-62b9-44d7-88f5-bf89b0365910"
   },
   "outputs": [
    {
     "data": {
      "text/plain": [
       "<bound method Module._call_impl of Linear(in_features=5, out_features=3, bias=False)>"
      ]
     },
     "execution_count": 78,
     "metadata": {},
     "output_type": "execute_result"
    }
   ],
   "source": [
    "layer.__call__"
   ]
  },
  {
   "cell_type": "code",
   "execution_count": 135,
   "metadata": {
    "colab": {
     "base_uri": "https://localhost:8080/"
    },
    "id": "geY6vd67ohxu",
    "outputId": "5c363b33-5632-411c-9642-396a2eb3c9d4",
    "pycharm": {
     "name": "#%%\n"
    }
   },
   "outputs": [
    {
     "name": "stdout",
     "output_type": "stream",
     "text": [
      "tensor([-0.1746, -0.1043, -0.0273], grad_fn=<SqueezeBackward3>)\n"
     ]
    }
   ],
   "source": [
    "x = torch.randn(5)\n",
    "\n",
    "print(layer(x))"
   ]
  },
  {
   "cell_type": "code",
   "execution_count": 137,
   "metadata": {},
   "outputs": [
    {
     "data": {
      "text/plain": [
       "tensor([[ 1.3821, -0.1964, -1.2123, -0.3602,  0.8236],\n",
       "        [ 1.3821, -0.1964, -1.2123, -0.3602,  0.8236],\n",
       "        [ 1.3821, -0.1964, -1.2123, -0.3602,  0.8236]])"
      ]
     },
     "execution_count": 137,
     "metadata": {},
     "output_type": "execute_result"
    }
   ],
   "source": [
    "layer(x).sum().backward()\n",
    "layer.weight.grad"
   ]
  },
  {
   "cell_type": "markdown",
   "metadata": {
    "id": "H3GrUrbrohxu",
    "pycharm": {
     "name": "#%% md\n"
    }
   },
   "source": [
    "### Функции активации"
   ]
  },
  {
   "cell_type": "markdown",
   "metadata": {
    "id": "3ezdQk0_ohxu",
    "pycharm": {
     "name": "#%% md\n"
    }
   },
   "source": [
    "> Сигмоида $f(x) = \\dfrac{1}{1 + e^{-x}}$"
   ]
  },
  {
   "cell_type": "code",
   "execution_count": null,
   "metadata": {
    "id": "K7tuFQ1sohxv",
    "pycharm": {
     "name": "#%%\n"
    }
   },
   "outputs": [],
   "source": [
    "activation = nn.Sigmoid()"
   ]
  },
  {
   "cell_type": "code",
   "execution_count": null,
   "metadata": {
    "colab": {
     "base_uri": "https://localhost:8080/"
    },
    "id": "Ilro77uYohxv",
    "outputId": "f322c335-70e8-4f0a-fe35-611f31e12113",
    "pycharm": {
     "name": "#%%\n"
    }
   },
   "outputs": [
    {
     "name": "stdout",
     "output_type": "stream",
     "text": [
      "tensor([ 0.4075,  0.8449,  1.2787,  2.5847, -0.7478])\n",
      "tensor([0.6005, 0.6995, 0.7822, 0.9299, 0.3213])\n"
     ]
    }
   ],
   "source": [
    "x = torch.randn(5)\n",
    "\n",
    "print(x)\n",
    "\n",
    "print(activation(x))"
   ]
  },
  {
   "cell_type": "markdown",
   "metadata": {
    "id": "YMua83bbohxv",
    "pycharm": {
     "name": "#%% md\n"
    }
   },
   "source": [
    "> ReLU $f(x) = \\max(0, x)$"
   ]
  },
  {
   "cell_type": "code",
   "execution_count": null,
   "metadata": {
    "id": "Dvi3A22Dohxv",
    "pycharm": {
     "name": "#%%\n"
    }
   },
   "outputs": [],
   "source": [
    "activation = nn.ReLU()"
   ]
  },
  {
   "cell_type": "code",
   "execution_count": null,
   "metadata": {
    "colab": {
     "base_uri": "https://localhost:8080/"
    },
    "id": "935cJPl6ohxv",
    "outputId": "bd89395c-1eac-4619-f9b1-d083eaeb6cb1",
    "pycharm": {
     "name": "#%%\n"
    }
   },
   "outputs": [
    {
     "name": "stdout",
     "output_type": "stream",
     "text": [
      "tensor([ 0.6207, -0.8071, -0.4997, -0.1487,  0.4741])\n",
      "tensor([0.6207, 0.0000, 0.0000, 0.0000, 0.4741])\n"
     ]
    }
   ],
   "source": [
    "x = torch.randn(5)\n",
    "\n",
    "print(x)\n",
    "\n",
    "print(activation(x))"
   ]
  },
  {
   "cell_type": "markdown",
   "metadata": {
    "id": "cQ8CaMRFohxw",
    "pycharm": {
     "name": "#%% md\n"
    }
   },
   "source": [
    "> Leaky ReLU $f(x) = \\max(0, x) + \\alpha \\min(0, x)$"
   ]
  },
  {
   "cell_type": "code",
   "execution_count": null,
   "metadata": {
    "id": "K3Nx9eUSohxw",
    "pycharm": {
     "name": "#%%\n"
    }
   },
   "outputs": [],
   "source": [
    "activation = nn.LeakyReLU(negative_slope=0.001)"
   ]
  },
  {
   "cell_type": "code",
   "execution_count": null,
   "metadata": {
    "colab": {
     "base_uri": "https://localhost:8080/"
    },
    "id": "DAm7M_Kmohxw",
    "outputId": "fecb5057-ac2d-4ce1-dc42-c15c455b8e1e",
    "pycharm": {
     "name": "#%%\n"
    }
   },
   "outputs": [
    {
     "name": "stdout",
     "output_type": "stream",
     "text": [
      "tensor([-0.3126, -0.0250, -1.3733,  1.0757,  0.1537])\n",
      "tensor([-3.1262e-04, -2.4956e-05, -1.3733e-03,  1.0757e+00,  1.5374e-01])\n"
     ]
    }
   ],
   "source": [
    "x = torch.randn(5)\n",
    "\n",
    "print(x)\n",
    "\n",
    "print(activation(x))"
   ]
  },
  {
   "cell_type": "markdown",
   "metadata": {},
   "source": [
    "### Код из прошлого года, для самостоятельного разбора"
   ]
  },
  {
   "cell_type": "code",
   "execution_count": null,
   "metadata": {
    "colab": {
     "base_uri": "https://localhost:8080/"
    },
    "id": "1hBG7BjMohxg",
    "outputId": "a145724f-3884-4b14-fe18-72d82b17b520"
   },
   "outputs": [
    {
     "name": "stdout",
     "output_type": "stream",
     "text": [
      "None=\n",
      "\n",
      "None=\n",
      "\n",
      "None=\n",
      "\n",
      "None=\n",
      "\n"
     ]
    },
    {
     "name": "stderr",
     "output_type": "stream",
     "text": [
      "/usr/local/lib/python3.7/dist-packages/torch/_tensor.py:1083: UserWarning: The .grad attribute of a Tensor that is not a leaf Tensor is being accessed. Its .grad attribute won't be populated during autograd.backward(). If you indeed want the .grad field to be populated for a non-leaf Tensor, use .retain_grad() on the non-leaf Tensor. If you access the non-leaf Tensor by mistake, make sure you access the leaf Tensor instead. See github.com/pytorch/pytorch/pull/30531 for more informations. (Triggered internally at  aten/src/ATen/core/TensorBody.h:477.)\n",
      "  return self._grad\n"
     ]
    }
   ],
   "source": [
    "print(f'{x.grad}=\\n')\n",
    "print(f'{w.grad}=\\n')\n",
    "print(f'{z.grad}=\\n')\n",
    "print(f'{v.grad}=\\n')"
   ]
  },
  {
   "cell_type": "code",
   "execution_count": null,
   "metadata": {
    "id": "DiudrtNsQ10m"
   },
   "outputs": [],
   "source": []
  },
  {
   "cell_type": "code",
   "execution_count": null,
   "metadata": {
    "id": "uOK3U0gmohxg"
   },
   "outputs": [],
   "source": [
    "loss.backward()"
   ]
  },
  {
   "cell_type": "code",
   "execution_count": null,
   "metadata": {
    "colab": {
     "base_uri": "https://localhost:8080/"
    },
    "id": "O9uhG7TPQMUC",
    "outputId": "130ab149-2f8d-4cfc-85aa-a3cc7083372d"
   },
   "outputs": [
    {
     "data": {
      "text/plain": [
       "(torch.float32, tensor(1.3859, grad_fn=<MeanBackward0>))"
      ]
     },
     "execution_count": 38,
     "metadata": {},
     "output_type": "execute_result"
    }
   ],
   "source": [
    "loss.dtype, loss"
   ]
  },
  {
   "cell_type": "code",
   "execution_count": null,
   "metadata": {
    "colab": {
     "base_uri": "https://localhost:8080/"
    },
    "id": "8zM7Aln4ohxg",
    "outputId": "3da730cb-4df3-4f75-8012-c80e9cb727a9"
   },
   "outputs": [
    {
     "name": "stdout",
     "output_type": "stream",
     "text": [
      "xNone=\n",
      "\n",
      "wtensor([[0.7890, 0.3063, 0.4679, 0.4546, 0.8373],\n",
      "        [1.3126, 0.5095, 0.7784, 0.7563, 1.3931],\n",
      "        [1.4398, 0.5589, 0.8539, 0.8296, 1.5280]])=\n",
      "\n",
      "zNone=\n",
      "\n",
      "vtensor([1.8840, 3.2169, 4.5352])=\n",
      "\n"
     ]
    }
   ],
   "source": [
    "print(f'x{x.grad}=\\n')\n",
    "print(f'w{w.grad}=\\n')\n",
    "print(f'z{z.grad}=\\n')\n",
    "print(f'v{v.grad}=\\n')"
   ]
  },
  {
   "cell_type": "code",
   "execution_count": null,
   "metadata": {
    "colab": {
     "base_uri": "https://localhost:8080/"
    },
    "id": "455fcB1fohxg",
    "outputId": "7e170a82-f59f-490c-d21a-468dd1d9a310"
   },
   "outputs": [
    {
     "data": {
      "text/plain": [
       "(tensor([0.4976], requires_grad=True), tensor([0.1180], requires_grad=True))"
      ]
     },
     "execution_count": 39,
     "metadata": {},
     "output_type": "execute_result"
    }
   ],
   "source": [
    "a = torch.rand(1, requires_grad=True)\n",
    "b = torch.rand(1, requires_grad=True)\n",
    "\n",
    "a, b"
   ]
  },
  {
   "cell_type": "code",
   "execution_count": null,
   "metadata": {
    "id": "32mnxwyVQ7Kz"
   },
   "outputs": [],
   "source": [
    "c = a\n",
    "c = c + b\n",
    "c = c + a"
   ]
  },
  {
   "cell_type": "code",
   "execution_count": null,
   "metadata": {
    "id": "fO4ZhLfYRBCg"
   },
   "outputs": [],
   "source": [
    "c = torch.rand((1, 2, 3))"
   ]
  },
  {
   "cell_type": "code",
   "execution_count": null,
   "metadata": {
    "colab": {
     "base_uri": "https://localhost:8080/"
    },
    "id": "OGRfPsn1ohxh",
    "outputId": "222516a9-e75a-4d7d-c57f-3d24d59848e4"
   },
   "outputs": [
    {
     "data": {
      "text/plain": [
       "tensor([0.3796], grad_fn=<SubBackward0>)"
      ]
     },
     "execution_count": 41,
     "metadata": {},
     "output_type": "execute_result"
    }
   ],
   "source": [
    "loss = (a - b)\n",
    "\n",
    "loss"
   ]
  },
  {
   "cell_type": "code",
   "execution_count": null,
   "metadata": {
    "colab": {
     "base_uri": "https://localhost:8080/"
    },
    "id": "SqcFhBi6ohxh",
    "outputId": "3b54484e-0472-4df6-b74c-c116395f6da3"
   },
   "outputs": [
    {
     "name": "stdout",
     "output_type": "stream",
     "text": [
      "None=\n",
      "\n",
      "None=\n",
      "\n"
     ]
    }
   ],
   "source": [
    "print(f'{a.grad}=\\n')\n",
    "print(f'{b.grad}=\\n')"
   ]
  },
  {
   "cell_type": "code",
   "execution_count": null,
   "metadata": {
    "id": "_xgyZQTLohxh"
   },
   "outputs": [],
   "source": [
    "loss.backward()"
   ]
  },
  {
   "cell_type": "code",
   "execution_count": null,
   "metadata": {
    "colab": {
     "base_uri": "https://localhost:8080/"
    },
    "id": "p95UQk1Wohxh",
    "outputId": "23bb5b60-aee7-4430-f849-b474b478a80b"
   },
   "outputs": [
    {
     "name": "stdout",
     "output_type": "stream",
     "text": [
      "tensor([1.])=\n",
      "\n",
      "tensor([-1.])=\n",
      "\n"
     ]
    }
   ],
   "source": [
    "print(f'{a.grad}=\\n')  # 1\n",
    "print(f'{b.grad}=\\n')  # -1"
   ]
  },
  {
   "cell_type": "code",
   "execution_count": null,
   "metadata": {
    "colab": {
     "base_uri": "https://localhost:8080/"
    },
    "id": "DPKMzogEohxh",
    "outputId": "4aa027bb-a80e-4c7d-cfd0-651affd87b4e"
   },
   "outputs": [
    {
     "data": {
      "text/plain": [
       "tensor([0.])"
      ]
     },
     "execution_count": 45,
     "metadata": {},
     "output_type": "execute_result"
    }
   ],
   "source": [
    "a.grad.zero_()\n",
    "b.grad.zero_()"
   ]
  },
  {
   "cell_type": "code",
   "execution_count": null,
   "metadata": {
    "colab": {
     "base_uri": "https://localhost:8080/"
    },
    "id": "9daN1dBnohxi",
    "outputId": "2b349419-2ca1-459a-fa4d-2a07d5e83bd9",
    "pycharm": {
     "name": "#%%\n"
    }
   },
   "outputs": [
    {
     "data": {
      "text/plain": [
       "tensor([0.1441], grad_fn=<PowBackward0>)"
      ]
     },
     "execution_count": 46,
     "metadata": {},
     "output_type": "execute_result"
    }
   ],
   "source": [
    "loss = (a - b) ** 2\n",
    "\n",
    "loss"
   ]
  },
  {
   "cell_type": "code",
   "execution_count": null,
   "metadata": {
    "id": "Boq4LFtnohxi",
    "outputId": "4c69d5fc-4398-4737-d24f-92f25d3a9da5",
    "pycharm": {
     "name": "#%%\n"
    }
   },
   "outputs": [
    {
     "name": "stdout",
     "output_type": "stream",
     "text": [
      "a.grad=tensor([0.])\n",
      "\n",
      "b.grad=tensor([0.])\n",
      "\n"
     ]
    }
   ],
   "source": [
    "print(f'{a.grad=}\\n')\n",
    "print(f'{b.grad=}\\n')"
   ]
  },
  {
   "cell_type": "code",
   "execution_count": null,
   "metadata": {
    "id": "uf2oDiz7ohxi",
    "pycharm": {
     "name": "#%%\n"
    }
   },
   "outputs": [],
   "source": [
    "loss.backward()"
   ]
  },
  {
   "cell_type": "code",
   "execution_count": null,
   "metadata": {
    "id": "Z8j23Es0ohxi",
    "outputId": "385177ce-05c2-49be-bf1b-a90a0061d62d"
   },
   "outputs": [
    {
     "name": "stdout",
     "output_type": "stream",
     "text": [
      "a.grad=tensor([0.2736])\n",
      "\n",
      "b.grad=tensor([-0.2736])\n",
      "\n"
     ]
    }
   ],
   "source": [
    "print(f'{a.grad=}\\n')  # 2 * (a - b)\n",
    "print(f'{b.grad=}\\n')  # -2 * (a - b)"
   ]
  },
  {
   "cell_type": "code",
   "execution_count": null,
   "metadata": {
    "id": "RI_-RuO9ohxi",
    "outputId": "f07cd5eb-93da-439d-d09c-b6424d433489"
   },
   "outputs": [
    {
     "data": {
      "text/plain": [
       "tensor([0.2736], grad_fn=<MulBackward0>)"
      ]
     },
     "execution_count": 87,
     "metadata": {},
     "output_type": "execute_result"
    }
   ],
   "source": [
    "2 * (a - b)"
   ]
  },
  {
   "cell_type": "code",
   "execution_count": null,
   "metadata": {
    "id": "sapJ47vIohxj",
    "outputId": "3a9c6af8-d1d7-4675-b391-146645726d15"
   },
   "outputs": [
    {
     "data": {
      "text/plain": [
       "(tensor([[0.3279, 0.5942, 0.6495, 0.8076, 0.6961],\n",
       "         [0.7243, 0.3865, 0.4297, 0.0069, 0.3211],\n",
       "         [0.9084, 0.0009, 0.5393, 0.4543, 0.1057]], requires_grad=True),\n",
       " tensor([[0.3158, 0.7038, 0.3901, 0.7456, 0.8604],\n",
       "         [0.4813, 0.8476, 0.9554, 0.9591, 0.9958],\n",
       "         [0.5856, 0.4295, 0.9476, 0.6895, 0.3585]], requires_grad=True))"
      ]
     },
     "execution_count": 88,
     "metadata": {},
     "output_type": "execute_result"
    }
   ],
   "source": [
    "a = torch.rand(3, 5, requires_grad=True)\n",
    "b = torch.rand(3, 5, requires_grad=True)\n",
    "\n",
    "a, b"
   ]
  },
  {
   "cell_type": "code",
   "execution_count": null,
   "metadata": {
    "id": "DYEQCbpWohxj",
    "outputId": "4ffbf127-e6bd-46bd-baf6-4846ab3e74f0"
   },
   "outputs": [
    {
     "data": {
      "text/plain": [
       "tensor(0.3189, grad_fn=<MeanBackward0>)"
      ]
     },
     "execution_count": 89,
     "metadata": {},
     "output_type": "execute_result"
    }
   ],
   "source": [
    "loss = torch.mean(a * b)\n",
    "\n",
    "loss"
   ]
  },
  {
   "cell_type": "code",
   "execution_count": null,
   "metadata": {
    "id": "kaBBlfrMohxj",
    "outputId": "4f64feb6-f623-42da-ccc2-b47e6bbbe317"
   },
   "outputs": [
    {
     "name": "stdout",
     "output_type": "stream",
     "text": [
      "a.grad=None\n",
      "\n",
      "b.grad=None\n",
      "\n"
     ]
    }
   ],
   "source": [
    "print(f'{a.grad=}\\n')\n",
    "print(f'{b.grad=}\\n')"
   ]
  },
  {
   "cell_type": "code",
   "execution_count": null,
   "metadata": {
    "id": "FXHtFht1ohxk"
   },
   "outputs": [],
   "source": [
    "loss.backward()"
   ]
  },
  {
   "cell_type": "code",
   "execution_count": null,
   "metadata": {
    "id": "KoZSFHa1ohxk",
    "outputId": "752d7f20-de06-4137-e75e-b62460dfd31f"
   },
   "outputs": [
    {
     "name": "stdout",
     "output_type": "stream",
     "text": [
      "a.grad=tensor([[0.0211, 0.0469, 0.0260, 0.0497, 0.0574],\n",
      "        [0.0321, 0.0565, 0.0637, 0.0639, 0.0664],\n",
      "        [0.0390, 0.0286, 0.0632, 0.0460, 0.0239]])\n",
      "\n",
      "b.grad=tensor([[2.1862e-02, 3.9616e-02, 4.3297e-02, 5.3840e-02, 4.6404e-02],\n",
      "        [4.8289e-02, 2.5765e-02, 2.8644e-02, 4.6089e-04, 2.1404e-02],\n",
      "        [6.0560e-02, 6.2525e-05, 3.5952e-02, 3.0284e-02, 7.0479e-03]])\n",
      "\n"
     ]
    }
   ],
   "source": [
    "print(f'{a.grad=}\\n')  # b / (3 * 5)\n",
    "print(f'{b.grad=}\\n')  # a / (3 * 5)"
   ]
  },
  {
   "cell_type": "code",
   "execution_count": null,
   "metadata": {
    "id": "ZdnOa2-Pohxk",
    "outputId": "51187565-e45e-4617-e590-fe501738f97b"
   },
   "outputs": [
    {
     "data": {
      "text/plain": [
       "tensor([[2.1862e-02, 3.9616e-02, 4.3297e-02, 5.3840e-02, 4.6404e-02],\n",
       "        [4.8289e-02, 2.5765e-02, 2.8644e-02, 4.6089e-04, 2.1404e-02],\n",
       "        [6.0560e-02, 6.2525e-05, 3.5952e-02, 3.0284e-02, 7.0479e-03]],\n",
       "       grad_fn=<DivBackward0>)"
      ]
     },
     "execution_count": 93,
     "metadata": {},
     "output_type": "execute_result"
    }
   ],
   "source": [
    "a / 15"
   ]
  },
  {
   "cell_type": "code",
   "execution_count": null,
   "metadata": {
    "id": "rl5MjASxohxk",
    "outputId": "da0375a2-4487-475b-fc79-b0844cae1bb5"
   },
   "outputs": [
    {
     "data": {
      "text/plain": [
       "tensor([[0.0211, 0.0469, 0.0260, 0.0497, 0.0574],\n",
       "        [0.0321, 0.0565, 0.0637, 0.0639, 0.0664],\n",
       "        [0.0390, 0.0286, 0.0632, 0.0460, 0.0239]], grad_fn=<DivBackward0>)"
      ]
     },
     "execution_count": 94,
     "metadata": {},
     "output_type": "execute_result"
    }
   ],
   "source": [
    "b / 15"
   ]
  },
  {
   "cell_type": "code",
   "execution_count": null,
   "metadata": {
    "id": "rik_GoG8ohxl",
    "outputId": "44063f72-9bf1-4308-f4bd-2fd49f9afb41",
    "pycharm": {
     "name": "#%%\n"
    }
   },
   "outputs": [
    {
     "name": "stdout",
     "output_type": "stream",
     "text": [
      "a=tensor([[0.9249, 0.5178, 0.4018, 0.5241, 0.2307],\n",
      "        [0.4165, 0.5878, 0.6177, 0.4664, 0.3297],\n",
      "        [0.2164, 0.3102, 0.1307, 0.8902, 0.9583]], requires_grad=True)\n",
      "\n",
      "a.grad=None\n",
      "\n",
      "a.grad=tensor([[1.8499, 1.0356, 0.8036, 1.0483, 0.4613],\n",
      "        [0.8329, 1.1757, 1.2353, 0.9329, 0.6594],\n",
      "        [0.4329, 0.6204, 0.2613, 1.7805, 1.9166]])\n",
      "\n",
      "a.grad=tensor([[2.8499, 2.0356, 1.8036, 2.0483, 1.4613],\n",
      "        [1.8329, 2.1757, 2.2353, 1.9329, 1.6594],\n",
      "        [1.4329, 1.6204, 1.2613, 2.7805, 2.9166]])\n",
      "\n"
     ]
    }
   ],
   "source": [
    "a = torch.rand(3, 5, requires_grad=True)\n",
    "\n",
    "print(f'{a=}\\n')\n",
    "\n",
    "loss1 = torch.sum(a ** 2) # 2a\n",
    "loss2 = torch.sum(a) # 1\n",
    "\n",
    "print(f'{a.grad=}\\n')\n",
    "\n",
    "loss1.backward()\n",
    "\n",
    "print(f'{a.grad=}\\n')\n",
    "\n",
    "loss2.backward()\n",
    "\n",
    "print(f'{a.grad=}\\n')"
   ]
  },
  {
   "cell_type": "code",
   "execution_count": null,
   "metadata": {
    "id": "jJJnltz9ohxl",
    "outputId": "a857b368-9175-42ef-f885-514981543de3"
   },
   "outputs": [
    {
     "name": "stdout",
     "output_type": "stream",
     "text": [
      "2*a=tensor([[1.8499, 1.0356, 0.8036, 1.0483, 0.4613],\n",
      "        [0.8329, 1.1757, 1.2353, 0.9329, 0.6594],\n",
      "        [0.4329, 0.6204, 0.2613, 1.7805, 1.9166]], grad_fn=<MulBackward0>)\n",
      "\n",
      "2*a+1=tensor([[2.8499, 2.0356, 1.8036, 2.0483, 1.4613],\n",
      "        [1.8329, 2.1757, 2.2353, 1.9329, 1.6594],\n",
      "        [1.4329, 1.6204, 1.2613, 2.7805, 2.9166]], grad_fn=<AddBackward0>)\n"
     ]
    }
   ],
   "source": [
    "print(f'{2*a=}\\n')\n",
    "print(f'{2*a+1=}')"
   ]
  },
  {
   "cell_type": "code",
   "execution_count": null,
   "metadata": {
    "id": "bTHo21I3ohxl",
    "outputId": "5da97790-8408-4f60-8fe9-795274d01a79"
   },
   "outputs": [
    {
     "data": {
      "text/plain": [
       "(tensor([[0.9585, 0.8137, 0.7837, 0.3117, 0.5308],\n",
       "         [0.5991, 0.7310, 0.9645, 0.7374, 0.7492],\n",
       "         [0.5522, 0.8426, 0.0137, 0.8135, 0.0080]], requires_grad=True),\n",
       " tensor([[0.0779, 0.3624, 0.0938, 0.1770, 0.2233],\n",
       "         [0.3437, 0.3984, 0.9332, 0.7502, 0.0515],\n",
       "         [0.3722, 0.6910, 0.0804, 0.5425, 0.1549]]))"
      ]
     },
     "execution_count": 97,
     "metadata": {},
     "output_type": "execute_result"
    }
   ],
   "source": [
    "a = torch.rand(3, 5, requires_grad=True)\n",
    "b = torch.rand(3, 5, requires_grad=False)\n",
    "\n",
    "a, b"
   ]
  },
  {
   "cell_type": "code",
   "execution_count": null,
   "metadata": {
    "id": "xJwIfKProhxl",
    "outputId": "5bd036a0-1e38-4af8-f593-a5e5a2fde2c4"
   },
   "outputs": [
    {
     "data": {
      "text/plain": [
       "tensor(4.1571, grad_fn=<SumBackward0>)"
      ]
     },
     "execution_count": 98,
     "metadata": {},
     "output_type": "execute_result"
    }
   ],
   "source": [
    "loss = torch.sum(a - b)\n",
    "\n",
    "loss"
   ]
  },
  {
   "cell_type": "code",
   "execution_count": null,
   "metadata": {
    "id": "ltJzr__8ohxm",
    "outputId": "8352cdfe-7844-41cd-9942-254b6004460a"
   },
   "outputs": [
    {
     "name": "stdout",
     "output_type": "stream",
     "text": [
      "a.grad=None\n",
      "\n",
      "b.grad=None\n",
      "\n"
     ]
    }
   ],
   "source": [
    "print(f'{a.grad=}\\n')\n",
    "print(f'{b.grad=}\\n')"
   ]
  },
  {
   "cell_type": "code",
   "execution_count": null,
   "metadata": {
    "id": "PJg3yiJBohxm"
   },
   "outputs": [],
   "source": [
    "loss.backward()"
   ]
  },
  {
   "cell_type": "code",
   "execution_count": null,
   "metadata": {
    "id": "oCEyVrtCohxm",
    "outputId": "bccf9d60-0253-464b-e174-6f04f03165c9"
   },
   "outputs": [
    {
     "name": "stdout",
     "output_type": "stream",
     "text": [
      "a.grad=tensor([[1., 1., 1., 1., 1.],\n",
      "        [1., 1., 1., 1., 1.],\n",
      "        [1., 1., 1., 1., 1.]])\n",
      "\n",
      "b.grad=None\n",
      "\n"
     ]
    }
   ],
   "source": [
    "print(f'{a.grad=}\\n')  # all ones\n",
    "print(f'{b.grad=}\\n')  # None"
   ]
  },
  {
   "cell_type": "code",
   "execution_count": null,
   "metadata": {
    "id": "RWZb065Iohxm",
    "outputId": "f4f38819-85b2-4d44-b4d7-6baa714408fd"
   },
   "outputs": [
    {
     "data": {
      "text/plain": [
       "(tensor([[0.4873, 0.0094, 0.3410, 0.6388, 0.3698],\n",
       "         [0.3318, 0.3989, 0.4540, 0.8396, 0.7872],\n",
       "         [0.2356, 0.5495, 0.3216, 0.0462, 0.1471]], requires_grad=True),\n",
       " tensor([[0.9219, 0.8603, 0.0196, 0.7148, 0.3156],\n",
       "         [0.4160, 0.4039, 0.9161, 0.9858, 0.4589],\n",
       "         [0.9566, 0.1626, 0.5449, 0.9074, 0.7661]], requires_grad=True))"
      ]
     },
     "execution_count": 102,
     "metadata": {},
     "output_type": "execute_result"
    }
   ],
   "source": [
    "a = torch.rand(3, 5, requires_grad=True)\n",
    "b = torch.rand(3, 5, requires_grad=True)\n",
    "\n",
    "a, b"
   ]
  },
  {
   "cell_type": "markdown",
   "metadata": {
    "id": "_Q6wcu-Zohxw",
    "pycharm": {
     "name": "#%% md\n"
    }
   },
   "source": [
    "## Градиентный спуск своими руками"
   ]
  },
  {
   "cell_type": "code",
   "execution_count": null,
   "metadata": {
    "id": "LHpcIxO7ohxw",
    "pycharm": {
     "name": "#%%\n"
    }
   },
   "outputs": [],
   "source": [
    "n_features = 2\n",
    "n_objects = 300\n",
    "\n",
    "torch.manual_seed(0)\n",
    "\n",
    "w_true = torch.randn(n_features)\n",
    "b_true = torch.randn(1)\n",
    "\n",
    "x = (torch.rand(n_objects, n_features) - 0.5) * 10 * (torch.arange(n_features) * 2 + 1)\n",
    "y = torch.matmul(x, w_true) + torch.randn(n_objects) + b_true"
   ]
  },
  {
   "cell_type": "code",
   "execution_count": null,
   "metadata": {
    "colab": {
     "base_uri": "https://localhost:8080/"
    },
    "id": "DytIAJr_U_34",
    "outputId": "b4a761f0-7217-4f5d-8005-112088f5deb5"
   },
   "outputs": [
    {
     "data": {
      "text/plain": [
       "(torch.Size([300, 2]), torch.Size([300]), torch.Size([2]), torch.Size([1]))"
      ]
     },
     "execution_count": 87,
     "metadata": {},
     "output_type": "execute_result"
    }
   ],
   "source": [
    "x.shape, y.shape, w_true.shape, b_true.shape"
   ]
  },
  {
   "cell_type": "code",
   "execution_count": null,
   "metadata": {
    "id": "17PbQyqPohxx",
    "pycharm": {
     "name": "#%%\n"
    }
   },
   "outputs": [],
   "source": [
    "n_steps = 200\n",
    "step_size = 1e-2"
   ]
  },
  {
   "cell_type": "code",
   "execution_count": null,
   "metadata": {
    "colab": {
     "base_uri": "https://localhost:8080/"
    },
    "id": "t1VJ0On3ohxx",
    "outputId": "90f44976-ae30-4eaf-ffcb-48d7dc08b6d2",
    "pycharm": {
     "name": "#%%\n"
    },
    "scrolled": false
   },
   "outputs": [
    {
     "name": "stdout",
     "output_type": "stream",
     "text": [
      "MSE на шаге 1 23.65750\n",
      "MSE на шаге 2 15.53605\n",
      "MSE на шаге 3 12.11575\n",
      "MSE на шаге 4 10.36995\n",
      "MSE на шаге 5 9.30175\n",
      "MSE на шаге 6 8.55659\n",
      "MSE на шаге 7 7.99169\n",
      "MSE на шаге 8 7.53972\n",
      "MSE на шаге 9 7.16377\n",
      "MSE на шаге 10 6.84131\n",
      "MSE на шаге 11 6.55765\n",
      "MSE на шаге 12 6.30292\n",
      "MSE на шаге 13 6.07033\n",
      "MSE на шаге 14 5.85515\n",
      "MSE на шаге 15 5.65409\n",
      "MSE на шаге 16 5.46478\n",
      "MSE на шаге 17 5.28555\n",
      "MSE на шаге 18 5.11514\n",
      "MSE на шаге 19 4.95265\n",
      "MSE на шаге 20 4.79736\n",
      "MSE на шаге 21 4.64871\n",
      "MSE на шаге 31 3.45555\n",
      "MSE на шаге 41 2.65631\n",
      "MSE на шаге 51 2.11964\n",
      "MSE на шаге 61 1.75925\n",
      "MSE на шаге 71 1.51724\n",
      "MSE на шаге 81 1.35471\n",
      "MSE на шаге 91 1.24558\n",
      "MSE на шаге 101 1.17229\n",
      "MSE на шаге 111 1.12307\n",
      "MSE на шаге 121 1.09002\n",
      "MSE на шаге 131 1.06782\n",
      "MSE на шаге 141 1.05292\n",
      "MSE на шаге 151 1.04291\n",
      "MSE на шаге 161 1.03619\n",
      "MSE на шаге 171 1.03168\n",
      "MSE на шаге 181 1.02864\n",
      "MSE на шаге 191 1.02661\n"
     ]
    }
   ],
   "source": [
    "w = torch.rand(n_features, requires_grad=True)\n",
    "b = torch.rand(1, requires_grad=True)\n",
    "\n",
    "for i in range(n_steps):\n",
    "    y_pred = torch.matmul(x, w) + b\n",
    "    \n",
    "    mse = torch.mean((y_pred - y) ** 2)\n",
    "    \n",
    "    if i < 20 or i % 10 == 0:\n",
    "        print(f'MSE на шаге {i + 1} {mse.item():.5f}')\n",
    "\n",
    "    mse.backward()\n",
    "\n",
    "    with torch.no_grad():\n",
    "        w -= w.grad * step_size\n",
    "        b -= b.grad * step_size\n",
    "\n",
    "    w.grad.zero_()\n",
    "    b.grad.zero_()"
   ]
  },
  {
   "cell_type": "code",
   "execution_count": null,
   "metadata": {
    "colab": {
     "base_uri": "https://localhost:8080/"
    },
    "id": "3ZPwFjdSohxx",
    "outputId": "7e349418-9d90-4d22-8d0e-50754c971d29"
   },
   "outputs": [
    {
     "name": "stdout",
     "output_type": "stream",
     "text": [
      "MSE на шаге 1 61.04561\n",
      "MSE на шаге 2 43.79891\n",
      "MSE на шаге 3 37.83810\n",
      "MSE на шаге 4 35.47980\n",
      "MSE на шаге 5 34.33194\n",
      "MSE на шаге 6 33.63191\n",
      "MSE на шаге 7 33.12450\n",
      "MSE на шаге 8 32.71631\n",
      "MSE на шаге 9 32.36813\n",
      "MSE на шаге 10 32.06060\n",
      "MSE на шаге 11 31.78264\n",
      "MSE на шаге 12 31.52728\n",
      "MSE на шаге 13 31.28983\n",
      "MSE на шаге 14 31.06706\n",
      "MSE на шаге 15 30.85670\n",
      "MSE на шаге 16 30.65709\n",
      "MSE на шаге 17 30.46700\n",
      "MSE на шаге 18 30.28552\n",
      "MSE на шаге 19 30.11194\n",
      "MSE на шаге 20 29.94569\n",
      "MSE на шаге 21 29.78632\n",
      "MSE на шаге 31 28.50329\n",
      "MSE на шаге 41 27.64299\n",
      "MSE на шаге 51 27.06530\n",
      "MSE на шаге 61 26.67736\n",
      "MSE на шаге 71 26.41685\n",
      "MSE на шаге 81 26.24191\n",
      "MSE на шаге 91 26.12442\n",
      "MSE на шаге 101 26.04553\n",
      "MSE на шаге 111 25.99255\n",
      "MSE на шаге 121 25.95697\n",
      "MSE на шаге 131 25.93308\n",
      "MSE на шаге 141 25.91704\n",
      "MSE на шаге 151 25.90627\n",
      "MSE на шаге 161 25.89903\n",
      "MSE на шаге 171 25.89417\n",
      "MSE на шаге 181 25.89091\n",
      "MSE на шаге 191 25.88872\n"
     ]
    }
   ],
   "source": [
    "layer = nn.Linear(in_features=n_features, out_features=1)\n",
    "\n",
    "for i in range(n_steps):\n",
    "    y_pred = layer(x)\n",
    "\n",
    "    mse = torch.mean((y_pred - y) ** 2)\n",
    "    \n",
    "    if i < 20 or i % 10 == 0:\n",
    "        print(f'MSE на шаге {i + 1} {mse.item():.5f}')\n",
    "\n",
    "    mse.backward()\n",
    "\n",
    "    with torch.no_grad():\n",
    "        layer.weight -= layer.weight.grad * step_size\n",
    "        layer.bias -= layer.bias.grad * step_size\n",
    "\n",
    "#     layer.weight.grad.zero_()\n",
    "#     layer.bias.grad.zero_()\n",
    "    \n",
    "    layer.zero_grad()"
   ]
  },
  {
   "cell_type": "code",
   "execution_count": null,
   "metadata": {
    "colab": {
     "base_uri": "https://localhost:8080/"
    },
    "id": "HIjqOwKKohxy",
    "outputId": "a9a1f251-e5c6-4118-96de-a03cdd01dfc7"
   },
   "outputs": [
    {
     "data": {
      "text/plain": [
       "tensor([[-2.7148],\n",
       "        [-2.7140],\n",
       "        [-2.7176],\n",
       "        [-2.7166],\n",
       "        [-2.7120],\n",
       "        [-2.7163],\n",
       "        [-2.7139],\n",
       "        [-2.7192],\n",
       "        [-2.7145],\n",
       "        [-2.6967],\n",
       "        [-2.7170],\n",
       "        [-2.7219],\n",
       "        [-2.7158],\n",
       "        [-2.7131],\n",
       "        [-2.7239],\n",
       "        [-2.7108],\n",
       "        [-2.7082],\n",
       "        [-2.7042],\n",
       "        [-2.7162],\n",
       "        [-2.7095],\n",
       "        [-2.7165],\n",
       "        [-2.7121],\n",
       "        [-2.7090],\n",
       "        [-2.7013],\n",
       "        [-2.7051],\n",
       "        [-2.7159],\n",
       "        [-2.7101],\n",
       "        [-2.7203],\n",
       "        [-2.7056],\n",
       "        [-2.7133],\n",
       "        [-2.7121],\n",
       "        [-2.7177],\n",
       "        [-2.7136],\n",
       "        [-2.7090],\n",
       "        [-2.7043],\n",
       "        [-2.7071],\n",
       "        [-2.7277],\n",
       "        [-2.6977],\n",
       "        [-2.7091],\n",
       "        [-2.7108],\n",
       "        [-2.7043],\n",
       "        [-2.7117],\n",
       "        [-2.7072],\n",
       "        [-2.7181],\n",
       "        [-2.7084],\n",
       "        [-2.7164],\n",
       "        [-2.7069],\n",
       "        [-2.7150],\n",
       "        [-2.7219],\n",
       "        [-2.7148],\n",
       "        [-2.7137],\n",
       "        [-2.7203],\n",
       "        [-2.7244],\n",
       "        [-2.6995],\n",
       "        [-2.7150],\n",
       "        [-2.7122],\n",
       "        [-2.7085],\n",
       "        [-2.7203],\n",
       "        [-2.7181],\n",
       "        [-2.7115],\n",
       "        [-2.7103],\n",
       "        [-2.7158],\n",
       "        [-2.7185],\n",
       "        [-2.7041],\n",
       "        [-2.7113],\n",
       "        [-2.7143],\n",
       "        [-2.7066],\n",
       "        [-2.7019],\n",
       "        [-2.7183],\n",
       "        [-2.7051],\n",
       "        [-2.7122],\n",
       "        [-2.7162],\n",
       "        [-2.7179],\n",
       "        [-2.7002],\n",
       "        [-2.7005],\n",
       "        [-2.7116],\n",
       "        [-2.7128],\n",
       "        [-2.7157],\n",
       "        [-2.7138],\n",
       "        [-2.7193],\n",
       "        [-2.7210],\n",
       "        [-2.7004],\n",
       "        [-2.7052],\n",
       "        [-2.7256],\n",
       "        [-2.7104],\n",
       "        [-2.6985],\n",
       "        [-2.7097],\n",
       "        [-2.7066],\n",
       "        [-2.7095],\n",
       "        [-2.7132],\n",
       "        [-2.7242],\n",
       "        [-2.7085],\n",
       "        [-2.7197],\n",
       "        [-2.7158],\n",
       "        [-2.7204],\n",
       "        [-2.7181],\n",
       "        [-2.7160],\n",
       "        [-2.7154],\n",
       "        [-2.7228],\n",
       "        [-2.7214],\n",
       "        [-2.7093],\n",
       "        [-2.7109],\n",
       "        [-2.7093],\n",
       "        [-2.7131],\n",
       "        [-2.7167],\n",
       "        [-2.6984],\n",
       "        [-2.7194],\n",
       "        [-2.7086],\n",
       "        [-2.7244],\n",
       "        [-2.7176],\n",
       "        [-2.7146],\n",
       "        [-2.7175],\n",
       "        [-2.7168],\n",
       "        [-2.7016],\n",
       "        [-2.7028],\n",
       "        [-2.7185],\n",
       "        [-2.7137],\n",
       "        [-2.7155],\n",
       "        [-2.7004],\n",
       "        [-2.6992],\n",
       "        [-2.7109],\n",
       "        [-2.7185],\n",
       "        [-2.7017],\n",
       "        [-2.7158],\n",
       "        [-2.7254],\n",
       "        [-2.7127],\n",
       "        [-2.7219],\n",
       "        [-2.7118],\n",
       "        [-2.7062],\n",
       "        [-2.7170],\n",
       "        [-2.7055],\n",
       "        [-2.7139],\n",
       "        [-2.7233],\n",
       "        [-2.7120],\n",
       "        [-2.6988],\n",
       "        [-2.7152],\n",
       "        [-2.7074],\n",
       "        [-2.7258],\n",
       "        [-2.7160],\n",
       "        [-2.7176],\n",
       "        [-2.7142],\n",
       "        [-2.7207],\n",
       "        [-2.7088],\n",
       "        [-2.7104],\n",
       "        [-2.7001],\n",
       "        [-2.7057],\n",
       "        [-2.7183],\n",
       "        [-2.7190],\n",
       "        [-2.7052],\n",
       "        [-2.7133],\n",
       "        [-2.7072],\n",
       "        [-2.7196],\n",
       "        [-2.7061],\n",
       "        [-2.7126],\n",
       "        [-2.7176],\n",
       "        [-2.7084],\n",
       "        [-2.7121],\n",
       "        [-2.7208],\n",
       "        [-2.7110],\n",
       "        [-2.7070],\n",
       "        [-2.7041],\n",
       "        [-2.7150],\n",
       "        [-2.7061],\n",
       "        [-2.7219],\n",
       "        [-2.7110],\n",
       "        [-2.7083],\n",
       "        [-2.7122],\n",
       "        [-2.7074],\n",
       "        [-2.7243],\n",
       "        [-2.7108],\n",
       "        [-2.7205],\n",
       "        [-2.7209],\n",
       "        [-2.7166],\n",
       "        [-2.7131],\n",
       "        [-2.7189],\n",
       "        [-2.7208],\n",
       "        [-2.7126],\n",
       "        [-2.7257],\n",
       "        [-2.7128],\n",
       "        [-2.6980],\n",
       "        [-2.7181],\n",
       "        [-2.7234],\n",
       "        [-2.7167],\n",
       "        [-2.7183],\n",
       "        [-2.7091],\n",
       "        [-2.7099],\n",
       "        [-2.7013],\n",
       "        [-2.7135],\n",
       "        [-2.7154],\n",
       "        [-2.7109],\n",
       "        [-2.7189],\n",
       "        [-2.7094],\n",
       "        [-2.7142],\n",
       "        [-2.7245],\n",
       "        [-2.7041],\n",
       "        [-2.7232],\n",
       "        [-2.7060],\n",
       "        [-2.7231],\n",
       "        [-2.7029],\n",
       "        [-2.7073],\n",
       "        [-2.7196],\n",
       "        [-2.7170],\n",
       "        [-2.7037],\n",
       "        [-2.7172],\n",
       "        [-2.7137],\n",
       "        [-2.7173],\n",
       "        [-2.7075],\n",
       "        [-2.7148],\n",
       "        [-2.7010],\n",
       "        [-2.7091],\n",
       "        [-2.7189],\n",
       "        [-2.7219],\n",
       "        [-2.7038],\n",
       "        [-2.7166],\n",
       "        [-2.7048],\n",
       "        [-2.7010],\n",
       "        [-2.7156],\n",
       "        [-2.7187],\n",
       "        [-2.7274],\n",
       "        [-2.7182],\n",
       "        [-2.7057],\n",
       "        [-2.7072],\n",
       "        [-2.7052],\n",
       "        [-2.7245],\n",
       "        [-2.7147],\n",
       "        [-2.7185],\n",
       "        [-2.7197],\n",
       "        [-2.7047],\n",
       "        [-2.7124],\n",
       "        [-2.7063],\n",
       "        [-2.7181],\n",
       "        [-2.7142],\n",
       "        [-2.7055],\n",
       "        [-2.7020],\n",
       "        [-2.7241],\n",
       "        [-2.7212],\n",
       "        [-2.7161],\n",
       "        [-2.7241],\n",
       "        [-2.7183],\n",
       "        [-2.7094],\n",
       "        [-2.7098],\n",
       "        [-2.7153],\n",
       "        [-2.7024],\n",
       "        [-2.7028],\n",
       "        [-2.7172],\n",
       "        [-2.7091],\n",
       "        [-2.7264],\n",
       "        [-2.7109],\n",
       "        [-2.6998],\n",
       "        [-2.7116],\n",
       "        [-2.7174],\n",
       "        [-2.7192],\n",
       "        [-2.7125],\n",
       "        [-2.7119],\n",
       "        [-2.7178],\n",
       "        [-2.7055],\n",
       "        [-2.7074],\n",
       "        [-2.7037],\n",
       "        [-2.7148],\n",
       "        [-2.7009],\n",
       "        [-2.7090],\n",
       "        [-2.7083],\n",
       "        [-2.7146],\n",
       "        [-2.7199],\n",
       "        [-2.7104],\n",
       "        [-2.7171],\n",
       "        [-2.7190],\n",
       "        [-2.7113],\n",
       "        [-2.7162],\n",
       "        [-2.7194],\n",
       "        [-2.7225],\n",
       "        [-2.7156],\n",
       "        [-2.6978],\n",
       "        [-2.7096],\n",
       "        [-2.7128],\n",
       "        [-2.7059],\n",
       "        [-2.7183],\n",
       "        [-2.7190],\n",
       "        [-2.7251],\n",
       "        [-2.7133],\n",
       "        [-2.7074],\n",
       "        [-2.7072],\n",
       "        [-2.7109],\n",
       "        [-2.7184],\n",
       "        [-2.7095],\n",
       "        [-2.7144],\n",
       "        [-2.7096],\n",
       "        [-2.7232],\n",
       "        [-2.7096],\n",
       "        [-2.7126],\n",
       "        [-2.7091],\n",
       "        [-2.7078],\n",
       "        [-2.7277],\n",
       "        [-2.7105],\n",
       "        [-2.7272],\n",
       "        [-2.7084],\n",
       "        [-2.7183],\n",
       "        [-2.7255],\n",
       "        [-2.7136],\n",
       "        [-2.7037]], grad_fn=<AddmmBackward0>)"
      ]
     },
     "execution_count": 92,
     "metadata": {},
     "output_type": "execute_result"
    }
   ],
   "source": [
    "layer(x)"
   ]
  },
  {
   "cell_type": "code",
   "execution_count": null,
   "metadata": {
    "colab": {
     "base_uri": "https://localhost:8080/"
    },
    "id": "gwp1CJXyohxy",
    "outputId": "73125861-9821-4623-969c-6e4fc2869ea7"
   },
   "outputs": [
    {
     "data": {
      "text/plain": [
       "torch.Size([300, 1])"
      ]
     },
     "execution_count": 93,
     "metadata": {},
     "output_type": "execute_result"
    }
   ],
   "source": [
    "layer(x).shape"
   ]
  },
  {
   "cell_type": "code",
   "execution_count": null,
   "metadata": {
    "colab": {
     "base_uri": "https://localhost:8080/"
    },
    "id": "3LzhJUfDohxy",
    "outputId": "1340d68e-7a68-4f19-ec1d-f937c6472b67"
   },
   "outputs": [
    {
     "data": {
      "text/plain": [
       "torch.Size([300])"
      ]
     },
     "execution_count": 94,
     "metadata": {},
     "output_type": "execute_result"
    }
   ],
   "source": [
    "y.shape"
   ]
  },
  {
   "cell_type": "code",
   "execution_count": null,
   "metadata": {
    "colab": {
     "base_uri": "https://localhost:8080/"
    },
    "id": "5CtyUXubohxy",
    "outputId": "2564687d-6aa1-4f6f-8d8d-432137e3adef"
   },
   "outputs": [
    {
     "data": {
      "text/plain": [
       "torch.Size([300, 300])"
      ]
     },
     "execution_count": 96,
     "metadata": {},
     "output_type": "execute_result"
    }
   ],
   "source": [
    "(layer(x) - y).shape"
   ]
  },
  {
   "cell_type": "code",
   "execution_count": null,
   "metadata": {
    "colab": {
     "base_uri": "https://localhost:8080/"
    },
    "id": "0MuG_jSCohxz",
    "outputId": "e2f4f4a5-e611-4d5a-c825-56ee298f3650"
   },
   "outputs": [
    {
     "data": {
      "text/plain": [
       "torch.Size([300])"
      ]
     },
     "execution_count": 97,
     "metadata": {},
     "output_type": "execute_result"
    }
   ],
   "source": [
    "(layer(x).ravel() - y).shape"
   ]
  },
  {
   "cell_type": "code",
   "execution_count": null,
   "metadata": {
    "id": "gU2hy971ohxz",
    "outputId": "3c6bf53c-108c-48af-8686-25e72b81454c",
    "scrolled": false
   },
   "outputs": [
    {
     "name": "stdout",
     "output_type": "stream",
     "text": [
      "MSE на шаге 1 82.40031\n",
      "MSE на шаге 2 34.83059\n",
      "MSE на шаге 3 18.67639\n",
      "MSE на шаге 4 12.57786\n",
      "MSE на шаге 5 9.87140\n",
      "MSE на шаге 6 8.42349\n",
      "MSE на шаге 7 7.51441\n",
      "MSE на шаге 8 6.87739\n",
      "MSE на шаге 9 6.39865\n",
      "MSE на шаге 10 6.02125\n",
      "MSE на шаге 11 5.71254\n",
      "MSE на шаге 12 5.45201\n",
      "MSE на шаге 13 5.22616\n",
      "MSE на шаге 14 5.02584\n",
      "MSE на шаге 15 4.84476\n",
      "MSE на шаге 16 4.67857\n",
      "MSE на шаге 17 4.52421\n",
      "MSE на шаге 18 4.37955\n",
      "MSE на шаге 19 4.24304\n",
      "MSE на шаге 20 4.11358\n",
      "MSE на шаге 21 3.99035\n",
      "MSE на шаге 31 3.01138\n",
      "MSE на шаге 41 2.35799\n",
      "MSE на шаге 51 1.91931\n",
      "MSE на шаге 61 1.62472\n",
      "MSE на шаге 71 1.42689\n",
      "MSE на шаге 81 1.29405\n",
      "MSE на шаге 91 1.20484\n",
      "MSE на шаге 101 1.14493\n",
      "MSE на шаге 111 1.10470\n",
      "MSE на шаге 121 1.07768\n",
      "MSE на шаге 131 1.05954\n",
      "MSE на шаге 141 1.04736\n",
      "MSE на шаге 151 1.03917\n",
      "MSE на шаге 161 1.03368\n",
      "MSE на шаге 171 1.02999\n",
      "MSE на шаге 181 1.02751\n",
      "MSE на шаге 191 1.02585\n"
     ]
    }
   ],
   "source": [
    "layer = nn.Linear(in_features=n_features, out_features=1)\n",
    "\n",
    "for i in range(n_steps):\n",
    "    y_pred = layer(x).ravel()\n",
    "\n",
    "    mse = torch.mean((y_pred - y) ** 2)\n",
    "    \n",
    "    if i < 20 or i % 10 == 0:\n",
    "        print(f'MSE на шаге {i + 1} {mse.item():.5f}')\n",
    "\n",
    "    mse.backward()\n",
    "\n",
    "    with torch.no_grad():\n",
    "        layer.weight -= layer.weight.grad * step_size\n",
    "        layer.bias -= layer.bias.grad * step_size\n",
    "\n",
    "    layer.zero_grad()"
   ]
  },
  {
   "cell_type": "code",
   "execution_count": null,
   "metadata": {
    "id": "snDUgN6sohxz"
   },
   "outputs": [],
   "source": [
    "n_features = 5\n",
    "n_objects = 300\n",
    "\n",
    "torch.manual_seed(0)\n",
    "\n",
    "w_true = torch.randn(n_features)\n",
    "\n",
    "x = (torch.rand(n_objects, n_features) - 0.5) * 10 * (torch.arange(n_features) * 2 + 1)\n",
    "y = torch.matmul(x, w_true) + torch.randn(n_objects)"
   ]
  },
  {
   "cell_type": "code",
   "execution_count": null,
   "metadata": {
    "id": "xri83e4pohx0"
   },
   "outputs": [],
   "source": [
    "n_steps = 2000\n",
    "step_size = 1e-3"
   ]
  },
  {
   "cell_type": "code",
   "execution_count": null,
   "metadata": {
    "colab": {
     "base_uri": "https://localhost:8080/"
    },
    "id": "cd0Z3brOohx0",
    "outputId": "54892fb6-2f62-4ccb-c977-d927aa7b1d09",
    "scrolled": false
   },
   "outputs": [
    {
     "name": "stdout",
     "output_type": "stream",
     "text": [
      "MSE на шаге 1 1522.64282\n",
      "MSE на шаге 2 345.22867\n",
      "MSE на шаге 3 134.71323\n",
      "MSE на шаге 4 69.14162\n",
      "MSE на шаге 5 45.61798\n",
      "MSE на шаге 6 36.15922\n",
      "MSE на шаге 7 31.74179\n",
      "MSE на шаге 8 29.24493\n",
      "MSE на шаге 9 27.53952\n",
      "MSE на шаге 10 26.19924\n",
      "MSE на шаге 11 25.05364\n",
      "MSE на шаге 12 24.02866\n",
      "MSE на шаге 13 23.08827\n",
      "MSE на шаге 14 22.21260\n",
      "MSE на шаге 15 21.38941\n",
      "MSE на шаге 16 20.61047\n",
      "MSE на шаге 17 19.86992\n",
      "MSE на шаге 18 19.16343\n",
      "MSE на шаге 19 18.48770\n",
      "MSE на шаге 20 17.84015\n",
      "MSE на шаге 51 6.27401\n",
      "MSE на шаге 101 1.74083\n",
      "MSE на шаге 151 1.02593\n",
      "MSE на шаге 201 0.91269\n",
      "MSE на шаге 251 0.89435\n",
      "MSE на шаге 301 0.89104\n",
      "MSE на шаге 351 0.89019\n",
      "MSE на шаге 401 0.88977\n",
      "MSE на шаге 451 0.88948\n",
      "MSE на шаге 501 0.88925\n",
      "MSE на шаге 551 0.88906\n",
      "MSE на шаге 601 0.88890\n",
      "MSE на шаге 651 0.88877\n",
      "MSE на шаге 701 0.88867\n",
      "MSE на шаге 751 0.88858\n",
      "MSE на шаге 801 0.88851\n",
      "MSE на шаге 851 0.88845\n",
      "MSE на шаге 901 0.88840\n",
      "MSE на шаге 951 0.88836\n",
      "MSE на шаге 1001 0.88833\n",
      "MSE на шаге 1051 0.88830\n",
      "MSE на шаге 1101 0.88828\n",
      "MSE на шаге 1151 0.88826\n",
      "MSE на шаге 1201 0.88825\n",
      "MSE на шаге 1251 0.88824\n",
      "MSE на шаге 1301 0.88823\n",
      "MSE на шаге 1351 0.88822\n",
      "MSE на шаге 1401 0.88821\n",
      "MSE на шаге 1451 0.88821\n",
      "MSE на шаге 1501 0.88820\n",
      "MSE на шаге 1551 0.88820\n",
      "MSE на шаге 1601 0.88820\n",
      "MSE на шаге 1651 0.88819\n",
      "MSE на шаге 1701 0.88819\n",
      "MSE на шаге 1751 0.88819\n",
      "MSE на шаге 1801 0.88819\n",
      "MSE на шаге 1851 0.88819\n",
      "MSE на шаге 1901 0.88819\n",
      "MSE на шаге 1951 0.88819\n"
     ]
    }
   ],
   "source": [
    "layer = nn.Linear(in_features=n_features, out_features=1)\n",
    "\n",
    "for i in range(n_steps):\n",
    "    y_pred = layer(x).ravel()\n",
    "\n",
    "    mse = torch.mean((y_pred - y) ** 2)\n",
    "    \n",
    "    if i < 20 or i % 50 == 0:\n",
    "        print(f'MSE на шаге {i + 1} {mse.item():.5f}')\n",
    "\n",
    "    mse.backward()\n",
    "\n",
    "    with torch.no_grad():\n",
    "        layer.weight -= layer.weight.grad * step_size\n",
    "        layer.bias -= layer.bias.grad * step_size\n",
    "\n",
    "    layer.zero_grad()"
   ]
  },
  {
   "cell_type": "code",
   "execution_count": null,
   "metadata": {
    "id": "KJlEk8Umohx0"
   },
   "outputs": [],
   "source": [
    "n_steps = 2000\n",
    "step_size = 5e-4"
   ]
  },
  {
   "cell_type": "code",
   "execution_count": null,
   "metadata": {
    "colab": {
     "base_uri": "https://localhost:8080/"
    },
    "id": "bstFZVEKohx0",
    "outputId": "c4aea595-05d9-41f5-e8b1-69b51b0722c9"
   },
   "outputs": [
    {
     "name": "stdout",
     "output_type": "stream",
     "text": [
      "MSE на шаге 1 2065.53369\n",
      "MSE на шаге 2 1888.85938\n",
      "MSE на шаге 3 1850.07874\n",
      "MSE на шаге 4 1825.02942\n",
      "MSE на шаге 5 1791.48108\n",
      "MSE на шаге 6 1741.56946\n",
      "MSE на шаге 7 1664.26440\n",
      "MSE на шаге 8 1554.74976\n",
      "MSE на шаге 9 1436.31213\n",
      "MSE на шаге 10 1332.71838\n",
      "MSE на шаге 11 1251.31506\n",
      "MSE на шаге 12 1172.20129\n",
      "MSE на шаге 13 1067.16370\n",
      "MSE на шаге 14 917.52533\n",
      "MSE на шаге 15 715.28870\n",
      "MSE на шаге 16 494.19235\n",
      "MSE на шаге 17 321.12256\n",
      "MSE на шаге 18 196.44054\n",
      "MSE на шаге 19 114.49352\n",
      "MSE на шаге 20 68.29835\n",
      "MSE на шаге 51 6.47334\n",
      "MSE на шаге 101 2.82488\n",
      "MSE на шаге 151 1.49911\n",
      "MSE на шаге 201 1.07840\n",
      "MSE на шаге 251 0.96143\n",
      "MSE на шаге 301 0.92727\n",
      "MSE на шаге 351 0.91400\n",
      "MSE на шаге 401 0.90641\n",
      "MSE на шаге 451 0.90219\n",
      "MSE на шаге 501 0.89821\n",
      "MSE на шаге 551 0.89528\n",
      "MSE на шаге 601 0.89345\n",
      "MSE на шаге 651 0.89220\n",
      "MSE на шаге 701 0.89122\n",
      "MSE на шаге 751 0.88999\n",
      "MSE на шаге 801 0.88914\n",
      "MSE на шаге 851 0.88839\n",
      "MSE на шаге 901 0.88770\n",
      "MSE на шаге 951 0.88708\n",
      "MSE на шаге 1001 0.88650\n",
      "MSE на шаге 1051 0.88596\n",
      "MSE на шаге 1101 0.88545\n",
      "MSE на шаге 1151 0.88498\n",
      "MSE на шаге 1201 0.88452\n",
      "MSE на шаге 1251 0.88409\n",
      "MSE на шаге 1301 0.88368\n",
      "MSE на шаге 1351 0.88329\n",
      "MSE на шаге 1401 0.88292\n",
      "MSE на шаге 1451 0.88257\n",
      "MSE на шаге 1501 0.88223\n",
      "MSE на шаге 1551 0.88190\n",
      "MSE на шаге 1601 0.88159\n",
      "MSE на шаге 1651 0.88130\n",
      "MSE на шаге 1701 0.88101\n",
      "MSE на шаге 1751 0.88074\n",
      "MSE на шаге 1801 0.88032\n",
      "MSE на шаге 1851 0.88000\n",
      "MSE на шаге 1901 0.87970\n",
      "MSE на шаге 1951 0.87943\n"
     ]
    }
   ],
   "source": [
    "layer1 = nn.Linear(in_features=n_features, out_features=3)\n",
    "layer2 = nn.Linear(in_features=3, out_features=1)\n",
    "activation = nn.ReLU()\n",
    "\n",
    "\n",
    "for i in range(n_steps):\n",
    "    y_pred = layer2(activation(layer1(x))).ravel()\n",
    "\n",
    "    mse = torch.mean((y_pred - y) ** 2)\n",
    "\n",
    "    if i < 20 or i % 50 == 0:\n",
    "        print(f'MSE на шаге {i + 1} {mse.item():.5f}')\n",
    "\n",
    "    mse.backward()\n",
    "\n",
    "    with torch.no_grad():\n",
    "        layer1.weight -= layer1.weight.grad * step_size\n",
    "        layer1.bias -= layer1.bias.grad * step_size\n",
    "        layer2.weight -= layer2.weight.grad * step_size\n",
    "        layer2.bias -= layer2.bias.grad * step_size\n",
    "x\n",
    "    layer1.zero_grad()\n",
    "    layer2.zero_grad()"
   ]
  },
  {
   "cell_type": "code",
   "execution_count": null,
   "metadata": {
    "id": "HFbdzLYHohx1"
   },
   "outputs": [],
   "source": []
  }
 ],
 "metadata": {
  "accelerator": "GPU",
  "colab": {
   "collapsed_sections": [],
   "provenance": []
  },
  "kernelspec": {
   "display_name": "Python (ml)",
   "language": "python",
   "name": "ml"
  },
  "language_info": {
   "codemirror_mode": {
    "name": "ipython",
    "version": 3
   },
   "file_extension": ".py",
   "mimetype": "text/x-python",
   "name": "python",
   "nbconvert_exporter": "python",
   "pygments_lexer": "ipython3",
   "version": "3.9.15"
  }
 },
 "nbformat": 4,
 "nbformat_minor": 1
}
