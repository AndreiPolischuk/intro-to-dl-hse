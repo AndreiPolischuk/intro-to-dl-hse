{
 "cells": [
  {
   "cell_type": "code",
   "execution_count": 17,
   "id": "0e4f528c",
   "metadata": {
    "cellId": "ljl41lyw6rds2boyq268h"
   },
   "outputs": [
    {
     "name": "stdout",
     "output_type": "stream",
     "text": [
      "Wed Dec 14 21:36:35 2022       \n",
      "+-----------------------------------------------------------------------------+\n",
      "| NVIDIA-SMI 460.91.03    Driver Version: 460.91.03    CUDA Version: 11.2     |\n",
      "|-------------------------------+----------------------+----------------------+\n",
      "| GPU  Name        Persistence-M| Bus-Id        Disp.A | Volatile Uncorr. ECC |\n",
      "| Fan  Temp  Perf  Pwr:Usage/Cap|         Memory-Usage | GPU-Util  Compute M. |\n",
      "|                               |                      |               MIG M. |\n",
      "|===============================+======================+======================|\n",
      "|   0  Tesla V100-PCIE...  Off  | 00000000:8C:00.0 Off |                    0 |\n",
      "| N/A   30C    P0    25W / 250W |      4MiB / 32510MiB |      0%      Default |\n",
      "|                               |                      |                  N/A |\n",
      "+-------------------------------+----------------------+----------------------+\n",
      "                                                                               \n",
      "+-----------------------------------------------------------------------------+\n",
      "| Processes:                                                                  |\n",
      "|  GPU   GI   CI        PID   Type   Process name                  GPU Memory |\n",
      "|        ID   ID                                                   Usage      |\n",
      "|=============================================================================|\n",
      "|  No running processes found                                                 |\n",
      "+-----------------------------------------------------------------------------+\n"
     ]
    }
   ],
   "source": [
    "!nvidia-smi"
   ]
  },
  {
   "cell_type": "markdown",
   "id": "32067855",
   "metadata": {},
   "source": [
    "Решаем задачу рисования кошки по силуэту."
   ]
  },
  {
   "cell_type": "code",
   "execution_count": 8,
   "id": "df9af584",
   "metadata": {
    "scrolled": true
   },
   "outputs": [
    {
     "name": "stdout",
     "output_type": "stream",
     "text": [
      "\u001b[34m\u001b[1mwandb\u001b[0m: Currently logged in as: \u001b[33mxiyori\u001b[0m. Use \u001b[1m`wandb login --relogin`\u001b[0m to force relogin\n",
      "\u001b[34m\u001b[1mwandb\u001b[0m: wandb version 0.16.0 is available!  To upgrade, please run:\n",
      "\u001b[34m\u001b[1mwandb\u001b[0m:  $ pip install wandb --upgrade\n",
      "\u001b[34m\u001b[1mwandb\u001b[0m: Tracking run with wandb version 0.14.0\n",
      "\u001b[34m\u001b[1mwandb\u001b[0m: Run data is saved locally in \u001b[35m\u001b[1m/home/sergej/Python/dl_gan/wandb/run-20231110_194328-hcvv8u9v\u001b[0m\n",
      "\u001b[34m\u001b[1mwandb\u001b[0m: Run \u001b[1m`wandb offline`\u001b[0m to turn off syncing.\n",
      "\u001b[34m\u001b[1mwandb\u001b[0m: Syncing run \u001b[33moxfordcats_super_mae1_edge0_vgg0_genlr0.0002_batch8\u001b[0m\n",
      "\u001b[34m\u001b[1mwandb\u001b[0m: ⭐️ View project at \u001b[34m\u001b[4mhttps://wandb.ai/xiyori/dl_gan_oxford_cats\u001b[0m\n",
      "\u001b[34m\u001b[1mwandb\u001b[0m: 🚀 View run at \u001b[34m\u001b[4mhttps://wandb.ai/xiyori/dl_gan_oxford_cats/runs/hcvv8u9v\u001b[0m\n",
      "/home/sergej/anaconda3/envs/ml/lib/python3.9/site-packages/torchvision/models/_utils.py:208: UserWarning: The parameter 'pretrained' is deprecated since 0.13 and may be removed in the future, please use 'weights' instead.\n",
      "  warnings.warn(\n",
      "/home/sergej/anaconda3/envs/ml/lib/python3.9/site-packages/torchvision/models/_utils.py:223: UserWarning: Arguments other than a weight enum or `None` for 'weights' are deprecated since 0.13 and may be removed in the future. The current behavior is equivalent to passing `weights=AlexNet_Weights.IMAGENET1K_V1`. You can also use `weights=AlexNet_Weights.DEFAULT` to get the most up-to-date weights.\n",
      "  warnings.warn(msg)\n",
      "Train 1/200: 100%|████████████████████████████| 270/270 [00:26<00:00, 10.03it/s]\n",
      "Valid 1/200: 100%|████████████████████████████████| 1/1 [00:01<00:00,  1.86s/it]\n",
      "Train 2/200: 100%|████████████████████████████| 270/270 [00:26<00:00, 10.37it/s]\n",
      "Valid 2/200: 100%|████████████████████████████████| 1/1 [00:01<00:00,  1.88s/it]\n",
      "Train 3/200: 100%|████████████████████████████| 270/270 [00:26<00:00, 10.36it/s]\n",
      "Valid 3/200: 100%|████████████████████████████████| 1/1 [00:01<00:00,  1.85s/it]\n",
      "Train 4/200: 100%|████████████████████████████| 270/270 [00:27<00:00,  9.83it/s]\n",
      "Valid 4/200: 100%|████████████████████████████████| 1/1 [00:01<00:00,  1.95s/it]\n",
      "Train 5/200: 100%|████████████████████████████| 270/270 [00:27<00:00,  9.95it/s]\n",
      "Valid 5/200: 100%|████████████████████████████████| 1/1 [00:01<00:00,  1.92s/it]\n",
      "Train 6/200: 100%|████████████████████████████| 270/270 [00:27<00:00,  9.96it/s]\n",
      "Valid 6/200: 100%|████████████████████████████████| 1/1 [00:01<00:00,  1.96s/it]\n",
      "Train 7/200: 100%|████████████████████████████| 270/270 [00:27<00:00,  9.93it/s]\n",
      "Valid 7/200: 100%|████████████████████████████████| 1/1 [00:01<00:00,  1.90s/it]\n",
      "Train 8/200: 100%|████████████████████████████| 270/270 [00:27<00:00,  9.94it/s]\n",
      "Valid 8/200: 100%|████████████████████████████████| 1/1 [00:01<00:00,  1.94s/it]\n",
      "Train 9/200: 100%|████████████████████████████| 270/270 [00:27<00:00,  9.97it/s]\n",
      "Valid 9/200: 100%|████████████████████████████████| 1/1 [00:01<00:00,  1.92s/it]\n",
      "Train 10/200: 100%|███████████████████████████| 270/270 [00:27<00:00,  9.88it/s]\n",
      "Valid 10/200: 100%|███████████████████████████████| 1/1 [00:01<00:00,  1.90s/it]\n",
      "Train 11/200: 100%|███████████████████████████| 270/270 [00:27<00:00, 10.00it/s]\n",
      "Valid 11/200: 100%|███████████████████████████████| 1/1 [00:01<00:00,  1.92s/it]\n",
      "Train 12/200: 100%|███████████████████████████| 270/270 [00:27<00:00,  9.97it/s]\n",
      "Valid 12/200: 100%|███████████████████████████████| 1/1 [00:01<00:00,  1.96s/it]\n",
      "Train 13/200: 100%|███████████████████████████| 270/270 [00:27<00:00,  9.95it/s]\n",
      "Valid 13/200: 100%|███████████████████████████████| 1/1 [00:01<00:00,  1.89s/it]\n",
      "Train 14/200: 100%|███████████████████████████| 270/270 [00:27<00:00,  9.95it/s]\n",
      "Valid 14/200: 100%|███████████████████████████████| 1/1 [00:01<00:00,  1.91s/it]\n",
      "Train 15/200: 100%|███████████████████████████| 270/270 [00:27<00:00,  9.99it/s]\n",
      "Valid 15/200: 100%|███████████████████████████████| 1/1 [00:01<00:00,  1.91s/it]\n",
      "Train 16/200: 100%|███████████████████████████| 270/270 [00:27<00:00,  9.94it/s]\n",
      "Valid 16/200: 100%|███████████████████████████████| 1/1 [00:01<00:00,  1.91s/it]\n",
      "Train 17/200: 100%|███████████████████████████| 270/270 [00:27<00:00,  9.99it/s]\n",
      "Valid 17/200: 100%|███████████████████████████████| 1/1 [00:01<00:00,  1.91s/it]\n",
      "Train 18/200: 100%|███████████████████████████| 270/270 [00:27<00:00,  9.95it/s]\n",
      "Valid 18/200: 100%|███████████████████████████████| 1/1 [00:01<00:00,  1.94s/it]\n",
      "Train 19/200: 100%|███████████████████████████| 270/270 [00:27<00:00,  9.96it/s]\n",
      "Valid 19/200: 100%|███████████████████████████████| 1/1 [00:01<00:00,  1.93s/it]\n",
      "Train 20/200: 100%|███████████████████████████| 270/270 [00:27<00:00,  9.95it/s]\n",
      "Valid 20/200: 100%|███████████████████████████████| 1/1 [00:01<00:00,  1.90s/it]\n",
      "Train 21/200:  46%|████████████▎              | 123/270 [00:12<00:14, 10.09it/s]^C\n",
      "Train 21/200:  46%|████████████▍              | 124/270 [00:12<00:14,  9.80it/s]\n",
      "Traceback (most recent call last):\n",
      "  File \"/home/sergej/Python/dl_gan/train.py\", line 96, in <module>\n",
      "    reply = train(train_config, train_loader, valid_loader,\n",
      "  File \"/home/sergej/Python/dl_gan/src/loops/train.py\", line 108, in train\n",
      "    for input, target in train_iter:\n",
      "  File \"/home/sergej/anaconda3/envs/ml/lib/python3.9/site-packages/tqdm/std.py\", line 1195, in __iter__\n",
      "    for obj in iterable:\n",
      "  File \"/home/sergej/anaconda3/envs/ml/lib/python3.9/site-packages/torch/utils/data/dataloader.py\", line 628, in __next__\n",
      "    data = self._next_data()\n",
      "  File \"/home/sergej/anaconda3/envs/ml/lib/python3.9/site-packages/torch/utils/data/dataloader.py\", line 671, in _next_data\n",
      "    data = self._dataset_fetcher.fetch(index)  # may raise StopIteration\n",
      "  File \"/home/sergej/anaconda3/envs/ml/lib/python3.9/site-packages/torch/utils/data/_utils/fetch.py\", line 58, in fetch\n",
      "    data = [self.dataset[idx] for idx in possibly_batched_index]\n",
      "  File \"/home/sergej/anaconda3/envs/ml/lib/python3.9/site-packages/torch/utils/data/_utils/fetch.py\", line 58, in <listcomp>\n",
      "    data = [self.dataset[idx] for idx in possibly_batched_index]\n",
      "  File \"/home/sergej/Python/dl_gan/src/dataset/oxford_iiit_cats.py\", line 56, in __getitem__\n",
      "    image = np.array(Image.open(self.images_dir + \"/\" + self.ids[i]).convert('RGB'))\n",
      "  File \"/home/sergej/.local/lib/python3.9/site-packages/PIL/Image.py\", line 937, in convert\n",
      "    self.load()\n",
      "  File \"/home/sergej/.local/lib/python3.9/site-packages/PIL/ImageFile.py\", line 269, in load\n",
      "    n, err_code = decoder.decode(b)\n",
      "KeyboardInterrupt\n",
      "\u001b[34m\u001b[1mwandb\u001b[0m: Waiting for W&B process to finish... \u001b[31m(failed 255).\u001b[0m Press Control-C to abort syncing.\n"
     ]
    }
   ],
   "source": [
    "!python3 train.py -c oxford_iiit_cats_super --progress samples"
   ]
  },
  {
   "cell_type": "markdown",
   "id": "b787177c",
   "metadata": {},
   "source": [
    "<img src=\"pics/image_samples_27000_e94c21c5180a4416ba4a.png\">"
   ]
  },
  {
   "cell_type": "markdown",
   "id": "645c191f",
   "metadata": {},
   "source": [
    "Силуэта не хватает, добавляем контуры"
   ]
  },
  {
   "cell_type": "code",
   "execution_count": 6,
   "id": "d29be374",
   "metadata": {},
   "outputs": [
    {
     "name": "stdout",
     "output_type": "stream",
     "text": [
      "\u001b[34m\u001b[1mwandb\u001b[0m: Currently logged in as: \u001b[33mxiyori\u001b[0m. Use \u001b[1m`wandb login --relogin`\u001b[0m to force relogin\n",
      "\u001b[34m\u001b[1mwandb\u001b[0m: wandb version 0.16.0 is available!  To upgrade, please run:\n",
      "\u001b[34m\u001b[1mwandb\u001b[0m:  $ pip install wandb --upgrade\n",
      "\u001b[34m\u001b[1mwandb\u001b[0m: Tracking run with wandb version 0.14.0\n",
      "\u001b[34m\u001b[1mwandb\u001b[0m: Run data is saved locally in \u001b[35m\u001b[1m/home/sergej/GitHub/intro-to-dl-hse/seminars/213/seminar_4/wandb/run-20231112_161537-ucnl9cv0\u001b[0m\n",
      "\u001b[34m\u001b[1mwandb\u001b[0m: Run \u001b[1m`wandb offline`\u001b[0m to turn off syncing.\n",
      "\u001b[34m\u001b[1mwandb\u001b[0m: Syncing run \u001b[33moxfordcatsedges_super_mae1_edge0_vgg0_genlr0.0002_batch8\u001b[0m\n",
      "\u001b[34m\u001b[1mwandb\u001b[0m: ⭐️ View project at \u001b[34m\u001b[4mhttps://wandb.ai/xiyori/dl_gan_oxford_cats\u001b[0m\n",
      "\u001b[34m\u001b[1mwandb\u001b[0m: 🚀 View run at \u001b[34m\u001b[4mhttps://wandb.ai/xiyori/dl_gan_oxford_cats/runs/ucnl9cv0\u001b[0m\n",
      "/home/sergej/anaconda3/envs/ml/lib/python3.9/site-packages/torchvision/models/_utils.py:208: UserWarning: The parameter 'pretrained' is deprecated since 0.13 and may be removed in the future, please use 'weights' instead.\n",
      "  warnings.warn(\n",
      "/home/sergej/anaconda3/envs/ml/lib/python3.9/site-packages/torchvision/models/_utils.py:223: UserWarning: Arguments other than a weight enum or `None` for 'weights' are deprecated since 0.13 and may be removed in the future. The current behavior is equivalent to passing `weights=AlexNet_Weights.IMAGENET1K_V1`. You can also use `weights=AlexNet_Weights.DEFAULT` to get the most up-to-date weights.\n",
      "  warnings.warn(msg)\n",
      "Epoch: 100%|████████████████████████████████| 200/200 [1:11:47<00:00, 21.54s/it]\n",
      "Best valid lpips:  -0.227 on epoch 194\n",
      "\u001b[34m\u001b[1mwandb\u001b[0m: Waiting for W&B process to finish... \u001b[32m(success).\u001b[0m\n",
      "\u001b[34m\u001b[1mwandb\u001b[0m: \n",
      "\u001b[34m\u001b[1mwandb\u001b[0m: Run history:\n",
      "\u001b[34m\u001b[1mwandb\u001b[0m:    discriminator_enabled ▁▁▁▁▁▁▁▁▁▁▁▁▁▁▁▁▁▁▁▁▁▁▁▁▁▁▁▁▁▁▁▁▁▁▁▁▁▁▁▁\n",
      "\u001b[34m\u001b[1mwandb\u001b[0m:         discriminator_lr ▁▁▁▁▁▁▁▁▁▁▁▁▁▁▁▁▁▁▁▁▁▁▁▁▁▁▁▁▁▁▁▁▁▁▁▁▁▁▁▁\n",
      "\u001b[34m\u001b[1mwandb\u001b[0m:                    epoch ▁▁▁▁▂▂▂▂▂▃▃▃▃▃▃▄▄▄▄▄▅▅▅▅▅▅▆▆▆▆▆▇▇▇▇▇▇███\n",
      "\u001b[34m\u001b[1mwandb\u001b[0m:             generator_lr ██████████████████████▇▇▇▆▆▅▅▅▄▄▄▃▃▃▂▂▁▁\n",
      "\u001b[34m\u001b[1mwandb\u001b[0m: train_discriminator_loss ▄▄▆▅▃▄▆▂█▃▅▄▄▇▄▆▄▃▁▇▅▅▅▄▆▅▁▅▃▆▃█▄▅▃▅▆▅▄▅\n",
      "\u001b[34m\u001b[1mwandb\u001b[0m:     train_generator_loss ▅█▅▅▅▄▅▆▃▄▅▄▅▃▂▃▄▄▅▃▂▃▄▄▃▃▃▃▃▂▄▁▃▃▂▂▂▂▂▁\n",
      "\u001b[34m\u001b[1mwandb\u001b[0m:            train_l1_loss ▅█▅▅▅▄▅▆▃▄▅▄▅▃▂▃▄▄▅▃▂▃▄▄▃▃▃▃▃▂▄▁▃▃▂▂▂▂▂▁\n",
      "\u001b[34m\u001b[1mwandb\u001b[0m:              train_lpips ▂▁▅▅▃▄▅▃▆▃▄▅▃▆▆▅▄▄▃▆▆▅▄▅▆▅▄▅▅▆▅█▄▅▆▆▆▆▆▇\n",
      "\u001b[34m\u001b[1mwandb\u001b[0m:               train_psnr ▃▁▃▃▄▄▃▃▄▄▃▄▃▅▇▅▄▅▄▆▇▅▅▅▅▅▇▆▇▆▅█▆▅▇▇█▇▇█\n",
      "\u001b[34m\u001b[1mwandb\u001b[0m:               train_ssim ▄▁▅▅▃▄▄▃▆▄▄▄▃▆▆▆▅▄▄▇▆▅▄▅▆▆▅▅▅▇▄█▄▅▆▆▆▆▆█\n",
      "\u001b[34m\u001b[1mwandb\u001b[0m: valid_discriminator_loss ▇▅▅▅▅▃▄▂▃█▄▅▃▁▄▆▃▆▂▆▃▆▄▁▆▄▇▅▄▅█▄▆▇▂█▄▃▄▂\n",
      "\u001b[34m\u001b[1mwandb\u001b[0m:     valid_generator_loss █▇▆▆▅▄▄▃▃▃▃▂▂▂▂▂▂▃▂▂▂▂▂▂▂▂▂▁▁▂▁▂▁▂▁▁▁▁▁▁\n",
      "\u001b[34m\u001b[1mwandb\u001b[0m:            valid_l1_loss █▇▆▆▅▄▄▃▃▃▃▂▂▂▂▂▂▃▂▂▂▂▂▂▂▂▂▁▁▂▁▂▁▂▁▁▁▁▁▁\n",
      "\u001b[34m\u001b[1mwandb\u001b[0m:              valid_lpips ▁▂▄▄▄▅▅▅▆▆▆▆▆▆▆▆▇▇▇▇▇▇▇▇▇▇▇█▇█▇█████████\n",
      "\u001b[34m\u001b[1mwandb\u001b[0m:               valid_psnr ▁▃▄▃▄▅▄▅▆▇▅▆▆▆▇▇▆▆▇▇▆▇▇▇▇▆▆█▇▇▇▇█▇█▇▇▇██\n",
      "\u001b[34m\u001b[1mwandb\u001b[0m:               valid_ssim ▁▁▃▄▄▅▆▆▆▆▆▇▇▇▇▇▇▇▇▇▇▇▇▇▇▇▇▇█▇█▇█▇██████\n",
      "\u001b[34m\u001b[1mwandb\u001b[0m: \n",
      "\u001b[34m\u001b[1mwandb\u001b[0m: Run summary:\n",
      "\u001b[34m\u001b[1mwandb\u001b[0m:    discriminator_enabled 0\n",
      "\u001b[34m\u001b[1mwandb\u001b[0m:         discriminator_lr 0.0\n",
      "\u001b[34m\u001b[1mwandb\u001b[0m:                    epoch 200\n",
      "\u001b[34m\u001b[1mwandb\u001b[0m:             generator_lr 0.0\n",
      "\u001b[34m\u001b[1mwandb\u001b[0m: train_discriminator_loss 1.06027\n",
      "\u001b[34m\u001b[1mwandb\u001b[0m:     train_generator_loss 0.07818\n",
      "\u001b[34m\u001b[1mwandb\u001b[0m:            train_l1_loss 0.07818\n",
      "\u001b[34m\u001b[1mwandb\u001b[0m:              train_lpips -0.16932\n",
      "\u001b[34m\u001b[1mwandb\u001b[0m:               train_psnr 21.19308\n",
      "\u001b[34m\u001b[1mwandb\u001b[0m:               train_ssim 0.75191\n",
      "\u001b[34m\u001b[1mwandb\u001b[0m: valid_discriminator_loss 1.06074\n",
      "\u001b[34m\u001b[1mwandb\u001b[0m:     valid_generator_loss 0.1438\n",
      "\u001b[34m\u001b[1mwandb\u001b[0m:            valid_l1_loss 0.1438\n",
      "\u001b[34m\u001b[1mwandb\u001b[0m:              valid_lpips -0.23006\n",
      "\u001b[34m\u001b[1mwandb\u001b[0m:               valid_psnr 16.9105\n",
      "\u001b[34m\u001b[1mwandb\u001b[0m:               valid_ssim 0.63631\n",
      "\u001b[34m\u001b[1mwandb\u001b[0m: \n",
      "\u001b[34m\u001b[1mwandb\u001b[0m: 🚀 View run \u001b[33moxfordcatsedges_super_mae1_edge0_vgg0_genlr0.0002_batch8\u001b[0m at: \u001b[34m\u001b[4mhttps://wandb.ai/xiyori/dl_gan_oxford_cats/runs/ucnl9cv0\u001b[0m\n",
      "\u001b[34m\u001b[1mwandb\u001b[0m: Synced 6 W&B file(s), 200 media file(s), 2 artifact file(s) and 0 other file(s)\n",
      "\u001b[34m\u001b[1mwandb\u001b[0m: Find logs at: \u001b[35m\u001b[1m./wandb/run-20231112_161537-ucnl9cv0/logs\u001b[0m\n"
     ]
    }
   ],
   "source": [
    "!python3 train.py -c oxford_iiit_cats_edges_super"
   ]
  },
  {
   "cell_type": "markdown",
   "id": "649e592e",
   "metadata": {},
   "source": [
    "<img src=\"pics/image_samples_54000_9738a2910f8a0e57a3ba.png\">"
   ]
  },
  {
   "cell_type": "markdown",
   "id": "c60b6bdb",
   "metadata": {},
   "source": [
    "Большего качества можно добиться, добавив perceptual loss и GAN"
   ]
  },
  {
   "cell_type": "code",
   "execution_count": 7,
   "id": "bcb17d36",
   "metadata": {},
   "outputs": [
    {
     "name": "stdout",
     "output_type": "stream",
     "text": [
      "\u001b[34m\u001b[1mwandb\u001b[0m: Currently logged in as: \u001b[33mxiyori\u001b[0m. Use \u001b[1m`wandb login --relogin`\u001b[0m to force relogin\n",
      "\u001b[34m\u001b[1mwandb\u001b[0m: wandb version 0.16.0 is available!  To upgrade, please run:\n",
      "\u001b[34m\u001b[1mwandb\u001b[0m:  $ pip install wandb --upgrade\n",
      "\u001b[34m\u001b[1mwandb\u001b[0m: Tracking run with wandb version 0.14.0\n",
      "\u001b[34m\u001b[1mwandb\u001b[0m: Run data is saved locally in \u001b[35m\u001b[1m/home/sergej/GitHub/intro-to-dl-hse/seminars/213/seminar_4/wandb/run-20231112_175425-68dh9i35\u001b[0m\n",
      "\u001b[34m\u001b[1mwandb\u001b[0m: Run \u001b[1m`wandb offline`\u001b[0m to turn off syncing.\n",
      "\u001b[34m\u001b[1mwandb\u001b[0m: Syncing run \u001b[33moxfordcatsedges_disloss0.02_genlr0.0002_dislr2e-05_batch8\u001b[0m\n",
      "\u001b[34m\u001b[1mwandb\u001b[0m: ⭐️ View project at \u001b[34m\u001b[4mhttps://wandb.ai/xiyori/dl_gan_oxford_cats\u001b[0m\n",
      "\u001b[34m\u001b[1mwandb\u001b[0m: 🚀 View run at \u001b[34m\u001b[4mhttps://wandb.ai/xiyori/dl_gan_oxford_cats/runs/68dh9i35\u001b[0m\n",
      "/home/sergej/anaconda3/envs/ml/lib/python3.9/site-packages/torchvision/models/_utils.py:208: UserWarning: The parameter 'pretrained' is deprecated since 0.13 and may be removed in the future, please use 'weights' instead.\n",
      "  warnings.warn(\n",
      "/home/sergej/anaconda3/envs/ml/lib/python3.9/site-packages/torchvision/models/_utils.py:223: UserWarning: Arguments other than a weight enum or `None` for 'weights' are deprecated since 0.13 and may be removed in the future. The current behavior is equivalent to passing `weights=VGG16_Weights.IMAGENET1K_V1`. You can also use `weights=VGG16_Weights.DEFAULT` to get the most up-to-date weights.\n",
      "  warnings.warn(msg)\n",
      "/home/sergej/anaconda3/envs/ml/lib/python3.9/site-packages/torchvision/models/_utils.py:223: UserWarning: Arguments other than a weight enum or `None` for 'weights' are deprecated since 0.13 and may be removed in the future. The current behavior is equivalent to passing `weights=AlexNet_Weights.IMAGENET1K_V1`. You can also use `weights=AlexNet_Weights.DEFAULT` to get the most up-to-date weights.\n",
      "  warnings.warn(msg)\n",
      "Epoch: 100%|████████████████████████████████| 100/100 [1:00:56<00:00, 36.57s/it]\n",
      "Best valid lpips:  -0.178 on epoch 85\n",
      "\u001b[34m\u001b[1mwandb\u001b[0m: Waiting for W&B process to finish... \u001b[32m(success).\u001b[0m\n",
      "\u001b[34m\u001b[1mwandb\u001b[0m: \n",
      "\u001b[34m\u001b[1mwandb\u001b[0m: Run history:\n",
      "\u001b[34m\u001b[1mwandb\u001b[0m:     discriminator_enabled ███▁█▁▁▁▁▁██▁▁▁▁██▁▁▁▁▁▁█▁█▁▁▁██▁▁▁▁▁▁▁█\n",
      "\u001b[34m\u001b[1mwandb\u001b[0m:          discriminator_lr ██████████████████████▇▇▇▆▆▅▅▅▄▄▄▃▃▃▂▂▁▁\n",
      "\u001b[34m\u001b[1mwandb\u001b[0m:                     epoch ▁▁▁▁▂▂▂▂▂▃▃▃▃▃▃▄▄▄▄▄▅▅▅▅▅▅▆▆▆▆▆▇▇▇▇▇▇███\n",
      "\u001b[34m\u001b[1mwandb\u001b[0m:              generator_lr ██████████████████████▇▇▇▆▆▅▅▅▄▄▄▃▃▃▂▂▁▁\n",
      "\u001b[34m\u001b[1mwandb\u001b[0m:  train_discriminator_loss ▅▂▂▆▂▅▇▆▆▆▁▁▆▆▇▇▁▁▇▆▇▇▆▅▁▇▃█▇▇▁▁▇█▇█▇██▁\n",
      "\u001b[34m\u001b[1mwandb\u001b[0m:      train_generator_loss █▇▆▅▆▆▂▆▅█▅▇▆▄▆▄▄▅▆▄▅▅▆▅▄▄▁▅▄▃▅▅▅▅▃▇▃▄▃▅\n",
      "\u001b[34m\u001b[1mwandb\u001b[0m:             train_l1_loss ▆▆▆▅▆▆▂▆▄█▅▇▆▄▆▄▄▅▇▃▅▅▆▅▄▅▁▅▄▃▆▅▅▅▃▇▃▄▃▅\n",
      "\u001b[34m\u001b[1mwandb\u001b[0m:               train_lpips ▃▂▄▄▃▅▇▅▅▂▅▁▅▅▃▅▄▄▂▆▅▅▃▃▆▅█▃▄▆▅▅▄▄▅▁▅▄▄▂\n",
      "\u001b[34m\u001b[1mwandb\u001b[0m:                train_psnr ▂▂▂▃▃▂▇▃▄▂▄▃▁▄▂▃▅▄▃▅▄▂▄▂▄▃█▃▆▆▂▅▃▅▇▂▇▄█▅\n",
      "\u001b[34m\u001b[1mwandb\u001b[0m:                train_ssim ▄▃▅▅▄▄▇▃▅▂▅▂▄▅▄▅▄▃▂▆▃▄▂▄▅▆█▄▅▅▄▃▄▄▅▁▅▄▃▃\n",
      "\u001b[34m\u001b[1mwandb\u001b[0m: train_vgg_perceptual_loss █▆▅▄▅▄▁▅▄▆▅▅▄▃▄▂▄▃▄▄▄▄▄▄▂▃▁▃▃▂▄▃▃▄▃▄▂▃▃▄\n",
      "\u001b[34m\u001b[1mwandb\u001b[0m:  valid_discriminator_loss ▁▂▂▁▂▁▁▂▂▂▂▃▂▄▂▃▂▅▄▄▅▄█▇▅▆▃▅▄▅█▇▆▇▆▇▄▆▆▆\n",
      "\u001b[34m\u001b[1mwandb\u001b[0m:      valid_generator_loss █▆▆▅▅▆▆▄▄▄▄▄▄▃▃▃▅▃▄▂▂▂▃▃▃▂▃▁▂▂▃▂▂▂▂▂▂▂▁▁\n",
      "\u001b[34m\u001b[1mwandb\u001b[0m:             valid_l1_loss ▇▅▇▆▇██▆▄▅▅▄▆▄▄▅█▃▆▃▃▂▄▅▅▃▄▁▂▃▄▃▃▄▂▃▃▂▁▁\n",
      "\u001b[34m\u001b[1mwandb\u001b[0m:               valid_lpips ▁▄▅▅▆▆▆▆▆▆▆▇▇▆▇▇▆▇▇▇█▇▇▇▇▇▇▇▇▇▇▇▇▇▇█████\n",
      "\u001b[34m\u001b[1mwandb\u001b[0m:                valid_psnr ▃▄▃▃▂▁▂▄▅▆▅▅▃▅▅▅▁▆▃▇▆▇▆▄▄▇▆█▇▆▅▆▆▅▆▆▆▇██\n",
      "\u001b[34m\u001b[1mwandb\u001b[0m:                valid_ssim ▂▃▂▃▁▂▁▃▄▂▃▃▂▃▃▂▄▆▄▄▇▆▄▄▄▆▆▆▅▆▅▆▆▆▇▇▇▇█▇\n",
      "\u001b[34m\u001b[1mwandb\u001b[0m: valid_vgg_perceptual_loss █▆▅▄▄▄▄▄▃▃▃▃▂▂▃▂▂▂▂▂▂▂▂▂▂▂▂▂▂▁▁▂▂▁▁▁▂▁▁▁\n",
      "\u001b[34m\u001b[1mwandb\u001b[0m: \n",
      "\u001b[34m\u001b[1mwandb\u001b[0m: Run summary:\n",
      "\u001b[34m\u001b[1mwandb\u001b[0m:     discriminator_enabled 0\n",
      "\u001b[34m\u001b[1mwandb\u001b[0m:          discriminator_lr 0.0\n",
      "\u001b[34m\u001b[1mwandb\u001b[0m:                     epoch 100\n",
      "\u001b[34m\u001b[1mwandb\u001b[0m:              generator_lr 0.0\n",
      "\u001b[34m\u001b[1mwandb\u001b[0m:  train_discriminator_loss 0.80712\n",
      "\u001b[34m\u001b[1mwandb\u001b[0m:      train_generator_loss 0.10276\n",
      "\u001b[34m\u001b[1mwandb\u001b[0m:             train_l1_loss 0.06967\n",
      "\u001b[34m\u001b[1mwandb\u001b[0m:               train_lpips -0.15868\n",
      "\u001b[34m\u001b[1mwandb\u001b[0m:                train_psnr 21.7659\n",
      "\u001b[34m\u001b[1mwandb\u001b[0m:                train_ssim 0.74334\n",
      "\u001b[34m\u001b[1mwandb\u001b[0m: train_vgg_perceptual_loss 1.09159\n",
      "\u001b[34m\u001b[1mwandb\u001b[0m:  valid_discriminator_loss 0.78524\n",
      "\u001b[34m\u001b[1mwandb\u001b[0m:      valid_generator_loss 0.18773\n",
      "\u001b[34m\u001b[1mwandb\u001b[0m:             valid_l1_loss 0.14042\n",
      "\u001b[34m\u001b[1mwandb\u001b[0m:               valid_lpips -0.17961\n",
      "\u001b[34m\u001b[1mwandb\u001b[0m:                valid_psnr 17.08635\n",
      "\u001b[34m\u001b[1mwandb\u001b[0m:                valid_ssim 0.63689\n",
      "\u001b[34m\u001b[1mwandb\u001b[0m: valid_vgg_perceptual_loss 1.56296\n",
      "\u001b[34m\u001b[1mwandb\u001b[0m: \n",
      "\u001b[34m\u001b[1mwandb\u001b[0m: 🚀 View run \u001b[33moxfordcatsedges_disloss0.02_genlr0.0002_dislr2e-05_batch8\u001b[0m at: \u001b[34m\u001b[4mhttps://wandb.ai/xiyori/dl_gan_oxford_cats/runs/68dh9i35\u001b[0m\n",
      "\u001b[34m\u001b[1mwandb\u001b[0m: Synced 6 W&B file(s), 100 media file(s), 2 artifact file(s) and 0 other file(s)\n",
      "\u001b[34m\u001b[1mwandb\u001b[0m: Find logs at: \u001b[35m\u001b[1m./wandb/run-20231112_175425-68dh9i35/logs\u001b[0m\n"
     ]
    }
   ],
   "source": [
    "!python3 train.py -c oxford_iiit_cats_edges -pg oxfordcatsedges_super_mae1_edge0_vgg0_genlr0.0002_batch8"
   ]
  },
  {
   "cell_type": "markdown",
   "id": "fd569421",
   "metadata": {},
   "source": [
    "<img src=\"pics/image_samples_27000_928c62c679f13514b4cb.png\">"
   ]
  }
 ],
 "metadata": {
  "kernelspec": {
   "display_name": "Python 3 (ipykernel)",
   "language": "python",
   "name": "python3"
  },
  "language_info": {
   "codemirror_mode": {
    "name": "ipython",
    "version": 3
   },
   "file_extension": ".py",
   "mimetype": "text/x-python",
   "name": "python",
   "nbconvert_exporter": "python",
   "pygments_lexer": "ipython3",
   "version": "3.9.15"
  },
  "notebookId": "4ddbe02f-f49e-4224-b3e1-6ded8248f3f8",
  "notebookPath": "dl_gan/train.ipynb"
 },
 "nbformat": 4,
 "nbformat_minor": 5
}
